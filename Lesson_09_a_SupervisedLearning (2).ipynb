{
 "cells": [
  {
   "cell_type": "markdown",
   "id": "fae07cec",
   "metadata": {},
   "source": [
    "# Supervised Learning\n",
    "\n",
    "In this notebook we focus on **supervised learning**, which is a set of algorithms that take **labeled** data and try to **predict** the label using the other **features** in the data. Supervised learning so far dominates applications of machine learning, although **reinforcement learning** is catching up too. Unlike **un-supervised learning** where the data is not labeled and hence there's a lot of subjectivity, **supervised learning** algorithms, once trained on data, can easily be evaluated by just comparing their **predictions** to the **labels** (in this context, we refer to the labels sometimes as **ground truth**).\n",
    "\n",
    "As usual, let's begin by reading some data. We use a medical data that evaluates pathologists' observations and conclusions about breast biopsies.  The target `Malignant` is binary and indicates whether the tumor is malignant or not.\n",
    "\n",
    "You can read more about the data here:\n",
    "https://www.kaggle.com/datasets/uciml/breast-cancer-wisconsin-data"
   ]
  },
  {
   "cell_type": "code",
   "execution_count": 1,
   "id": "130d6103",
   "metadata": {},
   "outputs": [],
   "source": [
    "import pandas as pd\n",
    "import numpy as np\n",
    "\n",
    "# Regressors\n",
    "from sklearn.ensemble import RandomForestRegressor\n",
    "from sklearn.linear_model import LinearRegression \n",
    "from sklearn.linear_model import Ridge\n",
    "from sklearn.linear_model import Lasso\n",
    "from sklearn.neighbors import KNeighborsRegressor \n",
    "from sklearn.svm import SVR\n",
    "\n",
    "from sklearn.model_selection import train_test_split\n",
    "\n",
    "# Visualization\n",
    "import matplotlib.pyplot as plt\n",
    "import seaborn as sns\n",
    "%matplotlib inline\n",
    "\n",
    "# Accuracy Metrics\n",
    "from sklearn.metrics import accuracy_score\n",
    "from sklearn.metrics import confusion_matrix\n",
    "from sklearn.metrics import ConfusionMatrixDisplay\n",
    "\n",
    "# Classifiers\n",
    "from sklearn.linear_model import LogisticRegression\n",
    "from sklearn.naive_bayes import GaussianNB\n",
    "from sklearn.neighbors import KNeighborsClassifier \n",
    "from sklearn.svm import SVC\n",
    "from sklearn.tree import DecisionTreeClassifier\n",
    "from sklearn.ensemble import RandomForestClassifier "
   ]
  },
  {
   "cell_type": "code",
   "execution_count": 2,
   "id": "a0f317eb",
   "metadata": {},
   "outputs": [],
   "source": [
    "url = 'https://archive.ics.uci.edu/ml/machine-learning-databases/breast-cancer-wisconsin/breast-cancer-wisconsin.data'\n",
    "BreastCancer = pd.read_csv(url, header=None)\n",
    "#BreastCancer = pd.read_csv(\"breast-cancer-wisconsin.csv\", header=None)\n",
    "column_names = ['ID', 'Thick', 'Size', 'Shape', 'Margin', 'CellSize', 'Nuclei', 'Chromatin', 'Nucleoli', 'Mitoses', 'Malignant']\n",
    "BreastCancer.columns = column_names"
   ]
  },
  {
   "cell_type": "markdown",
   "id": "72407078",
   "metadata": {},
   "source": [
    "The first steps of mandatory EDA are:\n",
    "1. get the size of the dataset\n",
    "2. get the data types of the columns\n",
    "3. view the first few rows of the dataframe"
   ]
  },
  {
   "cell_type": "code",
   "execution_count": 3,
   "id": "22b14389",
   "metadata": {},
   "outputs": [
    {
     "name": "stdout",
     "output_type": "stream",
     "text": [
      "(699, 11)\n",
      "ID            int64\n",
      "Thick         int64\n",
      "Size          int64\n",
      "Shape         int64\n",
      "Margin        int64\n",
      "CellSize      int64\n",
      "Nuclei       object\n",
      "Chromatin     int64\n",
      "Nucleoli      int64\n",
      "Mitoses       int64\n",
      "Malignant     int64\n",
      "dtype: object\n"
     ]
    },
    {
     "data": {
      "text/html": [
       "<div>\n",
       "<style scoped>\n",
       "    .dataframe tbody tr th:only-of-type {\n",
       "        vertical-align: middle;\n",
       "    }\n",
       "\n",
       "    .dataframe tbody tr th {\n",
       "        vertical-align: top;\n",
       "    }\n",
       "\n",
       "    .dataframe thead th {\n",
       "        text-align: right;\n",
       "    }\n",
       "</style>\n",
       "<table border=\"1\" class=\"dataframe\">\n",
       "  <thead>\n",
       "    <tr style=\"text-align: right;\">\n",
       "      <th></th>\n",
       "      <th>ID</th>\n",
       "      <th>Thick</th>\n",
       "      <th>Size</th>\n",
       "      <th>Shape</th>\n",
       "      <th>Margin</th>\n",
       "      <th>CellSize</th>\n",
       "      <th>Nuclei</th>\n",
       "      <th>Chromatin</th>\n",
       "      <th>Nucleoli</th>\n",
       "      <th>Mitoses</th>\n",
       "      <th>Malignant</th>\n",
       "    </tr>\n",
       "  </thead>\n",
       "  <tbody>\n",
       "    <tr>\n",
       "      <th>0</th>\n",
       "      <td>1000025</td>\n",
       "      <td>5</td>\n",
       "      <td>1</td>\n",
       "      <td>1</td>\n",
       "      <td>1</td>\n",
       "      <td>2</td>\n",
       "      <td>1</td>\n",
       "      <td>3</td>\n",
       "      <td>1</td>\n",
       "      <td>1</td>\n",
       "      <td>2</td>\n",
       "    </tr>\n",
       "    <tr>\n",
       "      <th>1</th>\n",
       "      <td>1002945</td>\n",
       "      <td>5</td>\n",
       "      <td>4</td>\n",
       "      <td>4</td>\n",
       "      <td>5</td>\n",
       "      <td>7</td>\n",
       "      <td>10</td>\n",
       "      <td>3</td>\n",
       "      <td>2</td>\n",
       "      <td>1</td>\n",
       "      <td>2</td>\n",
       "    </tr>\n",
       "    <tr>\n",
       "      <th>2</th>\n",
       "      <td>1015425</td>\n",
       "      <td>3</td>\n",
       "      <td>1</td>\n",
       "      <td>1</td>\n",
       "      <td>1</td>\n",
       "      <td>2</td>\n",
       "      <td>2</td>\n",
       "      <td>3</td>\n",
       "      <td>1</td>\n",
       "      <td>1</td>\n",
       "      <td>2</td>\n",
       "    </tr>\n",
       "    <tr>\n",
       "      <th>3</th>\n",
       "      <td>1016277</td>\n",
       "      <td>6</td>\n",
       "      <td>8</td>\n",
       "      <td>8</td>\n",
       "      <td>1</td>\n",
       "      <td>3</td>\n",
       "      <td>4</td>\n",
       "      <td>3</td>\n",
       "      <td>7</td>\n",
       "      <td>1</td>\n",
       "      <td>2</td>\n",
       "    </tr>\n",
       "    <tr>\n",
       "      <th>4</th>\n",
       "      <td>1017023</td>\n",
       "      <td>4</td>\n",
       "      <td>1</td>\n",
       "      <td>1</td>\n",
       "      <td>3</td>\n",
       "      <td>2</td>\n",
       "      <td>1</td>\n",
       "      <td>3</td>\n",
       "      <td>1</td>\n",
       "      <td>1</td>\n",
       "      <td>2</td>\n",
       "    </tr>\n",
       "  </tbody>\n",
       "</table>\n",
       "</div>"
      ],
      "text/plain": [
       "        ID  Thick  Size  Shape  Margin  CellSize Nuclei  Chromatin  Nucleoli  \\\n",
       "0  1000025      5     1      1       1         2      1          3         1   \n",
       "1  1002945      5     4      4       5         7     10          3         2   \n",
       "2  1015425      3     1      1       1         2      2          3         1   \n",
       "3  1016277      6     8      8       1         3      4          3         7   \n",
       "4  1017023      4     1      1       3         2      1          3         1   \n",
       "\n",
       "   Mitoses  Malignant  \n",
       "0        1          2  \n",
       "1        1          2  \n",
       "2        1          2  \n",
       "3        1          2  \n",
       "4        1          2  "
      ]
     },
     "execution_count": 3,
     "metadata": {},
     "output_type": "execute_result"
    }
   ],
   "source": [
    "print(BreastCancer.shape)\n",
    "print(BreastCancer.dtypes)\n",
    "BreastCancer.head()"
   ]
  },
  {
   "cell_type": "markdown",
   "id": "cc18ba7e",
   "metadata": {},
   "source": [
    "Note that the `Nuclei` column should be numeric but is actually of type object.  Let's look at the different entries in the `Nuclei` column."
   ]
  },
  {
   "cell_type": "code",
   "execution_count": 4,
   "id": "d3b28e33",
   "metadata": {
    "scrolled": true
   },
   "outputs": [
    {
     "data": {
      "text/plain": [
       "1     402\n",
       "10    132\n",
       "2      30\n",
       "5      30\n",
       "3      28\n",
       "8      21\n",
       "4      19\n",
       "?      16\n",
       "9       9\n",
       "7       8\n",
       "6       4\n",
       "Name: Nuclei, dtype: int64"
      ]
     },
     "execution_count": 4,
     "metadata": {},
     "output_type": "execute_result"
    }
   ],
   "source": [
    "BreastCancer.Nuclei.value_counts()"
   ]
  },
  {
   "cell_type": "markdown",
   "id": "b281be2a",
   "metadata": {},
   "source": [
    "`Nuclei` should be numeric.  `Nuclei` is of type object because of \"contaminating\" question marks (\"?\") that represent missing values.  The missing values should be nulls.  We need to cast `Nuclei`  to numeric and as a side-effect the \"?\" will turn into nulls.  Later we will impute values for these nulls."
   ]
  },
  {
   "cell_type": "code",
   "execution_count": 5,
   "id": "f25997e2",
   "metadata": {},
   "outputs": [
    {
     "data": {
      "text/plain": [
       "1.0     402\n",
       "10.0    132\n",
       "2.0      30\n",
       "5.0      30\n",
       "3.0      28\n",
       "8.0      21\n",
       "4.0      19\n",
       "NaN      16\n",
       "9.0       9\n",
       "7.0       8\n",
       "6.0       4\n",
       "Name: Nuclei, dtype: int64"
      ]
     },
     "execution_count": 5,
     "metadata": {},
     "output_type": "execute_result"
    }
   ],
   "source": [
    "BreastCancer.Nuclei = pd.to_numeric(BreastCancer.Nuclei, errors='coerce')\n",
    "BreastCancer.Nuclei.value_counts(dropna = False)"
   ]
  },
  {
   "cell_type": "markdown",
   "id": "ee546b7f",
   "metadata": {},
   "source": [
    "Let's create a quick survey of the data using `pandas`' `describe` method"
   ]
  },
  {
   "cell_type": "code",
   "execution_count": 6,
   "id": "9fffa09c",
   "metadata": {},
   "outputs": [
    {
     "data": {
      "text/html": [
       "<div>\n",
       "<style scoped>\n",
       "    .dataframe tbody tr th:only-of-type {\n",
       "        vertical-align: middle;\n",
       "    }\n",
       "\n",
       "    .dataframe tbody tr th {\n",
       "        vertical-align: top;\n",
       "    }\n",
       "\n",
       "    .dataframe thead th {\n",
       "        text-align: right;\n",
       "    }\n",
       "</style>\n",
       "<table border=\"1\" class=\"dataframe\">\n",
       "  <thead>\n",
       "    <tr style=\"text-align: right;\">\n",
       "      <th></th>\n",
       "      <th>ID</th>\n",
       "      <th>Thick</th>\n",
       "      <th>Size</th>\n",
       "      <th>Shape</th>\n",
       "      <th>Margin</th>\n",
       "      <th>CellSize</th>\n",
       "      <th>Nuclei</th>\n",
       "      <th>Chromatin</th>\n",
       "      <th>Nucleoli</th>\n",
       "      <th>Mitoses</th>\n",
       "      <th>Malignant</th>\n",
       "    </tr>\n",
       "  </thead>\n",
       "  <tbody>\n",
       "    <tr>\n",
       "      <th>count</th>\n",
       "      <td>6.990000e+02</td>\n",
       "      <td>699.000000</td>\n",
       "      <td>699.000000</td>\n",
       "      <td>699.000000</td>\n",
       "      <td>699.000000</td>\n",
       "      <td>699.000000</td>\n",
       "      <td>683.000000</td>\n",
       "      <td>699.000000</td>\n",
       "      <td>699.000000</td>\n",
       "      <td>699.000000</td>\n",
       "      <td>699.000000</td>\n",
       "    </tr>\n",
       "    <tr>\n",
       "      <th>mean</th>\n",
       "      <td>1.071704e+06</td>\n",
       "      <td>4.417740</td>\n",
       "      <td>3.134478</td>\n",
       "      <td>3.207439</td>\n",
       "      <td>2.806867</td>\n",
       "      <td>3.216023</td>\n",
       "      <td>3.544656</td>\n",
       "      <td>3.437768</td>\n",
       "      <td>2.866953</td>\n",
       "      <td>1.589413</td>\n",
       "      <td>2.689557</td>\n",
       "    </tr>\n",
       "    <tr>\n",
       "      <th>std</th>\n",
       "      <td>6.170957e+05</td>\n",
       "      <td>2.815741</td>\n",
       "      <td>3.051459</td>\n",
       "      <td>2.971913</td>\n",
       "      <td>2.855379</td>\n",
       "      <td>2.214300</td>\n",
       "      <td>3.643857</td>\n",
       "      <td>2.438364</td>\n",
       "      <td>3.053634</td>\n",
       "      <td>1.715078</td>\n",
       "      <td>0.951273</td>\n",
       "    </tr>\n",
       "    <tr>\n",
       "      <th>min</th>\n",
       "      <td>6.163400e+04</td>\n",
       "      <td>1.000000</td>\n",
       "      <td>1.000000</td>\n",
       "      <td>1.000000</td>\n",
       "      <td>1.000000</td>\n",
       "      <td>1.000000</td>\n",
       "      <td>1.000000</td>\n",
       "      <td>1.000000</td>\n",
       "      <td>1.000000</td>\n",
       "      <td>1.000000</td>\n",
       "      <td>2.000000</td>\n",
       "    </tr>\n",
       "    <tr>\n",
       "      <th>25%</th>\n",
       "      <td>8.706885e+05</td>\n",
       "      <td>2.000000</td>\n",
       "      <td>1.000000</td>\n",
       "      <td>1.000000</td>\n",
       "      <td>1.000000</td>\n",
       "      <td>2.000000</td>\n",
       "      <td>1.000000</td>\n",
       "      <td>2.000000</td>\n",
       "      <td>1.000000</td>\n",
       "      <td>1.000000</td>\n",
       "      <td>2.000000</td>\n",
       "    </tr>\n",
       "    <tr>\n",
       "      <th>50%</th>\n",
       "      <td>1.171710e+06</td>\n",
       "      <td>4.000000</td>\n",
       "      <td>1.000000</td>\n",
       "      <td>1.000000</td>\n",
       "      <td>1.000000</td>\n",
       "      <td>2.000000</td>\n",
       "      <td>1.000000</td>\n",
       "      <td>3.000000</td>\n",
       "      <td>1.000000</td>\n",
       "      <td>1.000000</td>\n",
       "      <td>2.000000</td>\n",
       "    </tr>\n",
       "    <tr>\n",
       "      <th>75%</th>\n",
       "      <td>1.238298e+06</td>\n",
       "      <td>6.000000</td>\n",
       "      <td>5.000000</td>\n",
       "      <td>5.000000</td>\n",
       "      <td>4.000000</td>\n",
       "      <td>4.000000</td>\n",
       "      <td>6.000000</td>\n",
       "      <td>5.000000</td>\n",
       "      <td>4.000000</td>\n",
       "      <td>1.000000</td>\n",
       "      <td>4.000000</td>\n",
       "    </tr>\n",
       "    <tr>\n",
       "      <th>max</th>\n",
       "      <td>1.345435e+07</td>\n",
       "      <td>10.000000</td>\n",
       "      <td>10.000000</td>\n",
       "      <td>10.000000</td>\n",
       "      <td>10.000000</td>\n",
       "      <td>10.000000</td>\n",
       "      <td>10.000000</td>\n",
       "      <td>10.000000</td>\n",
       "      <td>10.000000</td>\n",
       "      <td>10.000000</td>\n",
       "      <td>4.000000</td>\n",
       "    </tr>\n",
       "  </tbody>\n",
       "</table>\n",
       "</div>"
      ],
      "text/plain": [
       "                 ID       Thick        Size       Shape      Margin  \\\n",
       "count  6.990000e+02  699.000000  699.000000  699.000000  699.000000   \n",
       "mean   1.071704e+06    4.417740    3.134478    3.207439    2.806867   \n",
       "std    6.170957e+05    2.815741    3.051459    2.971913    2.855379   \n",
       "min    6.163400e+04    1.000000    1.000000    1.000000    1.000000   \n",
       "25%    8.706885e+05    2.000000    1.000000    1.000000    1.000000   \n",
       "50%    1.171710e+06    4.000000    1.000000    1.000000    1.000000   \n",
       "75%    1.238298e+06    6.000000    5.000000    5.000000    4.000000   \n",
       "max    1.345435e+07   10.000000   10.000000   10.000000   10.000000   \n",
       "\n",
       "         CellSize      Nuclei   Chromatin    Nucleoli     Mitoses   Malignant  \n",
       "count  699.000000  683.000000  699.000000  699.000000  699.000000  699.000000  \n",
       "mean     3.216023    3.544656    3.437768    2.866953    1.589413    2.689557  \n",
       "std      2.214300    3.643857    2.438364    3.053634    1.715078    0.951273  \n",
       "min      1.000000    1.000000    1.000000    1.000000    1.000000    2.000000  \n",
       "25%      2.000000    1.000000    2.000000    1.000000    1.000000    2.000000  \n",
       "50%      2.000000    1.000000    3.000000    1.000000    1.000000    2.000000  \n",
       "75%      4.000000    6.000000    5.000000    4.000000    1.000000    4.000000  \n",
       "max     10.000000   10.000000   10.000000   10.000000   10.000000    4.000000  "
      ]
     },
     "execution_count": 6,
     "metadata": {},
     "output_type": "execute_result"
    }
   ],
   "source": [
    "BreastCancer.describe()"
   ]
  },
  {
   "cell_type": "markdown",
   "id": "09f7138b",
   "metadata": {},
   "source": [
    "We can see that `Nuclei` is the only column with nulls.  Let's note down the locations of the missing values.  We will impute them, later."
   ]
  },
  {
   "cell_type": "code",
   "execution_count": 7,
   "id": "e224bc38",
   "metadata": {},
   "outputs": [],
   "source": [
    "# Remember the locations\n",
    "MissingNuclei = BreastCancer.Nuclei.isna()"
   ]
  },
  {
   "cell_type": "markdown",
   "id": "87d0a7ae",
   "metadata": {},
   "source": [
    "The target is called `Malignant` and contains values 2 for not malignant and 4 for malignant.  We will relabel 2 with 'no' and 4 with 'yes'."
   ]
  },
  {
   "cell_type": "code",
   "execution_count": 8,
   "id": "be08ea96",
   "metadata": {},
   "outputs": [
    {
     "name": "stdout",
     "output_type": "stream",
     "text": [
      "BreastCancer.Malignant:\n",
      "2    458\n",
      "4    241\n",
      "Name: Malignant, dtype: int64\n",
      "no     458\n",
      "yes    241\n",
      "Name: Malignant, dtype: int64\n"
     ]
    }
   ],
   "source": [
    "print('BreastCancer.Malignant:')\n",
    "print(BreastCancer.Malignant.value_counts())\n",
    "BreastCancer.loc[BreastCancer.Malignant == 4, 'Malignant'] = 'yes'\n",
    "BreastCancer.loc[BreastCancer.Malignant == 2, 'Malignant'] = 'no'\n",
    "print(BreastCancer.Malignant.value_counts())"
   ]
  },
  {
   "cell_type": "markdown",
   "id": "c79ae560",
   "metadata": {},
   "source": [
    "## Imputation of Missing Variables\n",
    "We can see from the table above that we are missing 16 values for `Nuclei`.  Previously, we removed rows or columns with missing variables or we used the sample average as the imputation value.  We can improve on the previous imputaton by creating a predictive model for imputation.  The predictive model uses all the input features except the feature (`Nuclei`) that has the missing values.  We will use supervised learning to create a regression.  This regression is a \"helper\" model for the \"real\" model which will be a classification.\n",
    "\n",
    "We may need to use this imputation on operational data that also lack `Nuclei`.  Therefore, we cannot use the values for `Malignant` as they will not be available in operational data.  For supervised learning we split our data into test and train sets.  We do not use the rows that have missing data."
   ]
  },
  {
   "cell_type": "code",
   "execution_count": 9,
   "id": "d76353ff",
   "metadata": {},
   "outputs": [],
   "source": [
    "CompleteRows = BreastCancer.loc[~MissingNuclei,:]\n",
    "inputFeatures = [x for x in CompleteRows.columns if x not in [\"ID\", \"Nuclei\", \"Malignant\"]]\n",
    "\n",
    "X = CompleteRows[inputFeatures] # features\n",
    "y = CompleteRows.Nuclei # labels\n",
    "X_train, X_test, y_train, y_test = train_test_split(X, y, test_size = 0.3)"
   ]
  },
  {
   "cell_type": "markdown",
   "id": "ea866059",
   "metadata": {},
   "source": [
    "We train and test our \"helper\" regression that estimates the number of nuclei."
   ]
  },
  {
   "cell_type": "code",
   "execution_count": 10,
   "id": "d8b40230",
   "metadata": {},
   "outputs": [
    {
     "name": "stdout",
     "output_type": "stream",
     "text": [
      "Support Vector Regressor\n",
      "Coefficient of Determinations for imputations Test: 0.59; Train: 0.76\n"
     ]
    },
    {
     "data": {
      "image/png": "[encoded data removed]",
      "text/plain": [
       "<Figure size 432x288 with 1 Axes>"
      ]
     },
     "metadata": {
      "needs_background": "light"
     },
     "output_type": "display_data"
    }
   ],
   "source": [
    "#rf_regress = RandomForestRegressor(); print(Random Forest Regressor)\n",
    "#rf_regress = KNeighborsRegressor(); print(K-Nearest Neighbors Regressor)\n",
    "#rf_regress = LinearRegression(); print(Linear Regression)\n",
    "#rf_regress = Ridge(); print('Ridge Linear Regression')\n",
    "#rf_regress = Lasso(); print('Lasso Linear Regression')\n",
    "rf_regress = SVR(); print('Support Vector Regressor')\n",
    "\n",
    "rf_regress.fit(X_train, y_train)\n",
    "y_test_hat = rf_regress.predict(X_test)\n",
    "y_train_hat = rf_regress.predict(X_train)\n",
    "from sklearn.metrics import r2_score\n",
    "print(\"Coefficient of Determinations for imputations Test: {:.2f}; Train: {:.2f}\"\n",
    "      .format(r2_score(y_test, y_test_hat), r2_score(y_train, y_train_hat)))\n",
    "sns.regplot(x=y_test, y=y_test_hat, x_jitter=0.6, y_jitter=0.6);\n",
    "plt.show()"
   ]
  },
  {
   "cell_type": "markdown",
   "id": "88ab3ba9",
   "metadata": {},
   "source": [
    "We use the \"helper\" regression to predict (impute) the number of nuclei for the missing values in `Nuclei`. Jitter is a randomizer.  Let's also see the results."
   ]
  },
  {
   "cell_type": "code",
   "execution_count": 11,
   "id": "9aa9049a",
   "metadata": {},
   "outputs": [
    {
     "data": {
      "text/plain": [
       "array([ 7., 10.,  1.,  1.,  1.,  1.,  1.,  1.,  1.,  6.,  1.,  3.,  8.,\n",
       "        1.,  1.,  1.])"
      ]
     },
     "execution_count": 11,
     "metadata": {},
     "output_type": "execute_result"
    }
   ],
   "source": [
    "ImputedNuclei = rf_regress.predict(BreastCancer.loc[MissingNuclei,inputFeatures]).round()\n",
    "ImputedNuclei[ImputedNuclei < 1] = 1\n",
    "ImputedNuclei[ImputedNuclei > 10] = 10\n",
    "BreastCancer.loc[MissingNuclei, 'Nuclei'] = ImputedNuclei\n",
    "ImputedNuclei"
   ]
  },
  {
   "cell_type": "code",
   "execution_count": 12,
   "id": "cb789fca",
   "metadata": {},
   "outputs": [
    {
     "data": {
      "text/html": [
       "<div>\n",
       "<style scoped>\n",
       "    .dataframe tbody tr th:only-of-type {\n",
       "        vertical-align: middle;\n",
       "    }\n",
       "\n",
       "    .dataframe tbody tr th {\n",
       "        vertical-align: top;\n",
       "    }\n",
       "\n",
       "    .dataframe thead th {\n",
       "        text-align: right;\n",
       "    }\n",
       "</style>\n",
       "<table border=\"1\" class=\"dataframe\">\n",
       "  <thead>\n",
       "    <tr style=\"text-align: right;\">\n",
       "      <th></th>\n",
       "      <th>ID</th>\n",
       "      <th>Thick</th>\n",
       "      <th>Size</th>\n",
       "      <th>Shape</th>\n",
       "      <th>Margin</th>\n",
       "      <th>CellSize</th>\n",
       "      <th>Nuclei</th>\n",
       "      <th>Chromatin</th>\n",
       "      <th>Nucleoli</th>\n",
       "      <th>Mitoses</th>\n",
       "    </tr>\n",
       "  </thead>\n",
       "  <tbody>\n",
       "    <tr>\n",
       "      <th>count</th>\n",
       "      <td>6.990000e+02</td>\n",
       "      <td>699.000000</td>\n",
       "      <td>699.000000</td>\n",
       "      <td>699.000000</td>\n",
       "      <td>699.000000</td>\n",
       "      <td>699.000000</td>\n",
       "      <td>699.000000</td>\n",
       "      <td>699.000000</td>\n",
       "      <td>699.000000</td>\n",
       "      <td>699.000000</td>\n",
       "    </tr>\n",
       "    <tr>\n",
       "      <th>mean</th>\n",
       "      <td>1.071704e+06</td>\n",
       "      <td>4.417740</td>\n",
       "      <td>3.134478</td>\n",
       "      <td>3.207439</td>\n",
       "      <td>2.806867</td>\n",
       "      <td>3.216023</td>\n",
       "      <td>3.527897</td>\n",
       "      <td>3.437768</td>\n",
       "      <td>2.866953</td>\n",
       "      <td>1.589413</td>\n",
       "    </tr>\n",
       "    <tr>\n",
       "      <th>std</th>\n",
       "      <td>6.170957e+05</td>\n",
       "      <td>2.815741</td>\n",
       "      <td>3.051459</td>\n",
       "      <td>2.971913</td>\n",
       "      <td>2.855379</td>\n",
       "      <td>2.214300</td>\n",
       "      <td>3.631722</td>\n",
       "      <td>2.438364</td>\n",
       "      <td>3.053634</td>\n",
       "      <td>1.715078</td>\n",
       "    </tr>\n",
       "    <tr>\n",
       "      <th>min</th>\n",
       "      <td>6.163400e+04</td>\n",
       "      <td>1.000000</td>\n",
       "      <td>1.000000</td>\n",
       "      <td>1.000000</td>\n",
       "      <td>1.000000</td>\n",
       "      <td>1.000000</td>\n",
       "      <td>1.000000</td>\n",
       "      <td>1.000000</td>\n",
       "      <td>1.000000</td>\n",
       "      <td>1.000000</td>\n",
       "    </tr>\n",
       "    <tr>\n",
       "      <th>25%</th>\n",
       "      <td>8.706885e+05</td>\n",
       "      <td>2.000000</td>\n",
       "      <td>1.000000</td>\n",
       "      <td>1.000000</td>\n",
       "      <td>1.000000</td>\n",
       "      <td>2.000000</td>\n",
       "      <td>1.000000</td>\n",
       "      <td>2.000000</td>\n",
       "      <td>1.000000</td>\n",
       "      <td>1.000000</td>\n",
       "    </tr>\n",
       "    <tr>\n",
       "      <th>50%</th>\n",
       "      <td>1.171710e+06</td>\n",
       "      <td>4.000000</td>\n",
       "      <td>1.000000</td>\n",
       "      <td>1.000000</td>\n",
       "      <td>1.000000</td>\n",
       "      <td>2.000000</td>\n",
       "      <td>1.000000</td>\n",
       "      <td>3.000000</td>\n",
       "      <td>1.000000</td>\n",
       "      <td>1.000000</td>\n",
       "    </tr>\n",
       "    <tr>\n",
       "      <th>75%</th>\n",
       "      <td>1.238298e+06</td>\n",
       "      <td>6.000000</td>\n",
       "      <td>5.000000</td>\n",
       "      <td>5.000000</td>\n",
       "      <td>4.000000</td>\n",
       "      <td>4.000000</td>\n",
       "      <td>6.000000</td>\n",
       "      <td>5.000000</td>\n",
       "      <td>4.000000</td>\n",
       "      <td>1.000000</td>\n",
       "    </tr>\n",
       "    <tr>\n",
       "      <th>max</th>\n",
       "      <td>1.345435e+07</td>\n",
       "      <td>10.000000</td>\n",
       "      <td>10.000000</td>\n",
       "      <td>10.000000</td>\n",
       "      <td>10.000000</td>\n",
       "      <td>10.000000</td>\n",
       "      <td>10.000000</td>\n",
       "      <td>10.000000</td>\n",
       "      <td>10.000000</td>\n",
       "      <td>10.000000</td>\n",
       "    </tr>\n",
       "  </tbody>\n",
       "</table>\n",
       "</div>"
      ],
      "text/plain": [
       "                 ID       Thick        Size       Shape      Margin  \\\n",
       "count  6.990000e+02  699.000000  699.000000  699.000000  699.000000   \n",
       "mean   1.071704e+06    4.417740    3.134478    3.207439    2.806867   \n",
       "std    6.170957e+05    2.815741    3.051459    2.971913    2.855379   \n",
       "min    6.163400e+04    1.000000    1.000000    1.000000    1.000000   \n",
       "25%    8.706885e+05    2.000000    1.000000    1.000000    1.000000   \n",
       "50%    1.171710e+06    4.000000    1.000000    1.000000    1.000000   \n",
       "75%    1.238298e+06    6.000000    5.000000    5.000000    4.000000   \n",
       "max    1.345435e+07   10.000000   10.000000   10.000000   10.000000   \n",
       "\n",
       "         CellSize      Nuclei   Chromatin    Nucleoli     Mitoses  \n",
       "count  699.000000  699.000000  699.000000  699.000000  699.000000  \n",
       "mean     3.216023    3.527897    3.437768    2.866953    1.589413  \n",
       "std      2.214300    3.631722    2.438364    3.053634    1.715078  \n",
       "min      1.000000    1.000000    1.000000    1.000000    1.000000  \n",
       "25%      2.000000    1.000000    2.000000    1.000000    1.000000  \n",
       "50%      2.000000    1.000000    3.000000    1.000000    1.000000  \n",
       "75%      4.000000    6.000000    5.000000    4.000000    1.000000  \n",
       "max     10.000000   10.000000   10.000000   10.000000   10.000000  "
      ]
     },
     "metadata": {},
     "output_type": "display_data"
    },
    {
     "data": {
      "text/html": [
       "<div>\n",
       "<style scoped>\n",
       "    .dataframe tbody tr th:only-of-type {\n",
       "        vertical-align: middle;\n",
       "    }\n",
       "\n",
       "    .dataframe tbody tr th {\n",
       "        vertical-align: top;\n",
       "    }\n",
       "\n",
       "    .dataframe thead th {\n",
       "        text-align: right;\n",
       "    }\n",
       "</style>\n",
       "<table border=\"1\" class=\"dataframe\">\n",
       "  <thead>\n",
       "    <tr style=\"text-align: right;\">\n",
       "      <th></th>\n",
       "      <th>ID</th>\n",
       "      <th>Thick</th>\n",
       "      <th>Size</th>\n",
       "      <th>Shape</th>\n",
       "      <th>Margin</th>\n",
       "      <th>CellSize</th>\n",
       "      <th>Nuclei</th>\n",
       "      <th>Chromatin</th>\n",
       "      <th>Nucleoli</th>\n",
       "      <th>Mitoses</th>\n",
       "      <th>Malignant</th>\n",
       "    </tr>\n",
       "  </thead>\n",
       "  <tbody>\n",
       "    <tr>\n",
       "      <th>0</th>\n",
       "      <td>1000025</td>\n",
       "      <td>5</td>\n",
       "      <td>1</td>\n",
       "      <td>1</td>\n",
       "      <td>1</td>\n",
       "      <td>2</td>\n",
       "      <td>1.0</td>\n",
       "      <td>3</td>\n",
       "      <td>1</td>\n",
       "      <td>1</td>\n",
       "      <td>no</td>\n",
       "    </tr>\n",
       "    <tr>\n",
       "      <th>1</th>\n",
       "      <td>1002945</td>\n",
       "      <td>5</td>\n",
       "      <td>4</td>\n",
       "      <td>4</td>\n",
       "      <td>5</td>\n",
       "      <td>7</td>\n",
       "      <td>10.0</td>\n",
       "      <td>3</td>\n",
       "      <td>2</td>\n",
       "      <td>1</td>\n",
       "      <td>no</td>\n",
       "    </tr>\n",
       "    <tr>\n",
       "      <th>2</th>\n",
       "      <td>1015425</td>\n",
       "      <td>3</td>\n",
       "      <td>1</td>\n",
       "      <td>1</td>\n",
       "      <td>1</td>\n",
       "      <td>2</td>\n",
       "      <td>2.0</td>\n",
       "      <td>3</td>\n",
       "      <td>1</td>\n",
       "      <td>1</td>\n",
       "      <td>no</td>\n",
       "    </tr>\n",
       "    <tr>\n",
       "      <th>3</th>\n",
       "      <td>1016277</td>\n",
       "      <td>6</td>\n",
       "      <td>8</td>\n",
       "      <td>8</td>\n",
       "      <td>1</td>\n",
       "      <td>3</td>\n",
       "      <td>4.0</td>\n",
       "      <td>3</td>\n",
       "      <td>7</td>\n",
       "      <td>1</td>\n",
       "      <td>no</td>\n",
       "    </tr>\n",
       "    <tr>\n",
       "      <th>4</th>\n",
       "      <td>1017023</td>\n",
       "      <td>4</td>\n",
       "      <td>1</td>\n",
       "      <td>1</td>\n",
       "      <td>3</td>\n",
       "      <td>2</td>\n",
       "      <td>1.0</td>\n",
       "      <td>3</td>\n",
       "      <td>1</td>\n",
       "      <td>1</td>\n",
       "      <td>no</td>\n",
       "    </tr>\n",
       "  </tbody>\n",
       "</table>\n",
       "</div>"
      ],
      "text/plain": [
       "        ID  Thick  Size  Shape  Margin  CellSize  Nuclei  Chromatin  Nucleoli  \\\n",
       "0  1000025      5     1      1       1         2     1.0          3         1   \n",
       "1  1002945      5     4      4       5         7    10.0          3         2   \n",
       "2  1015425      3     1      1       1         2     2.0          3         1   \n",
       "3  1016277      6     8      8       1         3     4.0          3         7   \n",
       "4  1017023      4     1      1       3         2     1.0          3         1   \n",
       "\n",
       "   Mitoses Malignant  \n",
       "0        1        no  \n",
       "1        1        no  \n",
       "2        1        no  \n",
       "3        1        no  \n",
       "4        1        no  "
      ]
     },
     "execution_count": 12,
     "metadata": {},
     "output_type": "execute_result"
    }
   ],
   "source": [
    "display(BreastCancer.describe())\n",
    "BreastCancer.head()"
   ]
  },
  {
   "cell_type": "markdown",
   "id": "89181145",
   "metadata": {},
   "source": [
    "We can save our processed data in case we want to skip the processing, next time."
   ]
  },
  {
   "cell_type": "code",
   "execution_count": null,
   "id": "c2ad9940",
   "metadata": {},
   "outputs": [],
   "source": [
    "BreastCancer.to_csv(path_or_buf=\"breast-cancer-wisconsin-processed.csv\", index=False)\n",
    "# BreastCancer = pd.read_csv(\"breast-cancer-wisconsin-processed.csv\")"
   ]
  },
  {
   "cell_type": "markdown",
   "id": "4ca004dc",
   "metadata": {},
   "source": [
    "The input features for our classifier must not contain the target `Malignant` and should not contain the IDs.  We will create randomly distributed test and train sets.  We will use the majority for training to ensure a better model.  We will use just enough test examples for a usable accuracy assessment."
   ]
  },
  {
   "cell_type": "code",
   "execution_count": null,
   "id": "fd9c9e42",
   "metadata": {},
   "outputs": [],
   "source": [
    "inputFeatures = [x for x in BreastCancer.columns if x not in [\"ID\", \"Malignant\"]]\n",
    "\n",
    "X = BreastCancer[inputFeatures] # features\n",
    "y = BreastCancer.Malignant # labels\n",
    "X_train, X_test, y_train, y_test = train_test_split(X, y, test_size = 0.2)"
   ]
  },
  {
   "cell_type": "markdown",
   "id": "748de969",
   "metadata": {},
   "source": [
    "We choose a classification algorithm.  A decision tree will yield the most understandable results"
   ]
  },
  {
   "cell_type": "code",
   "execution_count": null,
   "id": "a88c9d98",
   "metadata": {},
   "outputs": [],
   "source": [
    "# clf = LogisticRegression(); print ('Logistic Regression')\n",
    "# clf = GaussianNB(); print ('Naive Bayes')\n",
    "# clf = KNeighborsClassifier(n_neighbors=5); print ('K-Nearest Neighbors')\n",
    "# clf = SVC(gamma='auto'); print ('Support Vector Machine')\n",
    "# clf = RandomForestClassifier(); print ('Random Forest')\n",
    "clf = DecisionTreeClassifier(); print ('Decision Tree')\n",
    "clf.fit(X_train, y_train)"
   ]
  },
  {
   "cell_type": "markdown",
   "id": "83ff2245",
   "metadata": {},
   "source": [
    "Now that we have trained the decision tree classifier, we need to test it.  First we need to check our baseline accuracy.  A baseline accuracy is the accuracy that we would get, if we were to randomly guess.  "
   ]
  },
  {
   "cell_type": "code",
   "execution_count": null,
   "id": "c79c9d3f",
   "metadata": {},
   "outputs": [],
   "source": [
    "ProportionOfYes = np.sum(y_test == 'yes')/y_test.shape[0]\n",
    "ProportionOfYes"
   ]
  },
  {
   "cell_type": "markdown",
   "id": "e9c89d77",
   "metadata": {},
   "source": [
    "If we always choose the major class, then we will be right most of the time.  That is our baseline accuracy and we need to be significantly better than the baseline accuracy."
   ]
  },
  {
   "cell_type": "code",
   "execution_count": null,
   "id": "e850384e",
   "metadata": {},
   "outputs": [],
   "source": [
    "print(\"Accuracy baseline on the test data: {:.0f}%.\".format(100*max(ProportionOfYes, 1.0-ProportionOfYes)))"
   ]
  },
  {
   "cell_type": "markdown",
   "id": "fa27eb7b",
   "metadata": {},
   "source": [
    "Now that we know the baseline accuacy, we will determine the decision tree's accuracy."
   ]
  },
  {
   "cell_type": "code",
   "execution_count": null,
   "id": "f2fbdc3c",
   "metadata": {},
   "outputs": [],
   "source": [
    "# Apply the Model\n",
    "y_test_hat = clf.predict(X_test)\n",
    "\n",
    "# Evaluate Model\n",
    "print(\"Accuracy: {:.2}\".format(accuracy_score(y_test, y_test_hat)))\n",
    "conmat=confusion_matrix(y_test, y_test_hat)\n",
    "cmd = ConfusionMatrixDisplay(confusion_matrix=conmat, display_labels=[\"no\", \"yes\"])\n",
    "font = {'weight' : 'bold', 'size'   : 32}\n",
    "plt.rc('font', **font)\n",
    "cmd.plot();\n",
    "plt.rcdefaults();"
   ]
  },
  {
   "cell_type": "markdown",
   "id": "9244ac28",
   "metadata": {},
   "source": [
    "Model interpretability and explainability is an important topic.  We want to understand why the machine makes its predictions.  We can view the decsion tree and gain insights into the machine's method of prediction."
   ]
  },
  {
   "cell_type": "code",
   "execution_count": null,
   "id": "7c30ed17",
   "metadata": {
    "scrolled": true
   },
   "outputs": [],
   "source": [
    "from sklearn.tree import plot_tree\n",
    "plt.figure(figsize=(40,10))\n",
    "font = {'size'   : 14}\n",
    "plt.rc('font', **font)\n",
    "plot_tree(clf, feature_names=inputFeatures)\n",
    "plt.savefig(\"Decision_Tree_Breast_Cancer_Diagnosis.png\") #save as png"
   ]
  },
  {
   "cell_type": "code",
   "execution_count": null,
   "id": "23ad4afe",
   "metadata": {},
   "outputs": [],
   "source": []
  }
 ],
 "metadata": {
  "kernelspec": {
   "display_name": "Python 3 (ipykernel)",
   "language": "python",
   "name": "python3"
  },
  "language_info": {
   "codemirror_mode": {
    "name": "ipython",
    "version": 3
   },
   "file_extension": ".py",
   "mimetype": "text/x-python",
   "name": "python",
   "nbconvert_exporter": "python",
   "pygments_lexer": "ipython3",
   "version": "3.9.7"
  }
 },
 "nbformat": 4,
 "nbformat_minor": 5
}
