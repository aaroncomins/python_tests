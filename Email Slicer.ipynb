{
 "cells": [
  {
   "cell_type": "code",
   "execution_count": null,
   "id": "7de8a484-d20a-4023-876d-24b8879a200c",
   "metadata": {},
   "outputs": [
    {
     "name": "stdout",
     "output_type": "stream",
     "text": [
      " Welcome to the email slicer \n",
      "\n"
     ]
    },
    {
     "name": "stdin",
     "output_type": "stream",
     "text": [
      "Input your email address:  aaroncomins@gmail.com\n"
     ]
    },
    {
     "name": "stdout",
     "output_type": "stream",
     "text": [
      "Username :  aaroncomins\n",
      "Domain :  gmail\n",
      "Extension:  com\n",
      " Welcome to the email slicer \n",
      "\n"
     ]
    },
    {
     "name": "stdin",
     "output_type": "stream",
     "text": [
      "Input your email address:  thecomanfam@gmail.com\n"
     ]
    },
    {
     "name": "stdout",
     "output_type": "stream",
     "text": [
      "Username :  thecomanfam\n",
      "Domain :  gmail\n",
      "Extension:  com\n",
      " Welcome to the email slicer \n",
      "\n"
     ]
    }
   ],
   "source": [
    "# Collect email from user\n",
    "# Split the email using the @, the first part as the username, the second part is gonna be saved as domain\n",
    "# Split domain using .,\n",
    "# IE. For my email: aaroncomins@gmail.com\n",
    "# Username: aaroncomins\n",
    "# Domain: gmail\n",
    "# Extension: com\n",
    "\n",
    "def main():\n",
    "    print(\" Welcome to the email slicer \")\n",
    "    print(\"\")\n",
    "\n",
    "    email_input = input(\"Input your email address: \")\n",
    "\n",
    "    (username, domain) = email_input.split(\"@\")\n",
    "    (domain, extension) = domain.split('.')\n",
    "\n",
    "    print('Username : ', username)\n",
    "    print('Domain : ', domain)\n",
    "    print('Extension: ', extension)\n",
    "\n",
    "while True:\n",
    "    main()"
   ]
  }
 ],
 "metadata": {
  "kernelspec": {
   "display_name": "Python 3 (ipykernel)",
   "language": "python",
   "name": "python3"
  },
  "language_info": {
   "codemirror_mode": {
    "name": "ipython",
    "version": 3
   },
   "file_extension": ".py",
   "mimetype": "text/x-python",
   "name": "python",
   "nbconvert_exporter": "python",
   "pygments_lexer": "ipython3",
   "version": "3.9.7"
  }
 },
 "nbformat": 4,
 "nbformat_minor": 5
}
