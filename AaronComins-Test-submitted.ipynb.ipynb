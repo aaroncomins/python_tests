{
 "cells": [
  {
   "cell_type": "code",
   "execution_count": null,
   "id": "c9a8174d-184b-40a4-8492-d6179162cd5c",
   "metadata": {},
   "outputs": [],
   "source": [
    "Aaron Comins"
   ]
  }
 ],
 "metadata": {
  "kernelspec": {
   "display_name": "Python 3 (ipykernel)",
   "language": "python",
   "name": "python3"
  },
  "language_info": {
   "codemirror_mode": {
    "name": "ipython",
    "version": 3
   },
   "file_extension": ".py",
   "mimetype": "text/x-python",
   "name": "python",
   "nbconvert_exporter": "python",
   "pygments_lexer": "ipython3",
   "version": "3.9.7"
  }
 },
 "nbformat": 4,
 "nbformat_minor": 5
}
