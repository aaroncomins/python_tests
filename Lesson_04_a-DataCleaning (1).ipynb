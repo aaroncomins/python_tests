{
 "cells": [
  {
   "cell_type": "markdown",
   "id": "61e2fa9a",
   "metadata": {},
   "source": [
    "# Data Cleaning in Numpy"
   ]
  },
  {
   "cell_type": "code",
   "execution_count": null,
   "id": "44bcc84a",
   "metadata": {},
   "outputs": [],
   "source": [
    "# Import the Numpy library\n",
    "import numpy as np"
   ]
  },
  {
   "cell_type": "markdown",
   "id": "997fa2dc",
   "metadata": {},
   "source": [
    "## Arrays with Outliers"
   ]
  },
  {
   "cell_type": "code",
   "execution_count": null,
   "id": "60e49494",
   "metadata": {},
   "outputs": [],
   "source": [
    "# Create an array with the data\n",
    "DataWithOutlier = np.array([2, 1, 1, 99, 1, 5, 3, 1, 4, 3])\n",
    "# Use len to determine the number of elements"
   ]
  },
  {
   "cell_type": "markdown",
   "id": "6a3d8e27",
   "metadata": {},
   "source": [
    "### Remove outliers from arrays"
   ]
  },
  {
   "cell_type": "code",
   "execution_count": null,
   "id": "29f96a69",
   "metadata": {},
   "outputs": [],
   "source": [
    "x = DataWithOutlier.copy()"
   ]
  },
  {
   "cell_type": "code",
   "execution_count": null,
   "id": "ac5ec254",
   "metadata": {},
   "outputs": [],
   "source": [
    "# The high limit for acceptable values is the mean plus 2 standard deviations    \n",
    "LimitHi = np.mean(x) + 2*np.std(x)\n",
    "# The high limit is the cutoff for good values\n",
    "LimitHi"
   ]
  },
  {
   "cell_type": "code",
   "execution_count": null,
   "id": "d0f13f9e",
   "metadata": {},
   "outputs": [],
   "source": [
    "# The low limit for acceptable values is the mean plus 2 standard deviations\n",
    "LimitLo = np.mean(x) - 2*np.std(x)\n",
    "# The low limit is the cutoff for good values\n",
    "LimitLo"
   ]
  },
  {
   "cell_type": "code",
   "execution_count": null,
   "id": "3c3621f5",
   "metadata": {},
   "outputs": [],
   "source": [
    "# Create Flag for values within limits \n",
    "FlagGood = (x >= LimitLo) & (x <= LimitHi)\n",
    "# What type of variable is FlagGood? Check the Variable explorer.\n",
    "\n",
    "# present the flag\n",
    "FlagGood"
   ]
  },
  {
   "cell_type": "code",
   "execution_count": null,
   "id": "2716219a",
   "metadata": {},
   "outputs": [],
   "source": [
    "# We can present the values of the items within the limits\n",
    "x[FlagGood]\n",
    "\n",
    "# Overwrite x with the selected values\n",
    "x = x[FlagGood]\n",
    "\n",
    "# present the data set\n",
    "x\n",
    "# Use len to determine the number of elements in x"
   ]
  },
  {
   "cell_type": "markdown",
   "id": "bb2e6969",
   "metadata": {},
   "source": [
    "### Replace outliers in numpy arrays (Imputation)"
   ]
  },
  {
   "cell_type": "code",
   "execution_count": null,
   "id": "27ad6fd1",
   "metadata": {},
   "outputs": [],
   "source": [
    "# Create an array with the data\n",
    "y = DataWithOutlier.copy()"
   ]
  },
  {
   "cell_type": "code",
   "execution_count": null,
   "id": "28bcb893",
   "metadata": {},
   "outputs": [],
   "source": [
    "# Create Flag for values outside of limits\n",
    "FlagBad = (y < LimitLo) | (y > LimitHi)\n",
    "\n",
    "# present the flag\n",
    "FlagBad"
   ]
  },
  {
   "cell_type": "code",
   "execution_count": null,
   "id": "b1982805",
   "metadata": {},
   "outputs": [],
   "source": [
    "# Replace outlieres with mean of the whole array\n",
    "y[FlagBad] = np.mean(y)\n",
    "\n",
    "# See the values of y\n",
    "y"
   ]
  },
  {
   "cell_type": "code",
   "execution_count": null,
   "id": "0921ad83",
   "metadata": {},
   "outputs": [],
   "source": [
    "# FlagGood is the complement of FlagBad\n",
    "FlagGood = ~FlagBad\n",
    "\n",
    "# Replace outliers with the mean of non-outliers\n",
    "y[FlagBad] = np.mean(y[FlagGood])\n",
    "\n",
    "# See the values of y\n",
    "y"
   ]
  },
  {
   "cell_type": "code",
   "execution_count": null,
   "id": "f0fb1e87",
   "metadata": {},
   "outputs": [],
   "source": [
    "# Get the Sample data\n",
    "z = DataWithOutlier.copy()\n",
    "\n",
    "# Replace outliers with the median of the whole array\n",
    "z[FlagBad] = np.median(z)\n",
    "\n",
    "# See the values of z\n",
    "z"
   ]
  },
  {
   "cell_type": "markdown",
   "id": "ccb6538e",
   "metadata": {},
   "source": [
    "## Arrays with Missing Values"
   ]
  },
  {
   "cell_type": "code",
   "execution_count": null,
   "id": "840c7165",
   "metadata": {},
   "outputs": [],
   "source": [
    "# Create an array with missing values\n",
    "a = np.array([2, 1, \" \", 1, 99, 1, 5, 3, \"?\", 1, 4, 3])"
   ]
  },
  {
   "cell_type": "markdown",
   "id": "74cca5ee",
   "metadata": {},
   "source": [
    "### Remove Missing Values"
   ]
  },
  {
   "cell_type": "code",
   "execution_count": null,
   "id": "2be2b614",
   "metadata": {},
   "outputs": [],
   "source": [
    "# Attempt to tally values that are larger than 4\n",
    "sum(a > 4)"
   ]
  },
  {
   "cell_type": "code",
   "execution_count": null,
   "id": "3075f3b7",
   "metadata": {},
   "outputs": [],
   "source": [
    "# Find out the data type for a:\n",
    "print(type(a))\n",
    "\n",
    "# Find out the data type for the elements in the array\n",
    "print(a.dtype.name)"
   ]
  },
  {
   "cell_type": "code",
   "execution_count": null,
   "id": "2eb820f2",
   "metadata": {},
   "outputs": [],
   "source": [
    "# Do not allow specific texts\n",
    "FlagGood = (a != \"?\") & (a != \" \")\n",
    "FlagGood"
   ]
  },
  {
   "cell_type": "code",
   "execution_count": null,
   "id": "ddd63fbe",
   "metadata": {},
   "outputs": [],
   "source": [
    "# Find elements that are numbers\n",
    "FlagGood = [element.isdigit() for element in a]\n",
    "FlagGood"
   ]
  },
  {
   "cell_type": "code",
   "execution_count": null,
   "id": "a5648960",
   "metadata": {},
   "outputs": [],
   "source": [
    "# Select only the values that look like numbers\n",
    "a = a[FlagGood]\n",
    "\n",
    "a"
   ]
  },
  {
   "cell_type": "code",
   "execution_count": null,
   "id": "ef2f95de",
   "metadata": {
    "scrolled": true
   },
   "outputs": [],
   "source": [
    "# Attempt to tally values that are larger than 4\n",
    "sum(a > 4)"
   ]
  },
  {
   "cell_type": "code",
   "execution_count": null,
   "id": "62bddbdb",
   "metadata": {},
   "outputs": [],
   "source": [
    "# Need to cast the numbers from text (string) to real numeric values\n",
    "a = a.astype(int)\n",
    "\n",
    "a"
   ]
  },
  {
   "cell_type": "code",
   "execution_count": null,
   "id": "4dbdd35c",
   "metadata": {},
   "outputs": [],
   "source": [
    "# tally values that are larger than 4\n",
    "sum(a > 4)"
   ]
  },
  {
   "cell_type": "markdown",
   "id": "9ecf03e1",
   "metadata": {},
   "source": [
    "### Replace Missing Values (Imputation)"
   ]
  },
  {
   "cell_type": "code",
   "execution_count": null,
   "id": "c9a71f68",
   "metadata": {},
   "outputs": [],
   "source": [
    "# Create an array with missing values\n",
    "a = np.array([2, 1, \" \", 1, 99, 1, 5, 3, \"?\", 1, 4, 3])"
   ]
  },
  {
   "cell_type": "code",
   "execution_count": null,
   "id": "91cfd7a3",
   "metadata": {},
   "outputs": [],
   "source": [
    "# Add Code here"
   ]
  }
 ],
 "metadata": {
  "kernelspec": {
   "display_name": "Python 3 (ipykernel)",
   "language": "python",
   "name": "python3"
  },
  "language_info": {
   "codemirror_mode": {
    "name": "ipython",
    "version": 3
   },
   "file_extension": ".py",
   "mimetype": "text/x-python",
   "name": "python",
   "nbconvert_exporter": "python",
   "pygments_lexer": "ipython3",
   "version": "3.9.7"
  }
 },
 "nbformat": 4,
 "nbformat_minor": 5
}
