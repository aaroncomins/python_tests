{
 "cells": [
  {
   "cell_type": "code",
   "execution_count": 4,
   "id": "0e9da7f2-826e-4ddf-8775-48fdc51c8d0a",
   "metadata": {},
   "outputs": [],
   "source": [
    "# Go over to your gmail account and setup 2 factor authentication\n",
    "# Generate app password\n",
    "# Create a function to send the mail\n",
    "\n",
    "from email.message import EmailMessage\n",
    "import ssl\n",
    "import smtplib\n",
    "\n",
    "email_sender = 'aaroncomins@gmail.com'\n",
    "email_password = 'zfnn masp cwgq ufrz'\n",
    "\n",
    "email_receiver = 'megan9929@gmail.com'\n",
    "\n",
    "subject = \"Email2 from Python from Aaron's Python!!\"\n",
    "\n",
    "body = \"\"\"\n",
    "This email actually came from Python! I found out how to do this on a youtube video titled 20 Beginner Python projects. It freaking works! Let me know if you get this.\n",
    "\"\"\"\n",
    "\n",
    "em = EmailMessage()\n",
    "em['From'] = email_sender\n",
    "em['To'] = email_receiver\n",
    "em['Subject'] = subject\n",
    "em.set_content(body)\n",
    "\n",
    "context = ssl.create_default_context()\n",
    "\n",
    "with smtplib.SMTP_SSL('smtp.gmail.com', 465, context=context) as smtp:\n",
    "    smtp.login(email_sender, email_password)\n",
    "    smtp.sendmail(email_sender, email_receiver, em.as_string())"
   ]
  },
  {
   "cell_type": "code",
   "execution_count": null,
   "id": "5a8084ed-8ff1-4e63-bc5e-41b9dc410484",
   "metadata": {},
   "outputs": [],
   "source": []
  }
 ],
 "metadata": {
  "kernelspec": {
   "display_name": "Python 3 (ipykernel)",
   "language": "python",
   "name": "python3"
  },
  "language_info": {
   "codemirror_mode": {
    "name": "ipython",
    "version": 3
   },
   "file_extension": ".py",
   "mimetype": "text/x-python",
   "name": "python",
   "nbconvert_exporter": "python",
   "pygments_lexer": "ipython3",
   "version": "3.9.7"
  }
 },
 "nbformat": 4,
 "nbformat_minor": 5
}
