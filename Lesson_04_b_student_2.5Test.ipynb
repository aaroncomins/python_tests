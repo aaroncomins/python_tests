{
 "cells": [
  {
   "cell_type": "markdown",
   "metadata": {},
   "source": [
    "# Assignment\n",
    "\n",
    "In this assignment, we want to read in the `retail-churn.csv` dataset and run some EDA on the data. Generally speaking, when we run EDA on a dataset, we don't have a particular goal in mind. Instead we want to get a \"gut-feel\" for what the data looks like. The goal of the assignment is to show your ability to examine a dataset with increasing depth as you go."
   ]
  },
  {
   "cell_type": "code",
   "execution_count": 1,
   "metadata": {
    "scrolled": true
   },
   "outputs": [
    {
     "data": {
      "text/html": [
       "<div>\n",
       "<style scoped>\n",
       "    .dataframe tbody tr th:only-of-type {\n",
       "        vertical-align: middle;\n",
       "    }\n",
       "\n",
       "    .dataframe tbody tr th {\n",
       "        vertical-align: top;\n",
       "    }\n",
       "\n",
       "    .dataframe thead th {\n",
       "        text-align: right;\n",
       "    }\n",
       "</style>\n",
       "<table border=\"1\" class=\"dataframe\">\n",
       "  <thead>\n",
       "    <tr style=\"text-align: right;\">\n",
       "      <th></th>\n",
       "      <th>user_id</th>\n",
       "      <th>gender</th>\n",
       "      <th>address</th>\n",
       "      <th>store_id</th>\n",
       "      <th>trans_id</th>\n",
       "      <th>timestamp</th>\n",
       "      <th>item_id</th>\n",
       "      <th>quantity</th>\n",
       "      <th>dollar</th>\n",
       "    </tr>\n",
       "  </thead>\n",
       "  <tbody>\n",
       "    <tr>\n",
       "      <th>0</th>\n",
       "      <td>101981</td>\n",
       "      <td>F</td>\n",
       "      <td>E</td>\n",
       "      <td>2860</td>\n",
       "      <td>818463</td>\n",
       "      <td>11/1/2000 0:00</td>\n",
       "      <td>4.710000e+12</td>\n",
       "      <td>1</td>\n",
       "      <td>37</td>\n",
       "    </tr>\n",
       "    <tr>\n",
       "      <th>1</th>\n",
       "      <td>101981</td>\n",
       "      <td>F</td>\n",
       "      <td>E</td>\n",
       "      <td>2861</td>\n",
       "      <td>818464</td>\n",
       "      <td>11/1/2000 0:00</td>\n",
       "      <td>4.710000e+12</td>\n",
       "      <td>1</td>\n",
       "      <td>17</td>\n",
       "    </tr>\n",
       "    <tr>\n",
       "      <th>2</th>\n",
       "      <td>101981</td>\n",
       "      <td>F</td>\n",
       "      <td>E</td>\n",
       "      <td>2862</td>\n",
       "      <td>818465</td>\n",
       "      <td>11/1/2000 0:00</td>\n",
       "      <td>4.710000e+12</td>\n",
       "      <td>1</td>\n",
       "      <td>23</td>\n",
       "    </tr>\n",
       "    <tr>\n",
       "      <th>3</th>\n",
       "      <td>101981</td>\n",
       "      <td>F</td>\n",
       "      <td>E</td>\n",
       "      <td>2863</td>\n",
       "      <td>818466</td>\n",
       "      <td>11/1/2000 0:00</td>\n",
       "      <td>4.710000e+12</td>\n",
       "      <td>1</td>\n",
       "      <td>41</td>\n",
       "    </tr>\n",
       "    <tr>\n",
       "      <th>4</th>\n",
       "      <td>101981</td>\n",
       "      <td>F</td>\n",
       "      <td>E</td>\n",
       "      <td>2864</td>\n",
       "      <td>818467</td>\n",
       "      <td>11/1/2000 0:00</td>\n",
       "      <td>4.710000e+12</td>\n",
       "      <td>8</td>\n",
       "      <td>288</td>\n",
       "    </tr>\n",
       "  </tbody>\n",
       "</table>\n",
       "</div>"
      ],
      "text/plain": [
       "   user_id gender address  store_id  trans_id       timestamp       item_id  \\\n",
       "0   101981      F       E      2860    818463  11/1/2000 0:00  4.710000e+12   \n",
       "1   101981      F       E      2861    818464  11/1/2000 0:00  4.710000e+12   \n",
       "2   101981      F       E      2862    818465  11/1/2000 0:00  4.710000e+12   \n",
       "3   101981      F       E      2863    818466  11/1/2000 0:00  4.710000e+12   \n",
       "4   101981      F       E      2864    818467  11/1/2000 0:00  4.710000e+12   \n",
       "\n",
       "   quantity  dollar  \n",
       "0         1      37  \n",
       "1         1      17  \n",
       "2         1      23  \n",
       "3         1      41  \n",
       "4         8     288  "
      ]
     },
     "execution_count": 1,
     "metadata": {},
     "output_type": "execute_result"
    }
   ],
   "source": [
    "import pandas as pd\n",
    "#import datetime\n",
    "\n",
    "col_names = ['user_id', 'gender', 'address', 'store_id', 'trans_id', 'timestamp', 'item_id', 'quantity', 'dollar']\n",
    "churn = pd.read_csv(\"retail-churn.csv\", sep = \",\", skiprows = 1, names = col_names)\n",
    "churn.head()"
   ]
  },
  {
   "cell_type": "raw",
   "metadata": {},
   "source": [
    "churn.tail()"
   ]
  },
  {
   "cell_type": "code",
   "execution_count": 92,
   "metadata": {},
   "outputs": [
    {
     "data": {
      "text/html": [
       "<div>\n",
       "<style scoped>\n",
       "    .dataframe tbody tr th:only-of-type {\n",
       "        vertical-align: middle;\n",
       "    }\n",
       "\n",
       "    .dataframe tbody tr th {\n",
       "        vertical-align: top;\n",
       "    }\n",
       "\n",
       "    .dataframe thead th {\n",
       "        text-align: right;\n",
       "    }\n",
       "</style>\n",
       "<table border=\"1\" class=\"dataframe\">\n",
       "  <thead>\n",
       "    <tr style=\"text-align: right;\">\n",
       "      <th></th>\n",
       "      <th>user_id</th>\n",
       "      <th>gender</th>\n",
       "      <th>address</th>\n",
       "      <th>store_id</th>\n",
       "      <th>trans_id</th>\n",
       "      <th>timestamp</th>\n",
       "      <th>item_id</th>\n",
       "      <th>quantity</th>\n",
       "      <th>dollar</th>\n",
       "    </tr>\n",
       "  </thead>\n",
       "  <tbody>\n",
       "    <tr>\n",
       "      <th>0</th>\n",
       "      <td>101981</td>\n",
       "      <td>F</td>\n",
       "      <td>E</td>\n",
       "      <td>2860</td>\n",
       "      <td>818463</td>\n",
       "      <td>11/1/2000 0:00</td>\n",
       "      <td>4.710000e+12</td>\n",
       "      <td>1</td>\n",
       "      <td>37</td>\n",
       "    </tr>\n",
       "    <tr>\n",
       "      <th>1</th>\n",
       "      <td>101981</td>\n",
       "      <td>F</td>\n",
       "      <td>E</td>\n",
       "      <td>2861</td>\n",
       "      <td>818464</td>\n",
       "      <td>11/1/2000 0:00</td>\n",
       "      <td>4.710000e+12</td>\n",
       "      <td>1</td>\n",
       "      <td>17</td>\n",
       "    </tr>\n",
       "    <tr>\n",
       "      <th>2</th>\n",
       "      <td>101981</td>\n",
       "      <td>F</td>\n",
       "      <td>E</td>\n",
       "      <td>2862</td>\n",
       "      <td>818465</td>\n",
       "      <td>11/1/2000 0:00</td>\n",
       "      <td>4.710000e+12</td>\n",
       "      <td>1</td>\n",
       "      <td>23</td>\n",
       "    </tr>\n",
       "    <tr>\n",
       "      <th>3</th>\n",
       "      <td>101981</td>\n",
       "      <td>F</td>\n",
       "      <td>E</td>\n",
       "      <td>2863</td>\n",
       "      <td>818466</td>\n",
       "      <td>11/1/2000 0:00</td>\n",
       "      <td>4.710000e+12</td>\n",
       "      <td>1</td>\n",
       "      <td>41</td>\n",
       "    </tr>\n",
       "    <tr>\n",
       "      <th>4</th>\n",
       "      <td>101981</td>\n",
       "      <td>F</td>\n",
       "      <td>E</td>\n",
       "      <td>2864</td>\n",
       "      <td>818467</td>\n",
       "      <td>11/1/2000 0:00</td>\n",
       "      <td>4.710000e+12</td>\n",
       "      <td>8</td>\n",
       "      <td>288</td>\n",
       "    </tr>\n",
       "    <tr>\n",
       "      <th>...</th>\n",
       "      <td>...</td>\n",
       "      <td>...</td>\n",
       "      <td>...</td>\n",
       "      <td>...</td>\n",
       "      <td>...</td>\n",
       "      <td>...</td>\n",
       "      <td>...</td>\n",
       "      <td>...</td>\n",
       "      <td>...</td>\n",
       "    </tr>\n",
       "    <tr>\n",
       "      <th>252199</th>\n",
       "      <td>2179605</td>\n",
       "      <td>B</td>\n",
       "      <td>G</td>\n",
       "      <td>251838</td>\n",
       "      <td>1630692</td>\n",
       "      <td>2/28/2001 0:00</td>\n",
       "      <td>2.250000e+12</td>\n",
       "      <td>2</td>\n",
       "      <td>138</td>\n",
       "    </tr>\n",
       "    <tr>\n",
       "      <th>252200</th>\n",
       "      <td>2179605</td>\n",
       "      <td>B</td>\n",
       "      <td>G</td>\n",
       "      <td>251839</td>\n",
       "      <td>1630821</td>\n",
       "      <td>2/28/2001 0:00</td>\n",
       "      <td>4.710000e+12</td>\n",
       "      <td>1</td>\n",
       "      <td>96</td>\n",
       "    </tr>\n",
       "    <tr>\n",
       "      <th>252201</th>\n",
       "      <td>2179605</td>\n",
       "      <td>B</td>\n",
       "      <td>G</td>\n",
       "      <td>251840</td>\n",
       "      <td>1630931</td>\n",
       "      <td>2/28/2001 0:00</td>\n",
       "      <td>4.710000e+12</td>\n",
       "      <td>1</td>\n",
       "      <td>89</td>\n",
       "    </tr>\n",
       "    <tr>\n",
       "      <th>252202</th>\n",
       "      <td>2179605</td>\n",
       "      <td>B</td>\n",
       "      <td>G</td>\n",
       "      <td>251841</td>\n",
       "      <td>1631033</td>\n",
       "      <td>2/28/2001 0:00</td>\n",
       "      <td>4.710000e+12</td>\n",
       "      <td>1</td>\n",
       "      <td>108</td>\n",
       "    </tr>\n",
       "    <tr>\n",
       "      <th>252203</th>\n",
       "      <td>2179605</td>\n",
       "      <td>B</td>\n",
       "      <td>G</td>\n",
       "      <td>251842</td>\n",
       "      <td>1631048</td>\n",
       "      <td>2/28/2001 0:00</td>\n",
       "      <td>4.710000e+12</td>\n",
       "      <td>1</td>\n",
       "      <td>95</td>\n",
       "    </tr>\n",
       "  </tbody>\n",
       "</table>\n",
       "<p>252204 rows × 9 columns</p>\n",
       "</div>"
      ],
      "text/plain": [
       "        user_id gender address  store_id  trans_id       timestamp  \\\n",
       "0        101981      F       E      2860    818463  11/1/2000 0:00   \n",
       "1        101981      F       E      2861    818464  11/1/2000 0:00   \n",
       "2        101981      F       E      2862    818465  11/1/2000 0:00   \n",
       "3        101981      F       E      2863    818466  11/1/2000 0:00   \n",
       "4        101981      F       E      2864    818467  11/1/2000 0:00   \n",
       "...         ...    ...     ...       ...       ...             ...   \n",
       "252199  2179605      B       G    251838   1630692  2/28/2001 0:00   \n",
       "252200  2179605      B       G    251839   1630821  2/28/2001 0:00   \n",
       "252201  2179605      B       G    251840   1630931  2/28/2001 0:00   \n",
       "252202  2179605      B       G    251841   1631033  2/28/2001 0:00   \n",
       "252203  2179605      B       G    251842   1631048  2/28/2001 0:00   \n",
       "\n",
       "             item_id  quantity  dollar  \n",
       "0       4.710000e+12         1      37  \n",
       "1       4.710000e+12         1      17  \n",
       "2       4.710000e+12         1      23  \n",
       "3       4.710000e+12         1      41  \n",
       "4       4.710000e+12         8     288  \n",
       "...              ...       ...     ...  \n",
       "252199  2.250000e+12         2     138  \n",
       "252200  4.710000e+12         1      96  \n",
       "252201  4.710000e+12         1      89  \n",
       "252202  4.710000e+12         1     108  \n",
       "252203  4.710000e+12         1      95  \n",
       "\n",
       "[252204 rows x 9 columns]"
      ]
     },
     "execution_count": 92,
     "metadata": {},
     "output_type": "execute_result"
    }
   ],
   "source": [
    "col_names_df = pd.DataFrame(churn, columns = col_names)\n",
    "col_names_df"
   ]
  },
  {
   "cell_type": "code",
   "execution_count": 93,
   "metadata": {},
   "outputs": [
    {
     "name": "stdout",
     "output_type": "stream",
     "text": [
      "user_id        int64\n",
      "gender        object\n",
      "address       object\n",
      "store_id       int64\n",
      "trans_id       int64\n",
      "timestamp     object\n",
      "item_id      float64\n",
      "quantity       int64\n",
      "dollar         int64\n",
      "dtype: object\n"
     ]
    }
   ],
   "source": [
    "print(col_names_df.dtypes)"
   ]
  },
  {
   "cell_type": "code",
   "execution_count": 94,
   "metadata": {},
   "outputs": [
    {
     "name": "stdout",
     "output_type": "stream",
     "text": [
      "user_id        int64\n",
      "gender        object\n",
      "address       object\n",
      "store_id       int64\n",
      "trans_id       int64\n",
      "timestamp     object\n",
      "item_id      float64\n",
      "quantity       int64\n",
      "dollar       float64\n",
      "dtype: object\n"
     ]
    },
    {
     "data": {
      "text/html": [
       "<div>\n",
       "<style scoped>\n",
       "    .dataframe tbody tr th:only-of-type {\n",
       "        vertical-align: middle;\n",
       "    }\n",
       "\n",
       "    .dataframe tbody tr th {\n",
       "        vertical-align: top;\n",
       "    }\n",
       "\n",
       "    .dataframe thead th {\n",
       "        text-align: right;\n",
       "    }\n",
       "</style>\n",
       "<table border=\"1\" class=\"dataframe\">\n",
       "  <thead>\n",
       "    <tr style=\"text-align: right;\">\n",
       "      <th></th>\n",
       "      <th>user_id</th>\n",
       "      <th>gender</th>\n",
       "      <th>address</th>\n",
       "      <th>store_id</th>\n",
       "      <th>trans_id</th>\n",
       "      <th>timestamp</th>\n",
       "      <th>item_id</th>\n",
       "      <th>quantity</th>\n",
       "      <th>dollar</th>\n",
       "    </tr>\n",
       "  </thead>\n",
       "  <tbody>\n",
       "    <tr>\n",
       "      <th>0</th>\n",
       "      <td>101981</td>\n",
       "      <td>F</td>\n",
       "      <td>E</td>\n",
       "      <td>2860</td>\n",
       "      <td>818463</td>\n",
       "      <td>11/1/2000 0:00</td>\n",
       "      <td>4.710000e+12</td>\n",
       "      <td>1</td>\n",
       "      <td>37.0</td>\n",
       "    </tr>\n",
       "    <tr>\n",
       "      <th>1</th>\n",
       "      <td>101981</td>\n",
       "      <td>F</td>\n",
       "      <td>E</td>\n",
       "      <td>2861</td>\n",
       "      <td>818464</td>\n",
       "      <td>11/1/2000 0:00</td>\n",
       "      <td>4.710000e+12</td>\n",
       "      <td>1</td>\n",
       "      <td>17.0</td>\n",
       "    </tr>\n",
       "    <tr>\n",
       "      <th>2</th>\n",
       "      <td>101981</td>\n",
       "      <td>F</td>\n",
       "      <td>E</td>\n",
       "      <td>2862</td>\n",
       "      <td>818465</td>\n",
       "      <td>11/1/2000 0:00</td>\n",
       "      <td>4.710000e+12</td>\n",
       "      <td>1</td>\n",
       "      <td>23.0</td>\n",
       "    </tr>\n",
       "    <tr>\n",
       "      <th>3</th>\n",
       "      <td>101981</td>\n",
       "      <td>F</td>\n",
       "      <td>E</td>\n",
       "      <td>2863</td>\n",
       "      <td>818466</td>\n",
       "      <td>11/1/2000 0:00</td>\n",
       "      <td>4.710000e+12</td>\n",
       "      <td>1</td>\n",
       "      <td>41.0</td>\n",
       "    </tr>\n",
       "    <tr>\n",
       "      <th>4</th>\n",
       "      <td>101981</td>\n",
       "      <td>F</td>\n",
       "      <td>E</td>\n",
       "      <td>2864</td>\n",
       "      <td>818467</td>\n",
       "      <td>11/1/2000 0:00</td>\n",
       "      <td>4.710000e+12</td>\n",
       "      <td>8</td>\n",
       "      <td>288.0</td>\n",
       "    </tr>\n",
       "  </tbody>\n",
       "</table>\n",
       "</div>"
      ],
      "text/plain": [
       "   user_id gender address  store_id  trans_id       timestamp       item_id  \\\n",
       "0   101981      F       E      2860    818463  11/1/2000 0:00  4.710000e+12   \n",
       "1   101981      F       E      2861    818464  11/1/2000 0:00  4.710000e+12   \n",
       "2   101981      F       E      2862    818465  11/1/2000 0:00  4.710000e+12   \n",
       "3   101981      F       E      2863    818466  11/1/2000 0:00  4.710000e+12   \n",
       "4   101981      F       E      2864    818467  11/1/2000 0:00  4.710000e+12   \n",
       "\n",
       "   quantity  dollar  \n",
       "0         1    37.0  \n",
       "1         1    17.0  \n",
       "2         1    23.0  \n",
       "3         1    41.0  \n",
       "4         8   288.0  "
      ]
     },
     "execution_count": 94,
     "metadata": {},
     "output_type": "execute_result"
    }
   ],
   "source": [
    "col_names_df['dollar'] = col_names_df['dollar'].astype(float)\n",
    "\n",
    "print(col_names_df.dtypes)\n",
    "\n",
    "col_names_df.head()"
   ]
  },
  {
   "cell_type": "code",
   "execution_count": 100,
   "metadata": {
    "tags": []
   },
   "outputs": [
    {
     "data": {
      "text/html": [
       "<div>\n",
       "<style scoped>\n",
       "    .dataframe tbody tr th:only-of-type {\n",
       "        vertical-align: middle;\n",
       "    }\n",
       "\n",
       "    .dataframe tbody tr th {\n",
       "        vertical-align: top;\n",
       "    }\n",
       "\n",
       "    .dataframe thead th {\n",
       "        text-align: right;\n",
       "    }\n",
       "</style>\n",
       "<table border=\"1\" class=\"dataframe\">\n",
       "  <thead>\n",
       "    <tr style=\"text-align: right;\">\n",
       "      <th></th>\n",
       "      <th>user_id</th>\n",
       "      <th>gender</th>\n",
       "      <th>address</th>\n",
       "      <th>store_id</th>\n",
       "      <th>trans_id</th>\n",
       "      <th>timestamp</th>\n",
       "      <th>item_id</th>\n",
       "      <th>quantity</th>\n",
       "      <th>dollar</th>\n",
       "      <th>Datetime</th>\n",
       "    </tr>\n",
       "  </thead>\n",
       "  <tbody>\n",
       "    <tr>\n",
       "      <th>0</th>\n",
       "      <td>101981</td>\n",
       "      <td>F</td>\n",
       "      <td>E</td>\n",
       "      <td>2860</td>\n",
       "      <td>818463</td>\n",
       "      <td>11/1/2000 0:00</td>\n",
       "      <td>4.710000e+12</td>\n",
       "      <td>1</td>\n",
       "      <td>37.0</td>\n",
       "      <td>2000-11-01</td>\n",
       "    </tr>\n",
       "    <tr>\n",
       "      <th>1</th>\n",
       "      <td>101981</td>\n",
       "      <td>F</td>\n",
       "      <td>E</td>\n",
       "      <td>2861</td>\n",
       "      <td>818464</td>\n",
       "      <td>11/1/2000 0:00</td>\n",
       "      <td>4.710000e+12</td>\n",
       "      <td>1</td>\n",
       "      <td>17.0</td>\n",
       "      <td>2000-11-01</td>\n",
       "    </tr>\n",
       "    <tr>\n",
       "      <th>2</th>\n",
       "      <td>101981</td>\n",
       "      <td>F</td>\n",
       "      <td>E</td>\n",
       "      <td>2862</td>\n",
       "      <td>818465</td>\n",
       "      <td>11/1/2000 0:00</td>\n",
       "      <td>4.710000e+12</td>\n",
       "      <td>1</td>\n",
       "      <td>23.0</td>\n",
       "      <td>2000-11-01</td>\n",
       "    </tr>\n",
       "    <tr>\n",
       "      <th>3</th>\n",
       "      <td>101981</td>\n",
       "      <td>F</td>\n",
       "      <td>E</td>\n",
       "      <td>2863</td>\n",
       "      <td>818466</td>\n",
       "      <td>11/1/2000 0:00</td>\n",
       "      <td>4.710000e+12</td>\n",
       "      <td>1</td>\n",
       "      <td>41.0</td>\n",
       "      <td>2000-11-01</td>\n",
       "    </tr>\n",
       "    <tr>\n",
       "      <th>4</th>\n",
       "      <td>101981</td>\n",
       "      <td>F</td>\n",
       "      <td>E</td>\n",
       "      <td>2864</td>\n",
       "      <td>818467</td>\n",
       "      <td>11/1/2000 0:00</td>\n",
       "      <td>4.710000e+12</td>\n",
       "      <td>8</td>\n",
       "      <td>288.0</td>\n",
       "      <td>2000-11-01</td>\n",
       "    </tr>\n",
       "  </tbody>\n",
       "</table>\n",
       "</div>"
      ],
      "text/plain": [
       "   user_id gender address  store_id  trans_id       timestamp       item_id  \\\n",
       "0   101981      F       E      2860    818463  11/1/2000 0:00  4.710000e+12   \n",
       "1   101981      F       E      2861    818464  11/1/2000 0:00  4.710000e+12   \n",
       "2   101981      F       E      2862    818465  11/1/2000 0:00  4.710000e+12   \n",
       "3   101981      F       E      2863    818466  11/1/2000 0:00  4.710000e+12   \n",
       "4   101981      F       E      2864    818467  11/1/2000 0:00  4.710000e+12   \n",
       "\n",
       "   quantity  dollar   Datetime  \n",
       "0         1    37.0 2000-11-01  \n",
       "1         1    17.0 2000-11-01  \n",
       "2         1    23.0 2000-11-01  \n",
       "3         1    41.0 2000-11-01  \n",
       "4         8   288.0 2000-11-01  "
      ]
     },
     "execution_count": 100,
     "metadata": {},
     "output_type": "execute_result"
    }
   ],
   "source": [
    "import datetime\n",
    "# unit='s' to convert it into epoch time\n",
    "col_names_df['Datetime'] = pd.to_datetime(col_names_df['timestamp'])#, unit='s')\n",
    "\n",
    "# unit='s' to convert it into epoch time\n",
    "#data['Datetime'] = pd.to_datetime(data['timestamps'],\n",
    "                                #  unit='s')\n",
    "#col_names_df['Modified Datetime'] = col_names_df['datetime'].dt.strftime('%d-%m-%Y')\n",
    " \n",
    "# checking our dataframe once again\n",
    "col_names_df.head()"
   ]
  },
  {
   "cell_type": "code",
   "execution_count": 101,
   "metadata": {},
   "outputs": [
    {
     "name": "stdout",
     "output_type": "stream",
     "text": [
      "user_id               int64\n",
      "gender               object\n",
      "address              object\n",
      "store_id              int64\n",
      "trans_id              int64\n",
      "timestamp            object\n",
      "item_id             float64\n",
      "quantity              int64\n",
      "dollar              float64\n",
      "Datetime     datetime64[ns]\n",
      "dtype: object\n"
     ]
    }
   ],
   "source": [
    "print(col_names_df.dtypes)"
   ]
  },
  {
   "cell_type": "code",
   "execution_count": 43,
   "metadata": {
    "collapsed": true,
    "jupyter": {
     "outputs_hidden": true,
     "source_hidden": true
    },
    "tags": []
   },
   "outputs": [
    {
     "data": {
      "text/plain": [
       "user_id        int64\n",
       "gender        object\n",
       "address       object\n",
       "store_id       int64\n",
       "trans_id       int64\n",
       "timestamp     object\n",
       "item_id      float64\n",
       "quantity       int64\n",
       "dollar         int64\n",
       "dtype: object"
      ]
     },
     "execution_count": 43,
     "metadata": {},
     "output_type": "execute_result"
    }
   ],
   "source": [
    "churn.dtypes"
   ]
  },
  {
   "cell_type": "code",
   "execution_count": 25,
   "metadata": {
    "collapsed": true,
    "jupyter": {
     "outputs_hidden": true,
     "source_hidden": true
    },
    "tags": []
   },
   "outputs": [
    {
     "data": {
      "text/plain": [
       "0     37\n",
       "1     17\n",
       "2     23\n",
       "3     41\n",
       "4    288\n",
       "Name: dollar, dtype: int64"
      ]
     },
     "execution_count": 25,
     "metadata": {},
     "output_type": "execute_result"
    }
   ],
   "source": [
    "#churn.loc[:, 'dollar'].head\n",
    "#churn['dollar'].head\n",
    "churn.dollar.head()"
   ]
  },
  {
   "cell_type": "code",
   "execution_count": 103,
   "metadata": {},
   "outputs": [
    {
     "data": {
      "text/plain": [
       "252204"
      ]
     },
     "execution_count": 103,
     "metadata": {},
     "output_type": "execute_result"
    }
   ],
   "source": [
    "len(col_names_df)"
   ]
  },
  {
   "cell_type": "code",
   "execution_count": 12,
   "metadata": {},
   "outputs": [
    {
     "data": {
      "text/plain": [
       "252204"
      ]
     },
     "execution_count": 12,
     "metadata": {},
     "output_type": "execute_result"
    }
   ],
   "source": [
    "len(churn)"
   ]
  },
  {
   "cell_type": "code",
   "execution_count": 13,
   "metadata": {},
   "outputs": [
    {
     "data": {
      "text/plain": [
       "pandas.core.frame.DataFrame"
      ]
     },
     "execution_count": 13,
     "metadata": {},
     "output_type": "execute_result"
    }
   ],
   "source": [
    "type(churn)"
   ]
  },
  {
   "cell_type": "code",
   "execution_count": 14,
   "metadata": {},
   "outputs": [
    {
     "data": {
      "text/plain": [
       "(252204, 9)"
      ]
     },
     "execution_count": 14,
     "metadata": {},
     "output_type": "execute_result"
    }
   ],
   "source": [
    "churn.shape"
   ]
  },
  {
   "cell_type": "code",
   "execution_count": 17,
   "metadata": {},
   "outputs": [
    {
     "data": {
      "text/plain": [
       "RangeIndex(start=0, stop=252204, step=1)"
      ]
     },
     "execution_count": 17,
     "metadata": {},
     "output_type": "execute_result"
    }
   ],
   "source": [
    "churn.index"
   ]
  },
  {
   "cell_type": "code",
   "execution_count": 18,
   "metadata": {},
   "outputs": [
    {
     "data": {
      "text/html": [
       "<div>\n",
       "<style scoped>\n",
       "    .dataframe tbody tr th:only-of-type {\n",
       "        vertical-align: middle;\n",
       "    }\n",
       "\n",
       "    .dataframe tbody tr th {\n",
       "        vertical-align: top;\n",
       "    }\n",
       "\n",
       "    .dataframe thead th {\n",
       "        text-align: right;\n",
       "    }\n",
       "</style>\n",
       "<table border=\"1\" class=\"dataframe\">\n",
       "  <thead>\n",
       "    <tr style=\"text-align: right;\">\n",
       "      <th></th>\n",
       "      <th>user_id</th>\n",
       "      <th>store_id</th>\n",
       "      <th>trans_id</th>\n",
       "      <th>item_id</th>\n",
       "      <th>quantity</th>\n",
       "      <th>dollar</th>\n",
       "    </tr>\n",
       "  </thead>\n",
       "  <tbody>\n",
       "    <tr>\n",
       "      <th>count</th>\n",
       "      <td>2.522040e+05</td>\n",
       "      <td>252204.000000</td>\n",
       "      <td>2.522040e+05</td>\n",
       "      <td>2.522040e+05</td>\n",
       "      <td>252204.000000</td>\n",
       "      <td>252204.000000</td>\n",
       "    </tr>\n",
       "    <tr>\n",
       "      <th>mean</th>\n",
       "      <td>1.395660e+06</td>\n",
       "      <td>126101.500000</td>\n",
       "      <td>1.229771e+06</td>\n",
       "      <td>4.467833e+12</td>\n",
       "      <td>1.385692</td>\n",
       "      <td>130.911389</td>\n",
       "    </tr>\n",
       "    <tr>\n",
       "      <th>std</th>\n",
       "      <td>6.094769e+05</td>\n",
       "      <td>72805.167983</td>\n",
       "      <td>2.350992e+05</td>\n",
       "      <td>1.679512e+12</td>\n",
       "      <td>3.705732</td>\n",
       "      <td>388.142169</td>\n",
       "    </tr>\n",
       "    <tr>\n",
       "      <th>min</th>\n",
       "      <td>1.113000e+03</td>\n",
       "      <td>0.000000</td>\n",
       "      <td>8.177470e+05</td>\n",
       "      <td>2.000882e+07</td>\n",
       "      <td>1.000000</td>\n",
       "      <td>1.000000</td>\n",
       "    </tr>\n",
       "    <tr>\n",
       "      <th>25%</th>\n",
       "      <td>9.937150e+05</td>\n",
       "      <td>63050.750000</td>\n",
       "      <td>1.025926e+06</td>\n",
       "      <td>4.710000e+12</td>\n",
       "      <td>1.000000</td>\n",
       "      <td>42.000000</td>\n",
       "    </tr>\n",
       "    <tr>\n",
       "      <th>50%</th>\n",
       "      <td>1.586046e+06</td>\n",
       "      <td>126101.500000</td>\n",
       "      <td>1.233476e+06</td>\n",
       "      <td>4.710000e+12</td>\n",
       "      <td>1.000000</td>\n",
       "      <td>76.000000</td>\n",
       "    </tr>\n",
       "    <tr>\n",
       "      <th>75%</th>\n",
       "      <td>1.862232e+06</td>\n",
       "      <td>189152.250000</td>\n",
       "      <td>1.433222e+06</td>\n",
       "      <td>4.710000e+12</td>\n",
       "      <td>1.000000</td>\n",
       "      <td>132.000000</td>\n",
       "    </tr>\n",
       "    <tr>\n",
       "      <th>max</th>\n",
       "      <td>2.179605e+06</td>\n",
       "      <td>252203.000000</td>\n",
       "      <td>1.635482e+06</td>\n",
       "      <td>9.790000e+12</td>\n",
       "      <td>1200.000000</td>\n",
       "      <td>70589.000000</td>\n",
       "    </tr>\n",
       "  </tbody>\n",
       "</table>\n",
       "</div>"
      ],
      "text/plain": [
       "            user_id       store_id      trans_id       item_id       quantity  \\\n",
       "count  2.522040e+05  252204.000000  2.522040e+05  2.522040e+05  252204.000000   \n",
       "mean   1.395660e+06  126101.500000  1.229771e+06  4.467833e+12       1.385692   \n",
       "std    6.094769e+05   72805.167983  2.350992e+05  1.679512e+12       3.705732   \n",
       "min    1.113000e+03       0.000000  8.177470e+05  2.000882e+07       1.000000   \n",
       "25%    9.937150e+05   63050.750000  1.025926e+06  4.710000e+12       1.000000   \n",
       "50%    1.586046e+06  126101.500000  1.233476e+06  4.710000e+12       1.000000   \n",
       "75%    1.862232e+06  189152.250000  1.433222e+06  4.710000e+12       1.000000   \n",
       "max    2.179605e+06  252203.000000  1.635482e+06  9.790000e+12    1200.000000   \n",
       "\n",
       "              dollar  \n",
       "count  252204.000000  \n",
       "mean      130.911389  \n",
       "std       388.142169  \n",
       "min         1.000000  \n",
       "25%        42.000000  \n",
       "50%        76.000000  \n",
       "75%       132.000000  \n",
       "max     70589.000000  "
      ]
     },
     "execution_count": 18,
     "metadata": {},
     "output_type": "execute_result"
    }
   ],
   "source": [
    "churn.describe()"
   ]
  },
  {
   "cell_type": "markdown",
   "metadata": {},
   "source": [
    "Here are some examples of questions we can be asking:\n",
    "\n",
    "1. What are the columns, their types and their distribution (when it makes sense)? <span style=\"color:red\" float:right>[1 point]</span>"
   ]
  },
  {
   "cell_type": "code",
   "execution_count": 11,
   "metadata": {},
   "outputs": [
    {
     "name": "stdout",
     "output_type": "stream",
     "text": [
      "['user_id', 'gender', 'address', 'store_id', 'trans_id', 'timestamp', 'item_id', 'quantity', 'dollar']\n"
     ]
    }
   ],
   "source": [
    "# What are the columns?\n",
    "print(col_names)"
   ]
  },
  {
   "cell_type": "code",
   "execution_count": 16,
   "metadata": {},
   "outputs": [
    {
     "data": {
      "text/plain": [
       "['user_id',\n",
       " 'gender',\n",
       " 'address',\n",
       " 'store_id',\n",
       " 'trans_id',\n",
       " 'timestamp',\n",
       " 'item_id',\n",
       " 'quantity',\n",
       " 'dollar']"
      ]
     },
     "execution_count": 16,
     "metadata": {},
     "output_type": "execute_result"
    }
   ],
   "source": [
    "# What are the columns? (Another way)\n",
    "list(churn.columns)"
   ]
  },
  {
   "cell_type": "code",
   "execution_count": 89,
   "metadata": {},
   "outputs": [
    {
     "data": {
      "text/plain": [
       "user_id        int64\n",
       "gender        object\n",
       "address       object\n",
       "store_id       int64\n",
       "trans_id       int64\n",
       "timestamp     object\n",
       "item_id      float64\n",
       "quantity       int64\n",
       "dollar         int64\n",
       "dtype: object"
      ]
     },
     "execution_count": 89,
     "metadata": {},
     "output_type": "execute_result"
    }
   ],
   "source": [
    "# What are their types?\n",
    "churn.dtypes"
   ]
  },
  {
   "cell_type": "code",
   "execution_count": null,
   "metadata": {},
   "outputs": [],
   "source": [
    "# What is their distribution (when it makes sense)?\n"
   ]
  },
  {
   "cell_type": "markdown",
   "metadata": {},
   "source": [
    "2. Do the columns have the right types for the analysis? If not, convert them to the right type. <span style=\"color:red\" float:right>[1 point]</span>"
   ]
  },
  {
   "cell_type": "code",
   "execution_count": 90,
   "metadata": {},
   "outputs": [
    {
     "ename": "SyntaxError",
     "evalue": "cannot assign to function call (1816764917.py, line 1)",
     "output_type": "error",
     "traceback": [
      "\u001b[0;36m  File \u001b[0;32m\"/tmp/ipykernel_121/1816764917.py\"\u001b[0;36m, line \u001b[0;32m1\u001b[0m\n\u001b[0;31m    churn('dollar') = churn['dollar'].astype(float)\u001b[0m\n\u001b[0m    ^\u001b[0m\n\u001b[0;31mSyntaxError\u001b[0m\u001b[0;31m:\u001b[0m cannot assign to function call\n"
     ]
    }
   ],
   "source": [
    "churn('dollar') = churn['dollar'].astype(float)\n",
    "churn.dollar.dtypes"
   ]
  },
  {
   "cell_type": "code",
   "execution_count": 57,
   "metadata": {},
   "outputs": [
    {
     "data": {
      "text/html": [
       "<div>\n",
       "<style scoped>\n",
       "    .dataframe tbody tr th:only-of-type {\n",
       "        vertical-align: middle;\n",
       "    }\n",
       "\n",
       "    .dataframe tbody tr th {\n",
       "        vertical-align: top;\n",
       "    }\n",
       "\n",
       "    .dataframe thead th {\n",
       "        text-align: right;\n",
       "    }\n",
       "</style>\n",
       "<table border=\"1\" class=\"dataframe\">\n",
       "  <thead>\n",
       "    <tr style=\"text-align: right;\">\n",
       "      <th></th>\n",
       "      <th>user_id</th>\n",
       "      <th>gender</th>\n",
       "      <th>address</th>\n",
       "      <th>store_id</th>\n",
       "      <th>trans_id</th>\n",
       "      <th>timestamp</th>\n",
       "      <th>item_id</th>\n",
       "      <th>quantity</th>\n",
       "      <th>dollar</th>\n",
       "    </tr>\n",
       "  </thead>\n",
       "  <tbody>\n",
       "    <tr>\n",
       "      <th>0</th>\n",
       "      <td>101981</td>\n",
       "      <td>F</td>\n",
       "      <td>E</td>\n",
       "      <td>2860</td>\n",
       "      <td>818463</td>\n",
       "      <td>11/1/2000 0:00</td>\n",
       "      <td>4.710000e+12</td>\n",
       "      <td>1</td>\n",
       "      <td>37</td>\n",
       "    </tr>\n",
       "    <tr>\n",
       "      <th>1</th>\n",
       "      <td>101981</td>\n",
       "      <td>F</td>\n",
       "      <td>E</td>\n",
       "      <td>2861</td>\n",
       "      <td>818464</td>\n",
       "      <td>11/1/2000 0:00</td>\n",
       "      <td>4.710000e+12</td>\n",
       "      <td>1</td>\n",
       "      <td>17</td>\n",
       "    </tr>\n",
       "    <tr>\n",
       "      <th>2</th>\n",
       "      <td>101981</td>\n",
       "      <td>F</td>\n",
       "      <td>E</td>\n",
       "      <td>2862</td>\n",
       "      <td>818465</td>\n",
       "      <td>11/1/2000 0:00</td>\n",
       "      <td>4.710000e+12</td>\n",
       "      <td>1</td>\n",
       "      <td>23</td>\n",
       "    </tr>\n",
       "    <tr>\n",
       "      <th>3</th>\n",
       "      <td>101981</td>\n",
       "      <td>F</td>\n",
       "      <td>E</td>\n",
       "      <td>2863</td>\n",
       "      <td>818466</td>\n",
       "      <td>11/1/2000 0:00</td>\n",
       "      <td>4.710000e+12</td>\n",
       "      <td>1</td>\n",
       "      <td>41</td>\n",
       "    </tr>\n",
       "    <tr>\n",
       "      <th>4</th>\n",
       "      <td>101981</td>\n",
       "      <td>F</td>\n",
       "      <td>E</td>\n",
       "      <td>2864</td>\n",
       "      <td>818467</td>\n",
       "      <td>11/1/2000 0:00</td>\n",
       "      <td>4.710000e+12</td>\n",
       "      <td>8</td>\n",
       "      <td>288</td>\n",
       "    </tr>\n",
       "  </tbody>\n",
       "</table>\n",
       "</div>"
      ],
      "text/plain": [
       "   user_id gender address  store_id  trans_id       timestamp       item_id  \\\n",
       "0   101981      F       E      2860    818463  11/1/2000 0:00  4.710000e+12   \n",
       "1   101981      F       E      2861    818464  11/1/2000 0:00  4.710000e+12   \n",
       "2   101981      F       E      2862    818465  11/1/2000 0:00  4.710000e+12   \n",
       "3   101981      F       E      2863    818466  11/1/2000 0:00  4.710000e+12   \n",
       "4   101981      F       E      2864    818467  11/1/2000 0:00  4.710000e+12   \n",
       "\n",
       "   quantity  dollar  \n",
       "0         1      37  \n",
       "1         1      17  \n",
       "2         1      23  \n",
       "3         1      41  \n",
       "4         8     288  "
      ]
     },
     "execution_count": 57,
     "metadata": {},
     "output_type": "execute_result"
    }
   ],
   "source": [
    "churn.head()"
   ]
  },
  {
   "cell_type": "code",
   "execution_count": 52,
   "metadata": {},
   "outputs": [
    {
     "data": {
      "text/plain": [
       "<bound method NDFrame.head of 0          37\n",
       "1          17\n",
       "2          23\n",
       "3          41\n",
       "4         288\n",
       "         ... \n",
       "252199    138\n",
       "252200     96\n",
       "252201     89\n",
       "252202    108\n",
       "252203     95\n",
       "Name: dollar, Length: 252204, dtype: int64>"
      ]
     },
     "execution_count": 52,
     "metadata": {},
     "output_type": "execute_result"
    }
   ],
   "source": [
    "churn.dollar.head"
   ]
  },
  {
   "cell_type": "markdown",
   "metadata": {},
   "source": [
    "3. Do any columns appear to have all rows with unique categories? How do we show that? <span style=\"color:red\" float:right>[1 point]</span>"
   ]
  },
  {
   "cell_type": "code",
   "execution_count": null,
   "metadata": {},
   "outputs": [],
   "source": []
  },
  {
   "cell_type": "markdown",
   "metadata": {},
   "source": [
    "4. What are some \"obvious\" questions we can ask about the data? We can ask many questions here, but we limit it to two:\n",
    "   - Is quantity or volume ever negative and why? <span style=\"color:red\" float:right>[1 point]</span>\n",
    "   - What is the date range covered by the data? <span style=\"color:red\" float:right>[1 point]</span>  \n",
    "     HINT: You will need to convert `timestamp` into an a `datetime` column. You can use `pd.to_datetime` for that. We leave it to you to learn more about working with `datetime` colums."
   ]
  },
  {
   "cell_type": "code",
   "execution_count": null,
   "metadata": {},
   "outputs": [],
   "source": []
  },
  {
   "cell_type": "markdown",
   "metadata": {},
   "source": [
    "5. What are some \"not-so-obvious\" questions we can ask about this data? What are some important summary statistics and visualizations we should look at to answer them? Note that having domain knowledge can make this easier, so here's a list of questions and your task is to pick at least two questions and answer them using statistical summaries or visualizations:\n",
    "   - How many transactions on average do users have in a given week? <span style=\"color:red\" float:right>[2 point]</span>\n",
    "   - Are there items that are more commonly sold in bulk (quantity greater than 1)? <span style=\"color:red\" float:right>[2 point]</span>\n",
    "   - How do quantity and volume tend to change over the course of the day (hour by hour)? <span style=\"color:red\" float:right>[2 point]</span>\n",
    "Note that the above questions are intetionally phrased to sound non-technical. It is up to you to \"translate\" them into something that can be answered by a query on the data or a visualization."
   ]
  },
  {
   "cell_type": "code",
   "execution_count": null,
   "metadata": {},
   "outputs": [],
   "source": []
  },
  {
   "cell_type": "markdown",
   "metadata": {},
   "source": [
    "6. Do the results mesh with what we expected? Note that to answer this we need to have some domain knowledge, so you can ignore this for the assignment. <span style=\"color:red\" float:right>[0 point]</span>"
   ]
  },
  {
   "cell_type": "markdown",
   "metadata": {},
   "source": [
    "7. What are additional features we could extract from the data? This is especially relevant if the data contains a timestamp column or raw text column (such as a full address for example). <span style=\"color:red\" float:right>[1 point]</span>"
   ]
  },
  {
   "cell_type": "code",
   "execution_count": null,
   "metadata": {},
   "outputs": [],
   "source": []
  },
  {
   "cell_type": "markdown",
   "metadata": {},
   "source": [
    "8. Do I see any relationships between the features in the data? You will need to back this up with some statistical summaries or visualizations like what we covered in the lab. <span style=\"color:red\" float:right>[2 point]</span>"
   ]
  },
  {
   "cell_type": "code",
   "execution_count": null,
   "metadata": {},
   "outputs": [],
   "source": []
  },
  {
   "cell_type": "markdown",
   "metadata": {},
   "source": [
    "Run EDA on the data and answer the above questions and any additional questions that may cross your mind along the way. As you can imagine, there isn't a single way to proceed, and the answer doesn't always have to be exact. It is up to you to decide how you want to convey the results, but assume that your audience is non-technical and not familiar with some of the terminology we learned in the lecture.\n",
    "\n",
    "There are also third-party libraries we can used to run EDA. One example is the `pandas-profiling` library which provides us with a full report. You do not need to use it in this assignment, but we recommend that you install it and take a look on your own time."
   ]
  },
  {
   "cell_type": "markdown",
   "metadata": {},
   "source": [
    "# End of assignment"
   ]
  }
 ],
 "metadata": {
  "kernelspec": {
   "display_name": "Python 3 (ipykernel)",
   "language": "python",
   "name": "python3"
  },
  "language_info": {
   "codemirror_mode": {
    "name": "ipython",
    "version": 3
   },
   "file_extension": ".py",
   "mimetype": "text/x-python",
   "name": "python",
   "nbconvert_exporter": "python",
   "pygments_lexer": "ipython3",
   "version": "3.9.7"
  }
 },
 "nbformat": 4,
 "nbformat_minor": 4
}
