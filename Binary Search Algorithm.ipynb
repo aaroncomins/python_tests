{
 "cells": [
  {
   "cell_type": "code",
   "execution_count": 4,
   "id": "e8b8dbc8-4656-4820-80f4-025841e73709",
   "metadata": {},
   "outputs": [
    {
     "name": "stdout",
     "output_type": "stream",
     "text": [
      "Step 0 : [1, 2, 3, 4, 5, 6, 7, 8, 9, 10, 11, 12]\n",
      "Step 1 : [8, 9, 10, 11, 12]\n",
      "Step 2 : [8, 9]\n"
     ]
    },
    {
     "data": {
      "text/plain": [
       "7"
      ]
     },
     "execution_count": 4,
     "metadata": {},
     "output_type": "execute_result"
    }
   ],
   "source": [
    "# Binary Search Algorithm is faster than a normal switch b/c it does not have to look through every piece of data\n",
    "# A function that takes a list and target parameter\n",
    "# After that, you will have multiple variables : middle, start, end, steps\n",
    "# We can use a recursion or a while loop (we will use a while loop for this one)\n",
    "# Increase the steps each time a split is done\n",
    "# Once we increase the steps when each split is done, we will have conditions\n",
    "# Conditions to track target position\n",
    "# The element is the target value\n",
    "\n",
    "\n",
    "def binary_search(list, element):\n",
    "    middle = 0\n",
    "    start = 0\n",
    "    end = len(list)\n",
    "    steps = 0\n",
    "\n",
    "    while(start<=end):\n",
    "        print(\"Step\", steps, \":\" , str(list[start:end+1]))\n",
    "\n",
    "        steps = steps+1\n",
    "        middle = (start + end) // 2\n",
    "\n",
    "        if element == list[middle]:\n",
    "            return middle\n",
    "        if element < list[middle]:\n",
    "            end = middle -1\n",
    "\n",
    "            #[1,2,3,4,5] element 2, if element is less than 3, then the end is equal to the middle -1\n",
    "        else:\n",
    "            start = middle + 1\n",
    "\n",
    "            # [1,2,3,4,5] element 4, if 4 > 3, then the start is middle plus 1\n",
    "\n",
    "    return -1\n",
    "\n",
    "list = [1,2,3,4,5,6,7,8,9,10,11,12]\n",
    "# Update target or your list to modify this Binary Search Algorithm\n",
    "target = 8\n",
    "\n",
    "binary_search(list, target)\n",
    "\n",
    "# In Jupyter Notebook, the answer will be the index ie, if you want 8, it will give you 7... 1(0),2(1),3(2),4(3),5(4),6(5),7(6),8(7)\n",
    "\n",
    "# Regular search looks like this\n",
    "# Erase everything after the list ie. target and binary_search\n",
    "#for i in list\n",
    "#    if i - 12:\n",
    "#        print (\"found\")"
   ]
  }
 ],
 "metadata": {
  "kernelspec": {
   "display_name": "Python 3 (ipykernel)",
   "language": "python",
   "name": "python3"
  },
  "language_info": {
   "codemirror_mode": {
    "name": "ipython",
    "version": 3
   },
   "file_extension": ".py",
   "mimetype": "text/x-python",
   "name": "python",
   "nbconvert_exporter": "python",
   "pygments_lexer": "ipython3",
   "version": "3.9.7"
  }
 },
 "nbformat": 4,
 "nbformat_minor": 5
}
