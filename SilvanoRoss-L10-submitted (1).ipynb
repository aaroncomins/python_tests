{
 "cells": [
  {
   "cell_type": "markdown",
   "metadata": {},
   "source": [
    "# Assignment\n",
    "\n",
    "In this assignment, we want to implement cross-validation for logistic regression. Cross-validation is a powerful technique for model selection (such as when choosing the right hyper-parameters), especially when the data size is not very large. The goal of this assignment is to first implement cross-validation and compare it to a baseline model (with no cross-validation)."
   ]
  },
  {
   "cell_type": "code",
   "execution_count": 1,
   "metadata": {},
   "outputs": [],
   "source": [
    "import pandas as pd\n",
    "import numpy as np\n",
    "from sklearn.model_selection import train_test_split\n",
    "from sklearn.linear_model import LogisticRegression, LogisticRegressionCV\n",
    "from sklearn.metrics import accuracy_score, mean_squared_error\n",
    "from sklearn.metrics import confusion_matrix, classification_report \n",
    "from sklearn.metrics import roc_curve, auc, ConfusionMatrixDisplay\n",
    "import matplotlib.pyplot as plt\n",
    "import warnings\n",
    "warnings.simplefilter(\"ignore\")\n",
    "%matplotlib inline\n",
    "random_state = 0"
   ]
  },
  {
   "cell_type": "markdown",
   "metadata": {},
   "source": [
    "### Get Data\n",
    "Read in `AmesFeatures.csv` which contains the processed data from the lecture.  This data file can be found in canvas.  If you want, you can generate this data file yourself by uncommenting the line `# AmesFeatures.to_csv('AmesFeatures.csv', index=False)` in file `Lesson_10_b_Student.ipynb`.  You may need to change the path below.  <br/><span style=\"color:red\" float:right>[0 point]</span>"
   ]
  },
  {
   "cell_type": "code",
   "execution_count": 2,
   "metadata": {},
   "outputs": [
    {
     "data": {
      "text/plain": [
       "False    1330\n",
       "True      130\n",
       "Name: SalePrice, dtype: int64"
      ]
     },
     "metadata": {},
     "output_type": "display_data"
    },
    {
     "data": {
      "text/plain": [
       "(1460, 91)"
      ]
     },
     "metadata": {},
     "output_type": "display_data"
    },
    {
     "data": {
      "text/html": [
       "<div>\n",
       "<style scoped>\n",
       "    .dataframe tbody tr th:only-of-type {\n",
       "        vertical-align: middle;\n",
       "    }\n",
       "\n",
       "    .dataframe tbody tr th {\n",
       "        vertical-align: top;\n",
       "    }\n",
       "\n",
       "    .dataframe thead th {\n",
       "        text-align: right;\n",
       "    }\n",
       "</style>\n",
       "<table border=\"1\" class=\"dataframe\">\n",
       "  <thead>\n",
       "    <tr style=\"text-align: right;\">\n",
       "      <th></th>\n",
       "      <th>MSSubClass</th>\n",
       "      <th>LotArea</th>\n",
       "      <th>OverallQual</th>\n",
       "      <th>OverallCond</th>\n",
       "      <th>YearBuilt</th>\n",
       "      <th>YearRemodAdd</th>\n",
       "      <th>BsmtFinSF1</th>\n",
       "      <th>BsmtFinSF2</th>\n",
       "      <th>BsmtUnfSF</th>\n",
       "      <th>TotalBsmtSF</th>\n",
       "      <th>...</th>\n",
       "      <th>Electrical_FuseP</th>\n",
       "      <th>Electrical_Mix</th>\n",
       "      <th>Electrical_SBrkr</th>\n",
       "      <th>KitchenQual_Ex</th>\n",
       "      <th>KitchenQual_Fa</th>\n",
       "      <th>KitchenQual_Gd</th>\n",
       "      <th>KitchenQual_TA</th>\n",
       "      <th>PavedDrive_N</th>\n",
       "      <th>PavedDrive_P</th>\n",
       "      <th>PavedDrive_Y</th>\n",
       "    </tr>\n",
       "  </thead>\n",
       "  <tbody>\n",
       "    <tr>\n",
       "      <th>0</th>\n",
       "      <td>60.0</td>\n",
       "      <td>8450.0</td>\n",
       "      <td>7.0</td>\n",
       "      <td>5.0</td>\n",
       "      <td>2003.0</td>\n",
       "      <td>2003.0</td>\n",
       "      <td>706.0</td>\n",
       "      <td>0.0</td>\n",
       "      <td>150.0</td>\n",
       "      <td>856.0</td>\n",
       "      <td>...</td>\n",
       "      <td>0.0</td>\n",
       "      <td>0.0</td>\n",
       "      <td>1.0</td>\n",
       "      <td>0.0</td>\n",
       "      <td>0.0</td>\n",
       "      <td>1.0</td>\n",
       "      <td>0.0</td>\n",
       "      <td>0.0</td>\n",
       "      <td>0.0</td>\n",
       "      <td>1.0</td>\n",
       "    </tr>\n",
       "    <tr>\n",
       "      <th>1</th>\n",
       "      <td>20.0</td>\n",
       "      <td>9600.0</td>\n",
       "      <td>6.0</td>\n",
       "      <td>8.0</td>\n",
       "      <td>1976.0</td>\n",
       "      <td>1976.0</td>\n",
       "      <td>978.0</td>\n",
       "      <td>0.0</td>\n",
       "      <td>284.0</td>\n",
       "      <td>1262.0</td>\n",
       "      <td>...</td>\n",
       "      <td>0.0</td>\n",
       "      <td>0.0</td>\n",
       "      <td>1.0</td>\n",
       "      <td>0.0</td>\n",
       "      <td>0.0</td>\n",
       "      <td>0.0</td>\n",
       "      <td>1.0</td>\n",
       "      <td>0.0</td>\n",
       "      <td>0.0</td>\n",
       "      <td>1.0</td>\n",
       "    </tr>\n",
       "    <tr>\n",
       "      <th>2</th>\n",
       "      <td>60.0</td>\n",
       "      <td>11250.0</td>\n",
       "      <td>7.0</td>\n",
       "      <td>5.0</td>\n",
       "      <td>2001.0</td>\n",
       "      <td>2002.0</td>\n",
       "      <td>486.0</td>\n",
       "      <td>0.0</td>\n",
       "      <td>434.0</td>\n",
       "      <td>920.0</td>\n",
       "      <td>...</td>\n",
       "      <td>0.0</td>\n",
       "      <td>0.0</td>\n",
       "      <td>1.0</td>\n",
       "      <td>0.0</td>\n",
       "      <td>0.0</td>\n",
       "      <td>1.0</td>\n",
       "      <td>0.0</td>\n",
       "      <td>0.0</td>\n",
       "      <td>0.0</td>\n",
       "      <td>1.0</td>\n",
       "    </tr>\n",
       "    <tr>\n",
       "      <th>3</th>\n",
       "      <td>70.0</td>\n",
       "      <td>9550.0</td>\n",
       "      <td>7.0</td>\n",
       "      <td>5.0</td>\n",
       "      <td>1915.0</td>\n",
       "      <td>1970.0</td>\n",
       "      <td>216.0</td>\n",
       "      <td>0.0</td>\n",
       "      <td>540.0</td>\n",
       "      <td>756.0</td>\n",
       "      <td>...</td>\n",
       "      <td>0.0</td>\n",
       "      <td>0.0</td>\n",
       "      <td>1.0</td>\n",
       "      <td>0.0</td>\n",
       "      <td>0.0</td>\n",
       "      <td>1.0</td>\n",
       "      <td>0.0</td>\n",
       "      <td>0.0</td>\n",
       "      <td>0.0</td>\n",
       "      <td>1.0</td>\n",
       "    </tr>\n",
       "    <tr>\n",
       "      <th>4</th>\n",
       "      <td>60.0</td>\n",
       "      <td>14260.0</td>\n",
       "      <td>8.0</td>\n",
       "      <td>5.0</td>\n",
       "      <td>2000.0</td>\n",
       "      <td>2000.0</td>\n",
       "      <td>655.0</td>\n",
       "      <td>0.0</td>\n",
       "      <td>490.0</td>\n",
       "      <td>1145.0</td>\n",
       "      <td>...</td>\n",
       "      <td>0.0</td>\n",
       "      <td>0.0</td>\n",
       "      <td>1.0</td>\n",
       "      <td>0.0</td>\n",
       "      <td>0.0</td>\n",
       "      <td>1.0</td>\n",
       "      <td>0.0</td>\n",
       "      <td>0.0</td>\n",
       "      <td>0.0</td>\n",
       "      <td>1.0</td>\n",
       "    </tr>\n",
       "    <tr>\n",
       "      <th>...</th>\n",
       "      <td>...</td>\n",
       "      <td>...</td>\n",
       "      <td>...</td>\n",
       "      <td>...</td>\n",
       "      <td>...</td>\n",
       "      <td>...</td>\n",
       "      <td>...</td>\n",
       "      <td>...</td>\n",
       "      <td>...</td>\n",
       "      <td>...</td>\n",
       "      <td>...</td>\n",
       "      <td>...</td>\n",
       "      <td>...</td>\n",
       "      <td>...</td>\n",
       "      <td>...</td>\n",
       "      <td>...</td>\n",
       "      <td>...</td>\n",
       "      <td>...</td>\n",
       "      <td>...</td>\n",
       "      <td>...</td>\n",
       "      <td>...</td>\n",
       "    </tr>\n",
       "    <tr>\n",
       "      <th>1455</th>\n",
       "      <td>60.0</td>\n",
       "      <td>7917.0</td>\n",
       "      <td>6.0</td>\n",
       "      <td>5.0</td>\n",
       "      <td>1999.0</td>\n",
       "      <td>2000.0</td>\n",
       "      <td>0.0</td>\n",
       "      <td>0.0</td>\n",
       "      <td>953.0</td>\n",
       "      <td>953.0</td>\n",
       "      <td>...</td>\n",
       "      <td>0.0</td>\n",
       "      <td>0.0</td>\n",
       "      <td>1.0</td>\n",
       "      <td>0.0</td>\n",
       "      <td>0.0</td>\n",
       "      <td>0.0</td>\n",
       "      <td>1.0</td>\n",
       "      <td>0.0</td>\n",
       "      <td>0.0</td>\n",
       "      <td>1.0</td>\n",
       "    </tr>\n",
       "    <tr>\n",
       "      <th>1456</th>\n",
       "      <td>20.0</td>\n",
       "      <td>13175.0</td>\n",
       "      <td>6.0</td>\n",
       "      <td>6.0</td>\n",
       "      <td>1978.0</td>\n",
       "      <td>1988.0</td>\n",
       "      <td>790.0</td>\n",
       "      <td>163.0</td>\n",
       "      <td>589.0</td>\n",
       "      <td>1542.0</td>\n",
       "      <td>...</td>\n",
       "      <td>0.0</td>\n",
       "      <td>0.0</td>\n",
       "      <td>1.0</td>\n",
       "      <td>0.0</td>\n",
       "      <td>0.0</td>\n",
       "      <td>0.0</td>\n",
       "      <td>1.0</td>\n",
       "      <td>0.0</td>\n",
       "      <td>0.0</td>\n",
       "      <td>1.0</td>\n",
       "    </tr>\n",
       "    <tr>\n",
       "      <th>1457</th>\n",
       "      <td>70.0</td>\n",
       "      <td>9042.0</td>\n",
       "      <td>7.0</td>\n",
       "      <td>9.0</td>\n",
       "      <td>1941.0</td>\n",
       "      <td>2006.0</td>\n",
       "      <td>275.0</td>\n",
       "      <td>0.0</td>\n",
       "      <td>877.0</td>\n",
       "      <td>1152.0</td>\n",
       "      <td>...</td>\n",
       "      <td>0.0</td>\n",
       "      <td>0.0</td>\n",
       "      <td>1.0</td>\n",
       "      <td>0.0</td>\n",
       "      <td>0.0</td>\n",
       "      <td>1.0</td>\n",
       "      <td>0.0</td>\n",
       "      <td>0.0</td>\n",
       "      <td>0.0</td>\n",
       "      <td>1.0</td>\n",
       "    </tr>\n",
       "    <tr>\n",
       "      <th>1458</th>\n",
       "      <td>20.0</td>\n",
       "      <td>9717.0</td>\n",
       "      <td>5.0</td>\n",
       "      <td>6.0</td>\n",
       "      <td>1950.0</td>\n",
       "      <td>1996.0</td>\n",
       "      <td>49.0</td>\n",
       "      <td>1029.0</td>\n",
       "      <td>0.0</td>\n",
       "      <td>1078.0</td>\n",
       "      <td>...</td>\n",
       "      <td>0.0</td>\n",
       "      <td>0.0</td>\n",
       "      <td>0.0</td>\n",
       "      <td>0.0</td>\n",
       "      <td>0.0</td>\n",
       "      <td>1.0</td>\n",
       "      <td>0.0</td>\n",
       "      <td>0.0</td>\n",
       "      <td>0.0</td>\n",
       "      <td>1.0</td>\n",
       "    </tr>\n",
       "    <tr>\n",
       "      <th>1459</th>\n",
       "      <td>20.0</td>\n",
       "      <td>9937.0</td>\n",
       "      <td>5.0</td>\n",
       "      <td>6.0</td>\n",
       "      <td>1965.0</td>\n",
       "      <td>1965.0</td>\n",
       "      <td>830.0</td>\n",
       "      <td>290.0</td>\n",
       "      <td>136.0</td>\n",
       "      <td>1256.0</td>\n",
       "      <td>...</td>\n",
       "      <td>0.0</td>\n",
       "      <td>0.0</td>\n",
       "      <td>1.0</td>\n",
       "      <td>0.0</td>\n",
       "      <td>0.0</td>\n",
       "      <td>0.0</td>\n",
       "      <td>1.0</td>\n",
       "      <td>0.0</td>\n",
       "      <td>0.0</td>\n",
       "      <td>1.0</td>\n",
       "    </tr>\n",
       "  </tbody>\n",
       "</table>\n",
       "<p>1460 rows × 91 columns</p>\n",
       "</div>"
      ],
      "text/plain": [
       "      MSSubClass  LotArea  OverallQual  OverallCond  YearBuilt  YearRemodAdd  \\\n",
       "0           60.0   8450.0          7.0          5.0     2003.0        2003.0   \n",
       "1           20.0   9600.0          6.0          8.0     1976.0        1976.0   \n",
       "2           60.0  11250.0          7.0          5.0     2001.0        2002.0   \n",
       "3           70.0   9550.0          7.0          5.0     1915.0        1970.0   \n",
       "4           60.0  14260.0          8.0          5.0     2000.0        2000.0   \n",
       "...          ...      ...          ...          ...        ...           ...   \n",
       "1455        60.0   7917.0          6.0          5.0     1999.0        2000.0   \n",
       "1456        20.0  13175.0          6.0          6.0     1978.0        1988.0   \n",
       "1457        70.0   9042.0          7.0          9.0     1941.0        2006.0   \n",
       "1458        20.0   9717.0          5.0          6.0     1950.0        1996.0   \n",
       "1459        20.0   9937.0          5.0          6.0     1965.0        1965.0   \n",
       "\n",
       "      BsmtFinSF1  BsmtFinSF2  BsmtUnfSF  TotalBsmtSF  ...  Electrical_FuseP  \\\n",
       "0          706.0         0.0      150.0        856.0  ...               0.0   \n",
       "1          978.0         0.0      284.0       1262.0  ...               0.0   \n",
       "2          486.0         0.0      434.0        920.0  ...               0.0   \n",
       "3          216.0         0.0      540.0        756.0  ...               0.0   \n",
       "4          655.0         0.0      490.0       1145.0  ...               0.0   \n",
       "...          ...         ...        ...          ...  ...               ...   \n",
       "1455         0.0         0.0      953.0        953.0  ...               0.0   \n",
       "1456       790.0       163.0      589.0       1542.0  ...               0.0   \n",
       "1457       275.0         0.0      877.0       1152.0  ...               0.0   \n",
       "1458        49.0      1029.0        0.0       1078.0  ...               0.0   \n",
       "1459       830.0       290.0      136.0       1256.0  ...               0.0   \n",
       "\n",
       "      Electrical_Mix  Electrical_SBrkr  KitchenQual_Ex  KitchenQual_Fa  \\\n",
       "0                0.0               1.0             0.0             0.0   \n",
       "1                0.0               1.0             0.0             0.0   \n",
       "2                0.0               1.0             0.0             0.0   \n",
       "3                0.0               1.0             0.0             0.0   \n",
       "4                0.0               1.0             0.0             0.0   \n",
       "...              ...               ...             ...             ...   \n",
       "1455             0.0               1.0             0.0             0.0   \n",
       "1456             0.0               1.0             0.0             0.0   \n",
       "1457             0.0               1.0             0.0             0.0   \n",
       "1458             0.0               0.0             0.0             0.0   \n",
       "1459             0.0               1.0             0.0             0.0   \n",
       "\n",
       "      KitchenQual_Gd  KitchenQual_TA  PavedDrive_N  PavedDrive_P  PavedDrive_Y  \n",
       "0                1.0             0.0           0.0           0.0           1.0  \n",
       "1                0.0             1.0           0.0           0.0           1.0  \n",
       "2                1.0             0.0           0.0           0.0           1.0  \n",
       "3                1.0             0.0           0.0           0.0           1.0  \n",
       "4                1.0             0.0           0.0           0.0           1.0  \n",
       "...              ...             ...           ...           ...           ...  \n",
       "1455             0.0             1.0           0.0           0.0           1.0  \n",
       "1456             0.0             1.0           0.0           0.0           1.0  \n",
       "1457             1.0             0.0           0.0           0.0           1.0  \n",
       "1458             1.0             0.0           0.0           0.0           1.0  \n",
       "1459             0.0             1.0           0.0           0.0           1.0  \n",
       "\n",
       "[1460 rows x 91 columns]"
      ]
     },
     "metadata": {},
     "output_type": "display_data"
    },
    {
     "data": {
      "text/plain": [
       "0        True\n",
       "1       False\n",
       "2        True\n",
       "3       False\n",
       "4       False\n",
       "        ...  \n",
       "1455    False\n",
       "1456     True\n",
       "1457    False\n",
       "1458    False\n",
       "1459    False\n",
       "Name: SalePrice, Length: 1460, dtype: bool"
      ]
     },
     "metadata": {},
     "output_type": "display_data"
    }
   ],
   "source": [
    "AmesFeatures = pd.read_csv('AmesFeatures.csv')\n",
    "y = (AmesFeatures['SalePrice'] > 200000) & (AmesFeatures['SalePrice'] < 230000)\n",
    "X = AmesFeatures.drop(columns=['Id', 'SalePrice'])\n",
    "display(y.value_counts())\n",
    "display(X.shape)\n",
    "display(X)\n",
    "display(y)"
   ]
  },
  {
   "cell_type": "code",
   "execution_count": 3,
   "metadata": {},
   "outputs": [
    {
     "data": {
      "text/plain": [
       "array([dtype('float64')], dtype=object)"
      ]
     },
     "execution_count": 3,
     "metadata": {},
     "output_type": "execute_result"
    }
   ],
   "source": [
    "# review dtypes\n",
    "AmesFeatures.dtypes.unique()"
   ]
  },
  {
   "cell_type": "markdown",
   "metadata": {},
   "source": [
    "**All the dtypes are floats so we dont have to do any onehot encoding. It also looks like the onehot encoding has already been done for this dataset.**"
   ]
  },
  {
   "cell_type": "markdown",
   "metadata": {},
   "source": [
    "Use some of the code from the lecture. \n",
    "- Split X and y into X_train, X_test, y_train, and y_test using `test_size = 0.30`.  You may want to use `random_state = 0` to make your results the same as others \n",
    "- Present the counts for False and True in y_train and y_test to verify the imbalanced data in your train and test sets\n",
    "<br/><span style=\"color:red\" float:right>[0 point]</span>"
   ]
  },
  {
   "cell_type": "code",
   "execution_count": 4,
   "metadata": {
    "scrolled": true
   },
   "outputs": [
    {
     "name": "stdout",
     "output_type": "stream",
     "text": [
      "Training data value counts\n"
     ]
    },
    {
     "data": {
      "text/plain": [
       "False    930\n",
       "True      92\n",
       "Name: SalePrice, dtype: int64"
      ]
     },
     "metadata": {},
     "output_type": "display_data"
    },
    {
     "name": "stdout",
     "output_type": "stream",
     "text": [
      "\n",
      "Testing data value counts\n"
     ]
    },
    {
     "data": {
      "text/plain": [
       "False    400\n",
       "True      38\n",
       "Name: SalePrice, dtype: int64"
      ]
     },
     "metadata": {},
     "output_type": "display_data"
    }
   ],
   "source": [
    "# Add code here to splt data into test and train sets\n",
    "X_train, X_test, y_train, y_test = train_test_split(X, y, test_size = 0.30, random_state = random_state)\n",
    "# Add code to present the imbalance of the class labels for both test and training\n",
    "print('Training data value counts')\n",
    "display(y_train.value_counts())\n",
    "print()\n",
    "print('Testing data value counts')\n",
    "display(y_test.value_counts())\n",
    "\n"
   ]
  },
  {
   "cell_type": "code",
   "execution_count": 5,
   "metadata": {},
   "outputs": [
    {
     "data": {
      "text/html": [
       "<div>\n",
       "<style scoped>\n",
       "    .dataframe tbody tr th:only-of-type {\n",
       "        vertical-align: middle;\n",
       "    }\n",
       "\n",
       "    .dataframe tbody tr th {\n",
       "        vertical-align: top;\n",
       "    }\n",
       "\n",
       "    .dataframe thead th {\n",
       "        text-align: right;\n",
       "    }\n",
       "</style>\n",
       "<table border=\"1\" class=\"dataframe\">\n",
       "  <thead>\n",
       "    <tr style=\"text-align: right;\">\n",
       "      <th></th>\n",
       "      <th>MSSubClass</th>\n",
       "      <th>LotArea</th>\n",
       "      <th>OverallQual</th>\n",
       "      <th>OverallCond</th>\n",
       "      <th>YearBuilt</th>\n",
       "      <th>YearRemodAdd</th>\n",
       "      <th>BsmtFinSF1</th>\n",
       "      <th>BsmtFinSF2</th>\n",
       "      <th>BsmtUnfSF</th>\n",
       "      <th>TotalBsmtSF</th>\n",
       "      <th>...</th>\n",
       "      <th>Electrical_FuseP</th>\n",
       "      <th>Electrical_Mix</th>\n",
       "      <th>Electrical_SBrkr</th>\n",
       "      <th>KitchenQual_Ex</th>\n",
       "      <th>KitchenQual_Fa</th>\n",
       "      <th>KitchenQual_Gd</th>\n",
       "      <th>KitchenQual_TA</th>\n",
       "      <th>PavedDrive_N</th>\n",
       "      <th>PavedDrive_P</th>\n",
       "      <th>PavedDrive_Y</th>\n",
       "    </tr>\n",
       "  </thead>\n",
       "  <tbody>\n",
       "    <tr>\n",
       "      <th>0</th>\n",
       "      <td>60.0</td>\n",
       "      <td>9375.0</td>\n",
       "      <td>7.0</td>\n",
       "      <td>5.0</td>\n",
       "      <td>1997.0</td>\n",
       "      <td>1998.0</td>\n",
       "      <td>739.0</td>\n",
       "      <td>0.0</td>\n",
       "      <td>318.0</td>\n",
       "      <td>1057.0</td>\n",
       "      <td>...</td>\n",
       "      <td>0.0</td>\n",
       "      <td>0.0</td>\n",
       "      <td>1.0</td>\n",
       "      <td>0.0</td>\n",
       "      <td>0.0</td>\n",
       "      <td>1.0</td>\n",
       "      <td>0.0</td>\n",
       "      <td>0.0</td>\n",
       "      <td>0.0</td>\n",
       "      <td>1.0</td>\n",
       "    </tr>\n",
       "    <tr>\n",
       "      <th>1</th>\n",
       "      <td>120.0</td>\n",
       "      <td>2887.0</td>\n",
       "      <td>6.0</td>\n",
       "      <td>5.0</td>\n",
       "      <td>1996.0</td>\n",
       "      <td>1997.0</td>\n",
       "      <td>1003.0</td>\n",
       "      <td>0.0</td>\n",
       "      <td>288.0</td>\n",
       "      <td>1291.0</td>\n",
       "      <td>...</td>\n",
       "      <td>0.0</td>\n",
       "      <td>0.0</td>\n",
       "      <td>1.0</td>\n",
       "      <td>0.0</td>\n",
       "      <td>0.0</td>\n",
       "      <td>1.0</td>\n",
       "      <td>0.0</td>\n",
       "      <td>0.0</td>\n",
       "      <td>0.0</td>\n",
       "      <td>1.0</td>\n",
       "    </tr>\n",
       "    <tr>\n",
       "      <th>2</th>\n",
       "      <td>20.0</td>\n",
       "      <td>7207.0</td>\n",
       "      <td>5.0</td>\n",
       "      <td>7.0</td>\n",
       "      <td>1958.0</td>\n",
       "      <td>2008.0</td>\n",
       "      <td>696.0</td>\n",
       "      <td>0.0</td>\n",
       "      <td>162.0</td>\n",
       "      <td>858.0</td>\n",
       "      <td>...</td>\n",
       "      <td>0.0</td>\n",
       "      <td>0.0</td>\n",
       "      <td>1.0</td>\n",
       "      <td>0.0</td>\n",
       "      <td>0.0</td>\n",
       "      <td>0.0</td>\n",
       "      <td>1.0</td>\n",
       "      <td>0.0</td>\n",
       "      <td>0.0</td>\n",
       "      <td>1.0</td>\n",
       "    </tr>\n",
       "    <tr>\n",
       "      <th>3</th>\n",
       "      <td>50.0</td>\n",
       "      <td>9060.0</td>\n",
       "      <td>6.0</td>\n",
       "      <td>5.0</td>\n",
       "      <td>1939.0</td>\n",
       "      <td>1950.0</td>\n",
       "      <td>204.0</td>\n",
       "      <td>0.0</td>\n",
       "      <td>356.0</td>\n",
       "      <td>560.0</td>\n",
       "      <td>...</td>\n",
       "      <td>0.0</td>\n",
       "      <td>0.0</td>\n",
       "      <td>1.0</td>\n",
       "      <td>0.0</td>\n",
       "      <td>0.0</td>\n",
       "      <td>0.0</td>\n",
       "      <td>1.0</td>\n",
       "      <td>0.0</td>\n",
       "      <td>1.0</td>\n",
       "      <td>0.0</td>\n",
       "    </tr>\n",
       "    <tr>\n",
       "      <th>4</th>\n",
       "      <td>30.0</td>\n",
       "      <td>8400.0</td>\n",
       "      <td>2.0</td>\n",
       "      <td>5.0</td>\n",
       "      <td>1920.0</td>\n",
       "      <td>1950.0</td>\n",
       "      <td>290.0</td>\n",
       "      <td>0.0</td>\n",
       "      <td>0.0</td>\n",
       "      <td>290.0</td>\n",
       "      <td>...</td>\n",
       "      <td>0.0</td>\n",
       "      <td>0.0</td>\n",
       "      <td>0.0</td>\n",
       "      <td>0.0</td>\n",
       "      <td>1.0</td>\n",
       "      <td>0.0</td>\n",
       "      <td>0.0</td>\n",
       "      <td>1.0</td>\n",
       "      <td>0.0</td>\n",
       "      <td>0.0</td>\n",
       "    </tr>\n",
       "  </tbody>\n",
       "</table>\n",
       "<p>5 rows × 91 columns</p>\n",
       "</div>"
      ],
      "text/plain": [
       "   MSSubClass  LotArea  OverallQual  OverallCond  YearBuilt  YearRemodAdd  \\\n",
       "0        60.0   9375.0          7.0          5.0     1997.0        1998.0   \n",
       "1       120.0   2887.0          6.0          5.0     1996.0        1997.0   \n",
       "2        20.0   7207.0          5.0          7.0     1958.0        2008.0   \n",
       "3        50.0   9060.0          6.0          5.0     1939.0        1950.0   \n",
       "4        30.0   8400.0          2.0          5.0     1920.0        1950.0   \n",
       "\n",
       "   BsmtFinSF1  BsmtFinSF2  BsmtUnfSF  TotalBsmtSF  ...  Electrical_FuseP  \\\n",
       "0       739.0         0.0      318.0       1057.0  ...               0.0   \n",
       "1      1003.0         0.0      288.0       1291.0  ...               0.0   \n",
       "2       696.0         0.0      162.0        858.0  ...               0.0   \n",
       "3       204.0         0.0      356.0        560.0  ...               0.0   \n",
       "4       290.0         0.0        0.0        290.0  ...               0.0   \n",
       "\n",
       "   Electrical_Mix  Electrical_SBrkr  KitchenQual_Ex  KitchenQual_Fa  \\\n",
       "0             0.0               1.0             0.0             0.0   \n",
       "1             0.0               1.0             0.0             0.0   \n",
       "2             0.0               1.0             0.0             0.0   \n",
       "3             0.0               1.0             0.0             0.0   \n",
       "4             0.0               0.0             0.0             1.0   \n",
       "\n",
       "   KitchenQual_Gd  KitchenQual_TA  PavedDrive_N  PavedDrive_P  PavedDrive_Y  \n",
       "0             1.0             0.0           0.0           0.0           1.0  \n",
       "1             1.0             0.0           0.0           0.0           1.0  \n",
       "2             0.0             1.0           0.0           0.0           1.0  \n",
       "3             0.0             1.0           0.0           1.0           0.0  \n",
       "4             0.0             0.0           1.0           0.0           0.0  \n",
       "\n",
       "[5 rows x 91 columns]"
      ]
     },
     "execution_count": 5,
     "metadata": {},
     "output_type": "execute_result"
    }
   ],
   "source": [
    "# Reset index of X_test and X_train\n",
    "X_train = X_train.reset_index(drop = True)\n",
    "X_test = X_test.reset_index(drop = True)\n",
    "\n",
    "# review\n",
    "X_train.head()"
   ]
  },
  {
   "cell_type": "code",
   "execution_count": 6,
   "metadata": {},
   "outputs": [
    {
     "data": {
      "text/plain": [
       "['MSSubClass', 'LotArea', 'OverallQual', 'OverallCond', 'YearBuilt']"
      ]
     },
     "execution_count": 6,
     "metadata": {},
     "output_type": "execute_result"
    }
   ],
   "source": [
    "# create column names\n",
    "col_names = list(X_train.columns)\n",
    "# sanity check\n",
    "col_names[:5]"
   ]
  },
  {
   "cell_type": "markdown",
   "metadata": {},
   "source": [
    "**The number of 'True' occurrences vs 'False' in both testing and training are about 10% of the total data showing there is a major imbalance in the data.**"
   ]
  },
  {
   "cell_type": "markdown",
   "metadata": {},
   "source": [
    "1. Train basic `LogisticRegression` classifier (repeat what was done in class)\n",
    " 1. Train a model with `X_train` and `y_train`\n",
    " 2. predict (hard baseline and soft) on training and test features with `.predict()` and `.predict_proba()`\n",
    " 3. evaluate model using confusion matrix (`confusion_matrix`) and its metrics (`classification_report`)\n",
    " 4. evaluate model using ROC and AUC of ROC\n",
    " 5. comment on the model's usability. \n",
    "<br/><span style=\"color:red\" float:right>[2 point]</span>"
   ]
  },
  {
   "cell_type": "code",
   "execution_count": 7,
   "metadata": {},
   "outputs": [
    {
     "data": {
      "text/html": [
       "<div>\n",
       "<style scoped>\n",
       "    .dataframe tbody tr th:only-of-type {\n",
       "        vertical-align: middle;\n",
       "    }\n",
       "\n",
       "    .dataframe tbody tr th {\n",
       "        vertical-align: top;\n",
       "    }\n",
       "\n",
       "    .dataframe thead th {\n",
       "        text-align: right;\n",
       "    }\n",
       "</style>\n",
       "<table border=\"1\" class=\"dataframe\">\n",
       "  <thead>\n",
       "    <tr style=\"text-align: right;\">\n",
       "      <th></th>\n",
       "      <th>MSSubClass</th>\n",
       "      <th>LotArea</th>\n",
       "      <th>OverallQual</th>\n",
       "      <th>OverallCond</th>\n",
       "      <th>YearBuilt</th>\n",
       "      <th>YearRemodAdd</th>\n",
       "      <th>BsmtFinSF1</th>\n",
       "      <th>BsmtFinSF2</th>\n",
       "      <th>BsmtUnfSF</th>\n",
       "      <th>TotalBsmtSF</th>\n",
       "      <th>...</th>\n",
       "      <th>Electrical_FuseP</th>\n",
       "      <th>Electrical_Mix</th>\n",
       "      <th>Electrical_SBrkr</th>\n",
       "      <th>KitchenQual_Ex</th>\n",
       "      <th>KitchenQual_Fa</th>\n",
       "      <th>KitchenQual_Gd</th>\n",
       "      <th>KitchenQual_TA</th>\n",
       "      <th>PavedDrive_N</th>\n",
       "      <th>PavedDrive_P</th>\n",
       "      <th>PavedDrive_Y</th>\n",
       "    </tr>\n",
       "  </thead>\n",
       "  <tbody>\n",
       "    <tr>\n",
       "      <th>0</th>\n",
       "      <td>0.080340</td>\n",
       "      <td>-0.115977</td>\n",
       "      <td>0.678402</td>\n",
       "      <td>-0.503226</td>\n",
       "      <td>0.862117</td>\n",
       "      <td>0.648981</td>\n",
       "      <td>0.690634</td>\n",
       "      <td>-0.298507</td>\n",
       "      <td>-0.572957</td>\n",
       "      <td>0.004040</td>\n",
       "      <td>...</td>\n",
       "      <td>-0.044281</td>\n",
       "      <td>-0.031296</td>\n",
       "      <td>0.314523</td>\n",
       "      <td>-0.266981</td>\n",
       "      <td>-0.170893</td>\n",
       "      <td>1.244439</td>\n",
       "      <td>-1.025772</td>\n",
       "      <td>-0.273237</td>\n",
       "      <td>-0.133897</td>\n",
       "      <td>0.308855</td>\n",
       "    </tr>\n",
       "    <tr>\n",
       "      <th>1</th>\n",
       "      <td>1.504170</td>\n",
       "      <td>-0.746722</td>\n",
       "      <td>-0.058396</td>\n",
       "      <td>-0.503226</td>\n",
       "      <td>0.829035</td>\n",
       "      <td>0.600190</td>\n",
       "      <td>1.304994</td>\n",
       "      <td>-0.298507</td>\n",
       "      <td>-0.642268</td>\n",
       "      <td>0.574723</td>\n",
       "      <td>...</td>\n",
       "      <td>-0.044281</td>\n",
       "      <td>-0.031296</td>\n",
       "      <td>0.314523</td>\n",
       "      <td>-0.266981</td>\n",
       "      <td>-0.170893</td>\n",
       "      <td>1.244439</td>\n",
       "      <td>-1.025772</td>\n",
       "      <td>-0.273237</td>\n",
       "      <td>-0.133897</td>\n",
       "      <td>0.308855</td>\n",
       "    </tr>\n",
       "    <tr>\n",
       "      <th>2</th>\n",
       "      <td>-0.868880</td>\n",
       "      <td>-0.326744</td>\n",
       "      <td>-0.795194</td>\n",
       "      <td>1.285634</td>\n",
       "      <td>-0.428097</td>\n",
       "      <td>1.136886</td>\n",
       "      <td>0.590567</td>\n",
       "      <td>-0.298507</td>\n",
       "      <td>-0.933377</td>\n",
       "      <td>-0.481285</td>\n",
       "      <td>...</td>\n",
       "      <td>-0.044281</td>\n",
       "      <td>-0.031296</td>\n",
       "      <td>0.314523</td>\n",
       "      <td>-0.266981</td>\n",
       "      <td>-0.170893</td>\n",
       "      <td>-0.803575</td>\n",
       "      <td>0.974875</td>\n",
       "      <td>-0.273237</td>\n",
       "      <td>-0.133897</td>\n",
       "      <td>0.308855</td>\n",
       "    </tr>\n",
       "    <tr>\n",
       "      <th>3</th>\n",
       "      <td>-0.156965</td>\n",
       "      <td>-0.146600</td>\n",
       "      <td>-0.058396</td>\n",
       "      <td>-0.503226</td>\n",
       "      <td>-1.056663</td>\n",
       "      <td>-1.692964</td>\n",
       "      <td>-0.554376</td>\n",
       "      <td>-0.298507</td>\n",
       "      <td>-0.485162</td>\n",
       "      <td>-1.208053</td>\n",
       "      <td>...</td>\n",
       "      <td>-0.044281</td>\n",
       "      <td>-0.031296</td>\n",
       "      <td>0.314523</td>\n",
       "      <td>-0.266981</td>\n",
       "      <td>-0.170893</td>\n",
       "      <td>-0.803575</td>\n",
       "      <td>0.974875</td>\n",
       "      <td>-0.273237</td>\n",
       "      <td>7.468452</td>\n",
       "      <td>-3.237769</td>\n",
       "    </tr>\n",
       "    <tr>\n",
       "      <th>4</th>\n",
       "      <td>-0.631575</td>\n",
       "      <td>-0.210764</td>\n",
       "      <td>-3.005590</td>\n",
       "      <td>-0.503226</td>\n",
       "      <td>-1.685229</td>\n",
       "      <td>-1.692964</td>\n",
       "      <td>-0.354244</td>\n",
       "      <td>-0.298507</td>\n",
       "      <td>-1.307659</td>\n",
       "      <td>-1.866533</td>\n",
       "      <td>...</td>\n",
       "      <td>-0.044281</td>\n",
       "      <td>-0.031296</td>\n",
       "      <td>-3.179418</td>\n",
       "      <td>-0.266981</td>\n",
       "      <td>5.851613</td>\n",
       "      <td>-0.803575</td>\n",
       "      <td>-1.025772</td>\n",
       "      <td>3.659831</td>\n",
       "      <td>-0.133897</td>\n",
       "      <td>-3.237769</td>\n",
       "    </tr>\n",
       "  </tbody>\n",
       "</table>\n",
       "<p>5 rows × 91 columns</p>\n",
       "</div>"
      ],
      "text/plain": [
       "   MSSubClass   LotArea  OverallQual  OverallCond  YearBuilt  YearRemodAdd  \\\n",
       "0    0.080340 -0.115977     0.678402    -0.503226   0.862117      0.648981   \n",
       "1    1.504170 -0.746722    -0.058396    -0.503226   0.829035      0.600190   \n",
       "2   -0.868880 -0.326744    -0.795194     1.285634  -0.428097      1.136886   \n",
       "3   -0.156965 -0.146600    -0.058396    -0.503226  -1.056663     -1.692964   \n",
       "4   -0.631575 -0.210764    -3.005590    -0.503226  -1.685229     -1.692964   \n",
       "\n",
       "   BsmtFinSF1  BsmtFinSF2  BsmtUnfSF  TotalBsmtSF  ...  Electrical_FuseP  \\\n",
       "0    0.690634   -0.298507  -0.572957     0.004040  ...         -0.044281   \n",
       "1    1.304994   -0.298507  -0.642268     0.574723  ...         -0.044281   \n",
       "2    0.590567   -0.298507  -0.933377    -0.481285  ...         -0.044281   \n",
       "3   -0.554376   -0.298507  -0.485162    -1.208053  ...         -0.044281   \n",
       "4   -0.354244   -0.298507  -1.307659    -1.866533  ...         -0.044281   \n",
       "\n",
       "   Electrical_Mix  Electrical_SBrkr  KitchenQual_Ex  KitchenQual_Fa  \\\n",
       "0       -0.031296          0.314523       -0.266981       -0.170893   \n",
       "1       -0.031296          0.314523       -0.266981       -0.170893   \n",
       "2       -0.031296          0.314523       -0.266981       -0.170893   \n",
       "3       -0.031296          0.314523       -0.266981       -0.170893   \n",
       "4       -0.031296         -3.179418       -0.266981        5.851613   \n",
       "\n",
       "   KitchenQual_Gd  KitchenQual_TA  PavedDrive_N  PavedDrive_P  PavedDrive_Y  \n",
       "0        1.244439       -1.025772     -0.273237     -0.133897      0.308855  \n",
       "1        1.244439       -1.025772     -0.273237     -0.133897      0.308855  \n",
       "2       -0.803575        0.974875     -0.273237     -0.133897      0.308855  \n",
       "3       -0.803575        0.974875     -0.273237      7.468452     -3.237769  \n",
       "4       -0.803575       -1.025772      3.659831     -0.133897     -3.237769  \n",
       "\n",
       "[5 rows x 91 columns]"
      ]
     },
     "execution_count": 7,
     "metadata": {},
     "output_type": "execute_result"
    }
   ],
   "source": [
    "# Standardize the x_train and x_test data\n",
    "from sklearn.preprocessing import StandardScaler\n",
    "\n",
    "scaler = StandardScaler()\n",
    "\n",
    "# fit the training data\n",
    "scaler.fit(X_train)\n",
    "\n",
    "# transform both X_train and X_test\n",
    "X_train_norm = pd.DataFrame(scaler.transform(X_train), columns = col_names)\n",
    "X_test_norm = pd.DataFrame(scaler.transform(X_test), columns = col_names)\n",
    "\n",
    "# review/sanity check\n",
    "X_train_norm.head()"
   ]
  },
  {
   "cell_type": "code",
   "execution_count": 8,
   "metadata": {},
   "outputs": [
    {
     "data": {
      "text/html": [
       "<style>#sk-container-id-1 {color: black;background-color: white;}#sk-container-id-1 pre{padding: 0;}#sk-container-id-1 div.sk-toggleable {background-color: white;}#sk-container-id-1 label.sk-toggleable__label {cursor: pointer;display: block;width: 100%;margin-bottom: 0;padding: 0.3em;box-sizing: border-box;text-align: center;}#sk-container-id-1 label.sk-toggleable__label-arrow:before {content: \"▸\";float: left;margin-right: 0.25em;color: #696969;}#sk-container-id-1 label.sk-toggleable__label-arrow:hover:before {color: black;}#sk-container-id-1 div.sk-estimator:hover label.sk-toggleable__label-arrow:before {color: black;}#sk-container-id-1 div.sk-toggleable__content {max-height: 0;max-width: 0;overflow: hidden;text-align: left;background-color: #f0f8ff;}#sk-container-id-1 div.sk-toggleable__content pre {margin: 0.2em;color: black;border-radius: 0.25em;background-color: #f0f8ff;}#sk-container-id-1 input.sk-toggleable__control:checked~div.sk-toggleable__content {max-height: 200px;max-width: 100%;overflow: auto;}#sk-container-id-1 input.sk-toggleable__control:checked~label.sk-toggleable__label-arrow:before {content: \"▾\";}#sk-container-id-1 div.sk-estimator input.sk-toggleable__control:checked~label.sk-toggleable__label {background-color: #d4ebff;}#sk-container-id-1 div.sk-label input.sk-toggleable__control:checked~label.sk-toggleable__label {background-color: #d4ebff;}#sk-container-id-1 input.sk-hidden--visually {border: 0;clip: rect(1px 1px 1px 1px);clip: rect(1px, 1px, 1px, 1px);height: 1px;margin: -1px;overflow: hidden;padding: 0;position: absolute;width: 1px;}#sk-container-id-1 div.sk-estimator {font-family: monospace;background-color: #f0f8ff;border: 1px dotted black;border-radius: 0.25em;box-sizing: border-box;margin-bottom: 0.5em;}#sk-container-id-1 div.sk-estimator:hover {background-color: #d4ebff;}#sk-container-id-1 div.sk-parallel-item::after {content: \"\";width: 100%;border-bottom: 1px solid gray;flex-grow: 1;}#sk-container-id-1 div.sk-label:hover label.sk-toggleable__label {background-color: #d4ebff;}#sk-container-id-1 div.sk-serial::before {content: \"\";position: absolute;border-left: 1px solid gray;box-sizing: border-box;top: 0;bottom: 0;left: 50%;z-index: 0;}#sk-container-id-1 div.sk-serial {display: flex;flex-direction: column;align-items: center;background-color: white;padding-right: 0.2em;padding-left: 0.2em;position: relative;}#sk-container-id-1 div.sk-item {position: relative;z-index: 1;}#sk-container-id-1 div.sk-parallel {display: flex;align-items: stretch;justify-content: center;background-color: white;position: relative;}#sk-container-id-1 div.sk-item::before, #sk-container-id-1 div.sk-parallel-item::before {content: \"\";position: absolute;border-left: 1px solid gray;box-sizing: border-box;top: 0;bottom: 0;left: 50%;z-index: -1;}#sk-container-id-1 div.sk-parallel-item {display: flex;flex-direction: column;z-index: 1;position: relative;background-color: white;}#sk-container-id-1 div.sk-parallel-item:first-child::after {align-self: flex-end;width: 50%;}#sk-container-id-1 div.sk-parallel-item:last-child::after {align-self: flex-start;width: 50%;}#sk-container-id-1 div.sk-parallel-item:only-child::after {width: 0;}#sk-container-id-1 div.sk-dashed-wrapped {border: 1px dashed gray;margin: 0 0.4em 0.5em 0.4em;box-sizing: border-box;padding-bottom: 0.4em;background-color: white;}#sk-container-id-1 div.sk-label label {font-family: monospace;font-weight: bold;display: inline-block;line-height: 1.2em;}#sk-container-id-1 div.sk-label-container {text-align: center;}#sk-container-id-1 div.sk-container {/* jupyter's `normalize.less` sets `[hidden] { display: none; }` but bootstrap.min.css set `[hidden] { display: none !important; }` so we also need the `!important` here to be able to override the default hidden behavior on the sphinx rendered scikit-learn.org. See: https://github.com/scikit-learn/scikit-learn/issues/21755 */display: inline-block !important;position: relative;}#sk-container-id-1 div.sk-text-repr-fallback {display: none;}</style><div id=\"sk-container-id-1\" class=\"sk-top-container\"><div class=\"sk-text-repr-fallback\"><pre>LogisticRegression(random_state=42)</pre><b>In a Jupyter environment, please rerun this cell to show the HTML representation or trust the notebook. <br />On GitHub, the HTML representation is unable to render, please try loading this page with nbviewer.org.</b></div><div class=\"sk-container\" hidden><div class=\"sk-item\"><div class=\"sk-estimator sk-toggleable\"><input class=\"sk-toggleable__control sk-hidden--visually\" id=\"sk-estimator-id-1\" type=\"checkbox\" checked><label for=\"sk-estimator-id-1\" class=\"sk-toggleable__label sk-toggleable__label-arrow\">LogisticRegression</label><div class=\"sk-toggleable__content\"><pre>LogisticRegression(random_state=42)</pre></div></div></div></div></div>"
      ],
      "text/plain": [
       "LogisticRegression(random_state=42)"
      ]
     },
     "execution_count": 8,
     "metadata": {},
     "output_type": "execute_result"
    }
   ],
   "source": [
    "# create Logistic Regression instance\n",
    "lin_reg = LogisticRegression(random_state=42)\n",
    "\n",
    "# fit the regressor with training data\n",
    "lin_reg.fit(X_train_norm, y_train)"
   ]
  },
  {
   "cell_type": "code",
   "execution_count": 9,
   "metadata": {},
   "outputs": [],
   "source": [
    "# hard predictions\n",
    "y_hat_train_hard = lin_reg.predict(X_train_norm)\n",
    "y_hat_test_hard = lin_reg.predict(X_test_norm)\n",
    "\n",
    "# soft predictions\n",
    "y_hat_train_soft = lin_reg.predict_proba(X_train_norm)[:,1]\n",
    "y_hat_test_soft = lin_reg.predict_proba(X_test_norm)[:,1]"
   ]
  },
  {
   "cell_type": "code",
   "execution_count": 10,
   "metadata": {},
   "outputs": [
    {
     "data": {
      "text/plain": [
       "array([False, False, False, False, False])"
      ]
     },
     "metadata": {},
     "output_type": "display_data"
    },
    {
     "data": {
      "text/plain": [
       "array([0.26544092, 0.0002675 , 0.25767049, 0.04988268, 0.00172351])"
      ]
     },
     "metadata": {},
     "output_type": "display_data"
    }
   ],
   "source": [
    "# review the testing hard vs soft prediction results\n",
    "display(y_hat_test_hard[:5])\n",
    "display(y_hat_test_soft[:5])"
   ]
  },
  {
   "cell_type": "markdown",
   "metadata": {},
   "source": [
    "**For the evaluation portion I will only be investigating the test case and not comparing it to the training case. We have already seen that the training model is often slightly more accurate than the testing model and always a little overfit.**"
   ]
  },
  {
   "cell_type": "code",
   "execution_count": 11,
   "metadata": {},
   "outputs": [
    {
     "data": {
      "image/png": "[encoded data removed]",
      "text/plain": [
       "<Figure size 432x288 with 2 Axes>"
      ]
     },
     "metadata": {
      "needs_background": "light"
     },
     "output_type": "display_data"
    }
   ],
   "source": [
    "# hard prediction confusion matrix \n",
    "conmat_hard_test = confusion_matrix(y_test, y_hat_test_hard)\n",
    "cmd = ConfusionMatrixDisplay(confusion_matrix=conmat_hard_test, display_labels=[\"0\", \"1\"])\n",
    "font = {'weight' : 'bold', 'size'   : 32}\n",
    "plt.rc('font', **font)\n",
    "cmd.plot();\n",
    "plt.rcdefaults();"
   ]
  },
  {
   "cell_type": "code",
   "execution_count": 12,
   "metadata": {},
   "outputs": [
    {
     "name": "stdout",
     "output_type": "stream",
     "text": [
      "Accuracy: 0.910958904109589\n",
      "              precision    recall  f1-score   support\n",
      "\n",
      "       False       0.91      0.99      0.95       400\n",
      "        True       0.33      0.03      0.05        38\n",
      "\n",
      "    accuracy                           0.91       438\n",
      "   macro avg       0.62      0.51      0.50       438\n",
      "weighted avg       0.86      0.91      0.87       438\n",
      "\n"
     ]
    }
   ],
   "source": [
    "# hard prediction report\n",
    "print(f'Accuracy: {accuracy_score(y_test, y_hat_test_hard)}')\n",
    "print(classification_report(y_test, y_hat_test_hard))"
   ]
  },
  {
   "cell_type": "markdown",
   "metadata": {},
   "source": [
    "**At first glance, it looks like the accuracy score is telling us this model is very good. Maybe a little too good. The classification report does show us that the precision for predicting our positive case is very low ~30%.**"
   ]
  },
  {
   "cell_type": "code",
   "execution_count": 13,
   "metadata": {},
   "outputs": [
    {
     "data": {
      "image/png": "[encoded data removed]",
      "text/plain": [
       "<Figure size 640x480 with 1 Axes>"
      ]
     },
     "metadata": {},
     "output_type": "display_data"
    }
   ],
   "source": [
    "# soft prediction evaluation with roc\n",
    "fpr, tpr, thresholds = roc_curve(y_test, y_hat_test_soft)\n",
    "roc_auc = auc(fpr, tpr)\n",
    "\n",
    "plt.title('Receiver Operating Characteristic Testing Data')\n",
    "plt.plot(fpr, tpr, 'b', label = 'AUC = %0.2f' % roc_auc)\n",
    "plt.legend(loc = 'lower right')\n",
    "plt.plot([0, 1], [0, 1],'r--')\n",
    "plt.xlim([-0.1, 1.1])\n",
    "plt.ylim([-0.1, 1.1])\n",
    "plt.ylabel('True Positive Rate')\n",
    "plt.xlabel('False Positive Rate')\n",
    "plt.show()"
   ]
  },
  {
   "cell_type": "markdown",
   "metadata": {},
   "source": [
    "**Even though the AUC is deemed usable at 0.76, taking the confusion matrix into consideration we may want to re evaluate our model. The confusion matrix shows us that the false negative rate is actually pretty high. We are in fact missing many potential houses that fall within our budget. Seeing as the housing market is so competetive it would be better to have an algorithm that catches more of the actual cases.**"
   ]
  },
  {
   "cell_type": "markdown",
   "metadata": {},
   "source": [
    "#### Add Comment on usability\n"
   ]
  },
  {
   "cell_type": "markdown",
   "metadata": {},
   "source": [
    "2. Train `LogisticRegression` with balanced class weights \n",
    " 1. Read the documentation to see what `class_weight` does\n",
    " 2. Train a new model with the same `X_train` and `y_train` settting `class_weight` so the weights are balanced\n",
    " 3. predict (hard and soft) on training and test features with .predict() and .predict_proba()\n",
    " 4. evaluate model using confusion matrix (confusion_matrix) and its metrics (classification_report)\n",
    " 5. evaluate model using ROC\n",
    " 6. How does balancing class weights change any of the results? Why?\n",
    "<br/><span style=\"color:red\" float:right>[3 point]</span>"
   ]
  },
  {
   "cell_type": "code",
   "execution_count": 14,
   "metadata": {},
   "outputs": [
    {
     "name": "stdout",
     "output_type": "stream",
     "text": [
      "Requirement already satisfied: imblearn in /opt/conda/lib/python3.9/site-packages (0.0)\n",
      "Requirement already satisfied: imbalanced-learn in /opt/conda/lib/python3.9/site-packages (from imblearn) (0.10.1)\n",
      "Requirement already satisfied: scikit-learn>=1.0.2 in /opt/conda/lib/python3.9/site-packages (from imbalanced-learn->imblearn) (1.2.2)\n",
      "Requirement already satisfied: threadpoolctl>=2.0.0 in /opt/conda/lib/python3.9/site-packages (from imbalanced-learn->imblearn) (3.0.0)\n",
      "Requirement already satisfied: numpy>=1.17.3 in /opt/conda/lib/python3.9/site-packages (from imbalanced-learn->imblearn) (1.20.3)\n",
      "Requirement already satisfied: scipy>=1.3.2 in /opt/conda/lib/python3.9/site-packages (from imbalanced-learn->imblearn) (1.7.1)\n",
      "Requirement already satisfied: joblib>=1.1.1 in /opt/conda/lib/python3.9/site-packages (from imbalanced-learn->imblearn) (1.2.0)\n"
     ]
    }
   ],
   "source": [
    "# install imblearn\n",
    "!pip install imblearn"
   ]
  },
  {
   "cell_type": "code",
   "execution_count": 15,
   "metadata": {},
   "outputs": [
    {
     "data": {
      "text/html": [
       "<style>#sk-container-id-2 {color: black;background-color: white;}#sk-container-id-2 pre{padding: 0;}#sk-container-id-2 div.sk-toggleable {background-color: white;}#sk-container-id-2 label.sk-toggleable__label {cursor: pointer;display: block;width: 100%;margin-bottom: 0;padding: 0.3em;box-sizing: border-box;text-align: center;}#sk-container-id-2 label.sk-toggleable__label-arrow:before {content: \"▸\";float: left;margin-right: 0.25em;color: #696969;}#sk-container-id-2 label.sk-toggleable__label-arrow:hover:before {color: black;}#sk-container-id-2 div.sk-estimator:hover label.sk-toggleable__label-arrow:before {color: black;}#sk-container-id-2 div.sk-toggleable__content {max-height: 0;max-width: 0;overflow: hidden;text-align: left;background-color: #f0f8ff;}#sk-container-id-2 div.sk-toggleable__content pre {margin: 0.2em;color: black;border-radius: 0.25em;background-color: #f0f8ff;}#sk-container-id-2 input.sk-toggleable__control:checked~div.sk-toggleable__content {max-height: 200px;max-width: 100%;overflow: auto;}#sk-container-id-2 input.sk-toggleable__control:checked~label.sk-toggleable__label-arrow:before {content: \"▾\";}#sk-container-id-2 div.sk-estimator input.sk-toggleable__control:checked~label.sk-toggleable__label {background-color: #d4ebff;}#sk-container-id-2 div.sk-label input.sk-toggleable__control:checked~label.sk-toggleable__label {background-color: #d4ebff;}#sk-container-id-2 input.sk-hidden--visually {border: 0;clip: rect(1px 1px 1px 1px);clip: rect(1px, 1px, 1px, 1px);height: 1px;margin: -1px;overflow: hidden;padding: 0;position: absolute;width: 1px;}#sk-container-id-2 div.sk-estimator {font-family: monospace;background-color: #f0f8ff;border: 1px dotted black;border-radius: 0.25em;box-sizing: border-box;margin-bottom: 0.5em;}#sk-container-id-2 div.sk-estimator:hover {background-color: #d4ebff;}#sk-container-id-2 div.sk-parallel-item::after {content: \"\";width: 100%;border-bottom: 1px solid gray;flex-grow: 1;}#sk-container-id-2 div.sk-label:hover label.sk-toggleable__label {background-color: #d4ebff;}#sk-container-id-2 div.sk-serial::before {content: \"\";position: absolute;border-left: 1px solid gray;box-sizing: border-box;top: 0;bottom: 0;left: 50%;z-index: 0;}#sk-container-id-2 div.sk-serial {display: flex;flex-direction: column;align-items: center;background-color: white;padding-right: 0.2em;padding-left: 0.2em;position: relative;}#sk-container-id-2 div.sk-item {position: relative;z-index: 1;}#sk-container-id-2 div.sk-parallel {display: flex;align-items: stretch;justify-content: center;background-color: white;position: relative;}#sk-container-id-2 div.sk-item::before, #sk-container-id-2 div.sk-parallel-item::before {content: \"\";position: absolute;border-left: 1px solid gray;box-sizing: border-box;top: 0;bottom: 0;left: 50%;z-index: -1;}#sk-container-id-2 div.sk-parallel-item {display: flex;flex-direction: column;z-index: 1;position: relative;background-color: white;}#sk-container-id-2 div.sk-parallel-item:first-child::after {align-self: flex-end;width: 50%;}#sk-container-id-2 div.sk-parallel-item:last-child::after {align-self: flex-start;width: 50%;}#sk-container-id-2 div.sk-parallel-item:only-child::after {width: 0;}#sk-container-id-2 div.sk-dashed-wrapped {border: 1px dashed gray;margin: 0 0.4em 0.5em 0.4em;box-sizing: border-box;padding-bottom: 0.4em;background-color: white;}#sk-container-id-2 div.sk-label label {font-family: monospace;font-weight: bold;display: inline-block;line-height: 1.2em;}#sk-container-id-2 div.sk-label-container {text-align: center;}#sk-container-id-2 div.sk-container {/* jupyter's `normalize.less` sets `[hidden] { display: none; }` but bootstrap.min.css set `[hidden] { display: none !important; }` so we also need the `!important` here to be able to override the default hidden behavior on the sphinx rendered scikit-learn.org. See: https://github.com/scikit-learn/scikit-learn/issues/21755 */display: inline-block !important;position: relative;}#sk-container-id-2 div.sk-text-repr-fallback {display: none;}</style><div id=\"sk-container-id-2\" class=\"sk-top-container\"><div class=\"sk-text-repr-fallback\"><pre>Pipeline(steps=[(&#x27;standardscaler&#x27;, StandardScaler()),\n",
       "                (&#x27;logisticregression&#x27;, LogisticRegression(random_state=42))])</pre><b>In a Jupyter environment, please rerun this cell to show the HTML representation or trust the notebook. <br />On GitHub, the HTML representation is unable to render, please try loading this page with nbviewer.org.</b></div><div class=\"sk-container\" hidden><div class=\"sk-item sk-dashed-wrapped\"><div class=\"sk-label-container\"><div class=\"sk-label sk-toggleable\"><input class=\"sk-toggleable__control sk-hidden--visually\" id=\"sk-estimator-id-2\" type=\"checkbox\" ><label for=\"sk-estimator-id-2\" class=\"sk-toggleable__label sk-toggleable__label-arrow\">Pipeline</label><div class=\"sk-toggleable__content\"><pre>Pipeline(steps=[(&#x27;standardscaler&#x27;, StandardScaler()),\n",
       "                (&#x27;logisticregression&#x27;, LogisticRegression(random_state=42))])</pre></div></div></div><div class=\"sk-serial\"><div class=\"sk-item\"><div class=\"sk-estimator sk-toggleable\"><input class=\"sk-toggleable__control sk-hidden--visually\" id=\"sk-estimator-id-3\" type=\"checkbox\" ><label for=\"sk-estimator-id-3\" class=\"sk-toggleable__label sk-toggleable__label-arrow\">StandardScaler</label><div class=\"sk-toggleable__content\"><pre>StandardScaler()</pre></div></div></div><div class=\"sk-item\"><div class=\"sk-estimator sk-toggleable\"><input class=\"sk-toggleable__control sk-hidden--visually\" id=\"sk-estimator-id-4\" type=\"checkbox\" ><label for=\"sk-estimator-id-4\" class=\"sk-toggleable__label sk-toggleable__label-arrow\">LogisticRegression</label><div class=\"sk-toggleable__content\"><pre>LogisticRegression(random_state=42)</pre></div></div></div></div></div></div></div>"
      ],
      "text/plain": [
       "Pipeline(steps=[('standardscaler', StandardScaler()),\n",
       "                ('logisticregression', LogisticRegression(random_state=42))])"
      ]
     },
     "execution_count": 15,
     "metadata": {},
     "output_type": "execute_result"
    }
   ],
   "source": [
    "# After reading the Oreilly book and seeing the make_pipeline capability of sklearn, I wanted to try to use it in this case.\n",
    "# Add code here to train the logistic regression with balanced weights\n",
    "try:\n",
    "    from sklearn.pipeline import make_pipeline\n",
    "except Exception as error:\n",
    "        print('Caught this error: ' + repr(error))\n",
    "        print('Try and restart the kernel, there seems to be an issue occassionally with importing a certain package, but')\n",
    "        print('eventually, it works')\n",
    "from imblearn.over_sampling import SMOTE\n",
    "\n",
    "# set up pipeline\n",
    "lr_pipeline = make_pipeline(StandardScaler(),\n",
    "                           LogisticRegression(random_state=42))\n",
    "# resample training set \n",
    "X_resampled, y_resampled = SMOTE().fit_resample(X_train, y_train)\n",
    "\n",
    "# fit resampled data to pipeline\n",
    "lr_pipeline.fit(X_resampled, y_resampled)"
   ]
  },
  {
   "cell_type": "markdown",
   "metadata": {},
   "source": [
    "##### Here you might need to restart the kernel. I was having issues where it draws an error that it cannot import the \"Distance Metrics\""
   ]
  },
  {
   "cell_type": "code",
   "execution_count": 16,
   "metadata": {},
   "outputs": [
    {
     "data": {
      "text/plain": [
       "True     930\n",
       "False    930\n",
       "Name: SalePrice, dtype: int64"
      ]
     },
     "execution_count": 16,
     "metadata": {},
     "output_type": "execute_result"
    }
   ],
   "source": [
    "# look at balances of y after resampling\n",
    "y_resampled.value_counts()"
   ]
  },
  {
   "cell_type": "code",
   "execution_count": 17,
   "metadata": {},
   "outputs": [],
   "source": [
    "# Add code to predict (hard and soft) on training and test features\n",
    "y_aug_test_hard = lr_pipeline.predict(X_test)\n",
    "y_aug_test_soft = lr_pipeline.predict_proba(X_test)[:,1]"
   ]
  },
  {
   "cell_type": "code",
   "execution_count": 18,
   "metadata": {},
   "outputs": [
    {
     "data": {
      "text/plain": [
       "array([ True, False, False, False, False])"
      ]
     },
     "metadata": {},
     "output_type": "display_data"
    },
    {
     "data": {
      "text/plain": [
       "array([9.11388277e-01, 1.97104748e-04, 3.95168084e-01, 4.42348343e-01,\n",
       "       1.49632229e-03])"
      ]
     },
     "metadata": {},
     "output_type": "display_data"
    }
   ],
   "source": [
    "# review predictions\n",
    "display(y_aug_test_hard[:5])\n",
    "display(y_aug_test_soft[:5])"
   ]
  },
  {
   "cell_type": "code",
   "execution_count": 19,
   "metadata": {},
   "outputs": [
    {
     "data": {
      "image/png": "[encoded data removed]",
      "text/plain": [
       "<Figure size 640x480 with 2 Axes>"
      ]
     },
     "metadata": {},
     "output_type": "display_data"
    }
   ],
   "source": [
    "# Add code to evaluate predictions using confusion matrix and its metrics\n",
    "conmat_hard_test = confusion_matrix(y_test, y_aug_test_hard)\n",
    "cmd = ConfusionMatrixDisplay(confusion_matrix=conmat_hard_test, display_labels=[\"0\", \"1\"])\n",
    "font = {'weight' : 'bold', 'size'   : 16}\n",
    "plt.rc('font', **font)\n",
    "cmd.plot();\n",
    "plt.rcdefaults();"
   ]
  },
  {
   "cell_type": "code",
   "execution_count": 20,
   "metadata": {},
   "outputs": [
    {
     "name": "stdout",
     "output_type": "stream",
     "text": [
      "Accuracy: 0.751\n",
      "Score from model: 0.751\n",
      "              precision    recall  f1-score   support\n",
      "\n",
      "       False       0.96      0.76      0.85       400\n",
      "        True       0.20      0.63      0.31        38\n",
      "\n",
      "    accuracy                           0.75       438\n",
      "   macro avg       0.58      0.70      0.58       438\n",
      "weighted avg       0.89      0.75      0.80       438\n",
      "\n"
     ]
    }
   ],
   "source": [
    "# hard prediction report\n",
    "print(f'Accuracy: {accuracy_score(y_test, y_aug_test_hard):.3f}')\n",
    "print(f'Score from model: {lr_pipeline.score(X_test, y_test):.3f}')\n",
    "print(classification_report(y_test, y_aug_test_hard))"
   ]
  },
  {
   "cell_type": "code",
   "execution_count": 21,
   "metadata": {},
   "outputs": [
    {
     "data": {
      "image/png": "[encoded data removed]",
      "text/plain": [
       "<Figure size 640x480 with 1 Axes>"
      ]
     },
     "metadata": {},
     "output_type": "display_data"
    }
   ],
   "source": [
    "# soft prediction evaluation with roc of resampled data\n",
    "fpr, tpr, thresholds = roc_curve(y_test, y_aug_test_soft)\n",
    "roc_auc = auc(fpr, tpr)\n",
    "\n",
    "plt.title('Receiver Operating Characteristic Resampled Testing Data')\n",
    "plt.plot(fpr, tpr, 'b', label = 'AUC = %0.2f' % roc_auc)\n",
    "plt.legend(loc = 'lower right')\n",
    "plt.plot([0, 1], [0, 1],'r--')\n",
    "plt.xlim([-0.1, 1.1])\n",
    "plt.ylim([-0.1, 1.1])\n",
    "plt.ylabel('True Positive Rate')\n",
    "plt.xlabel('False Positive Rate')\n",
    "plt.show()\n"
   ]
  },
  {
   "cell_type": "markdown",
   "metadata": {},
   "source": [
    "#### Effect of weight balancing\n",
    "**If we compare the unbalanced test case to the balanced test case we might assume that the unbalanced test case performs better. The unbalanced test case has an accuracy of 91% compared to the balanced test case only having an accuracy of 75%. Even the AUC of the ROC is greater in the unbalanced test case .76 compared to .74. However, if we look closer at the confusion matrices of the two test cases we can see that balancing the test cases actually gives us a better model. The balanced model still has a valid AUC being above .72. Further, it does a better job of identifying TP instances where a house falls within our budget. While it does give us more false positives, meaning we would have to weed through more houses, that is ultimately ok as we would rather have more houses identified than fewer.**\n"
   ]
  },
  {
   "cell_type": "markdown",
   "metadata": {},
   "source": [
    "3. Use `LogisticRegressionCV` to train a cross-validation logistic regression.  The CV stands for cross-validation.\n",
    " 1. train a cross-validation logistic regression\n",
    "    - Use the same `X_train` and `y_train`.\n",
    "    - You may want to use `random_state = 0` to make your results the same as others.\n",
    "    - Set the `cv` parameter to 5.  5 is the default value.\n",
    "    - Set `class_weight` so the weights are balanced\n",
    " 2. predict (hard and soft) on training and test features with `.predict()` and `.predict_proba()`\n",
    " 3. evaluate test and training predictions using confusion matrix (`confusion_matrix`) and its metrics (`classification_report`)\n",
    " 4. evaluate test and training predictions using ROC\n",
    " 5. comment on whether cross-validation makes a difference in the results. \n",
    "<br/><span style=\"color:red\" float:right>[3 point]</span>"
   ]
  },
  {
   "cell_type": "code",
   "execution_count": 22,
   "metadata": {},
   "outputs": [],
   "source": [
    "import time"
   ]
  },
  {
   "cell_type": "code",
   "execution_count": 23,
   "metadata": {},
   "outputs": [],
   "source": [
    "# Add code to train logistic regression cross-validation (cv = 5)\n",
    "# make pipleline\n",
    "lrcv_pipeline = make_pipeline(StandardScaler(),\n",
    "                             LogisticRegressionCV(random_state=42, cv=5, class_weight='balanced'))\n"
   ]
  },
  {
   "cell_type": "code",
   "execution_count": 24,
   "metadata": {},
   "outputs": [
    {
     "name": "stdout",
     "output_type": "stream",
     "text": [
      "The total time to run the 5 fold training is: 1.442 seconds\n"
     ]
    }
   ],
   "source": [
    "# fit to the pipeline\n",
    "start = time.time()\n",
    "lrcv_pipeline.fit(X_train, y_train)\n",
    "\n",
    "# Add code to predict (hard and soft) on training and test features\n",
    "y_hat_hard_cv = lrcv_pipeline.predict(X_test)\n",
    "y_hat_soft_cv = lrcv_pipeline.predict_proba(X_test)[:,1]\n",
    "\n",
    "end = time.time()\n",
    "print('The total time to run the 5 fold training is:', round(end - start, 3), 'seconds')"
   ]
  },
  {
   "cell_type": "code",
   "execution_count": 25,
   "metadata": {},
   "outputs": [
    {
     "data": {
      "image/png": "[encoded data removed]",
      "text/plain": [
       "<Figure size 640x480 with 2 Axes>"
      ]
     },
     "metadata": {},
     "output_type": "display_data"
    }
   ],
   "source": [
    "# Add code to evaluate predictions using confusion matrix and its metrics\n",
    "conmat_hard_test = confusion_matrix(y_test, y_hat_hard_cv)\n",
    "cmd = ConfusionMatrixDisplay(confusion_matrix=conmat_hard_test, display_labels=[\"0\", \"1\"])\n",
    "font = {'weight' : 'bold', 'size'   : 16}\n",
    "plt.rc('font', **font)\n",
    "cmd.plot();\n",
    "plt.rcdefaults();"
   ]
  },
  {
   "cell_type": "code",
   "execution_count": 26,
   "metadata": {},
   "outputs": [
    {
     "name": "stdout",
     "output_type": "stream",
     "text": [
      "Accuracy: 0.742\n",
      "Score from model: 0.742\n",
      "              precision    recall  f1-score   support\n",
      "\n",
      "       False       0.96      0.75      0.84       400\n",
      "        True       0.20      0.68      0.32        38\n",
      "\n",
      "    accuracy                           0.74       438\n",
      "   macro avg       0.58      0.72      0.58       438\n",
      "weighted avg       0.90      0.74      0.80       438\n",
      "\n"
     ]
    }
   ],
   "source": [
    "# hard prediction report\n",
    "print(f'Accuracy: {accuracy_score(y_test, y_hat_hard_cv):.3f}')\n",
    "print(f'Score from model: {lrcv_pipeline.score(X_test, y_test):.3f}')\n",
    "print(classification_report(y_test, y_hat_hard_cv))"
   ]
  },
  {
   "cell_type": "code",
   "execution_count": 27,
   "metadata": {},
   "outputs": [
    {
     "data": {
      "image/png": "[encoded data removed]",
      "text/plain": [
       "<Figure size 640x480 with 1 Axes>"
      ]
     },
     "metadata": {},
     "output_type": "display_data"
    }
   ],
   "source": [
    "# soft prediction evaluation with roc of resampled data\n",
    "fpr, tpr, thresholds = roc_curve(y_test, y_hat_soft_cv)\n",
    "roc_auc = auc(fpr, tpr)\n",
    "\n",
    "plt.title('Receiver Operating Characteristic LR cv at 5')\n",
    "plt.plot(fpr, tpr, 'b', label = 'AUC = %0.2f' % roc_auc)\n",
    "plt.legend(loc = 'lower right')\n",
    "plt.plot([0, 1], [0, 1],'r--')\n",
    "plt.xlim([-0.1, 1.1])\n",
    "plt.ylim([-0.1, 1.1])\n",
    "plt.ylabel('True Positive Rate')\n",
    "plt.xlabel('False Positive Rate')\n",
    "plt.show()\n"
   ]
  },
  {
   "cell_type": "markdown",
   "metadata": {},
   "source": [
    "**This graph looked strange so I will try by not using a pipeline and just using the normalized training data from earlier.**"
   ]
  },
  {
   "cell_type": "markdown",
   "metadata": {},
   "source": [
    "#### Add comments on model evaluation and  cross-validation\n"
   ]
  },
  {
   "cell_type": "markdown",
   "metadata": {},
   "source": [
    "4. Increase the number of folds and train the CV model again:\n",
    " 1. train a cross-validation logistic regression\n",
    "    - Use the same `X_train` and `y_train`.\n",
    "    - You may want to use `random_state = 0` to make your results the same as others.\n",
    "    - Set the `cv` parameter to 10 \n",
    "    - Set `class_weight` so the weights are balanced\n",
    " 2. predict (hard and soft) on training and test features with `.predict()` and `.predict_proba()`\n",
    " 3. evaluate test and training predictions using confusion matrix (`confusion_matrix`) and its metrics (`classification_report`)\n",
    " 4. evaluate test and training predictions using ROC\n",
    " 5. comment on whether cross-validation makes a difference in the results. \n",
    "<br/><span style=\"color:red\" float:right>[2 point]</span>"
   ]
  },
  {
   "cell_type": "code",
   "execution_count": 28,
   "metadata": {
    "scrolled": true
   },
   "outputs": [],
   "source": [
    "# Add code to train logistic regression cross-validation (cv = 10)\n",
    "\n",
    "lrcv_pipeline10 = make_pipeline(StandardScaler(),\n",
    "                             LogisticRegressionCV(random_state=42, cv=10, class_weight='balanced'))\n"
   ]
  },
  {
   "cell_type": "code",
   "execution_count": 29,
   "metadata": {},
   "outputs": [
    {
     "name": "stdout",
     "output_type": "stream",
     "text": [
      "The total time to run the 10 fold training is: 2.771 seconds\n"
     ]
    }
   ],
   "source": [
    "# Add code to predict (hard and soft) on training and test features\n",
    "# fit to the pipeline\n",
    "start = time.time()\n",
    "lrcv_pipeline10.fit(X_train, y_train)\n",
    "\n",
    "# Add code to predict (hard and soft) on training and test features\n",
    "y_hat_hard_cv10 = lrcv_pipeline10.predict(X_test)\n",
    "y_hat_soft_cv10 = lrcv_pipeline10.predict_proba(X_test)[:,1]\n",
    "\n",
    "end = time.time()\n",
    "print('The total time to run the 10 fold training is:', round(end - start, 3), 'seconds')"
   ]
  },
  {
   "cell_type": "markdown",
   "metadata": {},
   "source": [
    "**This runtime for 10 fold cv is roughly double that of 5 fold.**"
   ]
  },
  {
   "cell_type": "code",
   "execution_count": 30,
   "metadata": {},
   "outputs": [
    {
     "data": {
      "image/png": "[encoded data removed]",
      "text/plain": [
       "<Figure size 640x480 with 2 Axes>"
      ]
     },
     "metadata": {},
     "output_type": "display_data"
    }
   ],
   "source": [
    "# Add code to evaluate model using confusion matrix and its metrics\n",
    "conmat_hard_test = confusion_matrix(y_test, y_hat_hard_cv10)\n",
    "cmd = ConfusionMatrixDisplay(confusion_matrix=conmat_hard_test, display_labels=[\"0\", \"1\"])\n",
    "font = {'weight' : 'bold', 'size'   : 16}\n",
    "plt.rc('font', **font)\n",
    "cmd.plot();\n",
    "plt.rcdefaults();"
   ]
  },
  {
   "cell_type": "code",
   "execution_count": 31,
   "metadata": {},
   "outputs": [
    {
     "name": "stdout",
     "output_type": "stream",
     "text": [
      "Accuracy: 0.737\n",
      "Score from model: 0.737\n",
      "              precision    recall  f1-score   support\n",
      "\n",
      "       False       0.97      0.73      0.84       400\n",
      "        True       0.21      0.76      0.34        38\n",
      "\n",
      "    accuracy                           0.74       438\n",
      "   macro avg       0.59      0.75      0.59       438\n",
      "weighted avg       0.90      0.74      0.79       438\n",
      "\n"
     ]
    }
   ],
   "source": [
    "# hard prediction report\n",
    "print(f'Accuracy: {accuracy_score(y_test, y_hat_hard_cv10):.3f}')\n",
    "print(f'Score from model: {lrcv_pipeline10.score(X_test, y_test):.3f}')\n",
    "print(classification_report(y_test, y_hat_hard_cv10))"
   ]
  },
  {
   "cell_type": "code",
   "execution_count": 32,
   "metadata": {},
   "outputs": [
    {
     "data": {
      "image/png": "[encoded data removed]",
      "text/plain": [
       "<Figure size 640x480 with 1 Axes>"
      ]
     },
     "metadata": {},
     "output_type": "display_data"
    }
   ],
   "source": [
    "# soft prediction evaluation with roc of lrcv at 10\n",
    "fpr, tpr, thresholds = roc_curve(y_test, y_hat_soft_cv10)\n",
    "roc_auc = auc(fpr, tpr)\n",
    "\n",
    "plt.title('Receiver Operating Characteristic LRCV at 10')\n",
    "plt.plot(fpr, tpr, 'b', label = 'AUC = %0.2f' % roc_auc)\n",
    "plt.legend(loc = 'lower right')\n",
    "plt.plot([0, 1], [0, 1],'r--')\n",
    "plt.xlim([-0.1, 1.1])\n",
    "plt.ylim([-0.1, 1.1])\n",
    "plt.ylabel('True Positive Rate')\n",
    "plt.xlabel('False Positive Rate')\n",
    "plt.show()"
   ]
  },
  {
   "cell_type": "markdown",
   "metadata": {},
   "source": [
    "#### Add comments on model evaluation and extended cross-validation\n",
    "**Adding the 5 extra folds brings our AUC from 0.71 to 0.75 meaning the model is slightly better. However, the training time is roughly double for only a .04 increase in performance. Looking at the accuracy, precision, f1-score are very similar. The 10 fold model is 8% better at predicting positive instances. This fact could make the compromise in training time worth it. The 5 fold model has a slightly better accuracy interestingly enough, but again, if we're more interested in positive instances and not necessarily overall performance this fact might not matter much.**"
   ]
  },
  {
   "cell_type": "markdown",
   "metadata": {},
   "source": [
    "5. What was the cost of increasing the number of folds in terms of training run-time? <span style=\"color:red\" float:right>[2 point]</span>"
   ]
  },
  {
   "cell_type": "code",
   "execution_count": 33,
   "metadata": {},
   "outputs": [
    {
     "name": "stdout",
     "output_type": "stream",
     "text": [
      "The time for training with 2 folds is 0.49 seconds\n",
      "The time for training with 3 folds is 0.80 seconds\n",
      "The time for training with 4 folds is 1.17 seconds\n",
      "The time for training with 5 folds is 1.41 seconds\n",
      "The time for training with 6 folds is 1.78 seconds\n",
      "The time for training with 7 folds is 2.03 seconds\n",
      "The time for training with 8 folds is 2.38 seconds\n",
      "The time for training with 9 folds is 2.64 seconds\n",
      "The time for training with 10 folds is 3.26 seconds\n"
     ]
    }
   ],
   "source": [
    "# Add code here to determine cost of increasing folds\n",
    "for i in range(2,11):\n",
    "    # get start time of loop\n",
    "    start = time.time()\n",
    "    # create pipeline with cv as variable\n",
    "    lrcv_pipeline = make_pipeline(StandardScaler(),\n",
    "                             LogisticRegressionCV(random_state=42, cv=i, class_weight='balanced'))\n",
    "    # fit lrcv_pipeline\n",
    "    lrcv_pipeline.fit(X_train, y_train)\n",
    "    end = time.time()\n",
    "    print(f'The time for training with {i} folds is {(end-start):.2f} seconds')\n",
    "    "
   ]
  },
  {
   "cell_type": "markdown",
   "metadata": {},
   "source": [
    "**From above when I was timing both the training and predicting it was clear that increasing the number of folds during training increases the run time of the cell. Using this for loop we can see how incrementally the training time increases with each fold increase. In both cases there is almost a 1:1 relationship with folds and training time where from 5 to 10 folds the training time nearly doubles.**\n"
   ]
  },
  {
   "cell_type": "markdown",
   "metadata": {},
   "source": [
    "# End of assignment"
   ]
  }
 ],
 "metadata": {
  "anaconda-cloud": {},
  "kernelspec": {
   "display_name": "Python 3 (ipykernel)",
   "language": "python",
   "name": "python3"
  },
  "language_info": {
   "codemirror_mode": {
    "name": "ipython",
    "version": 3
   },
   "file_extension": ".py",
   "mimetype": "text/x-python",
   "name": "python",
   "nbconvert_exporter": "python",
   "pygments_lexer": "ipython3",
   "version": "3.9.7"
  }
 },
 "nbformat": 4,
 "nbformat_minor": 4
}
