{
 "cells": [
  {
   "cell_type": "markdown",
   "metadata": {
    "tags": []
   },
   "source": [
    "# Assignment\n",
    "\n",
    "We saw a few examples of machine learning algorithms, so at this point it seems like once you get the data ready, machine learning is just \"plug and play\", but not so fast! \n",
    "\n",
    "In this assignment, we learn about **regularization**! Regularization is a means by which we can control how much a machine learning algorithm learns. The controlling is done using a parameter that the algorithm, called the **shrinkage parameter**, which is just an argument of the algorithm. The shrinkage parameter is an example of a **hyper-parameter**. A hyper-parameter is like a knob: by specifying a different value for the hyper-parameter, we control how the training happens, a process called **hyper-parameter tuning**. We talk about this is more detail in the next lesson.\n",
    "\n",
    "We will look at two examples of regularizaiton: LASSO and Ridge regression. Both LASSO and Ridge regression are implementations of linear regression where we try to minimize prediction error plus some penalty that depends on the model's parameters (or coefficients) and the shrinkage constant (`alpha` in the code below). LASSO penalizes the model's parameters using the sum of the **absolute values** of the parameters (this is also called **L1-regularization**), while Ridge does so based on the sum of the **squared values** of the parameters (this is also called **L2-regularization**). For reasons we cannot elaborate on here, **LASSO has the by-product that it also does feature selection**, whereas Ridge doesn't. So not all regularization results in feature selection."
   ]
  },
  {
   "cell_type": "code",
   "execution_count": 1,
   "metadata": {},
   "outputs": [],
   "source": [
    "import numpy as np\n",
    "import pandas as pd\n",
    "import seaborn as sns\n",
    "import matplotlib.pyplot as plt\n",
    "%matplotlib inline\n",
    "\n",
    "from sklearn.metrics import mean_squared_error\n",
    "from sklearn.ensemble import RandomForestRegressor\n",
    "from sklearn.linear_model import LinearRegression \n",
    "from sklearn.linear_model import Ridge\n",
    "from sklearn.linear_model import Lasso\n",
    "from sklearn.neighbors import KNeighborsRegressor \n",
    "from sklearn.svm import SVR"
   ]
  },
  {
   "cell_type": "markdown",
   "metadata": {},
   "source": [
    "## Root Mean Squared Error (RMSE)\n",
    "Before we dive into regularization we need to have a metric that tells us if our regression is good or bad.  For regressions we measure success differently than with classifications.  Instead of accuracy, the primary measure is **Root Mean Squared Error** (**RMSE**).  A **RMSE** of zero occurs when the predictions are perfect. **RMSE** increases as the predictions get worse. Let's disect the term **Root Mean Squared Error** by understanding each word from right to left.\n",
    "\n",
    "### Error\n",
    "The **E** in **RMSE** stands for **E**rror ($e_i$).  The error ($e_i$) is the difference between the known test target value ($y_i$) of sample $i$ and the predicted target value ($\\hat{y}_i$) based on the test inputs of sample $i$.\n",
    "$$e_i = y_i - \\hat{y}_i$$\n",
    "where\n",
    "- $e_i$ is the error of the $i$th sample\n",
    "- $y_i$ is the test target value of the $i$th sample\n",
    "- $\\hat{y}_i$ is the predicted target value from the inputs of the $i$th sample\n",
    "\n",
    "### Squared\n",
    "The **S** in **RMSE** stands for squared.  The errors ($e_i$) are squared: $(e_i)^2$.  \n",
    "\n",
    "### Mean\n",
    "The **M** in **RMSE** stands for mean.  We get the mean squared error (**MSE**) by taking the mean of all the squared errors in the sample:\n",
    "$$\\text{MSE} = \\frac{1}{n}\\sum_{i}(e_i)^2$$\n",
    "where\n",
    "- $\\text{MSE}$ is the mean squared error\n",
    "- $n$ is the number of samples\n",
    "\n",
    "### Root\n",
    "The **R** in **RMSE** stands for root.  We get the root mean squared error (**RMSE**) by taking the square root mean of **MSE**\n",
    "$$\\text{RMSE} = \\sqrt{\\text{MSE}}$$\n",
    "\n",
    "Both **MSE** and **RMSE** are used to measure the prediction error.  **RMSE** is often preferred because it is in the units of the target variable ($y$), whereas **MSE** is in units of the target variable squared ($y^2$)."
   ]
  },
  {
   "cell_type": "markdown",
   "metadata": {},
   "source": [
    "0. Compute error metrics.  \n",
    "<br/>\n",
    "To make sure we understand RMSE, lets do one small exercise.\n",
    "\n",
    "We have the following data:\n",
    "- The actual test target values are: `20, 15, 12, 17, 15, 14, 19, 17`\n",
    "- The predicted target values predicted from test inputs are: `19, 12, 12, 19, 17, 17, 17, 18`\n",
    "\n",
    "Determine and show\n",
    "1. the 8 errors\n",
    "2. the 8 squared errors derived from the errors\n",
    "3. the MSE derived from the 8 squared errors\n",
    "4. the RMSE derived from the MSE\n",
    "5. the RMSE derived from the actual test target values and the predicted target values using sklearn.metrics.mean_squared_error with squared=False\n",
    "<br/><span style=\"color:red\" float:right>[1 point]</span>"
   ]
  },
  {
   "cell_type": "code",
   "execution_count": 2,
   "metadata": {},
   "outputs": [
    {
     "name": "stdout",
     "output_type": "stream",
     "text": [
      "The error is:   [ 1  3  0 -2 -2 -3  2 -1]\n",
      "The square error is: [1 9 0 4 4 9 4 1]\n",
      "The mean square error is 4.0\n",
      "The RMSE is:   2.0\n",
      "The sklearn RMSE is:   2.0\n"
     ]
    }
   ],
   "source": [
    "# Convert the actual and target value arrays to np.array, find the difference, square, and sum\n",
    "test_vals = np.array([20, 15, 12, 17, 15, 14, 19, 17])\n",
    "target_vals = np.array([19, 12, 12, 19, 17, 17, 17, 18])\n",
    "\n",
    "err = np.subtract(test_vals, target_vals)\n",
    "print('The error is:  ',err)\n",
    "\n",
    "sq_err = np.square(err)\n",
    "print('The square error is:', sq_err)\n",
    "\n",
    "msq_err = np.mean(sq_err)\n",
    "print('The mean square error is', msq_err)\n",
    "\n",
    "def rmse_calc(test, target):\n",
    "    return np.sqrt(np.mean(np.square(np.subtract(test, target))))\n",
    "    \n",
    "rmsq_err = rmse_calc(test_vals, target_vals)\n",
    "print('The RMSE is:  ', rmsq_err)\n",
    "\n",
    "sk_rmse = mean_squared_error(test_vals, target_vals, squared=False)\n",
    "print('The sklearn RMSE is:  ',sk_rmse)"
   ]
  },
  {
   "cell_type": "markdown",
   "metadata": {},
   "source": [
    "**Reason: To make sure we understand RMSE, we compute error metrics with the following data:**\n",
    "\n",
    "The actual test target values are: 20, 15, 12, 17, 15, 14, 19, 17\n",
    "The predicted target values predicted from test inputs are: 19, 12, 12, 19, 17, 17, 17, 18\n",
    "\n",
    "And then we determine and show:\n",
    "\n",
    "the 8 errors\n",
    "the 8 squared errors derived from the errors\n",
    "the MSE derived from the 8 squared errors\n",
    "the RMSE derived from the MSE\n",
    "the RMSE derived from the actual test target values and the predicted target values using sklearn.metrics.mean_squared_error with squared=False"
   ]
  },
  {
   "cell_type": "markdown",
   "metadata": {},
   "source": [
    "**Conclusion: The RMSE of 2.0 indicates that the model is not very accurate. The errors are relatively small, but they are not small enough to be considered accurate. The sklearn RMSE of 2.0 confirms this conclusion.**\n",
    "\n",
    "**Summary of the results:**\n",
    "\n",
    "The error is the difference between the actual target value and the predicted target value.\n",
    "The squared error is the error squared.\n",
    "The mean squared error is the mean of the squared errors.\n",
    "The RMSE is the square root of the mean squared error.\n",
    "The sklearn RMSE is a function from scikit-learn that calculates the RMSE."
   ]
  },
  {
   "cell_type": "markdown",
   "metadata": {},
   "source": [
    "## Regularization\n",
    "Let's get back to the main portion of this assignment.  As always we will need data before we can do our work.  Here we will use the California Housing Data.  We will create regressions that predict the median house value in Californian communities.  You can find a description here:  https://www.kaggle.com/datasets/camnugent/california-housing-prices"
   ]
  },
  {
   "cell_type": "markdown",
   "metadata": {},
   "source": [
    "Present the size of the data frame and the first few rows and a histogram for `MedHouseVal`. <br/><span style=\"color:red\" float:right>[0 point]</span>"
   ]
  },
  {
   "cell_type": "code",
   "execution_count": 3,
   "metadata": {},
   "outputs": [],
   "source": [
    "# Get California Housing Data\n",
    "from sklearn.datasets import fetch_california_housing\n",
    "HousingCal = fetch_california_housing()\n",
    "# 20640 rows × 9 columns\n",
    "# MedInc, HouseAge, AveRooms, AveBedrms, Population, AveOccup, Latitude, Longitude, MedHouseVal,\n",
    "df_housing = pd.DataFrame(data=HousingCal['data'], columns=HousingCal['feature_names'])\n",
    "df_housing[HousingCal['target_names'][0]] = HousingCal['target']"
   ]
  },
  {
   "cell_type": "code",
   "execution_count": 4,
   "metadata": {},
   "outputs": [
    {
     "name": "stdout",
     "output_type": "stream",
     "text": [
      "(20640, 9)\n"
     ]
    },
    {
     "data": {
      "text/html": [
       "<div>\n",
       "<style scoped>\n",
       "    .dataframe tbody tr th:only-of-type {\n",
       "        vertical-align: middle;\n",
       "    }\n",
       "\n",
       "    .dataframe tbody tr th {\n",
       "        vertical-align: top;\n",
       "    }\n",
       "\n",
       "    .dataframe thead th {\n",
       "        text-align: right;\n",
       "    }\n",
       "</style>\n",
       "<table border=\"1\" class=\"dataframe\">\n",
       "  <thead>\n",
       "    <tr style=\"text-align: right;\">\n",
       "      <th></th>\n",
       "      <th>MedInc</th>\n",
       "      <th>HouseAge</th>\n",
       "      <th>AveRooms</th>\n",
       "      <th>AveBedrms</th>\n",
       "      <th>Population</th>\n",
       "      <th>AveOccup</th>\n",
       "      <th>Latitude</th>\n",
       "      <th>Longitude</th>\n",
       "      <th>MedHouseVal</th>\n",
       "    </tr>\n",
       "  </thead>\n",
       "  <tbody>\n",
       "    <tr>\n",
       "      <th>0</th>\n",
       "      <td>8.3252</td>\n",
       "      <td>41.0</td>\n",
       "      <td>6.984127</td>\n",
       "      <td>1.023810</td>\n",
       "      <td>322.0</td>\n",
       "      <td>2.555556</td>\n",
       "      <td>37.88</td>\n",
       "      <td>-122.23</td>\n",
       "      <td>4.526</td>\n",
       "    </tr>\n",
       "    <tr>\n",
       "      <th>1</th>\n",
       "      <td>8.3014</td>\n",
       "      <td>21.0</td>\n",
       "      <td>6.238137</td>\n",
       "      <td>0.971880</td>\n",
       "      <td>2401.0</td>\n",
       "      <td>2.109842</td>\n",
       "      <td>37.86</td>\n",
       "      <td>-122.22</td>\n",
       "      <td>3.585</td>\n",
       "    </tr>\n",
       "    <tr>\n",
       "      <th>2</th>\n",
       "      <td>7.2574</td>\n",
       "      <td>52.0</td>\n",
       "      <td>8.288136</td>\n",
       "      <td>1.073446</td>\n",
       "      <td>496.0</td>\n",
       "      <td>2.802260</td>\n",
       "      <td>37.85</td>\n",
       "      <td>-122.24</td>\n",
       "      <td>3.521</td>\n",
       "    </tr>\n",
       "    <tr>\n",
       "      <th>3</th>\n",
       "      <td>5.6431</td>\n",
       "      <td>52.0</td>\n",
       "      <td>5.817352</td>\n",
       "      <td>1.073059</td>\n",
       "      <td>558.0</td>\n",
       "      <td>2.547945</td>\n",
       "      <td>37.85</td>\n",
       "      <td>-122.25</td>\n",
       "      <td>3.413</td>\n",
       "    </tr>\n",
       "    <tr>\n",
       "      <th>4</th>\n",
       "      <td>3.8462</td>\n",
       "      <td>52.0</td>\n",
       "      <td>6.281853</td>\n",
       "      <td>1.081081</td>\n",
       "      <td>565.0</td>\n",
       "      <td>2.181467</td>\n",
       "      <td>37.85</td>\n",
       "      <td>-122.25</td>\n",
       "      <td>3.422</td>\n",
       "    </tr>\n",
       "    <tr>\n",
       "      <th>5</th>\n",
       "      <td>4.0368</td>\n",
       "      <td>52.0</td>\n",
       "      <td>4.761658</td>\n",
       "      <td>1.103627</td>\n",
       "      <td>413.0</td>\n",
       "      <td>2.139896</td>\n",
       "      <td>37.85</td>\n",
       "      <td>-122.25</td>\n",
       "      <td>2.697</td>\n",
       "    </tr>\n",
       "    <tr>\n",
       "      <th>6</th>\n",
       "      <td>3.6591</td>\n",
       "      <td>52.0</td>\n",
       "      <td>4.931907</td>\n",
       "      <td>0.951362</td>\n",
       "      <td>1094.0</td>\n",
       "      <td>2.128405</td>\n",
       "      <td>37.84</td>\n",
       "      <td>-122.25</td>\n",
       "      <td>2.992</td>\n",
       "    </tr>\n",
       "    <tr>\n",
       "      <th>7</th>\n",
       "      <td>3.1200</td>\n",
       "      <td>52.0</td>\n",
       "      <td>4.797527</td>\n",
       "      <td>1.061824</td>\n",
       "      <td>1157.0</td>\n",
       "      <td>1.788253</td>\n",
       "      <td>37.84</td>\n",
       "      <td>-122.25</td>\n",
       "      <td>2.414</td>\n",
       "    </tr>\n",
       "    <tr>\n",
       "      <th>8</th>\n",
       "      <td>2.0804</td>\n",
       "      <td>42.0</td>\n",
       "      <td>4.294118</td>\n",
       "      <td>1.117647</td>\n",
       "      <td>1206.0</td>\n",
       "      <td>2.026891</td>\n",
       "      <td>37.84</td>\n",
       "      <td>-122.26</td>\n",
       "      <td>2.267</td>\n",
       "    </tr>\n",
       "    <tr>\n",
       "      <th>9</th>\n",
       "      <td>3.6912</td>\n",
       "      <td>52.0</td>\n",
       "      <td>4.970588</td>\n",
       "      <td>0.990196</td>\n",
       "      <td>1551.0</td>\n",
       "      <td>2.172269</td>\n",
       "      <td>37.84</td>\n",
       "      <td>-122.25</td>\n",
       "      <td>2.611</td>\n",
       "    </tr>\n",
       "  </tbody>\n",
       "</table>\n",
       "</div>"
      ],
      "text/plain": [
       "   MedInc  HouseAge  AveRooms  AveBedrms  Population  AveOccup  Latitude  \\\n",
       "0  8.3252      41.0  6.984127   1.023810       322.0  2.555556     37.88   \n",
       "1  8.3014      21.0  6.238137   0.971880      2401.0  2.109842     37.86   \n",
       "2  7.2574      52.0  8.288136   1.073446       496.0  2.802260     37.85   \n",
       "3  5.6431      52.0  5.817352   1.073059       558.0  2.547945     37.85   \n",
       "4  3.8462      52.0  6.281853   1.081081       565.0  2.181467     37.85   \n",
       "5  4.0368      52.0  4.761658   1.103627       413.0  2.139896     37.85   \n",
       "6  3.6591      52.0  4.931907   0.951362      1094.0  2.128405     37.84   \n",
       "7  3.1200      52.0  4.797527   1.061824      1157.0  1.788253     37.84   \n",
       "8  2.0804      42.0  4.294118   1.117647      1206.0  2.026891     37.84   \n",
       "9  3.6912      52.0  4.970588   0.990196      1551.0  2.172269     37.84   \n",
       "\n",
       "   Longitude  MedHouseVal  \n",
       "0    -122.23        4.526  \n",
       "1    -122.22        3.585  \n",
       "2    -122.24        3.521  \n",
       "3    -122.25        3.413  \n",
       "4    -122.25        3.422  \n",
       "5    -122.25        2.697  \n",
       "6    -122.25        2.992  \n",
       "7    -122.25        2.414  \n",
       "8    -122.26        2.267  \n",
       "9    -122.25        2.611  "
      ]
     },
     "execution_count": 4,
     "metadata": {},
     "output_type": "execute_result"
    }
   ],
   "source": [
    "# Size of the data frame\n",
    "print(df_housing.shape)\n",
    "\n",
    "# First few rows\n",
    "df_housing.head(10)"
   ]
  },
  {
   "cell_type": "code",
   "execution_count": 5,
   "metadata": {},
   "outputs": [
    {
     "data": {
      "image/png": "[encoded data removed]",
      "text/plain": [
       "<Figure size 432x288 with 1 Axes>"
      ]
     },
     "metadata": {
      "needs_background": "light"
     },
     "output_type": "display_data"
    }
   ],
   "source": [
    "# Histogram for MedHouseVal\n",
    "plt.hist(df_housing['MedHouseVal'], bins=10)\n",
    "plt.xlabel('MedHouseVal')\n",
    "plt.ylabel('Count')\n",
    "plt.show()"
   ]
  },
  {
   "cell_type": "markdown",
   "metadata": {},
   "source": [
    "It is better to create a model that is limited in its scope, than to include data that are difficult to interpret.  In this case, the prices for houses greater or equal to 5, are mostly incorrect.  "
   ]
  },
  {
   "cell_type": "markdown",
   "metadata": {},
   "source": [
    "1. Prepare the data\n",
    "\n",
    "Prepare the data by doing the following:\n",
    "1. remove the houses where `MedHouseVal` is greater or equal to 5 and present another histogram of `MedHouseVal`\n",
    "2. remove `Latitude` and `Longitude` because we haven't learned yet how to make these useful\n",
    "3. split the data into features and target\n",
    "4. split the features and target into training and test sets\n",
    "5. normalize the training and test features based on the training data\n",
    "<br/><span style=\"color:red\" float:right>[1 point]</span>"
   ]
  },
  {
   "cell_type": "code",
   "execution_count": 6,
   "metadata": {},
   "outputs": [
    {
     "data": {
      "text/plain": [
       "Text(0.5, 0, 'Price')"
      ]
     },
     "execution_count": 6,
     "metadata": {},
     "output_type": "execute_result"
    },
    {
     "data": {
      "image/png": "[encoded data removed]",
      "text/plain": [
       "<Figure size 432x288 with 1 Axes>"
      ]
     },
     "metadata": {
      "needs_background": "light"
     },
     "output_type": "display_data"
    }
   ],
   "source": [
    "# Add code here\n",
    "# remove the houses where `MedHouseVal` is greater or equal to 5\n",
    "df_housing = df_housing[df_housing[\"MedHouseVal\"] < 5]\n",
    "# Present histogram of MedHouseVal\n",
    "plt.hist(df_housing[\"MedHouseVal\"], bins=10)\n",
    "plt.ylabel(\"Number of houses\")\n",
    "plt.xlabel(\"Price\")"
   ]
  },
  {
   "cell_type": "code",
   "execution_count": 7,
   "metadata": {},
   "outputs": [
    {
     "data": {
      "text/html": [
       "<div>\n",
       "<style scoped>\n",
       "    .dataframe tbody tr th:only-of-type {\n",
       "        vertical-align: middle;\n",
       "    }\n",
       "\n",
       "    .dataframe tbody tr th {\n",
       "        vertical-align: top;\n",
       "    }\n",
       "\n",
       "    .dataframe thead th {\n",
       "        text-align: right;\n",
       "    }\n",
       "</style>\n",
       "<table border=\"1\" class=\"dataframe\">\n",
       "  <thead>\n",
       "    <tr style=\"text-align: right;\">\n",
       "      <th></th>\n",
       "      <th>MedInc</th>\n",
       "      <th>HouseAge</th>\n",
       "      <th>AveRooms</th>\n",
       "      <th>AveBedrms</th>\n",
       "      <th>Population</th>\n",
       "      <th>AveOccup</th>\n",
       "      <th>MedHouseVal</th>\n",
       "    </tr>\n",
       "  </thead>\n",
       "  <tbody>\n",
       "    <tr>\n",
       "      <th>0</th>\n",
       "      <td>8.3252</td>\n",
       "      <td>41.0</td>\n",
       "      <td>6.984127</td>\n",
       "      <td>1.023810</td>\n",
       "      <td>322.0</td>\n",
       "      <td>2.555556</td>\n",
       "      <td>4.526</td>\n",
       "    </tr>\n",
       "    <tr>\n",
       "      <th>1</th>\n",
       "      <td>8.3014</td>\n",
       "      <td>21.0</td>\n",
       "      <td>6.238137</td>\n",
       "      <td>0.971880</td>\n",
       "      <td>2401.0</td>\n",
       "      <td>2.109842</td>\n",
       "      <td>3.585</td>\n",
       "    </tr>\n",
       "    <tr>\n",
       "      <th>2</th>\n",
       "      <td>7.2574</td>\n",
       "      <td>52.0</td>\n",
       "      <td>8.288136</td>\n",
       "      <td>1.073446</td>\n",
       "      <td>496.0</td>\n",
       "      <td>2.802260</td>\n",
       "      <td>3.521</td>\n",
       "    </tr>\n",
       "    <tr>\n",
       "      <th>3</th>\n",
       "      <td>5.6431</td>\n",
       "      <td>52.0</td>\n",
       "      <td>5.817352</td>\n",
       "      <td>1.073059</td>\n",
       "      <td>558.0</td>\n",
       "      <td>2.547945</td>\n",
       "      <td>3.413</td>\n",
       "    </tr>\n",
       "    <tr>\n",
       "      <th>4</th>\n",
       "      <td>3.8462</td>\n",
       "      <td>52.0</td>\n",
       "      <td>6.281853</td>\n",
       "      <td>1.081081</td>\n",
       "      <td>565.0</td>\n",
       "      <td>2.181467</td>\n",
       "      <td>3.422</td>\n",
       "    </tr>\n",
       "    <tr>\n",
       "      <th>...</th>\n",
       "      <td>...</td>\n",
       "      <td>...</td>\n",
       "      <td>...</td>\n",
       "      <td>...</td>\n",
       "      <td>...</td>\n",
       "      <td>...</td>\n",
       "      <td>...</td>\n",
       "    </tr>\n",
       "    <tr>\n",
       "      <th>20635</th>\n",
       "      <td>1.5603</td>\n",
       "      <td>25.0</td>\n",
       "      <td>5.045455</td>\n",
       "      <td>1.133333</td>\n",
       "      <td>845.0</td>\n",
       "      <td>2.560606</td>\n",
       "      <td>0.781</td>\n",
       "    </tr>\n",
       "    <tr>\n",
       "      <th>20636</th>\n",
       "      <td>2.5568</td>\n",
       "      <td>18.0</td>\n",
       "      <td>6.114035</td>\n",
       "      <td>1.315789</td>\n",
       "      <td>356.0</td>\n",
       "      <td>3.122807</td>\n",
       "      <td>0.771</td>\n",
       "    </tr>\n",
       "    <tr>\n",
       "      <th>20637</th>\n",
       "      <td>1.7000</td>\n",
       "      <td>17.0</td>\n",
       "      <td>5.205543</td>\n",
       "      <td>1.120092</td>\n",
       "      <td>1007.0</td>\n",
       "      <td>2.325635</td>\n",
       "      <td>0.923</td>\n",
       "    </tr>\n",
       "    <tr>\n",
       "      <th>20638</th>\n",
       "      <td>1.8672</td>\n",
       "      <td>18.0</td>\n",
       "      <td>5.329513</td>\n",
       "      <td>1.171920</td>\n",
       "      <td>741.0</td>\n",
       "      <td>2.123209</td>\n",
       "      <td>0.847</td>\n",
       "    </tr>\n",
       "    <tr>\n",
       "      <th>20639</th>\n",
       "      <td>2.3886</td>\n",
       "      <td>16.0</td>\n",
       "      <td>5.254717</td>\n",
       "      <td>1.162264</td>\n",
       "      <td>1387.0</td>\n",
       "      <td>2.616981</td>\n",
       "      <td>0.894</td>\n",
       "    </tr>\n",
       "  </tbody>\n",
       "</table>\n",
       "<p>19648 rows × 7 columns</p>\n",
       "</div>"
      ],
      "text/plain": [
       "       MedInc  HouseAge  AveRooms  AveBedrms  Population  AveOccup  \\\n",
       "0      8.3252      41.0  6.984127   1.023810       322.0  2.555556   \n",
       "1      8.3014      21.0  6.238137   0.971880      2401.0  2.109842   \n",
       "2      7.2574      52.0  8.288136   1.073446       496.0  2.802260   \n",
       "3      5.6431      52.0  5.817352   1.073059       558.0  2.547945   \n",
       "4      3.8462      52.0  6.281853   1.081081       565.0  2.181467   \n",
       "...       ...       ...       ...        ...         ...       ...   \n",
       "20635  1.5603      25.0  5.045455   1.133333       845.0  2.560606   \n",
       "20636  2.5568      18.0  6.114035   1.315789       356.0  3.122807   \n",
       "20637  1.7000      17.0  5.205543   1.120092      1007.0  2.325635   \n",
       "20638  1.8672      18.0  5.329513   1.171920       741.0  2.123209   \n",
       "20639  2.3886      16.0  5.254717   1.162264      1387.0  2.616981   \n",
       "\n",
       "       MedHouseVal  \n",
       "0            4.526  \n",
       "1            3.585  \n",
       "2            3.521  \n",
       "3            3.413  \n",
       "4            3.422  \n",
       "...            ...  \n",
       "20635        0.781  \n",
       "20636        0.771  \n",
       "20637        0.923  \n",
       "20638        0.847  \n",
       "20639        0.894  \n",
       "\n",
       "[19648 rows x 7 columns]"
      ]
     },
     "execution_count": 7,
     "metadata": {},
     "output_type": "execute_result"
    }
   ],
   "source": [
    "# Add code here\n",
    "# remove `Latitude` and `Longitude`\n",
    "df_housing.drop(['Latitude', 'Longitude'], axis=1)"
   ]
  },
  {
   "cell_type": "code",
   "execution_count": 8,
   "metadata": {},
   "outputs": [],
   "source": [
    "# Add code here\n",
    "from sklearn.model_selection import train_test_split\n",
    "from sklearn.preprocessing import StandardScaler\n",
    "# split the data into features and target\n",
    "X = df_housing[[x for x in df_housing.columns if x != \"MedHouseVal\"]]\n",
    "y = df_housing[\"MedHouseVal\"]\n",
    "\n",
    "# split the features and target into training and test sets\n",
    "X_train, X_test, y_train, y_test = train_test_split(X, y, test_size = 0.25)\n",
    "\n",
    "# normalize the training and test features based on the training data \n",
    "# create a scaler object\n",
    "scaler = StandardScaler()\n",
    "# Fit on training set only.\n",
    "scaler.fit(X_train)\n",
    "# Apply transform to both the training set and the test set.\n",
    "X_train = scaler.transform(X_train)\n",
    "X_test = scaler.transform(X_test)"
   ]
  },
  {
   "cell_type": "markdown",
   "metadata": {},
   "source": [
    "**Reason: To prepare the data**\n",
    "\n",
    "and prepare the data by doing the following:\n",
    "1. remove the houses where `MedHouseVal` is greater or equal to 5 and present another histogram of `MedHouseVal`\n",
    "2. remove `Latitude` and `Longitude` because we haven't learned yet how to make these useful\n",
    "3. split the data into features and target\n",
    "4. split the features and target into training and test sets\n",
    "5. normalize the training and test features based on the training data"
   ]
  },
  {
   "cell_type": "markdown",
   "metadata": {},
   "source": [
    "**Conclusion: Completed the following:**\n",
    "1. Removed the houses where `MedHouseVal` is greater or equal to 5 and present another histogram of `MedHouseVal`\n",
    "2. Removed `Latitude` and `Longitude` because we haven't learned yet how to make these useful\n",
    "3. Split the data into features and target\n",
    "4. Split the features and target into training and test sets\n",
    "5. Normalized the training and test features based on the training data"
   ]
  },
  {
   "cell_type": "markdown",
   "metadata": {},
   "source": [
    "2. Train and Predict\n",
    "- Train a linear regression algorithm, using `LinearRegression` from `sklearn.linear_model`, to predict `MedHouseVal` on the prepared data.\n",
    "- predict benchmark values for both training and test data sets.\n",
    "<br/><span style=\"color:red\" float:right>[1 point]</span>"
   ]
  },
  {
   "cell_type": "code",
   "execution_count": 9,
   "metadata": {},
   "outputs": [],
   "source": [
    "# Add code here\n",
    "from sklearn.linear_model import LinearRegression\n",
    "\n",
    "linreg = LinearRegression()\n",
    "linreg.fit(X_train, y_train)\n",
    "\n",
    "y_hat_train_benchmark = linreg.predict(X_train)\n",
    "y_hat_test_benchmark = linreg.predict(X_test)"
   ]
  },
  {
   "cell_type": "markdown",
   "metadata": {},
   "source": [
    "3. Evaluate the model\n",
    "<br/>Calculate and report the performance (RMSE) on both training and test data. These numbers will serve as our benchmark performance. As a sanity check, create a scatter plot of the bench mark predictions against the actual values for the each of the two (train, test) data sets.\n",
    "<br/><span style=\"color:red\" float:right>[2 point]</span>"
   ]
  },
  {
   "cell_type": "code",
   "execution_count": 10,
   "metadata": {},
   "outputs": [
    {
     "name": "stdout",
     "output_type": "stream",
     "text": [
      "Train RMSE: 0.6325334059682699\n",
      "Test RMSE: 0.6369204459210364\n"
     ]
    }
   ],
   "source": [
    "# Calculate and report RMSE\n",
    "linreg_train_RMSE = mean_squared_error(y_true=y_train, y_pred=y_hat_train_benchmark, squared=False)\n",
    "linreg_test_RMSE = mean_squared_error(y_true=y_test, y_pred=y_hat_test_benchmark, squared=False)\n",
    "print(f\"Train RMSE: {linreg_train_RMSE}\")\n",
    "print(f\"Test RMSE: {linreg_test_RMSE}\")"
   ]
  },
  {
   "cell_type": "code",
   "execution_count": 11,
   "metadata": {},
   "outputs": [
    {
     "data": {
      "image/png": "[encoded data removed]",
      "text/plain": [
       "<Figure size 432x288 with 1 Axes>"
      ]
     },
     "metadata": {
      "needs_background": "light"
     },
     "output_type": "display_data"
    }
   ],
   "source": [
    "# Scatter plot of the bench mark predictions against the actual values\n",
    "plt.scatter(x=y_hat_test_benchmark, y=y_test, alpha=0.5)\n",
    "plt.xlabel('Prediction')\n",
    "plt.ylabel('Actual')\n",
    "plt.show()"
   ]
  },
  {
   "cell_type": "markdown",
   "metadata": {},
   "source": [
    "**Reason: To evaluate the model. Calculate and report the performance (RMSE) on both training and test data. These numbers will serve as our benchmark performance. As a sanity check, I create a scatter plot of the bench mark predictions against the actual values for the each of the two (train, test) data sets.**"
   ]
  },
  {
   "cell_type": "markdown",
   "metadata": {},
   "source": [
    "**Conclusion: The code calculates the RMSE on both the training and test data, and then plots the benchmark predictions against the actual values. The RMSE on the training data is 0.6328184407899279, and the RMSE on the test data is 0.6388506077735451. These RMSE values are relatively high, which indicates that the model is not very accurate. The scatter plot shows that the predictions are generally close to the actual values, but there is a fair amount of scatter. The conclusion of this code is that the model is not very accurate, and there is a fair amount of variance in the predictions.**"
   ]
  },
  {
   "cell_type": "markdown",
   "metadata": {},
   "source": [
    "We now train a regularized version of `LinearRegression` called `Lasso` (you can load it from the sklearn.linear_model.Lasso). `Lasso` has an argument called `alpha`, which is the **shrinkage parameter** we referred to earlier.\n",
    "\n",
    "4. Let `alpha = 0.000001` and train a `Lasso` model. Show that the resulting model is practically identical to the one we trained with `LinearRegression`. There are different ways to show this, so you will need to think of a way. <span style=\"color:red\" float:right>[2 point]</span>"
   ]
  },
  {
   "cell_type": "code",
   "execution_count": 12,
   "metadata": {},
   "outputs": [
    {
     "name": "stdout",
     "output_type": "stream",
     "text": [
      "Train RMSE for Lasso model: 0.6325334060087647\n",
      "Test RMSE for Lasso model: 0.6369204894767192\n",
      "Difference in RMSE values between 2 moles.\n",
      "Train: Lasso RMSE - Linreg RMSE = 4.049482971169027e-11 \n",
      "Test: Lasso RMSE - Linreg RMSE = 0.0043870835084492965\n"
     ]
    }
   ],
   "source": [
    "from sklearn.linear_model import Lasso\n",
    "# Add code here\n",
    "alpha = 0.000001\n",
    "lasso = Lasso(alpha=alpha)\n",
    "# Train the model\n",
    "lasso.fit(X_train, y_train)\n",
    "\n",
    "y_hat_train_benchmark_lasso = lasso.predict(X_train)\n",
    "y_hat_test_benchmark_lasso = lasso.predict(X_test)\n",
    "# Add code here\n",
    "# Compare the models\n",
    "lasso_train_RMSE = mean_squared_error(y_true=y_train, y_pred=y_hat_train_benchmark_lasso, squared=False)\n",
    "lasso_test_RMSE = mean_squared_error(y_true=y_test, y_pred=y_hat_test_benchmark_lasso, squared=False)\n",
    "print(f\"Train RMSE for Lasso model: {lasso_train_RMSE}\")\n",
    "print(f\"Test RMSE for Lasso model: {lasso_test_RMSE}\")\n",
    "\n",
    "print(f\"Difference in RMSE values between 2 moles.\\nTrain: Lasso RMSE - Linreg RMSE = {lasso_train_RMSE - linreg_train_RMSE} \\nTest: Lasso RMSE - Linreg RMSE = {lasso_test_RMSE - linreg_train_RMSE}\")"
   ]
  },
  {
   "cell_type": "code",
   "execution_count": 13,
   "metadata": {},
   "outputs": [
    {
     "data": {
      "image/png": "[encoded data removed]",
      "text/plain": [
       "<Figure size 432x288 with 1 Axes>"
      ]
     },
     "metadata": {
      "needs_background": "light"
     },
     "output_type": "display_data"
    }
   ],
   "source": [
    "# Display the similarities between Lasso and Linreg similarities by overlapping two scatter plots from the test results\n",
    "plt.scatter(\n",
    "    x=y_hat_test_benchmark, y=y_test, c=\"red\", alpha=0.5, label=\"Linear regression\", marker=\"o\"\n",
    ")\n",
    "plt.scatter(\n",
    "    x=y_hat_test_benchmark_lasso,\n",
    "    y=y_test,\n",
    "    c=\"green\",\n",
    "    alpha=0.5,\n",
    "    label=\"Lasso\",\n",
    "    marker=\"x\",\n",
    ")\n",
    "plt.xlabel(\"Prediction\")\n",
    "plt.ylabel(\"Actual\")\n",
    "plt.legend(loc=\"upper left\")  # Adds a legend at the upper left corner\n",
    "plt.show()"
   ]
  },
  {
   "cell_type": "markdown",
   "metadata": {},
   "source": [
    "#### Comment on the comparison\n",
    "The comparison of the two models shows that they are practically identical. The RMSE values for the two models are very similar, and the scatter plots of the predictions from the two models are almost indistinguishable. The only difference between the two models is that the Lasso model has slightly fewer coefficients than the LinearRegression model. This is because the Lasso model uses regularization to shrink the coefficients, which can help to prevent overfitting.\n",
    "\n",
    "The difference in RMSE values between the two models is very small. On the training data, the Lasso model has a slightly lower RMSE value than the LinearRegression model, but on the test data, the Lasso model has a slightly higher RMSE value. This suggests that the Lasso model is slightly overfitting the training data, but it is still a very good model.\n",
    "\n",
    "**Overall, the comparison of the two models shows that the Lasso model is practically identical to the LinearRegression model. The Lasso model has slightly fewer coefficients, but it has a very similar RMSE value. This suggests that the Lasso model is a good choice for this dataset, as it can help to prevent overfitting without sacrificing too much accuracy.**"
   ]
  },
  {
   "cell_type": "markdown",
   "metadata": {},
   "source": [
    "5. Get regression coefficients and performance metrics for varying alpha.  The performance metrics are  RMSE for training and test data.  \n",
    "<span style=\"color:red\" float:right>[5 point]</span>"
   ]
  },
  {
   "cell_type": "code",
   "execution_count": 14,
   "metadata": {},
   "outputs": [],
   "source": [
    "# The alpha column contains the values we want to iterate over\n",
    "# The other columns are for storing the coefficients of the lasso regressions\n",
    "Coefficients = pd.DataFrame(data=np.arange(0.01, 1, .01), columns=['alpha'])\n",
    "Coefficients[list(X.columns) + ['RMSE_train', 'RMSE_test']] = 0"
   ]
  },
  {
   "cell_type": "markdown",
   "metadata": {},
   "source": [
    "To make it easier, we have laid out a suggestion for the code. You can use our layout or you can design your own code.\n",
    "For each iteration in the suggested design:    \n",
    "- Train a new `Lasso` model, letting `alpha` change each time to one of the values given by `alpha_vals` below.  \n",
    "- For each value of `alpha` in `Coefficients`, retrieve the coefficients from the `coef_` attribute of the trained model. \n",
    "- Store the coefficients in `Coefficients`\n",
    "- Predict the training labels, e.g. `y_hat_train`\n",
    "- Determine the rmse of the training data, e.g. `rmse_train`\n",
    "- Store the rmse of the training data in `Coefficients`\n",
    "- Predict the test labels, e.g. `y_hat_test`\n",
    "- Determine the rmse of the test data, e.g. `rmse_test`\n",
    "- Store the rmse of the test data in `Coefficients`"
   ]
  },
  {
   "cell_type": "code",
   "execution_count": 15,
   "metadata": {},
   "outputs": [
    {
     "data": {
      "text/html": [
       "<div>\n",
       "<style scoped>\n",
       "    .dataframe tbody tr th:only-of-type {\n",
       "        vertical-align: middle;\n",
       "    }\n",
       "\n",
       "    .dataframe tbody tr th {\n",
       "        vertical-align: top;\n",
       "    }\n",
       "\n",
       "    .dataframe thead th {\n",
       "        text-align: right;\n",
       "    }\n",
       "</style>\n",
       "<table border=\"1\" class=\"dataframe\">\n",
       "  <thead>\n",
       "    <tr style=\"text-align: right;\">\n",
       "      <th></th>\n",
       "      <th>alpha</th>\n",
       "      <th>MedInc</th>\n",
       "      <th>HouseAge</th>\n",
       "      <th>AveRooms</th>\n",
       "      <th>AveBedrms</th>\n",
       "      <th>Population</th>\n",
       "      <th>AveOccup</th>\n",
       "      <th>Latitude</th>\n",
       "      <th>Longitude</th>\n",
       "      <th>RMSE_train</th>\n",
       "      <th>RMSE_test</th>\n",
       "    </tr>\n",
       "  </thead>\n",
       "  <tbody>\n",
       "    <tr>\n",
       "      <th>0</th>\n",
       "      <td>0.01</td>\n",
       "      <td>0</td>\n",
       "      <td>0</td>\n",
       "      <td>0</td>\n",
       "      <td>0</td>\n",
       "      <td>0</td>\n",
       "      <td>0</td>\n",
       "      <td>0</td>\n",
       "      <td>0</td>\n",
       "      <td>0</td>\n",
       "      <td>0</td>\n",
       "    </tr>\n",
       "    <tr>\n",
       "      <th>1</th>\n",
       "      <td>0.02</td>\n",
       "      <td>0</td>\n",
       "      <td>0</td>\n",
       "      <td>0</td>\n",
       "      <td>0</td>\n",
       "      <td>0</td>\n",
       "      <td>0</td>\n",
       "      <td>0</td>\n",
       "      <td>0</td>\n",
       "      <td>0</td>\n",
       "      <td>0</td>\n",
       "    </tr>\n",
       "    <tr>\n",
       "      <th>2</th>\n",
       "      <td>0.03</td>\n",
       "      <td>0</td>\n",
       "      <td>0</td>\n",
       "      <td>0</td>\n",
       "      <td>0</td>\n",
       "      <td>0</td>\n",
       "      <td>0</td>\n",
       "      <td>0</td>\n",
       "      <td>0</td>\n",
       "      <td>0</td>\n",
       "      <td>0</td>\n",
       "    </tr>\n",
       "    <tr>\n",
       "      <th>3</th>\n",
       "      <td>0.04</td>\n",
       "      <td>0</td>\n",
       "      <td>0</td>\n",
       "      <td>0</td>\n",
       "      <td>0</td>\n",
       "      <td>0</td>\n",
       "      <td>0</td>\n",
       "      <td>0</td>\n",
       "      <td>0</td>\n",
       "      <td>0</td>\n",
       "      <td>0</td>\n",
       "    </tr>\n",
       "    <tr>\n",
       "      <th>4</th>\n",
       "      <td>0.05</td>\n",
       "      <td>0</td>\n",
       "      <td>0</td>\n",
       "      <td>0</td>\n",
       "      <td>0</td>\n",
       "      <td>0</td>\n",
       "      <td>0</td>\n",
       "      <td>0</td>\n",
       "      <td>0</td>\n",
       "      <td>0</td>\n",
       "      <td>0</td>\n",
       "    </tr>\n",
       "    <tr>\n",
       "      <th>...</th>\n",
       "      <td>...</td>\n",
       "      <td>...</td>\n",
       "      <td>...</td>\n",
       "      <td>...</td>\n",
       "      <td>...</td>\n",
       "      <td>...</td>\n",
       "      <td>...</td>\n",
       "      <td>...</td>\n",
       "      <td>...</td>\n",
       "      <td>...</td>\n",
       "      <td>...</td>\n",
       "    </tr>\n",
       "    <tr>\n",
       "      <th>94</th>\n",
       "      <td>0.95</td>\n",
       "      <td>0</td>\n",
       "      <td>0</td>\n",
       "      <td>0</td>\n",
       "      <td>0</td>\n",
       "      <td>0</td>\n",
       "      <td>0</td>\n",
       "      <td>0</td>\n",
       "      <td>0</td>\n",
       "      <td>0</td>\n",
       "      <td>0</td>\n",
       "    </tr>\n",
       "    <tr>\n",
       "      <th>95</th>\n",
       "      <td>0.96</td>\n",
       "      <td>0</td>\n",
       "      <td>0</td>\n",
       "      <td>0</td>\n",
       "      <td>0</td>\n",
       "      <td>0</td>\n",
       "      <td>0</td>\n",
       "      <td>0</td>\n",
       "      <td>0</td>\n",
       "      <td>0</td>\n",
       "      <td>0</td>\n",
       "    </tr>\n",
       "    <tr>\n",
       "      <th>96</th>\n",
       "      <td>0.97</td>\n",
       "      <td>0</td>\n",
       "      <td>0</td>\n",
       "      <td>0</td>\n",
       "      <td>0</td>\n",
       "      <td>0</td>\n",
       "      <td>0</td>\n",
       "      <td>0</td>\n",
       "      <td>0</td>\n",
       "      <td>0</td>\n",
       "      <td>0</td>\n",
       "    </tr>\n",
       "    <tr>\n",
       "      <th>97</th>\n",
       "      <td>0.98</td>\n",
       "      <td>0</td>\n",
       "      <td>0</td>\n",
       "      <td>0</td>\n",
       "      <td>0</td>\n",
       "      <td>0</td>\n",
       "      <td>0</td>\n",
       "      <td>0</td>\n",
       "      <td>0</td>\n",
       "      <td>0</td>\n",
       "      <td>0</td>\n",
       "    </tr>\n",
       "    <tr>\n",
       "      <th>98</th>\n",
       "      <td>0.99</td>\n",
       "      <td>0</td>\n",
       "      <td>0</td>\n",
       "      <td>0</td>\n",
       "      <td>0</td>\n",
       "      <td>0</td>\n",
       "      <td>0</td>\n",
       "      <td>0</td>\n",
       "      <td>0</td>\n",
       "      <td>0</td>\n",
       "      <td>0</td>\n",
       "    </tr>\n",
       "  </tbody>\n",
       "</table>\n",
       "<p>99 rows × 11 columns</p>\n",
       "</div>"
      ],
      "text/plain": [
       "    alpha  MedInc  HouseAge  AveRooms  AveBedrms  Population  AveOccup  \\\n",
       "0    0.01       0         0         0          0           0         0   \n",
       "1    0.02       0         0         0          0           0         0   \n",
       "2    0.03       0         0         0          0           0         0   \n",
       "3    0.04       0         0         0          0           0         0   \n",
       "4    0.05       0         0         0          0           0         0   \n",
       "..    ...     ...       ...       ...        ...         ...       ...   \n",
       "94   0.95       0         0         0          0           0         0   \n",
       "95   0.96       0         0         0          0           0         0   \n",
       "96   0.97       0         0         0          0           0         0   \n",
       "97   0.98       0         0         0          0           0         0   \n",
       "98   0.99       0         0         0          0           0         0   \n",
       "\n",
       "    Latitude  Longitude  RMSE_train  RMSE_test  \n",
       "0          0          0           0          0  \n",
       "1          0          0           0          0  \n",
       "2          0          0           0          0  \n",
       "3          0          0           0          0  \n",
       "4          0          0           0          0  \n",
       "..       ...        ...         ...        ...  \n",
       "94         0          0           0          0  \n",
       "95         0          0           0          0  \n",
       "96         0          0           0          0  \n",
       "97         0          0           0          0  \n",
       "98         0          0           0          0  \n",
       "\n",
       "[99 rows x 11 columns]"
      ]
     },
     "execution_count": 15,
     "metadata": {},
     "output_type": "execute_result"
    }
   ],
   "source": [
    "Coefficients"
   ]
  },
  {
   "cell_type": "code",
   "execution_count": 16,
   "metadata": {},
   "outputs": [],
   "source": [
    "# Add code here\n",
    "# loop over the alpha values and do this:\n",
    "for i, a in enumerate(Coefficients[\"alpha\"]):\n",
    "    # instantiate a Lasso regression with alpha\n",
    "    lasso_local = Lasso(alpha=a)\n",
    "    # fit the lasso regression\n",
    "    lasso_local.fit(X_train, y_train)\n",
    "\n",
    "    # add the coefficients to the DataFrame row\n",
    "    for feature, coef in zip(X.columns, lasso_local.coef_):\n",
    "        Coefficients.loc[i, feature] = coef\n",
    "        \n",
    "    # predict training labels (y_hat for training)\n",
    "    y_hat_train_benchmark_lasso_local = lasso_local.predict(X_train)\n",
    "    # determine training error metric (RMSE)\n",
    "    lasso_train_RMSE_local = mean_squared_error(y_true=y_train, y_pred=y_hat_train_benchmark_lasso_local, squared=False)\n",
    "    # add the training error metric (RMSE) to the DataFrame row\n",
    "    Coefficients.loc[i, \"RMSE_train\"] = lasso_train_RMSE_local\n",
    "    # predict test labels (y_hat for test)\n",
    "    y_hat_test_benchmark_lasso_local = lasso_local.predict(X_test)\n",
    "    # determine test error metric (RMSE)\n",
    "    lasso_test_RMSE_local = mean_squared_error(y_true=y_test, y_pred=y_hat_test_benchmark_lasso_local, squared=False)\n",
    "    # add the test error metric (RMSE) to the DataFrame row\n",
    "    Coefficients.loc[i, \"RMSE_test\"] = lasso_test_RMSE_local"
   ]
  },
  {
   "cell_type": "code",
   "execution_count": 17,
   "metadata": {},
   "outputs": [
    {
     "data": {
      "text/html": [
       "<div>\n",
       "<style scoped>\n",
       "    .dataframe tbody tr th:only-of-type {\n",
       "        vertical-align: middle;\n",
       "    }\n",
       "\n",
       "    .dataframe tbody tr th {\n",
       "        vertical-align: top;\n",
       "    }\n",
       "\n",
       "    .dataframe thead th {\n",
       "        text-align: right;\n",
       "    }\n",
       "</style>\n",
       "<table border=\"1\" class=\"dataframe\">\n",
       "  <thead>\n",
       "    <tr style=\"text-align: right;\">\n",
       "      <th></th>\n",
       "      <th>alpha</th>\n",
       "      <th>MedInc</th>\n",
       "      <th>HouseAge</th>\n",
       "      <th>AveRooms</th>\n",
       "      <th>AveBedrms</th>\n",
       "      <th>Population</th>\n",
       "      <th>AveOccup</th>\n",
       "      <th>Latitude</th>\n",
       "      <th>Longitude</th>\n",
       "      <th>RMSE_train</th>\n",
       "      <th>RMSE_test</th>\n",
       "    </tr>\n",
       "  </thead>\n",
       "  <tbody>\n",
       "    <tr>\n",
       "      <th>0</th>\n",
       "      <td>0.01</td>\n",
       "      <td>0.622089</td>\n",
       "      <td>0.098644</td>\n",
       "      <td>-0.12071</td>\n",
       "      <td>0.144143</td>\n",
       "      <td>0</td>\n",
       "      <td>-0.025673</td>\n",
       "      <td>-0.719644</td>\n",
       "      <td>-0.692107</td>\n",
       "      <td>0.636541</td>\n",
       "      <td>0.641036</td>\n",
       "    </tr>\n",
       "    <tr>\n",
       "      <th>1</th>\n",
       "      <td>0.02</td>\n",
       "      <td>0.573125</td>\n",
       "      <td>0.100104</td>\n",
       "      <td>-0.00000</td>\n",
       "      <td>0.021095</td>\n",
       "      <td>0</td>\n",
       "      <td>-0.014750</td>\n",
       "      <td>-0.623065</td>\n",
       "      <td>-0.588200</td>\n",
       "      <td>0.648257</td>\n",
       "      <td>0.652215</td>\n",
       "    </tr>\n",
       "    <tr>\n",
       "      <th>2</th>\n",
       "      <td>0.03</td>\n",
       "      <td>0.574548</td>\n",
       "      <td>0.102170</td>\n",
       "      <td>-0.00000</td>\n",
       "      <td>0.000000</td>\n",
       "      <td>0</td>\n",
       "      <td>-0.005575</td>\n",
       "      <td>-0.477897</td>\n",
       "      <td>-0.443594</td>\n",
       "      <td>0.660342</td>\n",
       "      <td>0.663412</td>\n",
       "    </tr>\n",
       "    <tr>\n",
       "      <th>3</th>\n",
       "      <td>0.04</td>\n",
       "      <td>0.576667</td>\n",
       "      <td>0.105162</td>\n",
       "      <td>-0.00000</td>\n",
       "      <td>0.000000</td>\n",
       "      <td>0</td>\n",
       "      <td>-0.000000</td>\n",
       "      <td>-0.344017</td>\n",
       "      <td>-0.309609</td>\n",
       "      <td>0.674408</td>\n",
       "      <td>0.676705</td>\n",
       "    </tr>\n",
       "    <tr>\n",
       "      <th>4</th>\n",
       "      <td>0.05</td>\n",
       "      <td>0.579026</td>\n",
       "      <td>0.108327</td>\n",
       "      <td>-0.00000</td>\n",
       "      <td>0.000000</td>\n",
       "      <td>0</td>\n",
       "      <td>-0.000000</td>\n",
       "      <td>-0.209719</td>\n",
       "      <td>-0.175218</td>\n",
       "      <td>0.691754</td>\n",
       "      <td>0.693345</td>\n",
       "    </tr>\n",
       "    <tr>\n",
       "      <th>...</th>\n",
       "      <td>...</td>\n",
       "      <td>...</td>\n",
       "      <td>...</td>\n",
       "      <td>...</td>\n",
       "      <td>...</td>\n",
       "      <td>...</td>\n",
       "      <td>...</td>\n",
       "      <td>...</td>\n",
       "      <td>...</td>\n",
       "      <td>...</td>\n",
       "      <td>...</td>\n",
       "    </tr>\n",
       "    <tr>\n",
       "      <th>94</th>\n",
       "      <td>0.95</td>\n",
       "      <td>0.000000</td>\n",
       "      <td>0.000000</td>\n",
       "      <td>0.00000</td>\n",
       "      <td>-0.000000</td>\n",
       "      <td>0</td>\n",
       "      <td>-0.000000</td>\n",
       "      <td>-0.000000</td>\n",
       "      <td>-0.000000</td>\n",
       "      <td>0.969007</td>\n",
       "      <td>0.977322</td>\n",
       "    </tr>\n",
       "    <tr>\n",
       "      <th>95</th>\n",
       "      <td>0.96</td>\n",
       "      <td>0.000000</td>\n",
       "      <td>0.000000</td>\n",
       "      <td>0.00000</td>\n",
       "      <td>-0.000000</td>\n",
       "      <td>0</td>\n",
       "      <td>-0.000000</td>\n",
       "      <td>-0.000000</td>\n",
       "      <td>-0.000000</td>\n",
       "      <td>0.969007</td>\n",
       "      <td>0.977322</td>\n",
       "    </tr>\n",
       "    <tr>\n",
       "      <th>96</th>\n",
       "      <td>0.97</td>\n",
       "      <td>0.000000</td>\n",
       "      <td>0.000000</td>\n",
       "      <td>0.00000</td>\n",
       "      <td>-0.000000</td>\n",
       "      <td>0</td>\n",
       "      <td>-0.000000</td>\n",
       "      <td>-0.000000</td>\n",
       "      <td>-0.000000</td>\n",
       "      <td>0.969007</td>\n",
       "      <td>0.977322</td>\n",
       "    </tr>\n",
       "    <tr>\n",
       "      <th>97</th>\n",
       "      <td>0.98</td>\n",
       "      <td>0.000000</td>\n",
       "      <td>0.000000</td>\n",
       "      <td>0.00000</td>\n",
       "      <td>-0.000000</td>\n",
       "      <td>0</td>\n",
       "      <td>-0.000000</td>\n",
       "      <td>-0.000000</td>\n",
       "      <td>-0.000000</td>\n",
       "      <td>0.969007</td>\n",
       "      <td>0.977322</td>\n",
       "    </tr>\n",
       "    <tr>\n",
       "      <th>98</th>\n",
       "      <td>0.99</td>\n",
       "      <td>0.000000</td>\n",
       "      <td>0.000000</td>\n",
       "      <td>0.00000</td>\n",
       "      <td>-0.000000</td>\n",
       "      <td>0</td>\n",
       "      <td>-0.000000</td>\n",
       "      <td>-0.000000</td>\n",
       "      <td>-0.000000</td>\n",
       "      <td>0.969007</td>\n",
       "      <td>0.977322</td>\n",
       "    </tr>\n",
       "  </tbody>\n",
       "</table>\n",
       "<p>99 rows × 11 columns</p>\n",
       "</div>"
      ],
      "text/plain": [
       "    alpha    MedInc  HouseAge  AveRooms  AveBedrms  Population  AveOccup  \\\n",
       "0    0.01  0.622089  0.098644  -0.12071   0.144143           0 -0.025673   \n",
       "1    0.02  0.573125  0.100104  -0.00000   0.021095           0 -0.014750   \n",
       "2    0.03  0.574548  0.102170  -0.00000   0.000000           0 -0.005575   \n",
       "3    0.04  0.576667  0.105162  -0.00000   0.000000           0 -0.000000   \n",
       "4    0.05  0.579026  0.108327  -0.00000   0.000000           0 -0.000000   \n",
       "..    ...       ...       ...       ...        ...         ...       ...   \n",
       "94   0.95  0.000000  0.000000   0.00000  -0.000000           0 -0.000000   \n",
       "95   0.96  0.000000  0.000000   0.00000  -0.000000           0 -0.000000   \n",
       "96   0.97  0.000000  0.000000   0.00000  -0.000000           0 -0.000000   \n",
       "97   0.98  0.000000  0.000000   0.00000  -0.000000           0 -0.000000   \n",
       "98   0.99  0.000000  0.000000   0.00000  -0.000000           0 -0.000000   \n",
       "\n",
       "    Latitude  Longitude  RMSE_train  RMSE_test  \n",
       "0  -0.719644  -0.692107    0.636541   0.641036  \n",
       "1  -0.623065  -0.588200    0.648257   0.652215  \n",
       "2  -0.477897  -0.443594    0.660342   0.663412  \n",
       "3  -0.344017  -0.309609    0.674408   0.676705  \n",
       "4  -0.209719  -0.175218    0.691754   0.693345  \n",
       "..       ...        ...         ...        ...  \n",
       "94 -0.000000  -0.000000    0.969007   0.977322  \n",
       "95 -0.000000  -0.000000    0.969007   0.977322  \n",
       "96 -0.000000  -0.000000    0.969007   0.977322  \n",
       "97 -0.000000  -0.000000    0.969007   0.977322  \n",
       "98 -0.000000  -0.000000    0.969007   0.977322  \n",
       "\n",
       "[99 rows x 11 columns]"
      ]
     },
     "execution_count": 17,
     "metadata": {},
     "output_type": "execute_result"
    }
   ],
   "source": [
    "Coefficients"
   ]
  },
  {
   "cell_type": "markdown",
   "metadata": {},
   "source": [
    "**Reason: To get regression coefficients and performance metrics for varying alpha. The performance metrics are RMSE for training and test data.**"
   ]
  },
  {
   "cell_type": "markdown",
   "metadata": {},
   "source": [
    "**Conclusion: Obtained the regression coefficients and performance metrics for varying alpha.**"
   ]
  },
  {
   "cell_type": "markdown",
   "metadata": {},
   "source": [
    "6. Lasso changes with alpha\n",
    "<br/>\n",
    "(a) Using a visual, show how the performance on the training and test data changed as we gradually increased the shrinkage parameter `alpha`. At which point is there a substantial decrease in performance (increase in RMSE) on the test data?  You might want to use a log scale (`plt.xscale('log')`) for `alpha`.\n",
    "<br/>\n",
    "(b) Using a visual, show how the model's coefficients changed as we gradually increased the shrinkage parameter `alpha`. HINT: They should appear to be shrinking toward zero as you increase `alpha`. \n",
    "<br/><span style=\"color:red\" float:right>[4 point]</span>"
   ]
  },
  {
   "cell_type": "code",
   "execution_count": 18,
   "metadata": {},
   "outputs": [
    {
     "data": {
      "image/png": "[encoded data removed]",
      "text/plain": [
       "<Figure size 432x288 with 1 Axes>"
      ]
     },
     "metadata": {
      "needs_background": "light"
     },
     "output_type": "display_data"
    }
   ],
   "source": [
    "# RMSE vs. Alpha\n",
    "\n",
    "# (a)\n",
    "plt.plot(Coefficients['alpha'], Coefficients['RMSE_train'], label='Train')\n",
    "plt.plot(Coefficients['alpha'], Coefficients['RMSE_test'], label='Test')\n",
    "plt.xscale('log')\n",
    "plt.xlabel('Alpha')\n",
    "plt.ylabel('RMSE')\n",
    "plt.legend()\n",
    "plt.title('RMSE as a function of the regularization parameter')\n",
    "plt.show()"
   ]
  },
  {
   "cell_type": "code",
   "execution_count": 19,
   "metadata": {
    "scrolled": true
   },
   "outputs": [
    {
     "data": {
      "image/png": "[encoded data removed]",
      "text/plain": [
       "<Figure size 432x288 with 1 Axes>"
      ]
     },
     "metadata": {
      "needs_background": "light"
     },
     "output_type": "display_data"
    }
   ],
   "source": [
    "# Coefficient vs. Alpha\n",
    "for col in X.columns:\n",
    "    plt.plot(Coefficients[\"alpha\"], Coefficients[col], label=col)\n",
    "\n",
    "plt.xscale(\"log\")\n",
    "plt.xlabel(\"Alpha\")\n",
    "plt.ylabel(\"Coefficients\")\n",
    "plt.legend()\n",
    "plt.title(\"Coefficients as a function of the regularization parameter\")\n",
    "plt.show()"
   ]
  },
  {
   "cell_type": "markdown",
   "metadata": {},
   "source": [
    "**Reason: Lasso changes with alpha**\n",
    "**(a) Using a visual, I show how the performance on the training and test data change as we gradually increase the shrinkage parameter `alpha`. To determine at which point there a substantial decrease in performance (increase in RMSE) on the test data.**\n",
    "**(b) Using a visual, I show how the model's coefficients change as we gradually increase the shrinkage parameter `alpha`.**"
   ]
  },
  {
   "cell_type": "markdown",
   "metadata": {},
   "source": [
    "**Conclusion: Lasso changes with alpha**\n",
    "**(a) Using a visual, I showed how the performance on the training and test data change as we gradually increase the shrinkage parameter `alpha`. To determine at which point there a substantial decrease in performance (increase in RMSE) on the test data.**\n",
    "**(b) Using a visual, I showed how the model's coefficients change as we gradually increase the shrinkage parameter `alpha`.**"
   ]
  },
  {
   "cell_type": "markdown",
   "metadata": {},
   "source": [
    "7. Compare `Ridge` and `Lasso` baseline models.  Show that `Ridge` and `Lasso` return the same trained model when `alpha = 0.00001` (i.e. close to zero). <br/><span style=\"color:red\" float:right>[1 point]</span>"
   ]
  },
  {
   "cell_type": "code",
   "execution_count": 20,
   "metadata": {},
   "outputs": [
    {
     "name": "stdout",
     "output_type": "stream",
     "text": [
      "Ridge coefficients:  [ 0.67166336  0.09915257 -0.24222181  0.26831721  0.00596895 -0.03706404\n",
      " -0.81421675 -0.79456683]\n",
      "Lasso coefficients:  [ 0.67165849  0.09915244 -0.24220986  0.26830493  0.00596807 -0.03706288\n",
      " -0.81420716 -0.79455645]\n",
      "Difference in RMSE values between 2 moles.\n",
      "Train: Ridge RMSE - Linreg RMSE = 0.0 \n",
      "Test: Ridge RMSE - Linreg RMSE = 0.004387039951316951\n"
     ]
    }
   ],
   "source": [
    "# Add code here\n",
    "from sklearn.linear_model import Ridge\n",
    "# Add code here\n",
    "alpha = 0.000001\n",
    "ridge = Ridge(alpha=alpha)\n",
    "\n",
    "# fit the ridge regression\n",
    "# Train the model\n",
    "ridge.fit(X_train, y_train)\n",
    "\n",
    "# compare the coefficients\n",
    "print(\"Ridge coefficients: \", ridge.coef_)\n",
    "print(\"Lasso coefficients: \", lasso.coef_)\n",
    "\n",
    "y_hat_train_benchmark_ridge = ridge.predict(X_train)\n",
    "y_hat_test_benchmark_ridge = ridge.predict(X_test)\n",
    "# Add code here\n",
    "# Compare the models\n",
    "ridge_train_RMSE = mean_squared_error(y_true=y_train, y_pred=y_hat_train_benchmark_ridge, squared=False)\n",
    "ridge_test_RMSE = mean_squared_error(y_true=y_test, y_pred=y_hat_test_benchmark_ridge, squared=False)\n",
    "# compare predicted test labels (y_hat for test)\n",
    "print(f\"Difference in RMSE values between 2 moles.\\nTrain: Ridge RMSE - Linreg RMSE = {ridge_train_RMSE - linreg_train_RMSE} \\nTest: Ridge RMSE - Linreg RMSE = {ridge_test_RMSE - linreg_train_RMSE}\")"
   ]
  },
  {
   "cell_type": "code",
   "execution_count": 21,
   "metadata": {},
   "outputs": [
    {
     "data": {
      "image/png": "[encoded data removed]",
      "text/plain": [
       "<Figure size 432x288 with 1 Axes>"
      ]
     },
     "metadata": {
      "needs_background": "light"
     },
     "output_type": "display_data"
    }
   ],
   "source": [
    "# Display difference between Ridge and Lasso models predictions\n",
    "plt.scatter(\n",
    "    x=y_hat_test_benchmark_lasso, y=y_test, c=\"red\", alpha=0.5, label=\"Lasso\", marker=\"o\"\n",
    ")\n",
    "plt.scatter(\n",
    "    x=y_hat_test_benchmark_ridge,\n",
    "    y=y_test,\n",
    "    c=\"green\",\n",
    "    alpha=0.5,\n",
    "    label=\"Ridge\",\n",
    "    marker=\"x\",\n",
    ")\n",
    "plt.xlabel(\"Prediction\")\n",
    "plt.ylabel(\"Actual\")\n",
    "plt.legend(loc=\"upper left\")  # Adds a legend at the upper left corner\n",
    "plt.show()"
   ]
  },
  {
   "cell_type": "markdown",
   "metadata": {},
   "source": [
    "**Reason: To compare Ridge and Lasso baseline models. I show that Ridge and Lasso return the same trained model when alpha = 0.00001**"
   ]
  },
  {
   "cell_type": "markdown",
   "metadata": {},
   "source": [
    "**Conclusion: The coefficients of the Ridge and Lasso models are the same when alpha is close to zero. This is because the Ridge and Lasso models are both penalized regression models, and the penalty term is very small when alpha is close to zero.**\n",
    "\n",
    "The difference in RMSE values between the two models is very small. This suggests that the two models are very similar in terms of accuracy.\n",
    "\n",
    "The conclusion is that the Ridge and Lasso models are essentially the same when alpha is close to zero. This means that the Ridge model can be used as a drop-in replacement for the Lasso model when the desired level of regularization is very low.\n",
    "\n",
    "**Overall, the code provides some insights into how the Ridge and Lasso models work and how they can be used as drop-in replacements for each other.**"
   ]
  },
  {
   "cell_type": "markdown",
   "metadata": {},
   "source": [
    "8. Get regression coefficients and performance metrics for varying `alpha` on a ridge regression.  The performance metrics are  RMSE for training and test data.  In other words, repeat the above using `Ridge` instead of `Lasso`.   For `ridge`, we will use the following range for `alpha`: `np.power(2., np.arange(1., 25., 1.))`\n",
    "\n",
    "> Note: Ridge has a  different behaviour than Lasso. Coefficients will very gradually approach zero and not have a steep drop off. You probably will not notice any zero coefficients.\n",
    "\n",
    "<br/><span style=\"color:red\" float:right>[1 point]</span>"
   ]
  },
  {
   "cell_type": "code",
   "execution_count": 22,
   "metadata": {},
   "outputs": [
    {
     "name": "stderr",
     "output_type": "stream",
     "text": [
      "/tmp/ipykernel_74/3250010424.py:6: DeprecationWarning: `np.float` is a deprecated alias for the builtin `float`. To silence this warning, use `float` by itself. Doing this will not modify any behavior and is safe. If you specifically wanted the numpy scalar type, use `np.float64` here.\n",
      "Deprecated in NumPy 1.20; for more details and guidance: https://numpy.org/devdocs/release/1.20.0-notes.html#deprecations\n",
      "  Coefficients[list(X.columns) + ['RMSE_train', 'RMSE_test']] = np.float('nan')\n"
     ]
    }
   ],
   "source": [
    "# Determine alpha_values\n",
    "alpha_values = np.power(2., np.arange(1., 25., 1.))\n",
    "# The alpha column contains the values we want to iterate over\n",
    "# The other columns are for storing the coefficients of the ridge regressions\n",
    "Coefficients = pd.DataFrame(data=alpha_values, columns=['alpha'])\n",
    "Coefficients[list(X.columns) + ['RMSE_train', 'RMSE_test']] = np.float('nan')"
   ]
  },
  {
   "cell_type": "code",
   "execution_count": 23,
   "metadata": {},
   "outputs": [
    {
     "data": {
      "text/html": [
       "<div>\n",
       "<style scoped>\n",
       "    .dataframe tbody tr th:only-of-type {\n",
       "        vertical-align: middle;\n",
       "    }\n",
       "\n",
       "    .dataframe tbody tr th {\n",
       "        vertical-align: top;\n",
       "    }\n",
       "\n",
       "    .dataframe thead th {\n",
       "        text-align: right;\n",
       "    }\n",
       "</style>\n",
       "<table border=\"1\" class=\"dataframe\">\n",
       "  <thead>\n",
       "    <tr style=\"text-align: right;\">\n",
       "      <th></th>\n",
       "      <th>alpha</th>\n",
       "      <th>MedInc</th>\n",
       "      <th>HouseAge</th>\n",
       "      <th>AveRooms</th>\n",
       "      <th>AveBedrms</th>\n",
       "      <th>Population</th>\n",
       "      <th>AveOccup</th>\n",
       "      <th>Latitude</th>\n",
       "      <th>Longitude</th>\n",
       "      <th>RMSE_train</th>\n",
       "      <th>RMSE_test</th>\n",
       "    </tr>\n",
       "  </thead>\n",
       "  <tbody>\n",
       "    <tr>\n",
       "      <th>0</th>\n",
       "      <td>2.0</td>\n",
       "      <td>NaN</td>\n",
       "      <td>NaN</td>\n",
       "      <td>NaN</td>\n",
       "      <td>NaN</td>\n",
       "      <td>NaN</td>\n",
       "      <td>NaN</td>\n",
       "      <td>NaN</td>\n",
       "      <td>NaN</td>\n",
       "      <td>NaN</td>\n",
       "      <td>NaN</td>\n",
       "    </tr>\n",
       "    <tr>\n",
       "      <th>1</th>\n",
       "      <td>4.0</td>\n",
       "      <td>NaN</td>\n",
       "      <td>NaN</td>\n",
       "      <td>NaN</td>\n",
       "      <td>NaN</td>\n",
       "      <td>NaN</td>\n",
       "      <td>NaN</td>\n",
       "      <td>NaN</td>\n",
       "      <td>NaN</td>\n",
       "      <td>NaN</td>\n",
       "      <td>NaN</td>\n",
       "    </tr>\n",
       "    <tr>\n",
       "      <th>2</th>\n",
       "      <td>8.0</td>\n",
       "      <td>NaN</td>\n",
       "      <td>NaN</td>\n",
       "      <td>NaN</td>\n",
       "      <td>NaN</td>\n",
       "      <td>NaN</td>\n",
       "      <td>NaN</td>\n",
       "      <td>NaN</td>\n",
       "      <td>NaN</td>\n",
       "      <td>NaN</td>\n",
       "      <td>NaN</td>\n",
       "    </tr>\n",
       "    <tr>\n",
       "      <th>3</th>\n",
       "      <td>16.0</td>\n",
       "      <td>NaN</td>\n",
       "      <td>NaN</td>\n",
       "      <td>NaN</td>\n",
       "      <td>NaN</td>\n",
       "      <td>NaN</td>\n",
       "      <td>NaN</td>\n",
       "      <td>NaN</td>\n",
       "      <td>NaN</td>\n",
       "      <td>NaN</td>\n",
       "      <td>NaN</td>\n",
       "    </tr>\n",
       "    <tr>\n",
       "      <th>4</th>\n",
       "      <td>32.0</td>\n",
       "      <td>NaN</td>\n",
       "      <td>NaN</td>\n",
       "      <td>NaN</td>\n",
       "      <td>NaN</td>\n",
       "      <td>NaN</td>\n",
       "      <td>NaN</td>\n",
       "      <td>NaN</td>\n",
       "      <td>NaN</td>\n",
       "      <td>NaN</td>\n",
       "      <td>NaN</td>\n",
       "    </tr>\n",
       "  </tbody>\n",
       "</table>\n",
       "</div>"
      ],
      "text/plain": [
       "   alpha  MedInc  HouseAge  AveRooms  AveBedrms  Population  AveOccup  \\\n",
       "0    2.0     NaN       NaN       NaN        NaN         NaN       NaN   \n",
       "1    4.0     NaN       NaN       NaN        NaN         NaN       NaN   \n",
       "2    8.0     NaN       NaN       NaN        NaN         NaN       NaN   \n",
       "3   16.0     NaN       NaN       NaN        NaN         NaN       NaN   \n",
       "4   32.0     NaN       NaN       NaN        NaN         NaN       NaN   \n",
       "\n",
       "   Latitude  Longitude  RMSE_train  RMSE_test  \n",
       "0       NaN        NaN         NaN        NaN  \n",
       "1       NaN        NaN         NaN        NaN  \n",
       "2       NaN        NaN         NaN        NaN  \n",
       "3       NaN        NaN         NaN        NaN  \n",
       "4       NaN        NaN         NaN        NaN  "
      ]
     },
     "execution_count": 23,
     "metadata": {},
     "output_type": "execute_result"
    }
   ],
   "source": [
    "Coefficients.head()"
   ]
  },
  {
   "cell_type": "code",
   "execution_count": 24,
   "metadata": {},
   "outputs": [],
   "source": [
    "# Loop over the alpha values and do this:\n",
    "for i, a in enumerate(Coefficients[\"alpha\"]):\n",
    "    # instantiate a ridge regression with alpha\n",
    "    ridge_local = Ridge(alpha=a)\n",
    "    # fit the ridge regression\n",
    "    ridge_local.fit(X_train, y_train)\n",
    "\n",
    "    # add the coefficients to the DataFrame row\n",
    "    for feature, coef in zip(X.columns, ridge_local.coef_):\n",
    "        Coefficients.loc[i, feature] = coef\n",
    "        \n",
    "    # predict training labels (y_hat for training)\n",
    "    y_hat_train_benchmark_ridge_local = ridge_local.predict(X_train)\n",
    "    # determine training error metric (RMSE)\n",
    "    ridge_train_RMSE_local = mean_squared_error(y_true=y_train, y_pred=y_hat_train_benchmark_ridge_local, squared=False)\n",
    "    # add the training error metric (RMSE) to the DataFrame row\n",
    "    Coefficients.loc[i, \"RMSE_train\"] = ridge_train_RMSE_local\n",
    "    # predict test labels (y_hat for test)\n",
    "    y_hat_test_benchmark_ridge_local = ridge_local.predict(X_test)\n",
    "    # determine test error metric (RMSE)\n",
    "    ridge_test_RMSE_local = mean_squared_error(y_true=y_test, y_pred=y_hat_test_benchmark_ridge_local, squared=False)\n",
    "    # add the test error metric (RMSE) to the DataFrame row\n",
    "    Coefficients.loc[i, \"RMSE_test\"] = ridge_test_RMSE_local"
   ]
  },
  {
   "cell_type": "markdown",
   "metadata": {},
   "source": [
    "**Reason: To get regression coefficients and performance metrics for varying alpha on a ridge regression.**"
   ]
  },
  {
   "cell_type": "markdown",
   "metadata": {},
   "source": [
    "**Conclusion: Obtained regression coefficients and performance metrics for varying alpha on ridge regression model.**"
   ]
  },
  {
   "cell_type": "markdown",
   "metadata": {},
   "source": [
    "9. Ridge changes with alpha\n",
    "<br/>\n",
    "(a) Using a visual, show how the performance on the training and test data changed as we gradually increased `alpha` for `Ridge`. In other words, repeat the above using `Ridge` instead of `Lasso`.  \n",
    "<br/>\n",
    "(b) Using a visual, show how the model's coefficients for ridge changed as we gradually increased the shrinkage parameter `alpha`.  \n",
    "<br/><span style=\"color:red\" float:right>[2 point]</span>"
   ]
  },
  {
   "cell_type": "code",
   "execution_count": 25,
   "metadata": {},
   "outputs": [
    {
     "data": {
      "image/png": "[encoded data removed]",
      "text/plain": [
       "<Figure size 432x288 with 1 Axes>"
      ]
     },
     "metadata": {
      "needs_background": "light"
     },
     "output_type": "display_data"
    }
   ],
   "source": [
    "# RMSE vs. alpha\n",
    "import matplotlib.pyplot as plt\n",
    "\n",
    "# (a)\n",
    "plt.plot(Coefficients['alpha'], Coefficients['RMSE_train'], label='Train')\n",
    "plt.plot(Coefficients['alpha'], Coefficients['RMSE_test'], label='Test')\n",
    "plt.xscale('log')\n",
    "plt.xlabel('Alpha')\n",
    "plt.ylabel('RMSE')\n",
    "plt.legend()\n",
    "plt.title('RMSE as a function of the regularization parameter')\n",
    "plt.show()"
   ]
  },
  {
   "cell_type": "code",
   "execution_count": 26,
   "metadata": {},
   "outputs": [
    {
     "data": {
      "image/png": "[encoded data removed]",
      "text/plain": [
       "<Figure size 432x288 with 1 Axes>"
      ]
     },
     "metadata": {
      "needs_background": "light"
     },
     "output_type": "display_data"
    }
   ],
   "source": [
    "# Coefficient vs. alpha\n",
    "for col in X.columns:\n",
    "    plt.plot(Coefficients['alpha'], Coefficients[col], label=col)\n",
    "plt.xscale('log')\n",
    "plt.xlabel('Alpha')\n",
    "plt.ylabel('Coefficients')\n",
    "plt.legend()\n",
    "plt.title('Coefficients as a function of the regularization parameter')\n",
    "plt.show()"
   ]
  },
  {
   "cell_type": "markdown",
   "metadata": {},
   "source": [
    "Reason: Ridge changes with alpha\n",
    "(a) Using a visual, I show how the performance on the training and test data changed as we gradually increased `alpha` for `Ridge`.\n",
    "(b) Using a visual, I show how the model's coefficients for ridge changed as we gradually increased the shrinkage parameter `alpha`."
   ]
  },
  {
   "cell_type": "markdown",
   "metadata": {},
   "source": [
    "Conclusion: Ridge changes with alpha\n",
    "(a) Using a visual, I showed how the performance on the training and test data changed as we gradually increased `alpha` for `Ridge`.\n",
    "(b) Using a visual, I showed how the model's coefficients for ridge changed as we gradually increased the shrinkage parameter `alpha`."
   ]
  },
  {
   "cell_type": "markdown",
   "metadata": {},
   "source": [
    "10. Based on the results, briefly describe the effect of changing `alpha` on the coefficients of both `Ridge` and `Lasso`. What value of `alpha` would you choose for each case? You do not need to give a precise answer, but choose a number. <br/><span style=\"color:red\" float:right>[2 point]</span>"
   ]
  },
  {
   "cell_type": "markdown",
   "metadata": {},
   "source": [
    "#### Comments on regularization using ridge and lasso\n",
    "Ridge: As alpha increases, the coefficients of the Ridge regression model decrease towards zero. This is because the Ridge regression model with a larger alpha value penalizes the coefficients more heavily, which shrinks the coefficients towards zero.\n",
    "\n",
    "Lasso: As alpha increases, some of the coefficients of the Lasso regression model are set to zero. This is because the Lasso regression model with a larger alpha value penalizes the coefficients more heavily, which can cause some of the coefficients to be completely eliminated from the model. The optimal value of alpha for Lasso regression depends on the specific dataset.\n",
    "\n",
    "In the case of this dataset, I would choose an alpha value of 10^3 for Ridge regression and an alpha value of 0.004 for Lasso regression. These values of alpha would allow the models to achieve a good balance between bias and variance."
   ]
  },
  {
   "cell_type": "markdown",
   "metadata": {},
   "source": [
    "# End of assignment"
   ]
  }
 ],
 "metadata": {
  "kernelspec": {
   "display_name": "Python 3 (ipykernel)",
   "language": "python",
   "name": "python3"
  },
  "language_info": {
   "codemirror_mode": {
    "name": "ipython",
    "version": 3
   },
   "file_extension": ".py",
   "mimetype": "text/x-python",
   "name": "python",
   "nbconvert_exporter": "python",
   "pygments_lexer": "ipython3",
   "version": "3.9.7"
  }
 },
 "nbformat": 4,
 "nbformat_minor": 4
}
