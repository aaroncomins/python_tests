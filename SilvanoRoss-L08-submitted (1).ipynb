{
 "cells": [
  {
   "cell_type": "markdown",
   "metadata": {},
   "source": [
    "# Assignment\n",
    "\n",
    "We build on the feature engineering we did in the last assignment and run k-means on the data with RFM features in order to do **customer segmentation**. Since k-means is unsupervised, we will also encounter challenges around interpreting results at the end. "
   ]
  },
  {
   "cell_type": "code",
   "execution_count": 1,
   "metadata": {},
   "outputs": [
    {
     "data": {
      "text/html": [
       "<div>\n",
       "<style scoped>\n",
       "    .dataframe tbody tr th:only-of-type {\n",
       "        vertical-align: middle;\n",
       "    }\n",
       "\n",
       "    .dataframe tbody tr th {\n",
       "        vertical-align: top;\n",
       "    }\n",
       "\n",
       "    .dataframe thead th {\n",
       "        text-align: right;\n",
       "    }\n",
       "</style>\n",
       "<table border=\"1\" class=\"dataframe\">\n",
       "  <thead>\n",
       "    <tr style=\"text-align: right;\">\n",
       "      <th></th>\n",
       "      <th>user_id</th>\n",
       "      <th>gender</th>\n",
       "      <th>address</th>\n",
       "      <th>store_id</th>\n",
       "      <th>trans_id</th>\n",
       "      <th>timestamp</th>\n",
       "      <th>item_id</th>\n",
       "      <th>quantity</th>\n",
       "      <th>dollar</th>\n",
       "    </tr>\n",
       "  </thead>\n",
       "  <tbody>\n",
       "    <tr>\n",
       "      <th>0</th>\n",
       "      <td>101981</td>\n",
       "      <td>F</td>\n",
       "      <td>E</td>\n",
       "      <td>2860</td>\n",
       "      <td>818463</td>\n",
       "      <td>11/1/2000 0:00</td>\n",
       "      <td>4.710000e+12</td>\n",
       "      <td>1</td>\n",
       "      <td>37</td>\n",
       "    </tr>\n",
       "    <tr>\n",
       "      <th>1</th>\n",
       "      <td>101981</td>\n",
       "      <td>F</td>\n",
       "      <td>E</td>\n",
       "      <td>2861</td>\n",
       "      <td>818464</td>\n",
       "      <td>11/1/2000 0:00</td>\n",
       "      <td>4.710000e+12</td>\n",
       "      <td>1</td>\n",
       "      <td>17</td>\n",
       "    </tr>\n",
       "    <tr>\n",
       "      <th>2</th>\n",
       "      <td>101981</td>\n",
       "      <td>F</td>\n",
       "      <td>E</td>\n",
       "      <td>2862</td>\n",
       "      <td>818465</td>\n",
       "      <td>11/1/2000 0:00</td>\n",
       "      <td>4.710000e+12</td>\n",
       "      <td>1</td>\n",
       "      <td>23</td>\n",
       "    </tr>\n",
       "    <tr>\n",
       "      <th>3</th>\n",
       "      <td>101981</td>\n",
       "      <td>F</td>\n",
       "      <td>E</td>\n",
       "      <td>2863</td>\n",
       "      <td>818466</td>\n",
       "      <td>11/1/2000 0:00</td>\n",
       "      <td>4.710000e+12</td>\n",
       "      <td>1</td>\n",
       "      <td>41</td>\n",
       "    </tr>\n",
       "    <tr>\n",
       "      <th>4</th>\n",
       "      <td>101981</td>\n",
       "      <td>F</td>\n",
       "      <td>E</td>\n",
       "      <td>2864</td>\n",
       "      <td>818467</td>\n",
       "      <td>11/1/2000 0:00</td>\n",
       "      <td>4.710000e+12</td>\n",
       "      <td>8</td>\n",
       "      <td>288</td>\n",
       "    </tr>\n",
       "  </tbody>\n",
       "</table>\n",
       "</div>"
      ],
      "text/plain": [
       "   user_id gender address  store_id  trans_id       timestamp       item_id  \\\n",
       "0   101981      F       E      2860    818463  11/1/2000 0:00  4.710000e+12   \n",
       "1   101981      F       E      2861    818464  11/1/2000 0:00  4.710000e+12   \n",
       "2   101981      F       E      2862    818465  11/1/2000 0:00  4.710000e+12   \n",
       "3   101981      F       E      2863    818466  11/1/2000 0:00  4.710000e+12   \n",
       "4   101981      F       E      2864    818467  11/1/2000 0:00  4.710000e+12   \n",
       "\n",
       "   quantity  dollar  \n",
       "0         1      37  \n",
       "1         1      17  \n",
       "2         1      23  \n",
       "3         1      41  \n",
       "4         8     288  "
      ]
     },
     "execution_count": 1,
     "metadata": {},
     "output_type": "execute_result"
    }
   ],
   "source": [
    "import pandas as pd\n",
    "col_names = ['user_id', 'gender', 'address', 'store_id', 'trans_id', 'timestamp', 'item_id', 'quantity', 'dollar']\n",
    "churn = pd.read_csv(\"../data/retail-churn.csv\", sep = \",\", skiprows = 1, names = col_names)\n",
    "churn.head()"
   ]
  },
  {
   "cell_type": "code",
   "execution_count": 2,
   "metadata": {},
   "outputs": [
    {
     "data": {
      "text/plain": [
       "user_id  gender  address  store_id  trans_id  timestamp  item_id  quantity  dollar\n",
       "False    False   False    False     False     False      False    False     False     252204\n",
       "dtype: int64"
      ]
     },
     "execution_count": 2,
     "metadata": {},
     "output_type": "execute_result"
    }
   ],
   "source": [
    "# check for NaNs\n",
    "churn.isna().value_counts()"
   ]
  },
  {
   "cell_type": "markdown",
   "metadata": {},
   "source": [
    "**There are no NaN detected and thus will not have to perform any imputation or dropping of columns**"
   ]
  },
  {
   "cell_type": "markdown",
   "metadata": {},
   "source": [
    "Run the feature engineering steps on the data to extract RFM features.  "
   ]
  },
  {
   "cell_type": "code",
   "execution_count": 3,
   "metadata": {},
   "outputs": [
    {
     "name": "stdout",
     "output_type": "stream",
     "text": [
      "(37058, 5)\n"
     ]
    },
    {
     "data": {
      "text/html": [
       "<div>\n",
       "<style scoped>\n",
       "    .dataframe tbody tr th:only-of-type {\n",
       "        vertical-align: middle;\n",
       "    }\n",
       "\n",
       "    .dataframe tbody tr th {\n",
       "        vertical-align: top;\n",
       "    }\n",
       "\n",
       "    .dataframe thead th {\n",
       "        text-align: right;\n",
       "    }\n",
       "</style>\n",
       "<table border=\"1\" class=\"dataframe\">\n",
       "  <thead>\n",
       "    <tr style=\"text-align: right;\">\n",
       "      <th></th>\n",
       "      <th>user_id</th>\n",
       "      <th>date</th>\n",
       "      <th>dollar_roll_sum_7D</th>\n",
       "      <th>quantity_roll_sum_7D</th>\n",
       "      <th>last_visit_ndays</th>\n",
       "    </tr>\n",
       "  </thead>\n",
       "  <tbody>\n",
       "    <tr>\n",
       "      <th>0</th>\n",
       "      <td>1113</td>\n",
       "      <td>2000-11-12</td>\n",
       "      <td>420.0</td>\n",
       "      <td>5.0</td>\n",
       "      <td>118.0</td>\n",
       "    </tr>\n",
       "    <tr>\n",
       "      <th>1</th>\n",
       "      <td>1113</td>\n",
       "      <td>2000-11-26</td>\n",
       "      <td>558.0</td>\n",
       "      <td>3.0</td>\n",
       "      <td>14.0</td>\n",
       "    </tr>\n",
       "    <tr>\n",
       "      <th>2</th>\n",
       "      <td>1113</td>\n",
       "      <td>2000-11-27</td>\n",
       "      <td>1182.0</td>\n",
       "      <td>9.0</td>\n",
       "      <td>1.0</td>\n",
       "    </tr>\n",
       "    <tr>\n",
       "      <th>3</th>\n",
       "      <td>1113</td>\n",
       "      <td>2001-01-06</td>\n",
       "      <td>628.0</td>\n",
       "      <td>9.0</td>\n",
       "      <td>40.0</td>\n",
       "    </tr>\n",
       "    <tr>\n",
       "      <th>4</th>\n",
       "      <td>1250</td>\n",
       "      <td>2001-02-04</td>\n",
       "      <td>734.0</td>\n",
       "      <td>5.0</td>\n",
       "      <td>118.0</td>\n",
       "    </tr>\n",
       "  </tbody>\n",
       "</table>\n",
       "</div>"
      ],
      "text/plain": [
       "   user_id       date  dollar_roll_sum_7D  quantity_roll_sum_7D  \\\n",
       "0     1113 2000-11-12               420.0                   5.0   \n",
       "1     1113 2000-11-26               558.0                   3.0   \n",
       "2     1113 2000-11-27              1182.0                   9.0   \n",
       "3     1113 2001-01-06               628.0                   9.0   \n",
       "4     1250 2001-02-04               734.0                   5.0   \n",
       "\n",
       "   last_visit_ndays  \n",
       "0             118.0  \n",
       "1              14.0  \n",
       "2               1.0  \n",
       "3              40.0  \n",
       "4             118.0  "
      ]
     },
     "execution_count": 3,
     "metadata": {},
     "output_type": "execute_result"
    }
   ],
   "source": [
    "churn['date'] =  pd.to_datetime(pd.to_datetime(churn['timestamp'], format = '%m/%d/%Y %H:%M').dt.date)\n",
    "churn_agg = churn.groupby(['user_id', 'date']).agg({'dollar': 'sum', 'quantity': 'sum'})\n",
    "churn_agg = churn_agg.reset_index()\n",
    "churn_roll = pd.DataFrame()\n",
    "churn_roll['dollar_roll_sum_7D'] = churn_agg.groupby('user_id').rolling(window = '7D', on = 'date')['dollar'].sum()\n",
    "churn_roll['quantity_roll_sum_7D'] = churn_agg.groupby('user_id').rolling(window = '7D', on = 'date')['quantity'].sum()\n",
    "churn_roll = churn_roll.reset_index()\n",
    "churn_roll['last_visit_ndays'] = churn_agg.groupby('user_id')['date'].diff(periods = 1).dt.days\n",
    "print(churn_roll.shape)\n",
    "\n",
    "# Should we impute or drop NaN/NaT in churn_roll['last_visit_ndays']?\n",
    "imputation_value = churn_roll['last_visit_ndays'].max() # None # \n",
    "if imputation_value is None:\n",
    "    # Drop (Remove all rows with NaN):\n",
    "    churn_roll.dropna(inplace = True)\n",
    "    print(churn_roll.shape)\n",
    "else:\n",
    "    # Impute (Replace all NaN in last_visit_ndays):\n",
    "    churn_roll['last_visit_ndays'] = churn_roll['last_visit_ndays'].fillna(imputation_value)\n",
    "\n",
    "churn_roll.head()"
   ]
  },
  {
   "cell_type": "code",
   "execution_count": 4,
   "metadata": {},
   "outputs": [
    {
     "data": {
      "text/plain": [
       "user_id  date   dollar_roll_sum_7D  quantity_roll_sum_7D  last_visit_ndays\n",
       "False    False  False               False                 False               37058\n",
       "dtype: int64"
      ]
     },
     "execution_count": 4,
     "metadata": {},
     "output_type": "execute_result"
    }
   ],
   "source": [
    "# check for nans\n",
    "churn_roll.isna().value_counts()"
   ]
  },
  {
   "cell_type": "markdown",
   "metadata": {},
   "source": [
    "**Double checked for nulls and did not seem to find any in the newly created columns**"
   ]
  },
  {
   "cell_type": "markdown",
   "metadata": {},
   "source": [
    "The RFM features are:  'dollar_roll_sum_7D', 'quantity_roll_sum_7D', 'last_visit_ndays'"
   ]
  },
  {
   "cell_type": "markdown",
   "metadata": {},
   "source": [
    "1. Train a k-means algorithm on the 3 normalized RFM features using $k = 10$. What are the cluster centroids? The cluster centroids should be reported in the **original scale**, not the normalized scale. <span style=\"color:red\" float:right>[2 point]</span> "
   ]
  },
  {
   "cell_type": "code",
   "execution_count": 5,
   "metadata": {},
   "outputs": [],
   "source": [
    "# import scikit learn packages\n",
    "from sklearn.preprocessing import StandardScaler\n",
    "from sklearn.cluster import KMeans"
   ]
  },
  {
   "cell_type": "code",
   "execution_count": 6,
   "metadata": {},
   "outputs": [
    {
     "name": "stdout",
     "output_type": "stream",
     "text": [
      "Means \n",
      "dollar_roll_sum_7D      1233.831157\n",
      "quantity_roll_sum_7D      13.078445\n",
      "last_visit_ndays          43.461412\n",
      "dtype: float64\n",
      "\n",
      "StDevs \n",
      "dollar_roll_sum_7D      2076.198829\n",
      "quantity_roll_sum_7D      21.839162\n",
      "last_visit_ndays          47.924183\n",
      "dtype: float64\n"
     ]
    }
   ],
   "source": [
    "# create a dataframe with the 3 numeric columns of interest\n",
    "rfm_df = churn_roll[['dollar_roll_sum_7D', 'quantity_roll_sum_7D', 'last_visit_ndays']]\n",
    "\n",
    "# find the means and stds for each column - We will need these to bring out the non-normalized centroids\n",
    "Means = rfm_df[['dollar_roll_sum_7D', 'quantity_roll_sum_7D', 'last_visit_ndays']].mean(axis=0)\n",
    "Stds = rfm_df[['dollar_roll_sum_7D', 'quantity_roll_sum_7D', 'last_visit_ndays']].std(axis=0)\n",
    "\n",
    "# review the means and stds\n",
    "print(f\"Means \\n{Means}\")\n",
    "print()\n",
    "print(f\"StDevs \\n{Stds}\")\n"
   ]
  },
  {
   "cell_type": "markdown",
   "metadata": {},
   "source": [
    "**Here I just grabbed the columns of interest and took a look at their means and standard deviations. This was to be able to manually reverse the standardization to have the later clusters in their original values**"
   ]
  },
  {
   "cell_type": "code",
   "execution_count": 7,
   "metadata": {},
   "outputs": [
    {
     "data": {
      "text/html": [
       "<div>\n",
       "<style scoped>\n",
       "    .dataframe tbody tr th:only-of-type {\n",
       "        vertical-align: middle;\n",
       "    }\n",
       "\n",
       "    .dataframe tbody tr th {\n",
       "        vertical-align: top;\n",
       "    }\n",
       "\n",
       "    .dataframe thead th {\n",
       "        text-align: right;\n",
       "    }\n",
       "</style>\n",
       "<table border=\"1\" class=\"dataframe\">\n",
       "  <thead>\n",
       "    <tr style=\"text-align: right;\">\n",
       "      <th></th>\n",
       "      <th>dollar_roll_sum_7D</th>\n",
       "      <th>quantity_roll_sum_7D</th>\n",
       "      <th>last_visit_ndays</th>\n",
       "    </tr>\n",
       "  </thead>\n",
       "  <tbody>\n",
       "    <tr>\n",
       "      <th>0</th>\n",
       "      <td>-0.39</td>\n",
       "      <td>-0.37</td>\n",
       "      <td>1.56</td>\n",
       "    </tr>\n",
       "    <tr>\n",
       "      <th>1</th>\n",
       "      <td>-0.33</td>\n",
       "      <td>-0.46</td>\n",
       "      <td>-0.61</td>\n",
       "    </tr>\n",
       "    <tr>\n",
       "      <th>2</th>\n",
       "      <td>-0.02</td>\n",
       "      <td>-0.19</td>\n",
       "      <td>-0.89</td>\n",
       "    </tr>\n",
       "    <tr>\n",
       "      <th>3</th>\n",
       "      <td>-0.29</td>\n",
       "      <td>-0.19</td>\n",
       "      <td>-0.07</td>\n",
       "    </tr>\n",
       "    <tr>\n",
       "      <th>4</th>\n",
       "      <td>-0.24</td>\n",
       "      <td>-0.37</td>\n",
       "      <td>1.56</td>\n",
       "    </tr>\n",
       "  </tbody>\n",
       "</table>\n",
       "</div>"
      ],
      "text/plain": [
       "   dollar_roll_sum_7D  quantity_roll_sum_7D  last_visit_ndays\n",
       "0               -0.39                 -0.37              1.56\n",
       "1               -0.33                 -0.46             -0.61\n",
       "2               -0.02                 -0.19             -0.89\n",
       "3               -0.29                 -0.19             -0.07\n",
       "4               -0.24                 -0.37              1.56"
      ]
     },
     "execution_count": 7,
     "metadata": {},
     "output_type": "execute_result"
    }
   ],
   "source": [
    "# Normalize the three columns using their means and stds\n",
    "# create a copy of RFM df\n",
    "rfm_norm = rfm_df.copy()\n",
    "\n",
    "# normalize each column\n",
    "rfm_norm['dollar_roll_sum_7D'] = (rfm_norm['dollar_roll_sum_7D'] - Means['dollar_roll_sum_7D'])/Stds['dollar_roll_sum_7D']\n",
    "rfm_norm['quantity_roll_sum_7D'] = (rfm_norm['quantity_roll_sum_7D'] - Means['quantity_roll_sum_7D'])/Stds['quantity_roll_sum_7D']\n",
    "rfm_norm['last_visit_ndays'] = (rfm_norm['last_visit_ndays'] - Means['last_visit_ndays'])/Stds['last_visit_ndays']\n",
    "\n",
    "# review normalized df\n",
    "rfm_norm.head().round(2)\n"
   ]
  },
  {
   "cell_type": "markdown",
   "metadata": {},
   "source": [
    "**Performed the standardization as was shown in class for practice and to use the means and stds from earlier**"
   ]
  },
  {
   "cell_type": "code",
   "execution_count": 8,
   "metadata": {},
   "outputs": [
    {
     "data": {
      "text/html": [
       "<div>\n",
       "<style scoped>\n",
       "    .dataframe tbody tr th:only-of-type {\n",
       "        vertical-align: middle;\n",
       "    }\n",
       "\n",
       "    .dataframe tbody tr th {\n",
       "        vertical-align: top;\n",
       "    }\n",
       "\n",
       "    .dataframe thead th {\n",
       "        text-align: right;\n",
       "    }\n",
       "</style>\n",
       "<table border=\"1\" class=\"dataframe\">\n",
       "  <thead>\n",
       "    <tr style=\"text-align: right;\">\n",
       "      <th></th>\n",
       "      <th>dollar_roll_sum_7D</th>\n",
       "      <th>quantity_roll_sum_7D</th>\n",
       "      <th>last_visit_ndays</th>\n",
       "    </tr>\n",
       "  </thead>\n",
       "  <tbody>\n",
       "    <tr>\n",
       "      <th>0</th>\n",
       "      <td>-0.39</td>\n",
       "      <td>-0.37</td>\n",
       "      <td>1.56</td>\n",
       "    </tr>\n",
       "    <tr>\n",
       "      <th>1</th>\n",
       "      <td>-0.33</td>\n",
       "      <td>-0.46</td>\n",
       "      <td>-0.61</td>\n",
       "    </tr>\n",
       "    <tr>\n",
       "      <th>2</th>\n",
       "      <td>-0.02</td>\n",
       "      <td>-0.19</td>\n",
       "      <td>-0.89</td>\n",
       "    </tr>\n",
       "    <tr>\n",
       "      <th>3</th>\n",
       "      <td>-0.29</td>\n",
       "      <td>-0.19</td>\n",
       "      <td>-0.07</td>\n",
       "    </tr>\n",
       "    <tr>\n",
       "      <th>4</th>\n",
       "      <td>-0.24</td>\n",
       "      <td>-0.37</td>\n",
       "      <td>1.56</td>\n",
       "    </tr>\n",
       "  </tbody>\n",
       "</table>\n",
       "</div>"
      ],
      "text/plain": [
       "   dollar_roll_sum_7D  quantity_roll_sum_7D  last_visit_ndays\n",
       "0               -0.39                 -0.37              1.56\n",
       "1               -0.33                 -0.46             -0.61\n",
       "2               -0.02                 -0.19             -0.89\n",
       "3               -0.29                 -0.19             -0.07\n",
       "4               -0.24                 -0.37              1.56"
      ]
     },
     "execution_count": 8,
     "metadata": {},
     "output_type": "execute_result"
    }
   ],
   "source": [
    "# Verify using the apply method to see if there is a similar df\n",
    "# create another copy of rfm columns\n",
    "rfm_rescaled = rfm_df.copy()\n",
    "\n",
    "# use the apply method to create a normalized df\n",
    "rfm_rescaled = rfm_rescaled.apply(lambda x: (x - x.mean()) / x.std(), axis = 0)\n",
    "\n",
    "# reveiew dataframe\n",
    "rfm_rescaled.head().round(2)"
   ]
  },
  {
   "cell_type": "markdown",
   "metadata": {},
   "source": [
    "**I created a copy to play around with. Here I used the lambda technique from class. This technique is handy, but there is no way to reverse the standardization to the original it seems.**"
   ]
  },
  {
   "cell_type": "code",
   "execution_count": 9,
   "metadata": {},
   "outputs": [
    {
     "data": {
      "text/html": [
       "<div>\n",
       "<style scoped>\n",
       "    .dataframe tbody tr th:only-of-type {\n",
       "        vertical-align: middle;\n",
       "    }\n",
       "\n",
       "    .dataframe tbody tr th {\n",
       "        vertical-align: top;\n",
       "    }\n",
       "\n",
       "    .dataframe thead th {\n",
       "        text-align: right;\n",
       "    }\n",
       "</style>\n",
       "<table border=\"1\" class=\"dataframe\">\n",
       "  <thead>\n",
       "    <tr style=\"text-align: right;\">\n",
       "      <th></th>\n",
       "      <th>dollar_roll_sum_7D</th>\n",
       "      <th>quantity_roll_sum_7D</th>\n",
       "      <th>last_visit_ndays</th>\n",
       "    </tr>\n",
       "  </thead>\n",
       "  <tbody>\n",
       "    <tr>\n",
       "      <th>0</th>\n",
       "      <td>-0.39</td>\n",
       "      <td>-0.37</td>\n",
       "      <td>1.56</td>\n",
       "    </tr>\n",
       "    <tr>\n",
       "      <th>1</th>\n",
       "      <td>-0.33</td>\n",
       "      <td>-0.46</td>\n",
       "      <td>-0.61</td>\n",
       "    </tr>\n",
       "    <tr>\n",
       "      <th>2</th>\n",
       "      <td>-0.02</td>\n",
       "      <td>-0.19</td>\n",
       "      <td>-0.89</td>\n",
       "    </tr>\n",
       "    <tr>\n",
       "      <th>3</th>\n",
       "      <td>-0.29</td>\n",
       "      <td>-0.19</td>\n",
       "      <td>-0.07</td>\n",
       "    </tr>\n",
       "    <tr>\n",
       "      <th>4</th>\n",
       "      <td>-0.24</td>\n",
       "      <td>-0.37</td>\n",
       "      <td>1.56</td>\n",
       "    </tr>\n",
       "    <tr>\n",
       "      <th>...</th>\n",
       "      <td>...</td>\n",
       "      <td>...</td>\n",
       "      <td>...</td>\n",
       "    </tr>\n",
       "    <tr>\n",
       "      <th>37053</th>\n",
       "      <td>-0.41</td>\n",
       "      <td>-0.46</td>\n",
       "      <td>1.56</td>\n",
       "    </tr>\n",
       "    <tr>\n",
       "      <th>37054</th>\n",
       "      <td>1.12</td>\n",
       "      <td>0.45</td>\n",
       "      <td>1.56</td>\n",
       "    </tr>\n",
       "    <tr>\n",
       "      <th>37055</th>\n",
       "      <td>1.81</td>\n",
       "      <td>1.51</td>\n",
       "      <td>1.56</td>\n",
       "    </tr>\n",
       "    <tr>\n",
       "      <th>37056</th>\n",
       "      <td>0.23</td>\n",
       "      <td>0.09</td>\n",
       "      <td>1.56</td>\n",
       "    </tr>\n",
       "    <tr>\n",
       "      <th>37057</th>\n",
       "      <td>2.30</td>\n",
       "      <td>2.61</td>\n",
       "      <td>1.56</td>\n",
       "    </tr>\n",
       "  </tbody>\n",
       "</table>\n",
       "<p>37058 rows × 3 columns</p>\n",
       "</div>"
      ],
      "text/plain": [
       "       dollar_roll_sum_7D  quantity_roll_sum_7D  last_visit_ndays\n",
       "0                   -0.39                 -0.37              1.56\n",
       "1                   -0.33                 -0.46             -0.61\n",
       "2                   -0.02                 -0.19             -0.89\n",
       "3                   -0.29                 -0.19             -0.07\n",
       "4                   -0.24                 -0.37              1.56\n",
       "...                   ...                   ...               ...\n",
       "37053               -0.41                 -0.46              1.56\n",
       "37054                1.12                  0.45              1.56\n",
       "37055                1.81                  1.51              1.56\n",
       "37056                0.23                  0.09              1.56\n",
       "37057                2.30                  2.61              1.56\n",
       "\n",
       "[37058 rows x 3 columns]"
      ]
     },
     "execution_count": 9,
     "metadata": {},
     "output_type": "execute_result"
    }
   ],
   "source": [
    "# use standard scaler just for the sake of it and practice\n",
    "col_names = ['dollar_roll_sum_7D', 'quantity_roll_sum_7D', 'last_visit_ndays']\n",
    "rfm_standardized = churn_roll[['dollar_roll_sum_7D', 'quantity_roll_sum_7D', 'last_visit_ndays']]\n",
    "scaler = StandardScaler()\n",
    "rfm_standardized = pd.DataFrame(scaler.fit_transform(rfm_standardized), columns=col_names)\n",
    "\n",
    "rfm_standardized.round(2)"
   ]
  },
  {
   "cell_type": "markdown",
   "metadata": {},
   "source": [
    "**Just for fun I decided to call the standardscaler from sklearn. It looks like all three methods gave me the same standardization. The first one is the most useful as I will be able to reverse the standardization and put cluster centroids back in their original context.**"
   ]
  },
  {
   "cell_type": "code",
   "execution_count": 10,
   "metadata": {},
   "outputs": [
    {
     "data": {
      "text/html": [
       "<div>\n",
       "<style scoped>\n",
       "    .dataframe tbody tr th:only-of-type {\n",
       "        vertical-align: middle;\n",
       "    }\n",
       "\n",
       "    .dataframe tbody tr th {\n",
       "        vertical-align: top;\n",
       "    }\n",
       "\n",
       "    .dataframe thead th {\n",
       "        text-align: right;\n",
       "    }\n",
       "</style>\n",
       "<table border=\"1\" class=\"dataframe\">\n",
       "  <thead>\n",
       "    <tr style=\"text-align: right;\">\n",
       "      <th></th>\n",
       "      <th>dollar_roll_sum_7D</th>\n",
       "      <th>quantity_roll_sum_7D</th>\n",
       "      <th>last_visit_ndays</th>\n",
       "      <th>cluster</th>\n",
       "    </tr>\n",
       "  </thead>\n",
       "  <tbody>\n",
       "    <tr>\n",
       "      <th>0</th>\n",
       "      <td>-0.39</td>\n",
       "      <td>-0.37</td>\n",
       "      <td>1.56</td>\n",
       "      <td>2</td>\n",
       "    </tr>\n",
       "    <tr>\n",
       "      <th>1</th>\n",
       "      <td>-0.33</td>\n",
       "      <td>-0.46</td>\n",
       "      <td>-0.61</td>\n",
       "      <td>5</td>\n",
       "    </tr>\n",
       "    <tr>\n",
       "      <th>2</th>\n",
       "      <td>-0.02</td>\n",
       "      <td>-0.19</td>\n",
       "      <td>-0.89</td>\n",
       "      <td>5</td>\n",
       "    </tr>\n",
       "    <tr>\n",
       "      <th>3</th>\n",
       "      <td>-0.29</td>\n",
       "      <td>-0.19</td>\n",
       "      <td>-0.07</td>\n",
       "      <td>0</td>\n",
       "    </tr>\n",
       "    <tr>\n",
       "      <th>4</th>\n",
       "      <td>-0.24</td>\n",
       "      <td>-0.37</td>\n",
       "      <td>1.56</td>\n",
       "      <td>2</td>\n",
       "    </tr>\n",
       "  </tbody>\n",
       "</table>\n",
       "</div>"
      ],
      "text/plain": [
       "   dollar_roll_sum_7D  quantity_roll_sum_7D  last_visit_ndays  cluster\n",
       "0               -0.39                 -0.37              1.56        2\n",
       "1               -0.33                 -0.46             -0.61        5\n",
       "2               -0.02                 -0.19             -0.89        5\n",
       "3               -0.29                 -0.19             -0.07        0\n",
       "4               -0.24                 -0.37              1.56        2"
      ]
     },
     "execution_count": 10,
     "metadata": {},
     "output_type": "execute_result"
    }
   ],
   "source": [
    "# Use Sklearn to fit the Kmeans algorithm to the normalized data with 10 clusters\n",
    "# create number of clusters\n",
    "n_clusters = 10\n",
    "\n",
    "# create an instance of KMeans model\n",
    "kmeans = KMeans(n_clusters=n_clusters)\n",
    "\n",
    "# fit the model to the normalized rfm columns\n",
    "kmeans.fit(rfm_rescaled)\n",
    "\n",
    "# add the predicted cluster to the rfm_rescaled df\n",
    "rfm_rescaled['cluster'] = kmeans.predict(rfm_rescaled)\n",
    "\n",
    "# review rescaled df\n",
    "rfm_rescaled.head().round(2)\n"
   ]
  },
  {
   "cell_type": "markdown",
   "metadata": {},
   "source": [
    "**I added the clusters to the scaled df and it looks like it has worked.**"
   ]
  },
  {
   "cell_type": "code",
   "execution_count": 11,
   "metadata": {},
   "outputs": [
    {
     "data": {
      "text/html": [
       "<div>\n",
       "<style scoped>\n",
       "    .dataframe tbody tr th:only-of-type {\n",
       "        vertical-align: middle;\n",
       "    }\n",
       "\n",
       "    .dataframe tbody tr th {\n",
       "        vertical-align: top;\n",
       "    }\n",
       "\n",
       "    .dataframe thead th {\n",
       "        text-align: right;\n",
       "    }\n",
       "</style>\n",
       "<table border=\"1\" class=\"dataframe\">\n",
       "  <thead>\n",
       "    <tr style=\"text-align: right;\">\n",
       "      <th></th>\n",
       "      <th>dollar_roll_sum_7D</th>\n",
       "      <th>quantity_roll_sum_7D</th>\n",
       "      <th>last_visit_ndays</th>\n",
       "    </tr>\n",
       "  </thead>\n",
       "  <tbody>\n",
       "    <tr>\n",
       "      <th>0</th>\n",
       "      <td>-0.28</td>\n",
       "      <td>-0.27</td>\n",
       "      <td>0.08</td>\n",
       "    </tr>\n",
       "    <tr>\n",
       "      <th>1</th>\n",
       "      <td>21.61</td>\n",
       "      <td>10.19</td>\n",
       "      <td>-0.77</td>\n",
       "    </tr>\n",
       "    <tr>\n",
       "      <th>2</th>\n",
       "      <td>-0.31</td>\n",
       "      <td>-0.27</td>\n",
       "      <td>1.54</td>\n",
       "    </tr>\n",
       "    <tr>\n",
       "      <th>3</th>\n",
       "      <td>0.17</td>\n",
       "      <td>0.22</td>\n",
       "      <td>-0.72</td>\n",
       "    </tr>\n",
       "    <tr>\n",
       "      <th>4</th>\n",
       "      <td>8.94</td>\n",
       "      <td>43.94</td>\n",
       "      <td>-0.83</td>\n",
       "    </tr>\n",
       "    <tr>\n",
       "      <th>5</th>\n",
       "      <td>-0.37</td>\n",
       "      <td>-0.31</td>\n",
       "      <td>-0.68</td>\n",
       "    </tr>\n",
       "    <tr>\n",
       "      <th>6</th>\n",
       "      <td>1.07</td>\n",
       "      <td>0.96</td>\n",
       "      <td>-0.69</td>\n",
       "    </tr>\n",
       "    <tr>\n",
       "      <th>7</th>\n",
       "      <td>9.86</td>\n",
       "      <td>3.72</td>\n",
       "      <td>-0.66</td>\n",
       "    </tr>\n",
       "    <tr>\n",
       "      <th>8</th>\n",
       "      <td>3.11</td>\n",
       "      <td>2.10</td>\n",
       "      <td>-0.43</td>\n",
       "    </tr>\n",
       "    <tr>\n",
       "      <th>9</th>\n",
       "      <td>0.67</td>\n",
       "      <td>0.56</td>\n",
       "      <td>1.50</td>\n",
       "    </tr>\n",
       "  </tbody>\n",
       "</table>\n",
       "</div>"
      ],
      "text/plain": [
       "   dollar_roll_sum_7D  quantity_roll_sum_7D  last_visit_ndays\n",
       "0               -0.28                 -0.27              0.08\n",
       "1               21.61                 10.19             -0.77\n",
       "2               -0.31                 -0.27              1.54\n",
       "3                0.17                  0.22             -0.72\n",
       "4                8.94                 43.94             -0.83\n",
       "5               -0.37                 -0.31             -0.68\n",
       "6                1.07                  0.96             -0.69\n",
       "7                9.86                  3.72             -0.66\n",
       "8                3.11                  2.10             -0.43\n",
       "9                0.67                  0.56              1.50"
      ]
     },
     "execution_count": 11,
     "metadata": {},
     "output_type": "execute_result"
    }
   ],
   "source": [
    "# create a df with normalized cluster centroids\n",
    "ScaledCentroids = pd.DataFrame(kmeans.cluster_centers_, columns=rfm_df.columns)\n",
    "\n",
    "# review df\n",
    "ScaledCentroids.round(2)\n"
   ]
  },
  {
   "cell_type": "markdown",
   "metadata": {},
   "source": [
    "**These are the centroids for k=10 for the 10 different clusters. Each row representing a point in space for its associated cluster.**"
   ]
  },
  {
   "cell_type": "code",
   "execution_count": 12,
   "metadata": {},
   "outputs": [
    {
     "data": {
      "text/html": [
       "<div>\n",
       "<style scoped>\n",
       "    .dataframe tbody tr th:only-of-type {\n",
       "        vertical-align: middle;\n",
       "    }\n",
       "\n",
       "    .dataframe tbody tr th {\n",
       "        vertical-align: top;\n",
       "    }\n",
       "\n",
       "    .dataframe thead th {\n",
       "        text-align: right;\n",
       "    }\n",
       "</style>\n",
       "<table border=\"1\" class=\"dataframe\">\n",
       "  <thead>\n",
       "    <tr style=\"text-align: right;\">\n",
       "      <th></th>\n",
       "      <th>dollar_roll_sum_7D</th>\n",
       "      <th>quantity_roll_sum_7D</th>\n",
       "      <th>last_visit_ndays</th>\n",
       "    </tr>\n",
       "  </thead>\n",
       "  <tbody>\n",
       "    <tr>\n",
       "      <th>0</th>\n",
       "      <td>658.88</td>\n",
       "      <td>7.27</td>\n",
       "      <td>47.48</td>\n",
       "    </tr>\n",
       "    <tr>\n",
       "      <th>1</th>\n",
       "      <td>46109.16</td>\n",
       "      <td>235.68</td>\n",
       "      <td>6.48</td>\n",
       "    </tr>\n",
       "    <tr>\n",
       "      <th>2</th>\n",
       "      <td>597.73</td>\n",
       "      <td>7.15</td>\n",
       "      <td>117.26</td>\n",
       "    </tr>\n",
       "    <tr>\n",
       "      <th>3</th>\n",
       "      <td>1587.42</td>\n",
       "      <td>17.94</td>\n",
       "      <td>8.85</td>\n",
       "    </tr>\n",
       "    <tr>\n",
       "      <th>4</th>\n",
       "      <td>19804.40</td>\n",
       "      <td>972.80</td>\n",
       "      <td>3.60</td>\n",
       "    </tr>\n",
       "    <tr>\n",
       "      <th>5</th>\n",
       "      <td>469.98</td>\n",
       "      <td>6.28</td>\n",
       "      <td>10.66</td>\n",
       "    </tr>\n",
       "    <tr>\n",
       "      <th>6</th>\n",
       "      <td>3462.27</td>\n",
       "      <td>34.06</td>\n",
       "      <td>10.57</td>\n",
       "    </tr>\n",
       "    <tr>\n",
       "      <th>7</th>\n",
       "      <td>21705.46</td>\n",
       "      <td>94.26</td>\n",
       "      <td>11.94</td>\n",
       "    </tr>\n",
       "    <tr>\n",
       "      <th>8</th>\n",
       "      <td>7688.10</td>\n",
       "      <td>58.85</td>\n",
       "      <td>22.66</td>\n",
       "    </tr>\n",
       "    <tr>\n",
       "      <th>9</th>\n",
       "      <td>2618.98</td>\n",
       "      <td>25.40</td>\n",
       "      <td>115.24</td>\n",
       "    </tr>\n",
       "  </tbody>\n",
       "</table>\n",
       "</div>"
      ],
      "text/plain": [
       "   dollar_roll_sum_7D  quantity_roll_sum_7D  last_visit_ndays\n",
       "0              658.88                  7.27             47.48\n",
       "1            46109.16                235.68              6.48\n",
       "2              597.73                  7.15            117.26\n",
       "3             1587.42                 17.94              8.85\n",
       "4            19804.40                972.80              3.60\n",
       "5              469.98                  6.28             10.66\n",
       "6             3462.27                 34.06             10.57\n",
       "7            21705.46                 94.26             11.94\n",
       "8             7688.10                 58.85             22.66\n",
       "9             2618.98                 25.40            115.24"
      ]
     },
     "execution_count": 12,
     "metadata": {},
     "output_type": "execute_result"
    }
   ],
   "source": [
    "# rescale the cluster centroids using the Means and stds calculated earlier\n",
    "# create empty dataframe\n",
    "Centroids = pd.DataFrame()\n",
    "\n",
    "# reverse normalize each scaled centroid\n",
    "Centroids = ScaledCentroids * rfm_df[rfm_df.columns].std() + rfm_df[rfm_df.columns].mean()\n",
    "\n",
    "# review regular centroids\n",
    "Centroids.round(2)"
   ]
  },
  {
   "cell_type": "markdown",
   "metadata": {},
   "source": [
    "**We reverse the original (x - mean) * std and and get the cluster centroids in their original scale**"
   ]
  },
  {
   "cell_type": "code",
   "execution_count": 13,
   "metadata": {},
   "outputs": [
    {
     "name": "stderr",
     "output_type": "stream",
     "text": [
      "/tmp/ipykernel_73/881358879.py:3: SettingWithCopyWarning: \n",
      "A value is trying to be set on a copy of a slice from a DataFrame.\n",
      "Try using .loc[row_indexer,col_indexer] = value instead\n",
      "\n",
      "See the caveats in the documentation: https://pandas.pydata.org/pandas-docs/stable/user_guide/indexing.html#returning-a-view-versus-a-copy\n",
      "  rfm_df['cluster'] = rfm_rescaled.loc[:, 'cluster']\n"
     ]
    },
    {
     "data": {
      "text/html": [
       "<div>\n",
       "<style scoped>\n",
       "    .dataframe tbody tr th:only-of-type {\n",
       "        vertical-align: middle;\n",
       "    }\n",
       "\n",
       "    .dataframe tbody tr th {\n",
       "        vertical-align: top;\n",
       "    }\n",
       "\n",
       "    .dataframe thead th {\n",
       "        text-align: right;\n",
       "    }\n",
       "</style>\n",
       "<table border=\"1\" class=\"dataframe\">\n",
       "  <thead>\n",
       "    <tr style=\"text-align: right;\">\n",
       "      <th></th>\n",
       "      <th>dollar_roll_sum_7D</th>\n",
       "      <th>quantity_roll_sum_7D</th>\n",
       "      <th>last_visit_ndays</th>\n",
       "      <th>cluster</th>\n",
       "    </tr>\n",
       "  </thead>\n",
       "  <tbody>\n",
       "    <tr>\n",
       "      <th>0</th>\n",
       "      <td>660.02</td>\n",
       "      <td>7.29</td>\n",
       "      <td>47.52</td>\n",
       "      <td>0.0</td>\n",
       "    </tr>\n",
       "    <tr>\n",
       "      <th>1</th>\n",
       "      <td>46109.16</td>\n",
       "      <td>235.68</td>\n",
       "      <td>6.48</td>\n",
       "      <td>1.0</td>\n",
       "    </tr>\n",
       "    <tr>\n",
       "      <th>2</th>\n",
       "      <td>597.47</td>\n",
       "      <td>7.15</td>\n",
       "      <td>117.26</td>\n",
       "      <td>2.0</td>\n",
       "    </tr>\n",
       "    <tr>\n",
       "      <th>3</th>\n",
       "      <td>1583.31</td>\n",
       "      <td>17.90</td>\n",
       "      <td>8.81</td>\n",
       "      <td>3.0</td>\n",
       "    </tr>\n",
       "    <tr>\n",
       "      <th>4</th>\n",
       "      <td>19804.40</td>\n",
       "      <td>972.80</td>\n",
       "      <td>3.60</td>\n",
       "      <td>4.0</td>\n",
       "    </tr>\n",
       "    <tr>\n",
       "      <th>5</th>\n",
       "      <td>469.03</td>\n",
       "      <td>6.27</td>\n",
       "      <td>10.68</td>\n",
       "      <td>5.0</td>\n",
       "    </tr>\n",
       "    <tr>\n",
       "      <th>6</th>\n",
       "      <td>3453.37</td>\n",
       "      <td>34.00</td>\n",
       "      <td>10.62</td>\n",
       "      <td>6.0</td>\n",
       "    </tr>\n",
       "    <tr>\n",
       "      <th>7</th>\n",
       "      <td>21705.46</td>\n",
       "      <td>94.26</td>\n",
       "      <td>11.94</td>\n",
       "      <td>7.0</td>\n",
       "    </tr>\n",
       "    <tr>\n",
       "      <th>8</th>\n",
       "      <td>7683.44</td>\n",
       "      <td>58.85</td>\n",
       "      <td>22.62</td>\n",
       "      <td>8.0</td>\n",
       "    </tr>\n",
       "    <tr>\n",
       "      <th>9</th>\n",
       "      <td>2617.14</td>\n",
       "      <td>25.39</td>\n",
       "      <td>115.25</td>\n",
       "      <td>9.0</td>\n",
       "    </tr>\n",
       "  </tbody>\n",
       "</table>\n",
       "</div>"
      ],
      "text/plain": [
       "   dollar_roll_sum_7D  quantity_roll_sum_7D  last_visit_ndays  cluster\n",
       "0              660.02                  7.29             47.52      0.0\n",
       "1            46109.16                235.68              6.48      1.0\n",
       "2              597.47                  7.15            117.26      2.0\n",
       "3             1583.31                 17.90              8.81      3.0\n",
       "4            19804.40                972.80              3.60      4.0\n",
       "5              469.03                  6.27             10.68      5.0\n",
       "6             3453.37                 34.00             10.62      6.0\n",
       "7            21705.46                 94.26             11.94      7.0\n",
       "8             7683.44                 58.85             22.62      8.0\n",
       "9             2617.14                 25.39            115.25      9.0"
      ]
     },
     "execution_count": 13,
     "metadata": {},
     "output_type": "execute_result"
    }
   ],
   "source": [
    "# use the kmeans labels as another means of verification\n",
    "# add cluster to original rfm_df\n",
    "rfm_df['cluster'] = rfm_rescaled.loc[:, 'cluster']\n",
    "\n",
    "# use the groupby cluster.mean() trick\n",
    "rfm_df.groupby(by=kmeans.labels_).mean().round(2)"
   ]
  },
  {
   "cell_type": "markdown",
   "metadata": {},
   "source": [
    "**I felt it was necessary to re-add the clusters back to the original dataframe and show that the cluster centroids are the similar, but not the same to the ones calculated before.**"
   ]
  },
  {
   "cell_type": "markdown",
   "metadata": {},
   "source": [
    "2. Our earlier choice of $k=10$ was arbitrary. To find a better number of $k$ create a **scree plot**, which plots the number of clusters $k$ on the x-axis and the sum of squared distances from each point to its cluster centroid on the y-axis. We can get the latter by calling the `inertia_` attribute as shown in the lab. Plot the scree plot for $k$ values from 1 to 15. <span style=\"color:red\" float:right>[4 point]</span>"
   ]
  },
  {
   "cell_type": "code",
   "execution_count": 14,
   "metadata": {},
   "outputs": [],
   "source": [
    "# Create models for k=[1-15], fit the models and grab the inertia into a list\n",
    "\n",
    "# intialize a list and create an easier named df for the loop\n",
    "inertia_list = []\n",
    "x = rfm_rescaled[['dollar_roll_sum_7D','quantity_roll_sum_7D','last_visit_ndays']]"
   ]
  },
  {
   "cell_type": "markdown",
   "metadata": {},
   "source": [
    "**I created a list to hold the k value - inertia pairs. I also recreated the normalized dataframe for our rfm values as a variable x for easier readability.**"
   ]
  },
  {
   "cell_type": "code",
   "execution_count": 15,
   "metadata": {},
   "outputs": [
    {
     "data": {
      "text/plain": [
       "[[1, 111170.99999999355],\n",
       " [2, 76678.31684839331],\n",
       " [3, 50368.83313294873],\n",
       " [4, 36746.36553474327],\n",
       " [5, 25352.336400121036],\n",
       " [6, 20812.818105008817],\n",
       " [7, 18263.361546803448],\n",
       " [8, 16133.766313865366],\n",
       " [9, 14627.103156368092],\n",
       " [10, 13411.393313282257],\n",
       " [11, 12126.739341707194],\n",
       " [12, 10908.025263061323],\n",
       " [13, 10066.5309211625],\n",
       " [14, 9319.688453971918],\n",
       " [15, 8728.908934351808]]"
      ]
     },
     "execution_count": 15,
     "metadata": {},
     "output_type": "execute_result"
    }
   ],
   "source": [
    "\"\"\" loop through values 1-15, creating a kmeans model for each number, \n",
    "    fitting the model to our data and storing each value in the inertia\n",
    "    dictionary to eventually transform into an inertia plot.\"\"\" \n",
    "\n",
    "for i in range(1, 16):\n",
    "    kmeans = KMeans(n_clusters=i, random_state=42)\n",
    "    kmeans.fit(x)\n",
    "    inertia_list.append([i, kmeans.inertia_]) \n",
    "\n",
    "# view list\n",
    "inertia_list"
   ]
  },
  {
   "cell_type": "markdown",
   "metadata": {},
   "source": [
    "**The for loop that was used shows each cluster and its inertia pair. We can see as the value of k increases the inertia decrease with each iteration.**"
   ]
  },
  {
   "cell_type": "code",
   "execution_count": 16,
   "metadata": {},
   "outputs": [],
   "source": [
    "# create df\n",
    "inertia_df = pd.DataFrame(inertia_list, columns=['num_clusters', 'inertia'])"
   ]
  },
  {
   "cell_type": "code",
   "execution_count": 17,
   "metadata": {},
   "outputs": [],
   "source": [
    "# import plotting packages\n",
    "import seaborn as sns\n",
    "import matplotlib.pyplot as plt\n",
    "%matplotlib inline"
   ]
  },
  {
   "cell_type": "code",
   "execution_count": 18,
   "metadata": {},
   "outputs": [
    {
     "data": {
      "text/plain": [
       "Text(0.5, 1.0, 'Scree Plot')"
      ]
     },
     "execution_count": 18,
     "metadata": {},
     "output_type": "execute_result"
    },
    {
     "data": {
      "image/png": "[encoded data removed]",
      "text/plain": [
       "<Figure size 432x288 with 1 Axes>"
      ]
     },
     "metadata": {
      "needs_background": "light"
     },
     "output_type": "display_data"
    }
   ],
   "source": [
    "sns.lineplot(x='num_clusters', y='inertia', data=inertia_df)\n",
    "plt.title('Scree Plot')"
   ]
  },
  {
   "cell_type": "markdown",
   "metadata": {},
   "source": [
    "3. Based on the scree plot, what is a good value to pick for $k$? Provide a brief justification for your choice. <span style=\"color:red\" float:right>[2 point]</span>"
   ]
  },
  {
   "cell_type": "markdown",
   "metadata": {},
   "source": [
    "### k=5\n",
    "\n",
    "**In my opinion 5 clusters appears to be the best value for k. It looks like it still has an elbow while still minimizing inertia to a decent degree. Adding any more clusters could make interpretation more confusing, all though it would be interesting to see the differences between 5 and 6 clusters as a test.**"
   ]
  },
  {
   "cell_type": "markdown",
   "metadata": {},
   "source": [
    "4. Train a k-means algorithm on the RFM features using your new value of $k$. Report:\n",
    "- the size (number of items) of each cluster\n",
    "- the mean of each cluster in the original scale\n",
    "- the standard deviation of each cluster in the Z-normalized scale\n",
    "<span style=\"color:red\" float:right>[2 point]</span>"
   ]
  },
  {
   "cell_type": "code",
   "execution_count": 19,
   "metadata": {},
   "outputs": [
    {
     "data": {
      "text/html": [
       "<div>\n",
       "<style scoped>\n",
       "    .dataframe tbody tr th:only-of-type {\n",
       "        vertical-align: middle;\n",
       "    }\n",
       "\n",
       "    .dataframe tbody tr th {\n",
       "        vertical-align: top;\n",
       "    }\n",
       "\n",
       "    .dataframe thead th {\n",
       "        text-align: right;\n",
       "    }\n",
       "</style>\n",
       "<table border=\"1\" class=\"dataframe\">\n",
       "  <thead>\n",
       "    <tr style=\"text-align: right;\">\n",
       "      <th></th>\n",
       "      <th>dollar_roll_sum_7D</th>\n",
       "      <th>quantity_roll_sum_7D</th>\n",
       "      <th>last_visit_ndays</th>\n",
       "      <th>cluster</th>\n",
       "    </tr>\n",
       "  </thead>\n",
       "  <tbody>\n",
       "    <tr>\n",
       "      <th>0</th>\n",
       "      <td>-0.391987</td>\n",
       "      <td>-0.369911</td>\n",
       "      <td>1.555365</td>\n",
       "      <td>1</td>\n",
       "    </tr>\n",
       "    <tr>\n",
       "      <th>1</th>\n",
       "      <td>-0.325518</td>\n",
       "      <td>-0.461491</td>\n",
       "      <td>-0.614759</td>\n",
       "      <td>0</td>\n",
       "    </tr>\n",
       "    <tr>\n",
       "      <th>2</th>\n",
       "      <td>-0.024965</td>\n",
       "      <td>-0.186752</td>\n",
       "      <td>-0.886024</td>\n",
       "      <td>0</td>\n",
       "    </tr>\n",
       "    <tr>\n",
       "      <th>3</th>\n",
       "      <td>-0.291802</td>\n",
       "      <td>-0.186752</td>\n",
       "      <td>-0.072228</td>\n",
       "      <td>0</td>\n",
       "    </tr>\n",
       "    <tr>\n",
       "      <th>4</th>\n",
       "      <td>-0.240747</td>\n",
       "      <td>-0.369911</td>\n",
       "      <td>1.555365</td>\n",
       "      <td>1</td>\n",
       "    </tr>\n",
       "    <tr>\n",
       "      <th>...</th>\n",
       "      <td>...</td>\n",
       "      <td>...</td>\n",
       "      <td>...</td>\n",
       "      <td>...</td>\n",
       "    </tr>\n",
       "    <tr>\n",
       "      <th>37053</th>\n",
       "      <td>-0.412698</td>\n",
       "      <td>-0.461491</td>\n",
       "      <td>1.555365</td>\n",
       "      <td>1</td>\n",
       "    </tr>\n",
       "    <tr>\n",
       "      <th>37054</th>\n",
       "      <td>1.123785</td>\n",
       "      <td>0.454307</td>\n",
       "      <td>1.555365</td>\n",
       "      <td>1</td>\n",
       "    </tr>\n",
       "    <tr>\n",
       "      <th>37055</th>\n",
       "      <td>1.810626</td>\n",
       "      <td>1.507475</td>\n",
       "      <td>1.555365</td>\n",
       "      <td>2</td>\n",
       "    </tr>\n",
       "    <tr>\n",
       "      <th>37056</th>\n",
       "      <td>0.227423</td>\n",
       "      <td>0.087988</td>\n",
       "      <td>1.555365</td>\n",
       "      <td>1</td>\n",
       "    </tr>\n",
       "    <tr>\n",
       "      <th>37057</th>\n",
       "      <td>2.296135</td>\n",
       "      <td>2.606433</td>\n",
       "      <td>1.555365</td>\n",
       "      <td>2</td>\n",
       "    </tr>\n",
       "  </tbody>\n",
       "</table>\n",
       "<p>37058 rows × 4 columns</p>\n",
       "</div>"
      ],
      "text/plain": [
       "       dollar_roll_sum_7D  quantity_roll_sum_7D  last_visit_ndays  cluster\n",
       "0               -0.391987             -0.369911          1.555365        1\n",
       "1               -0.325518             -0.461491         -0.614759        0\n",
       "2               -0.024965             -0.186752         -0.886024        0\n",
       "3               -0.291802             -0.186752         -0.072228        0\n",
       "4               -0.240747             -0.369911          1.555365        1\n",
       "...                   ...                   ...               ...      ...\n",
       "37053           -0.412698             -0.461491          1.555365        1\n",
       "37054            1.123785              0.454307          1.555365        1\n",
       "37055            1.810626              1.507475          1.555365        2\n",
       "37056            0.227423              0.087988          1.555365        1\n",
       "37057            2.296135              2.606433          1.555365        2\n",
       "\n",
       "[37058 rows x 4 columns]"
      ]
     },
     "execution_count": 19,
     "metadata": {},
     "output_type": "execute_result"
    }
   ],
   "source": [
    "# create a new instance of the KMeans model\n",
    "kmeans_5 = KMeans(n_clusters=5, random_state=42)\n",
    "\n",
    "# fit the model\n",
    "kmeans_5.fit(rfm_standardized)\n",
    "\n",
    "# add predicted values to the original dataframe\n",
    "rfm_standardized['cluster'] = kmeans_5.predict(rfm_standardized)\n",
    "\n",
    "# review dataframe\n",
    "rfm_standardized"
   ]
  },
  {
   "cell_type": "code",
   "execution_count": 20,
   "metadata": {},
   "outputs": [
    {
     "name": "stdout",
     "output_type": "stream",
     "text": [
      "The number of each item in each cluster is:\n"
     ]
    },
    {
     "data": {
      "text/html": [
       "<div>\n",
       "<style scoped>\n",
       "    .dataframe tbody tr th:only-of-type {\n",
       "        vertical-align: middle;\n",
       "    }\n",
       "\n",
       "    .dataframe tbody tr th {\n",
       "        vertical-align: top;\n",
       "    }\n",
       "\n",
       "    .dataframe thead th {\n",
       "        text-align: right;\n",
       "    }\n",
       "</style>\n",
       "<table border=\"1\" class=\"dataframe\">\n",
       "  <thead>\n",
       "    <tr style=\"text-align: right;\">\n",
       "      <th></th>\n",
       "      <th>dollar_roll_sum_7D</th>\n",
       "      <th>quantity_roll_sum_7D</th>\n",
       "      <th>last_visit_ndays</th>\n",
       "    </tr>\n",
       "    <tr>\n",
       "      <th>cluster</th>\n",
       "      <th></th>\n",
       "      <th></th>\n",
       "      <th></th>\n",
       "    </tr>\n",
       "  </thead>\n",
       "  <tbody>\n",
       "    <tr>\n",
       "      <th>0</th>\n",
       "      <td>23194</td>\n",
       "      <td>23194</td>\n",
       "      <td>23194</td>\n",
       "    </tr>\n",
       "    <tr>\n",
       "      <th>1</th>\n",
       "      <td>10639</td>\n",
       "      <td>10639</td>\n",
       "      <td>10639</td>\n",
       "    </tr>\n",
       "    <tr>\n",
       "      <th>2</th>\n",
       "      <td>3158</td>\n",
       "      <td>3158</td>\n",
       "      <td>3158</td>\n",
       "    </tr>\n",
       "    <tr>\n",
       "      <th>3</th>\n",
       "      <td>57</td>\n",
       "      <td>57</td>\n",
       "      <td>57</td>\n",
       "    </tr>\n",
       "    <tr>\n",
       "      <th>4</th>\n",
       "      <td>10</td>\n",
       "      <td>10</td>\n",
       "      <td>10</td>\n",
       "    </tr>\n",
       "  </tbody>\n",
       "</table>\n",
       "</div>"
      ],
      "text/plain": [
       "         dollar_roll_sum_7D  quantity_roll_sum_7D  last_visit_ndays\n",
       "cluster                                                            \n",
       "0                     23194                 23194             23194\n",
       "1                     10639                 10639             10639\n",
       "2                      3158                  3158              3158\n",
       "3                        57                    57                57\n",
       "4                        10                    10                10"
      ]
     },
     "execution_count": 20,
     "metadata": {},
     "output_type": "execute_result"
    }
   ],
   "source": [
    "# create the counts of number of items for each cluster\n",
    "num_of_items_df = pd.DataFrame(rfm_standardized.groupby('cluster').count())\n",
    "print(\"The number of each item in each cluster is:\")\n",
    "num_of_items_df"
   ]
  },
  {
   "cell_type": "markdown",
   "metadata": {},
   "source": [
    "**It looks like the counts of each column decrease with each cluster.**"
   ]
  },
  {
   "cell_type": "code",
   "execution_count": 21,
   "metadata": {},
   "outputs": [
    {
     "name": "stdout",
     "output_type": "stream",
     "text": [
      "The original centroids are: \n"
     ]
    },
    {
     "data": {
      "text/html": [
       "<div>\n",
       "<style scoped>\n",
       "    .dataframe tbody tr th:only-of-type {\n",
       "        vertical-align: middle;\n",
       "    }\n",
       "\n",
       "    .dataframe tbody tr th {\n",
       "        vertical-align: top;\n",
       "    }\n",
       "\n",
       "    .dataframe thead th {\n",
       "        text-align: right;\n",
       "    }\n",
       "</style>\n",
       "<table border=\"1\" class=\"dataframe\">\n",
       "  <thead>\n",
       "    <tr style=\"text-align: right;\">\n",
       "      <th></th>\n",
       "      <th>dollar_roll_sum_7D</th>\n",
       "      <th>quantity_roll_sum_7D</th>\n",
       "      <th>last_visit_ndays</th>\n",
       "    </tr>\n",
       "    <tr>\n",
       "      <th>cluster</th>\n",
       "      <th></th>\n",
       "      <th></th>\n",
       "      <th></th>\n",
       "    </tr>\n",
       "  </thead>\n",
       "  <tbody>\n",
       "    <tr>\n",
       "      <th>0</th>\n",
       "      <td>837.399282</td>\n",
       "      <td>10.015049</td>\n",
       "      <td>14.174391</td>\n",
       "    </tr>\n",
       "    <tr>\n",
       "      <th>1</th>\n",
       "      <td>927.472979</td>\n",
       "      <td>10.117546</td>\n",
       "      <td>114.878020</td>\n",
       "    </tr>\n",
       "    <tr>\n",
       "      <th>2</th>\n",
       "      <td>4500.996584</td>\n",
       "      <td>39.753685</td>\n",
       "      <td>18.685226</td>\n",
       "    </tr>\n",
       "    <tr>\n",
       "      <th>3</th>\n",
       "      <td>35457.847731</td>\n",
       "      <td>165.984519</td>\n",
       "      <td>10.543416</td>\n",
       "    </tr>\n",
       "    <tr>\n",
       "      <th>4</th>\n",
       "      <td>19804.650566</td>\n",
       "      <td>972.812949</td>\n",
       "      <td>3.599462</td>\n",
       "    </tr>\n",
       "  </tbody>\n",
       "</table>\n",
       "</div>"
      ],
      "text/plain": [
       "         dollar_roll_sum_7D  quantity_roll_sum_7D  last_visit_ndays\n",
       "cluster                                                            \n",
       "0                837.399282             10.015049         14.174391\n",
       "1                927.472979             10.117546        114.878020\n",
       "2               4500.996584             39.753685         18.685226\n",
       "3              35457.847731            165.984519         10.543416\n",
       "4              19804.650566            972.812949          3.599462"
      ]
     },
     "execution_count": 21,
     "metadata": {},
     "output_type": "execute_result"
    }
   ],
   "source": [
    "# create the original centroids by reversing the normalization for each column\n",
    "\n",
    "col_names = ['dollar_roll_sum_7D','quantity_roll_sum_7D','last_visit_ndays']\n",
    "\n",
    "ScaledCentroids_5 = pd.DataFrame(rfm_standardized.groupby('cluster').mean())\n",
    "\n",
    "Centroids_5 = ScaledCentroids_5 * rfm_df[col_names].std() + rfm_df[col_names].mean()\n",
    "\n",
    "# review df\n",
    "print(\"The original centroids are: \")\n",
    "Centroids_5"
   ]
  },
  {
   "cell_type": "code",
   "execution_count": 22,
   "metadata": {},
   "outputs": [
    {
     "name": "stdout",
     "output_type": "stream",
     "text": [
      "The standard deviation between the normalized clusters are: \n"
     ]
    },
    {
     "data": {
      "text/html": [
       "<div>\n",
       "<style scoped>\n",
       "    .dataframe tbody tr th:only-of-type {\n",
       "        vertical-align: middle;\n",
       "    }\n",
       "\n",
       "    .dataframe tbody tr th {\n",
       "        vertical-align: top;\n",
       "    }\n",
       "\n",
       "    .dataframe thead th {\n",
       "        text-align: right;\n",
       "    }\n",
       "</style>\n",
       "<table border=\"1\" class=\"dataframe\">\n",
       "  <thead>\n",
       "    <tr style=\"text-align: right;\">\n",
       "      <th></th>\n",
       "      <th>dollar_roll_sum_7D</th>\n",
       "      <th>quantity_roll_sum_7D</th>\n",
       "      <th>last_visit_ndays</th>\n",
       "    </tr>\n",
       "    <tr>\n",
       "      <th>cluster</th>\n",
       "      <th></th>\n",
       "      <th></th>\n",
       "      <th></th>\n",
       "    </tr>\n",
       "  </thead>\n",
       "  <tbody>\n",
       "    <tr>\n",
       "      <th>0</th>\n",
       "      <td>0.324071</td>\n",
       "      <td>0.328407</td>\n",
       "      <td>0.290993</td>\n",
       "    </tr>\n",
       "    <tr>\n",
       "      <th>1</th>\n",
       "      <td>0.429327</td>\n",
       "      <td>0.395609</td>\n",
       "      <td>0.230328</td>\n",
       "    </tr>\n",
       "    <tr>\n",
       "      <th>2</th>\n",
       "      <td>1.213000</td>\n",
       "      <td>0.907213</td>\n",
       "      <td>0.653034</td>\n",
       "    </tr>\n",
       "    <tr>\n",
       "      <th>3</th>\n",
       "      <td>6.821948</td>\n",
       "      <td>4.869316</td>\n",
       "      <td>0.559493</td>\n",
       "    </tr>\n",
       "    <tr>\n",
       "      <th>4</th>\n",
       "      <td>4.994264</td>\n",
       "      <td>12.892315</td>\n",
       "      <td>0.093938</td>\n",
       "    </tr>\n",
       "  </tbody>\n",
       "</table>\n",
       "</div>"
      ],
      "text/plain": [
       "         dollar_roll_sum_7D  quantity_roll_sum_7D  last_visit_ndays\n",
       "cluster                                                            \n",
       "0                  0.324071              0.328407          0.290993\n",
       "1                  0.429327              0.395609          0.230328\n",
       "2                  1.213000              0.907213          0.653034\n",
       "3                  6.821948              4.869316          0.559493\n",
       "4                  4.994264             12.892315          0.093938"
      ]
     },
     "execution_count": 22,
     "metadata": {},
     "output_type": "execute_result"
    }
   ],
   "source": [
    "# create the variation betweent the normalized clusters\n",
    "print(\"The standard deviation between the normalized clusters are: \")\n",
    "rfm_standardized.groupby('cluster').std()"
   ]
  },
  {
   "cell_type": "markdown",
   "metadata": {},
   "source": [
    "**The variation between each cluster is an interesting data point to look at. It looks like the variation increases wrt dollar_sum for each cluster quite significantly. The quantity_roll has little variation until it gets the clusters 3 and 4. The last_visit seems to decrease in variability as clusters increase.**"
   ]
  },
  {
   "cell_type": "markdown",
   "metadata": {},
   "source": [
    "5. Pick 3 clusters at random and describe what makes them different from one another (in terms of their RFM features). <span style=\"color:red\" float:right>[3 point]</span>"
   ]
  },
  {
   "cell_type": "code",
   "execution_count": 23,
   "metadata": {},
   "outputs": [],
   "source": [
    "# create 3 dataframes of each cluster\n",
    "cluster_1 = rfm_df[rfm_df['cluster'] == 1]\n",
    "cluster_3 = rfm_df[rfm_df['cluster'] == 3]\n",
    "cluster_4 = rfm_df[rfm_df['cluster'] == 4]\n",
    "\n",
    "# create means\n",
    "means_1 = cluster_1.mean()\n",
    "means_3 = cluster_3.mean()\n",
    "means_4 = cluster_4.mean()"
   ]
  },
  {
   "cell_type": "code",
   "execution_count": 24,
   "metadata": {},
   "outputs": [
    {
     "name": "stdout",
     "output_type": "stream",
     "text": [
      "The means for cluster 1 are \n",
      " dollar_roll_sum_7D      46109.16\n",
      "quantity_roll_sum_7D      235.68\n",
      "last_visit_ndays            6.48\n",
      "cluster                     1.00\n",
      "dtype: float64\n",
      "\n",
      "The means for cluster 3 are \n",
      " dollar_roll_sum_7D      1583.312286\n",
      "quantity_roll_sum_7D      17.895429\n",
      "last_visit_ndays           8.808286\n",
      "cluster                    3.000000\n",
      "dtype: float64\n",
      "\n",
      "The means for cluster 4 are \n",
      " dollar_roll_sum_7D      19804.4\n",
      "quantity_roll_sum_7D      972.8\n",
      "last_visit_ndays            3.6\n",
      "cluster                     4.0\n",
      "dtype: float64\n"
     ]
    }
   ],
   "source": [
    "# look at the means of each clustered df\n",
    "from pprint import PrettyPrinter as pp\n",
    "print(f'The means for cluster 1 are \\n {means_1}')\n",
    "print()\n",
    "print(f'The means for cluster 3 are \\n {means_3}')\n",
    "print()\n",
    "print(f'The means for cluster 4 are \\n {means_4}')"
   ]
  },
  {
   "cell_type": "code",
   "execution_count": 25,
   "metadata": {},
   "outputs": [
    {
     "name": "stdout",
     "output_type": "stream",
     "text": [
      "Cluster 1 Pairplot\n"
     ]
    },
    {
     "data": {
      "text/plain": [
       "<seaborn.axisgrid.PairGrid at 0x7f57768f6bb0>"
      ]
     },
     "execution_count": 25,
     "metadata": {},
     "output_type": "execute_result"
    },
    {
     "data": {
      "image/png": "[encoded data removed]",
      "text/plain": [
       "<Figure size 540x540 with 12 Axes>"
      ]
     },
     "metadata": {
      "needs_background": "light"
     },
     "output_type": "display_data"
    }
   ],
   "source": [
    "# pairplot each cluster\n",
    "import seaborn as sns\n",
    "\n",
    "#pairplots\n",
    "print('Cluster 1 Pairplot')\n",
    "sns.pairplot(data=cluster_1[col_names])"
   ]
  },
  {
   "cell_type": "code",
   "execution_count": 26,
   "metadata": {},
   "outputs": [
    {
     "name": "stdout",
     "output_type": "stream",
     "text": [
      "Cluster 3 Pairplot\n"
     ]
    },
    {
     "data": {
      "text/plain": [
       "<seaborn.axisgrid.PairGrid at 0x7f57763b56d0>"
      ]
     },
     "execution_count": 26,
     "metadata": {},
     "output_type": "execute_result"
    },
    {
     "data": {
      "image/png": "[encoded data removed]",
      "text/plain": [
       "<Figure size 540x540 with 12 Axes>"
      ]
     },
     "metadata": {
      "needs_background": "light"
     },
     "output_type": "display_data"
    }
   ],
   "source": [
    "print('Cluster 3 Pairplot')\n",
    "sns.pairplot(data=cluster_3[col_names])"
   ]
  },
  {
   "cell_type": "code",
   "execution_count": 27,
   "metadata": {},
   "outputs": [
    {
     "name": "stdout",
     "output_type": "stream",
     "text": [
      "Cluster 4 Pairplot\n"
     ]
    },
    {
     "data": {
      "text/plain": [
       "<seaborn.axisgrid.PairGrid at 0x7f5775ee6e20>"
      ]
     },
     "execution_count": 27,
     "metadata": {},
     "output_type": "execute_result"
    },
    {
     "data": {
      "image/png": "[encoded data removed]",
      "text/plain": [
       "<Figure size 540x540 with 12 Axes>"
      ]
     },
     "metadata": {
      "needs_background": "light"
     },
     "output_type": "display_data"
    }
   ],
   "source": [
    "print('Cluster 4 Pairplot')\n",
    "sns.pairplot(data=cluster_4[col_names])"
   ]
  },
  {
   "cell_type": "markdown",
   "metadata": {},
   "source": [
    "#### I chose clusters 1, 3 and 4\n"
   ]
  },
  {
   "cell_type": "markdown",
   "metadata": {},
   "source": [
    "- We can see just from sheer data points that cluster 1 & cluster 3 have significantly more datapoints than cluster 4 as was seen with the count done earlier.\n",
    "- The dollar 7 day rolling sum for cluster 1 has values that are upt to around 250, whereas cluster 3 has values up to around 1000 and cluster 4 has values up to 60,000. This is also shown in the average 7 day rolling dollar sums for each cluster where averages for cluster 4 > cluster 3 > cluster 1\n",
    "- The last visit number of days 7 day rolling sum was interesting. It looked like cluster 4 and cluster 3 had the most recent users. Cluster 1 had the most users that took the longest between visits. \n",
    "- Overall we can see a clear difference between these clusters and the patterns associated with them based on the 7 day rolling sums of dollars, quantity of items and days from last visit. "
   ]
  },
  {
   "cell_type": "markdown",
   "metadata": {},
   "source": [
    "# End of assignment"
   ]
  }
 ],
 "metadata": {
  "kernelspec": {
   "display_name": "Python 3 (ipykernel)",
   "language": "python",
   "name": "python3"
  },
  "language_info": {
   "codemirror_mode": {
    "name": "ipython",
    "version": 3
   },
   "file_extension": ".py",
   "mimetype": "text/x-python",
   "name": "python",
   "nbconvert_exporter": "python",
   "pygments_lexer": "ipython3",
   "version": "3.9.7"
  }
 },
 "nbformat": 4,
 "nbformat_minor": 4
}
