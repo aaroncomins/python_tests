{
 "cells": [
  {
   "cell_type": "markdown",
   "metadata": {},
   "source": [
    "# Assignment\n",
    "\n",
    "We build on the feature engineering we did in the last assignment and run k-means on the data with RFM features in order to do **customer segmentation**. Since k-means is unsupervised, we will also encounter challenges around interpreting results at the end. "
   ]
  },
  {
   "cell_type": "code",
   "execution_count": 1,
   "metadata": {},
   "outputs": [
    {
     "data": {
      "text/html": [
       "<div>\n",
       "<style scoped>\n",
       "    .dataframe tbody tr th:only-of-type {\n",
       "        vertical-align: middle;\n",
       "    }\n",
       "\n",
       "    .dataframe tbody tr th {\n",
       "        vertical-align: top;\n",
       "    }\n",
       "\n",
       "    .dataframe thead th {\n",
       "        text-align: right;\n",
       "    }\n",
       "</style>\n",
       "<table border=\"1\" class=\"dataframe\">\n",
       "  <thead>\n",
       "    <tr style=\"text-align: right;\">\n",
       "      <th></th>\n",
       "      <th>user_id</th>\n",
       "      <th>gender</th>\n",
       "      <th>address</th>\n",
       "      <th>store_id</th>\n",
       "      <th>trans_id</th>\n",
       "      <th>timestamp</th>\n",
       "      <th>item_id</th>\n",
       "      <th>quantity</th>\n",
       "      <th>dollar</th>\n",
       "    </tr>\n",
       "  </thead>\n",
       "  <tbody>\n",
       "    <tr>\n",
       "      <th>0</th>\n",
       "      <td>101981</td>\n",
       "      <td>F</td>\n",
       "      <td>E</td>\n",
       "      <td>2860</td>\n",
       "      <td>818463</td>\n",
       "      <td>11/1/2000 0:00</td>\n",
       "      <td>4.710000e+12</td>\n",
       "      <td>1</td>\n",
       "      <td>37</td>\n",
       "    </tr>\n",
       "    <tr>\n",
       "      <th>1</th>\n",
       "      <td>101981</td>\n",
       "      <td>F</td>\n",
       "      <td>E</td>\n",
       "      <td>2861</td>\n",
       "      <td>818464</td>\n",
       "      <td>11/1/2000 0:00</td>\n",
       "      <td>4.710000e+12</td>\n",
       "      <td>1</td>\n",
       "      <td>17</td>\n",
       "    </tr>\n",
       "    <tr>\n",
       "      <th>2</th>\n",
       "      <td>101981</td>\n",
       "      <td>F</td>\n",
       "      <td>E</td>\n",
       "      <td>2862</td>\n",
       "      <td>818465</td>\n",
       "      <td>11/1/2000 0:00</td>\n",
       "      <td>4.710000e+12</td>\n",
       "      <td>1</td>\n",
       "      <td>23</td>\n",
       "    </tr>\n",
       "    <tr>\n",
       "      <th>3</th>\n",
       "      <td>101981</td>\n",
       "      <td>F</td>\n",
       "      <td>E</td>\n",
       "      <td>2863</td>\n",
       "      <td>818466</td>\n",
       "      <td>11/1/2000 0:00</td>\n",
       "      <td>4.710000e+12</td>\n",
       "      <td>1</td>\n",
       "      <td>41</td>\n",
       "    </tr>\n",
       "    <tr>\n",
       "      <th>4</th>\n",
       "      <td>101981</td>\n",
       "      <td>F</td>\n",
       "      <td>E</td>\n",
       "      <td>2864</td>\n",
       "      <td>818467</td>\n",
       "      <td>11/1/2000 0:00</td>\n",
       "      <td>4.710000e+12</td>\n",
       "      <td>8</td>\n",
       "      <td>288</td>\n",
       "    </tr>\n",
       "  </tbody>\n",
       "</table>\n",
       "</div>"
      ],
      "text/plain": [
       "   user_id gender address  store_id  trans_id       timestamp       item_id  \\\n",
       "0   101981      F       E      2860    818463  11/1/2000 0:00  4.710000e+12   \n",
       "1   101981      F       E      2861    818464  11/1/2000 0:00  4.710000e+12   \n",
       "2   101981      F       E      2862    818465  11/1/2000 0:00  4.710000e+12   \n",
       "3   101981      F       E      2863    818466  11/1/2000 0:00  4.710000e+12   \n",
       "4   101981      F       E      2864    818467  11/1/2000 0:00  4.710000e+12   \n",
       "\n",
       "   quantity  dollar  \n",
       "0         1      37  \n",
       "1         1      17  \n",
       "2         1      23  \n",
       "3         1      41  \n",
       "4         8     288  "
      ]
     },
     "execution_count": 1,
     "metadata": {},
     "output_type": "execute_result"
    }
   ],
   "source": [
    "import pandas as pd\n",
    "col_names = ['user_id', 'gender', 'address', 'store_id', 'trans_id', 'timestamp', 'item_id', 'quantity', 'dollar']\n",
    "churn = pd.read_csv(\"retail-churn.csv\", sep = \",\", skiprows = 1, names = col_names)\n",
    "churn.head()"
   ]
  },
  {
   "cell_type": "markdown",
   "metadata": {},
   "source": [
    "Run the feature engineering steps on the data to extract RFM features.  "
   ]
  },
  {
   "cell_type": "code",
   "execution_count": 2,
   "metadata": {},
   "outputs": [
    {
     "name": "stdout",
     "output_type": "stream",
     "text": [
      "(37058, 5)\n"
     ]
    },
    {
     "data": {
      "text/html": [
       "<div>\n",
       "<style scoped>\n",
       "    .dataframe tbody tr th:only-of-type {\n",
       "        vertical-align: middle;\n",
       "    }\n",
       "\n",
       "    .dataframe tbody tr th {\n",
       "        vertical-align: top;\n",
       "    }\n",
       "\n",
       "    .dataframe thead th {\n",
       "        text-align: right;\n",
       "    }\n",
       "</style>\n",
       "<table border=\"1\" class=\"dataframe\">\n",
       "  <thead>\n",
       "    <tr style=\"text-align: right;\">\n",
       "      <th></th>\n",
       "      <th>user_id</th>\n",
       "      <th>date</th>\n",
       "      <th>dollar_roll_sum_7D</th>\n",
       "      <th>quantity_roll_sum_7D</th>\n",
       "      <th>last_visit_ndays</th>\n",
       "    </tr>\n",
       "  </thead>\n",
       "  <tbody>\n",
       "    <tr>\n",
       "      <th>0</th>\n",
       "      <td>1113</td>\n",
       "      <td>2000-11-12</td>\n",
       "      <td>420.0</td>\n",
       "      <td>5.0</td>\n",
       "      <td>118.0</td>\n",
       "    </tr>\n",
       "    <tr>\n",
       "      <th>1</th>\n",
       "      <td>1113</td>\n",
       "      <td>2000-11-26</td>\n",
       "      <td>558.0</td>\n",
       "      <td>3.0</td>\n",
       "      <td>14.0</td>\n",
       "    </tr>\n",
       "    <tr>\n",
       "      <th>2</th>\n",
       "      <td>1113</td>\n",
       "      <td>2000-11-27</td>\n",
       "      <td>1182.0</td>\n",
       "      <td>9.0</td>\n",
       "      <td>1.0</td>\n",
       "    </tr>\n",
       "    <tr>\n",
       "      <th>3</th>\n",
       "      <td>1113</td>\n",
       "      <td>2001-01-06</td>\n",
       "      <td>628.0</td>\n",
       "      <td>9.0</td>\n",
       "      <td>40.0</td>\n",
       "    </tr>\n",
       "    <tr>\n",
       "      <th>4</th>\n",
       "      <td>1250</td>\n",
       "      <td>2001-02-04</td>\n",
       "      <td>734.0</td>\n",
       "      <td>5.0</td>\n",
       "      <td>118.0</td>\n",
       "    </tr>\n",
       "  </tbody>\n",
       "</table>\n",
       "</div>"
      ],
      "text/plain": [
       "   user_id       date  dollar_roll_sum_7D  quantity_roll_sum_7D  \\\n",
       "0     1113 2000-11-12               420.0                   5.0   \n",
       "1     1113 2000-11-26               558.0                   3.0   \n",
       "2     1113 2000-11-27              1182.0                   9.0   \n",
       "3     1113 2001-01-06               628.0                   9.0   \n",
       "4     1250 2001-02-04               734.0                   5.0   \n",
       "\n",
       "   last_visit_ndays  \n",
       "0             118.0  \n",
       "1              14.0  \n",
       "2               1.0  \n",
       "3              40.0  \n",
       "4             118.0  "
      ]
     },
     "execution_count": 2,
     "metadata": {},
     "output_type": "execute_result"
    }
   ],
   "source": [
    "churn['date'] =  pd.to_datetime(pd.to_datetime(churn['timestamp'], format = '%m/%d/%Y %H:%M').dt.date)\n",
    "churn_agg = churn.groupby(['user_id', 'date']).agg({'dollar': 'sum', 'quantity': 'sum'})\n",
    "churn_agg = churn_agg.reset_index()\n",
    "churn_roll = pd.DataFrame()\n",
    "churn_roll['dollar_roll_sum_7D'] = churn_agg.groupby('user_id').rolling(window = '7D', on = 'date')['dollar'].sum()\n",
    "churn_roll['quantity_roll_sum_7D'] = churn_agg.groupby('user_id').rolling(window = '7D', on = 'date')['quantity'].sum()\n",
    "churn_roll = churn_roll.reset_index()\n",
    "churn_roll['last_visit_ndays'] = churn_agg.groupby('user_id')['date'].diff(periods = 1).dt.days\n",
    "print(churn_roll.shape)\n",
    "\n",
    "# Should we impute or drop NaN/NaT in churn_roll['last_visit_ndays']?\n",
    "imputation_value = churn_roll['last_visit_ndays'].max() # None # \n",
    "if imputation_value is None:\n",
    "    # Drop (Remove all rows with NaN):\n",
    "    churn_roll.dropna(inplace = True)\n",
    "    print(churn_roll.shape)\n",
    "else:\n",
    "    # Impute (Replace all NaN in last_visit_ndays):\n",
    "    churn_roll['last_visit_ndays'] = churn_roll['last_visit_ndays'].fillna(imputation_value)\n",
    "\n",
    "churn_roll.head()"
   ]
  },
  {
   "cell_type": "markdown",
   "metadata": {},
   "source": [
    "The RFM features are:  'dollar_roll_sum_7D', 'quantity_roll_sum_7D', 'last_visit_ndays'"
   ]
  },
  {
   "cell_type": "markdown",
   "metadata": {},
   "source": [
    "1. Train a k-means algorithm on the 3 normalized RFM features using $k = 10$. What are the cluster centroids? The cluster centroids should be reported in the **original scale**, not the normalized scale. <span style=\"color:red\" float:right>[2 point]</span> "
   ]
  },
  {
   "cell_type": "code",
   "execution_count": 5,
   "metadata": {},
   "outputs": [
    {
     "data": {
      "text/html": [
       "<div>\n",
       "<style scoped>\n",
       "    .dataframe tbody tr th:only-of-type {\n",
       "        vertical-align: middle;\n",
       "    }\n",
       "\n",
       "    .dataframe tbody tr th {\n",
       "        vertical-align: top;\n",
       "    }\n",
       "\n",
       "    .dataframe thead th {\n",
       "        text-align: right;\n",
       "    }\n",
       "</style>\n",
       "<table border=\"1\" class=\"dataframe\">\n",
       "  <thead>\n",
       "    <tr style=\"text-align: right;\">\n",
       "      <th></th>\n",
       "      <th>dollar_roll_sum_7D</th>\n",
       "      <th>quantity_roll_sum_7D</th>\n",
       "      <th>last_visit_ndays</th>\n",
       "    </tr>\n",
       "  </thead>\n",
       "  <tbody>\n",
       "    <tr>\n",
       "      <th>0</th>\n",
       "      <td>594.162998</td>\n",
       "      <td>7.084917</td>\n",
       "      <td>114.990500</td>\n",
       "    </tr>\n",
       "    <tr>\n",
       "      <th>1</th>\n",
       "      <td>3405.418803</td>\n",
       "      <td>33.667832</td>\n",
       "      <td>10.397047</td>\n",
       "    </tr>\n",
       "    <tr>\n",
       "      <th>2</th>\n",
       "      <td>457.827969</td>\n",
       "      <td>5.993721</td>\n",
       "      <td>16.225431</td>\n",
       "    </tr>\n",
       "    <tr>\n",
       "      <th>3</th>\n",
       "      <td>7679.676420</td>\n",
       "      <td>59.106713</td>\n",
       "      <td>22.523236</td>\n",
       "    </tr>\n",
       "    <tr>\n",
       "      <th>4</th>\n",
       "      <td>19804.400000</td>\n",
       "      <td>972.800000</td>\n",
       "      <td>3.600000</td>\n",
       "    </tr>\n",
       "    <tr>\n",
       "      <th>5</th>\n",
       "      <td>60972.600000</td>\n",
       "      <td>151.800000</td>\n",
       "      <td>13.200000</td>\n",
       "    </tr>\n",
       "    <tr>\n",
       "      <th>6</th>\n",
       "      <td>21942.462687</td>\n",
       "      <td>84.880597</td>\n",
       "      <td>12.507463</td>\n",
       "    </tr>\n",
       "    <tr>\n",
       "      <th>7</th>\n",
       "      <td>1521.269177</td>\n",
       "      <td>17.206208</td>\n",
       "      <td>10.543570</td>\n",
       "    </tr>\n",
       "    <tr>\n",
       "      <th>8</th>\n",
       "      <td>2584.957701</td>\n",
       "      <td>25.097471</td>\n",
       "      <td>114.357701</td>\n",
       "    </tr>\n",
       "    <tr>\n",
       "      <th>9</th>\n",
       "      <td>34162.941176</td>\n",
       "      <td>296.058824</td>\n",
       "      <td>1.352941</td>\n",
       "    </tr>\n",
       "  </tbody>\n",
       "</table>\n",
       "</div>"
      ],
      "text/plain": [
       "   dollar_roll_sum_7D  quantity_roll_sum_7D  last_visit_ndays\n",
       "0          594.162998              7.084917        114.990500\n",
       "1         3405.418803             33.667832         10.397047\n",
       "2          457.827969              5.993721         16.225431\n",
       "3         7679.676420             59.106713         22.523236\n",
       "4        19804.400000            972.800000          3.600000\n",
       "5        60972.600000            151.800000         13.200000\n",
       "6        21942.462687             84.880597         12.507463\n",
       "7         1521.269177             17.206208         10.543570\n",
       "8         2584.957701             25.097471        114.357701\n",
       "9        34162.941176            296.058824          1.352941"
      ]
     },
     "execution_count": 5,
     "metadata": {},
     "output_type": "execute_result"
    }
   ],
   "source": [
    "import pandas as pd\n",
    "from sklearn.preprocessing import StandardScaler\n",
    "from sklearn.cluster import KMeans\n",
    "\n",
    "# Extract the RFM features\n",
    "rfm_features = churn_roll[['dollar_roll_sum_7D', 'quantity_roll_sum_7D', 'last_visit_ndays']]\n",
    "\n",
    "# Instantiate a scaler\n",
    "scaler = StandardScaler()\n",
    "\n",
    "# Normalize the RFM features\n",
    "normalized_rfm_features = scaler.fit_transform(rfm_features)\n",
    "\n",
    "# Train the K-means algo with 10 clusters\n",
    "kmeans = KMeans(n_clusters=10, random_state=42)\n",
    "kmeans.fit(normalized_rfm_features)\n",
    "\n",
    "# Scale back the cluster centroids to the original scale\n",
    "centroids = scaler.inverse_transform(kmeans.cluster_centers_)\n",
    "\n",
    "# Create a DataFrame of the cluster centroids\n",
    "centroids_df = pd.DataFrame(centroids, columns=rfm_features.columns)\n",
    "\n",
    "# Print the DataFrame\n",
    "centroids_df"
   ]
  },
  {
   "cell_type": "markdown",
   "metadata": {},
   "source": [
    "**Reason: To train a k-means algorithm on the 3 normalized RFM features using 𝑘=10 and determine the cluseter centroids.**\n",
    "\n",
    "**Conclusion:\n",
    "The code extracts the RFM features from the churn_roll DataFrame.** \n",
    "\n",
    "**Instantiates a StandardScaler object to normalize the data so that all of the features have a similar range.**\n",
    "\n",
    "**Normalizes the RFM features using the StandardScaler object by fit_transform() method on the StandardScaler object. The fit_transform() method learns the distribution of the data and then transforms the data so that it has a mean of 0 and a standard deviation of 1.**\n",
    "\n",
    "**Creates a KMeans object with n_clusters=10.**\n",
    "\n",
    "**Trains the KMeans model on the normalized RFM features using the fit() method.**\n",
    "\n",
    "**Clusters the centroids using the cluster_centers_ attribute of the KMeans object.**\n",
    "\n",
    "**Scales back the cluster centroids to the original scale using the inverse_transform() method of the StandardScaler object so that the values are in the same units as the original data.**\n",
    "\n",
    "**The outcome can be used to cluster customers based on their RFM features.**"
   ]
  },
  {
   "cell_type": "markdown",
   "metadata": {},
   "source": [
    "2. Our earlier choice of $k=10$ was arbitrary. To find a better number of $k$ create a **scree plot**, which plots the number of clusters $k$ on the x-axis and the sum of squared distances from each point to its cluster centroid on the y-axis. We can get the latter by calling the `inertia_` attribute as shown in the lab. Plot the scree plot for $k$ values from 1 to 15. <span style=\"color:red\" float:right>[4 point]</span>"
   ]
  },
  {
   "cell_type": "code",
   "execution_count": 6,
   "metadata": {},
   "outputs": [
    {
     "data": {
      "image/png": "[encoded data removed]",
      "text/plain": [
       "<Figure size 432x288 with 1 Axes>"
      ]
     },
     "metadata": {
      "needs_background": "light"
     },
     "output_type": "display_data"
    }
   ],
   "source": [
    "import matplotlib.pyplot as plt\n",
    "\n",
    "# Create a list with a range of K values and an empty inertia list\n",
    "k_values = range(1, 16)\n",
    "inertia = []\n",
    "\n",
    "# Loop through each K value and get the inertia\n",
    "for k in k_values:\n",
    "    kmeans = KMeans(n_clusters=k, random_state=42)\n",
    "    kmeans.fit(normalized_rfm_features)\n",
    "    inertia.append(kmeans.inertia_)\n",
    "    \n",
    "# Plot the scree plot\n",
    "plt.plot(k_values, inertia, marker='o')\n",
    "plt.xlabel('Number of Clusters (k)')\n",
    "plt.ylabel('Sum of Squared Distances')\n",
    "plt.title('Scree Plot')\n",
    "plt.show()"
   ]
  },
  {
   "cell_type": "markdown",
   "metadata": {},
   "source": [
    "**Reason: To find a better number of 𝑘 by creating a scree plot which plots the number of clusters 𝑘 on the x-axis and the sum of squared distances from each point to its cluster centroid on the y-axis. We can get the latter by calling the inertia_ attribute as shown in the lab. Plot the scree plot for 𝑘 values from 1 to 15. Conclusion is question 3.**"
   ]
  },
  {
   "cell_type": "markdown",
   "metadata": {},
   "source": [
    "3. Based on the scree plot, what is a good value to pick for $k$? Provide a brief justification for your choice. <span style=\"color:red\" float:right>[2 point]</span>"
   ]
  },
  {
   "cell_type": "markdown",
   "metadata": {},
   "source": [
    "**Conclusion: Based on the scree plot, a good value to pick for k is 5. This is because the sum of squared distances decreases rapidly after 5 clusters, and then levels off. This indicates that after 5 clusters, the data points are not being clustered any more effectively.**"
   ]
  },
  {
   "cell_type": "markdown",
   "metadata": {},
   "source": [
    "4. Train a k-means algorithm on the RFM features using your new value of $k$. Report:\n",
    "- the size (number of items) of each cluster\n",
    "- the mean of each cluster in the original scale\n",
    "- the standard deviation of each cluster in the Z-normalized scale\n",
    "<span style=\"color:red\" float:right>[2 point]</span>"
   ]
  },
  {
   "cell_type": "code",
   "execution_count": 8,
   "metadata": {},
   "outputs": [
    {
     "name": "stdout",
     "output_type": "stream",
     "text": [
      "Cluster sizes:\n",
      "0    23194\n",
      "1    10639\n",
      "2     3158\n",
      "3       57\n",
      "4       10\n",
      "Name: cluster_label, dtype: int64\n",
      "\n",
      "Cluster means (original scale):\n",
      "               dollar_roll_sum_7D  quantity_roll_sum_7D  last_visit_ndays\n",
      "cluster_label                                                            \n",
      "0                      837.404631             10.015090         14.174787\n",
      "1                      927.477113             10.117586        114.877056\n",
      "2                     4500.952502             39.753325         18.685560\n",
      "3                    35457.385965            165.982456         10.543860\n",
      "4                    19804.400000            972.800000          3.600000\n",
      "\n",
      "Cluster standard deviation (Z-normalized scale):\n",
      "               dollar_roll_sum_7D  quantity_roll_sum_7D  last_visit_ndays\n",
      "cluster_label                                                            \n",
      "0                      672.826728              7.172033         13.945396\n",
      "1                      891.356540              8.639649         11.038113\n",
      "2                     2518.395278             19.812495         31.295716\n",
      "3                    14163.529663            106.340338         26.812890\n",
      "4                    10368.944479            281.553547          4.501851\n"
     ]
    }
   ],
   "source": [
    "from sklearn.cluster import KMeans\n",
    "from sklearn.preprocessing import StandardScaler\n",
    "\n",
    "# Create a KMeans object with k=5\n",
    "kmeans = KMeans(n_clusters=5, random_state=42)\n",
    "\n",
    "# Normalize the RFM features\n",
    "normalized_rfm_features = StandardScaler().fit_transform(churn_roll[['dollar_roll_sum_7D', 'quantity_roll_sum_7D', 'last_visit_ndays']])\n",
    "\n",
    "# Fit the KMeans model to the normalized RFM features\n",
    "kmeans.fit(normalized_rfm_features)\n",
    "\n",
    "# Assign the cluster labels back to our data\n",
    "churn_roll['cluster_label'] = kmeans.labels_\n",
    "\n",
    "# Get the size (number of items) of each cluster\n",
    "cluster_sizes = churn_roll['cluster_label'].value_counts().sort_index()\n",
    "\n",
    "# Get the mean of each cluster in the original scale\n",
    "cluster_means = churn_roll.groupby('cluster_label')[['dollar_roll_sum_7D', 'quantity_roll_sum_7D', 'last_visit_ndays']].mean()\n",
    "\n",
    "# Get the standard deviation of each cluster in the Z-normalized scale\n",
    "cluster_std = churn_roll.groupby('cluster_label')[['dollar_roll_sum_7D', 'quantity_roll_sum_7D', 'last_visit_ndays']].std()\n",
    "\n",
    "print('Cluster sizes:')\n",
    "print(cluster_sizes)\n",
    "print()\n",
    "print('Cluster means (original scale):')\n",
    "print(cluster_means)\n",
    "print()\n",
    "print('Cluster standard deviation (Z-normalized scale):')\n",
    "print(cluster_std)"
   ]
  },
  {
   "cell_type": "markdown",
   "metadata": {},
   "source": [
    "**Reason: To train a k-means algorithm on the RFM features using your new value of 𝑘 and Report:**\n",
    "**the size (number of items) of each cluster,**\n",
    "**the mean of each cluster in the original scale, and**\n",
    "**the standard deviation of each cluster in the Z-normalized scale.** "
   ]
  },
  {
   "cell_type": "markdown",
   "metadata": {},
   "source": [
    "**Conclusion: Trained a k-means algorithm on the RFM features using new value of k (5) and subsequently reported the size of each cluster (0 is 23194, 1 is 10639, 2 is 3158, 3 is 57, and 4 is 10), mean of each cluster in the original scale (see above), and the standard deviation of each cluster in the Z-normalized scale (see above).**"
   ]
  },
  {
   "cell_type": "markdown",
   "metadata": {},
   "source": [
    "5. Pick 3 clusters at random and describe what makes them different from one another (in terms of their RFM features). <span style=\"color:red\" float:right>[3 point]</span>"
   ]
  },
  {
   "cell_type": "markdown",
   "metadata": {},
   "source": [
    "**The first cluster is made up of customers who are recent, frequent, and high-value. They are the most valuable customers.**\n",
    "\n",
    "**The second cluster is made up of customers who are recent and frequent but they are not high-value. They are likely to be new customers who are still in the process of being converted into high-value customers.**\n",
    "\n",
    "**The third cluster is made up of customers who are not recent but are frequent and high-value.**"
   ]
  },
  {
   "cell_type": "markdown",
   "metadata": {},
   "source": [
    "# End of assignment"
   ]
  }
 ],
 "metadata": {
  "kernelspec": {
   "display_name": "Python 3 (ipykernel)",
   "language": "python",
   "name": "python3"
  },
  "language_info": {
   "codemirror_mode": {
    "name": "ipython",
    "version": 3
   },
   "file_extension": ".py",
   "mimetype": "text/x-python",
   "name": "python",
   "nbconvert_exporter": "python",
   "pygments_lexer": "ipython3",
   "version": "3.9.7"
  }
 },
 "nbformat": 4,
 "nbformat_minor": 4
}
