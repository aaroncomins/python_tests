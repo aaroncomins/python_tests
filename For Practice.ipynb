{
 "cells": [
  {
   "cell_type": "markdown",
   "id": "b6eb29b5-cab8-46a2-97e6-41abb2300af8",
   "metadata": {},
   "source": [
    "# DataStructures\n",
    "Copyright © 2022 by Ernst Henle"
   ]
  },
  {
   "cell_type": "code",
   "execution_count": 18,
   "id": "84413868-f24b-4dba-bb16-3d5d9c6ed693",
   "metadata": {},
   "outputs": [],
   "source": [
    "import numpy as np # this code means:  let me use the numpy functions and let me abbreviate numpy as np"
   ]
  },
  {
   "cell_type": "code",
   "execution_count": 22,
   "id": "0410b3c9-8f1b-4563-84a3-cae3656f269f",
   "metadata": {},
   "outputs": [
    {
     "data": {
      "text/plain": [
       "0.6065306597126334"
      ]
     },
     "execution_count": 22,
     "metadata": {},
     "output_type": "execute_result"
    }
   ],
   "source": [
    "np.exp(-1**2 / 2)"
   ]
  },
  {
   "cell_type": "code",
   "execution_count": 23,
   "id": "a1fd553a-9eb2-4fb4-9a81-38e5db7a5f42",
   "metadata": {},
   "outputs": [
    {
     "data": {
      "text/plain": [
       "7.38905609893065"
      ]
     },
     "execution_count": 23,
     "metadata": {},
     "output_type": "execute_result"
    }
   ],
   "source": [
    "np.exp(2)"
   ]
  },
  {
   "cell_type": "code",
   "execution_count": null,
   "id": "dd2e44c7-3f7b-4230-be28-c83faf26dd20",
   "metadata": {},
   "outputs": [],
   "source": []
  },
  {
   "cell_type": "code",
   "execution_count": null,
   "id": "b41b02db-f140-417f-867f-d1e78521b4ec",
   "metadata": {},
   "outputs": [],
   "source": [
    "np.exp(-1**2 / 2) / np.sqrt(2 * np.pi) # this code determines the height of a normal gaussian at 1 standard devciation"
   ]
  },
  {
   "cell_type": "code",
   "execution_count": 3,
   "id": "7e144369-187e-426c-bde8-29a876dc5104",
   "metadata": {},
   "outputs": [
    {
     "name": "stdout",
     "output_type": "stream",
     "text": [
      "['six', 7, 8, 'mine']\n"
     ]
    },
    {
     "data": {
      "text/plain": [
       "list"
      ]
     },
     "execution_count": 3,
     "metadata": {},
     "output_type": "execute_result"
    }
   ],
   "source": [
    "# List, Set, Dict, Tuple\n",
    "plist = [\"six\", 7, 8, \"mine\"]\n",
    "print(plist)\n",
    "type(plist)"
   ]
  },
  {
   "cell_type": "code",
   "execution_count": 14,
   "id": "241e8659-2a48-47e7-a8f1-f5e8d023e86b",
   "metadata": {},
   "outputs": [
    {
     "data": {
      "text/plain": [
       "1"
      ]
     },
     "execution_count": 14,
     "metadata": {},
     "output_type": "execute_result"
    }
   ],
   "source": [
    "1 ** 1"
   ]
  },
  {
   "cell_type": "code",
   "execution_count": 15,
   "id": "cecd63ef-d072-43fa-8d10-f09c85c41ea9",
   "metadata": {},
   "outputs": [
    {
     "data": {
      "text/plain": [
       "4"
      ]
     },
     "execution_count": 15,
     "metadata": {},
     "output_type": "execute_result"
    }
   ],
   "source": [
    "2 ** 2"
   ]
  },
  {
   "cell_type": "code",
   "execution_count": 17,
   "id": "108eb99e-67ef-47f3-a396-83c997e3d1e5",
   "metadata": {},
   "outputs": [
    {
     "ename": "SyntaxError",
     "evalue": "invalid syntax (3996351548.py, line 1)",
     "output_type": "error",
     "traceback": [
      "\u001b[0;36m  File \u001b[0;32m\"/tmp/ipykernel_555/3996351548.py\"\u001b[0;36m, line \u001b[0;32m1\u001b[0m\n\u001b[0;31m    16.sqrt\u001b[0m\n\u001b[0m       ^\u001b[0m\n\u001b[0;31mSyntaxError\u001b[0m\u001b[0;31m:\u001b[0m invalid syntax\n"
     ]
    }
   ],
   "source": []
  },
  {
   "cell_type": "code",
   "execution_count": null,
   "id": "e4347937-7366-4113-8081-2fcf01cd0d79",
   "metadata": {},
   "outputs": [],
   "source": []
  },
  {
   "cell_type": "code",
   "execution_count": 4,
   "id": "17cae83c-1c7e-41fe-8f3a-c18ac88e64fe",
   "metadata": {},
   "outputs": [
    {
     "name": "stdout",
     "output_type": "stream",
     "text": [
      "{'six', 2, (4, 5), 'one', 'three'}\n"
     ]
    },
    {
     "data": {
      "text/plain": [
       "set"
      ]
     },
     "execution_count": 4,
     "metadata": {},
     "output_type": "execute_result"
    }
   ],
   "source": [
    "pset = {\"one\", 2, \"three\", (4,5), \"six\"}\n",
    "print(pset)\n",
    "type(pset)"
   ]
  },
  {
   "cell_type": "code",
   "execution_count": 12,
   "id": "4a59f30a-ce88-4b9b-ab26-b695f474794a",
   "metadata": {},
   "outputs": [
    {
     "name": "stdout",
     "output_type": "stream",
     "text": [
      "{'ice': 'tea', 2: '4', 'lemon': 'ade', 1: 'three'}\n"
     ]
    },
    {
     "data": {
      "text/plain": [
       "dict"
      ]
     },
     "execution_count": 12,
     "metadata": {},
     "output_type": "execute_result"
    }
   ],
   "source": [
    "pdict = {\"ice\": \"tea\", 2: \"4\", \"lemon\": \"ade\", 1: \"three\"}\n",
    "print(pdict)\n",
    "type(pdict)"
   ]
  },
  {
   "cell_type": "code",
   "execution_count": 13,
   "id": "c1fa5bf1-4a45-4069-849d-0077fbe23239",
   "metadata": {},
   "outputs": [
    {
     "name": "stdout",
     "output_type": "stream",
     "text": [
      "('one', 2, 'three', 4, (5, 6), 'seven')\n"
     ]
    },
    {
     "data": {
      "text/plain": [
       "tuple"
      ]
     },
     "execution_count": 13,
     "metadata": {},
     "output_type": "execute_result"
    }
   ],
   "source": [
    "ptuple = (\"one\", 2, \"three\", 4, (5,6), \"seven\")\n",
    "print(ptuple)\n",
    "type(ptuple)"
   ]
  },
  {
   "cell_type": "code",
   "execution_count": 18,
   "id": "8888dbdd-9a51-4ec5-b91f-a0d4aaa50ce3",
   "metadata": {},
   "outputs": [
    {
     "data": {
      "text/plain": [
       "4"
      ]
     },
     "execution_count": 18,
     "metadata": {},
     "output_type": "execute_result"
    }
   ],
   "source": [
    "2**2"
   ]
  },
  {
   "cell_type": "code",
   "execution_count": 5,
   "id": "23a4c259-27d9-4fe2-b004-81c418af747d",
   "metadata": {},
   "outputs": [
    {
     "data": {
      "text/plain": [
       "50"
      ]
     },
     "execution_count": 5,
     "metadata": {},
     "output_type": "execute_result"
    }
   ],
   "source": [
    "album_sales_dict = {\"Back in Black\": 50, \"The Bodyguard\": 50, \"Thriller\": 65}\n",
    "album_sales_dict[\"Back in Black\"]"
   ]
  },
  {
   "cell_type": "code",
   "execution_count": 8,
   "id": "571d75d3-1fff-4ca1-afe9-f61899948845",
   "metadata": {},
   "outputs": [
    {
     "data": {
      "text/plain": [
       "dict"
      ]
     },
     "execution_count": 8,
     "metadata": {},
     "output_type": "execute_result"
    }
   ],
   "source": [
    "type(album_sales_dict)"
   ]
  },
  {
   "cell_type": "code",
   "execution_count": 9,
   "id": "e7911837-17aa-48d1-aa79-ca74bfd435de",
   "metadata": {},
   "outputs": [
    {
     "data": {
      "text/plain": [
       "{'R&B', 'disco', 'hard rock', 'pop', 'rock', 'soul'}"
      ]
     },
     "execution_count": 9,
     "metadata": {},
     "output_type": "execute_result"
    }
   ],
   "source": [
    "set1 = {\"pop\", \"rock\", \"soul\", \"hard rock\", \"rock\", \"R&B\", \"rock\", \"disco\"}\n",
    "set1"
   ]
  },
  {
   "cell_type": "code",
   "execution_count": 10,
   "id": "b0ea1cda-6b7f-4b3a-b797-196262b19c09",
   "metadata": {},
   "outputs": [
    {
     "data": {
      "text/plain": [
       "set"
      ]
     },
     "execution_count": 10,
     "metadata": {},
     "output_type": "execute_result"
    }
   ],
   "source": [
    "type(set1)"
   ]
  },
  {
   "cell_type": "code",
   "execution_count": 15,
   "id": "b7362945-7f02-44d8-aa10-aa55e52c1dd7",
   "metadata": {},
   "outputs": [
    {
     "name": "stdout",
     "output_type": "stream",
     "text": [
      "['Michael Jackson', 'Thriller', 1982, '00:42:19', 'Pop, Rock, R&B', 46.0, 65, '30-Nov-82', None, 10.0]\n"
     ]
    }
   ],
   "source": [
    "albumlist = [\"Michael Jackson\", \"Thriller\", 1982, \"00:42:19\", \\\n",
    "             \"Pop, Rock, R&B\", 46.0, 65, \"30-Nov-82\", None, 10.0]\n",
    "print(albumlist)"
   ]
  },
  {
   "cell_type": "code",
   "execution_count": 17,
   "id": "16e79d4d-6f02-4896-9e7e-b6bda5aa4f41",
   "metadata": {},
   "outputs": [
    {
     "data": {
      "text/plain": [
       "{'00:42:19',\n",
       " 10.0,\n",
       " 1982,\n",
       " '30-Nov-82',\n",
       " 46.0,\n",
       " 65,\n",
       " 'Michael Jackson',\n",
       " None,\n",
       " 'Pop, Rock, R&B',\n",
       " 'Thriller'}"
      ]
     },
     "execution_count": 17,
     "metadata": {},
     "output_type": "execute_result"
    }
   ],
   "source": [
    "albumset = set(albumlist)\n",
    "albumset"
   ]
  },
  {
   "cell_type": "code",
   "execution_count": null,
   "id": "f75ba9b0-ec22-4341-a646-c5f85df5f3b3",
   "metadata": {},
   "outputs": [],
   "source": []
  },
  {
   "cell_type": "markdown",
   "id": "d41dd4b7-36db-45c1-8553-7d76f5ac2057",
   "metadata": {},
   "source": [
    "## DataStructures (built-in, primitive, scalar)"
   ]
  },
  {
   "cell_type": "code",
   "execution_count": 29,
   "id": "60a5c18d-6c5c-4e7a-98ca-3655a20dc81d",
   "metadata": {},
   "outputs": [
    {
     "data": {
      "text/plain": [
       "{'key1': 1,\n",
       " 'key2': '2',\n",
       " 'key3': [3, 3, 3],\n",
       " 'key4': (4, 4, 4),\n",
       " 'key5': 5,\n",
       " (0, 1): 6}"
      ]
     },
     "execution_count": 29,
     "metadata": {},
     "output_type": "execute_result"
    }
   ],
   "source": [
    "Dict = {\"key1\": 1, \"key2\": \"2\", \"key3\": [3, 3, 3], \"key4\": (4, 4, 4), ('key5'): 5, (0, 1): 6}\n",
    "Dict"
   ]
  },
  {
   "cell_type": "code",
   "execution_count": 39,
   "id": "7504052b-bb60-4761-8905-443db3c9e195",
   "metadata": {},
   "outputs": [
    {
     "data": {
      "text/plain": [
       "dict"
      ]
     },
     "execution_count": 39,
     "metadata": {},
     "output_type": "execute_result"
    }
   ],
   "source": [
    "type(Dict)"
   ]
  },
  {
   "cell_type": "code",
   "execution_count": 42,
   "id": "0a153c54-786a-492c-a35b-dd76956ae21b",
   "metadata": {},
   "outputs": [
    {
     "data": {
      "text/plain": [
       "tuple"
      ]
     },
     "execution_count": 42,
     "metadata": {},
     "output_type": "execute_result"
    }
   ],
   "source": [
    "type(Dict[\"key4\"])"
   ]
  },
  {
   "cell_type": "code",
   "execution_count": null,
   "id": "3f2f7807-58e4-49a2-b2c0-a11f000aa75e",
   "metadata": {},
   "outputs": [],
   "source": []
  },
  {
   "cell_type": "code",
   "execution_count": 33,
   "id": "6d9ce5b2-70a6-4b2b-8084-575bfcee363b",
   "metadata": {},
   "outputs": [
    {
     "data": {
      "text/plain": [
       "{'Rock': 1, 'Heavy': '2', 'Hard': 3, 'Death': 4}"
      ]
     },
     "execution_count": 33,
     "metadata": {},
     "output_type": "execute_result"
    }
   ],
   "source": [
    "nary = {\"Rock\": 1, \"Heavy\": \"2\", \"Hard\": 3, \"Death\": 4}\n",
    "nary"
   ]
  },
  {
   "cell_type": "code",
   "execution_count": 15,
   "id": "a2157036-69d9-4026-91e6-c7c0ed464d83",
   "metadata": {},
   "outputs": [
    {
     "name": "stdout",
     "output_type": "stream",
     "text": [
      "A: ['hard rock', 10, 1.2]\n",
      "B: ['hard rock', 10, 1.2]\n"
     ]
    }
   ],
   "source": [
    "A = [\"hard rock\", 10, 1.2]\n",
    "B = A\n",
    "print('A:', A)\n",
    "print('B:', B)"
   ]
  },
  {
   "cell_type": "code",
   "execution_count": 16,
   "id": "a95bc8f1-73b8-4712-87ab-3a546b7a55d5",
   "metadata": {},
   "outputs": [
    {
     "name": "stdout",
     "output_type": "stream",
     "text": [
      "B[0]: hard rock\n",
      "B[0]: banana\n"
     ]
    }
   ],
   "source": [
    "print('B[0]:', B[0])\n",
    "A[0] = \"banana\"\n",
    "print('B[0]:', B[0])"
   ]
  },
  {
   "cell_type": "code",
   "execution_count": 17,
   "id": "054eddce-101d-4b2a-a8e0-caa7ac6365a4",
   "metadata": {},
   "outputs": [
    {
     "data": {
      "text/plain": [
       "['banana', 10, 1.2]"
      ]
     },
     "execution_count": 17,
     "metadata": {},
     "output_type": "execute_result"
    }
   ],
   "source": [
    "B = A[:]\n",
    "B"
   ]
  },
  {
   "cell_type": "code",
   "execution_count": 18,
   "id": "5da0f45b-3dc3-4fd2-8365-a3159b763168",
   "metadata": {},
   "outputs": [
    {
     "name": "stdout",
     "output_type": "stream",
     "text": [
      "B[0]: banana\n",
      "B[0]: banana\n"
     ]
    }
   ],
   "source": [
    "print('B[0]:', B[0])\n",
    "A[0] = \"heavy metal\"\n",
    "print('B[0]:', B[0])"
   ]
  },
  {
   "cell_type": "code",
   "execution_count": 19,
   "id": "785c44d6-3459-476a-83cd-86d79747fa0d",
   "metadata": {},
   "outputs": [
    {
     "data": {
      "text/plain": [
       "('disco', 10, 1.2)"
      ]
     },
     "execution_count": 19,
     "metadata": {},
     "output_type": "execute_result"
    }
   ],
   "source": [
    "tuple1 = (\"disco\",10,1.2 )\n",
    "tuple1"
   ]
  },
  {
   "cell_type": "code",
   "execution_count": 20,
   "id": "ff5c0d51-d267-4e26-aaf0-9a9c900f9ee4",
   "metadata": {},
   "outputs": [
    {
     "name": "stdout",
     "output_type": "stream",
     "text": [
      "disco\n",
      "10\n",
      "1.2\n"
     ]
    }
   ],
   "source": [
    "print(tuple1[0])\n",
    "print(tuple1[1])\n",
    "print(tuple1[2])"
   ]
  },
  {
   "cell_type": "code",
   "execution_count": 21,
   "id": "4aaa2bef-6768-495a-9956-d65e7643bc7d",
   "metadata": {},
   "outputs": [
    {
     "name": "stdout",
     "output_type": "stream",
     "text": [
      "<class 'str'>\n",
      "<class 'int'>\n",
      "<class 'float'>\n"
     ]
    }
   ],
   "source": [
    "# Print the type of value on each index\n",
    "print(type(tuple1[0]))\n",
    "print(type(tuple1[1]))\n",
    "print(type(tuple1[2]))"
   ]
  },
  {
   "cell_type": "code",
   "execution_count": 22,
   "id": "edb58d61-1057-4cb8-b1dd-7db059b341dc",
   "metadata": {},
   "outputs": [
    {
     "data": {
      "text/plain": [
       "[0, 2, 5, 6, 6, 8, 9, 9, 10]"
      ]
     },
     "execution_count": 22,
     "metadata": {},
     "output_type": "execute_result"
    }
   ],
   "source": [
    "Ratings = (0, 9, 6, 5, 10, 8, 9, 6, 2)\n",
    "\n",
    "# We can sort the values in a tuple and save it to a new tuple:\n",
    "# Sort the tuple\n",
    "RatingsSorted = sorted(Ratings)\n",
    "RatingsSorted"
   ]
  },
  {
   "cell_type": "code",
   "execution_count": 1,
   "id": "b248aef4-0f3c-4507-b2a7-370671b5c189",
   "metadata": {},
   "outputs": [
    {
     "data": {
      "text/plain": [
       "['disco', 10, 1.2]"
      ]
     },
     "execution_count": 1,
     "metadata": {},
     "output_type": "execute_result"
    }
   ],
   "source": [
    "A = ['disco', 10, 1.2]\n",
    "A"
   ]
  },
  {
   "cell_type": "code",
   "execution_count": 2,
   "id": "e1eb7915-9bdb-4fe9-be73-8f91c3a60f45",
   "metadata": {},
   "outputs": [
    {
     "data": {
      "text/plain": [
       "['hard rock', 10, 1.2]"
      ]
     },
     "execution_count": 2,
     "metadata": {},
     "output_type": "execute_result"
    }
   ],
   "source": [
    "A[0] = 'hard rock'\n",
    "A"
   ]
  },
  {
   "cell_type": "code",
   "execution_count": 13,
   "id": "bbee6630-1cff-47f4-a300-f7828cbc3ef6",
   "metadata": {},
   "outputs": [
    {
     "data": {
      "text/plain": [
       "['hard rock', 10]"
      ]
     },
     "execution_count": 13,
     "metadata": {},
     "output_type": "execute_result"
    }
   ],
   "source": [
    "del(A[2])\n",
    "A"
   ]
  },
  {
   "cell_type": "code",
   "execution_count": 14,
   "id": "fd9a21a4-3425-49d2-bbf7-c9ae9dc97f5e",
   "metadata": {},
   "outputs": [
    {
     "name": "stdout",
     "output_type": "stream",
     "text": [
      "Before change: ['disco', 10, 1.2]\n",
      "After change: ['hard rock', 10, 1.2]\n"
     ]
    }
   ],
   "source": [
    "A = [\"disco\", 10, 1.2]\n",
    "print('Before change:', A)\n",
    "A[0] = 'hard rock'\n",
    "print('After change:', A)"
   ]
  },
  {
   "cell_type": "code",
   "execution_count": 3,
   "id": "e7146c64-94af-400b-b23d-928e485360fb",
   "metadata": {},
   "outputs": [
    {
     "data": {
      "text/plain": [
       "['hard', 'rock']"
      ]
     },
     "execution_count": 3,
     "metadata": {},
     "output_type": "execute_result"
    }
   ],
   "source": [
    "'hard rock'.split()"
   ]
  },
  {
   "cell_type": "code",
   "execution_count": 12,
   "id": "5ee6d365-b7e1-4566-81c1-b4026dbe9709",
   "metadata": {},
   "outputs": [
    {
     "data": {
      "text/plain": [
       "['a', 'b', 'c', 'd']"
      ]
     },
     "execution_count": 12,
     "metadata": {},
     "output_type": "execute_result"
    }
   ],
   "source": [
    "'a,b,c,d'.split(',')"
   ]
  },
  {
   "cell_type": "code",
   "execution_count": 1,
   "id": "11251b36-56e2-4862-8949-1ff82c7f591b",
   "metadata": {},
   "outputs": [
    {
     "data": {
      "text/plain": [
       "int"
      ]
     },
     "execution_count": 1,
     "metadata": {},
     "output_type": "execute_result"
    }
   ],
   "source": [
    "int # e.g. 23, 0 and -17"
   ]
  },
  {
   "cell_type": "code",
   "execution_count": 2,
   "id": "5972d327-bafb-4de5-b471-a0e677e900de",
   "metadata": {},
   "outputs": [
    {
     "data": {
      "text/plain": [
       "40"
      ]
     },
     "execution_count": 2,
     "metadata": {},
     "output_type": "execute_result"
    }
   ],
   "source": [
    "30 + 10 # an integer operation"
   ]
  },
  {
   "cell_type": "code",
   "execution_count": 3,
   "id": "35e23a82-c56a-451d-8df3-ceb8731ec1d9",
   "metadata": {},
   "outputs": [
    {
     "data": {
      "text/plain": [
       "int"
      ]
     },
     "execution_count": 3,
     "metadata": {},
     "output_type": "execute_result"
    }
   ],
   "source": [
    "type(40)"
   ]
  },
  {
   "cell_type": "code",
   "execution_count": 4,
   "id": "7f759863-ba2c-4bbc-9393-05d5cfa2c033",
   "metadata": {},
   "outputs": [
    {
     "data": {
      "text/plain": [
       "float"
      ]
     },
     "execution_count": 4,
     "metadata": {},
     "output_type": "execute_result"
    }
   ],
   "source": [
    "float # e.g. -0.001 and 1.23e15"
   ]
  },
  {
   "cell_type": "code",
   "execution_count": 5,
   "id": "2ded9fac-cbc1-4774-9d4c-9e54d907cb67",
   "metadata": {},
   "outputs": [
    {
     "data": {
      "text/plain": [
       "40.0"
      ]
     },
     "execution_count": 5,
     "metadata": {},
     "output_type": "execute_result"
    }
   ],
   "source": [
    "1.8e2/4.5 # a floating point operation"
   ]
  },
  {
   "cell_type": "code",
   "execution_count": 6,
   "id": "3edb099a-d5d3-4155-a837-1090c277d56f",
   "metadata": {},
   "outputs": [
    {
     "data": {
      "text/plain": [
       "float"
      ]
     },
     "execution_count": 6,
     "metadata": {},
     "output_type": "execute_result"
    }
   ],
   "source": [
    "type(40.0)"
   ]
  },
  {
   "cell_type": "code",
   "execution_count": 7,
   "id": "d8cf34d6-c483-4794-b26b-ea6e4ddb9ffc",
   "metadata": {},
   "outputs": [
    {
     "data": {
      "text/plain": [
       "nan"
      ]
     },
     "execution_count": 7,
     "metadata": {},
     "output_type": "execute_result"
    }
   ],
   "source": [
    "float('nan')"
   ]
  },
  {
   "cell_type": "code",
   "execution_count": 8,
   "id": "9b17caf3-b342-49c0-b00d-98f2f6a1144d",
   "metadata": {
    "collapsed": true,
    "jupyter": {
     "outputs_hidden": true
    },
    "tags": []
   },
   "outputs": [
    {
     "ename": "ZeroDivisionError",
     "evalue": "division by zero",
     "output_type": "error",
     "traceback": [
      "\u001b[0;31m---------------------------------------------------------------------------\u001b[0m",
      "\u001b[0;31mZeroDivisionError\u001b[0m                         Traceback (most recent call last)",
      "\u001b[0;32m/tmp/ipykernel_105/182040962.py\u001b[0m in \u001b[0;36m<module>\u001b[0;34m\u001b[0m\n\u001b[0;32m----> 1\u001b[0;31m \u001b[0;36m0\u001b[0m\u001b[0;34m/\u001b[0m\u001b[0;36m0\u001b[0m\u001b[0;34m\u001b[0m\u001b[0;34m\u001b[0m\u001b[0m\n\u001b[0m",
      "\u001b[0;31mZeroDivisionError\u001b[0m: division by zero"
     ]
    }
   ],
   "source": [
    "0/0"
   ]
  },
  {
   "cell_type": "code",
   "execution_count": 9,
   "id": "baf6a406-444c-4deb-b706-34eb7d1db1a9",
   "metadata": {},
   "outputs": [
    {
     "data": {
      "text/plain": [
       "inf"
      ]
     },
     "execution_count": 9,
     "metadata": {},
     "output_type": "execute_result"
    }
   ],
   "source": [
    "float('inf')"
   ]
  },
  {
   "cell_type": "code",
   "execution_count": 10,
   "id": "67b8f2e6-07c9-4c79-9fd5-55376417ecc9",
   "metadata": {},
   "outputs": [
    {
     "data": {
      "text/plain": [
       "-inf"
      ]
     },
     "execution_count": 10,
     "metadata": {},
     "output_type": "execute_result"
    }
   ],
   "source": [
    "float('-inf')"
   ]
  },
  {
   "cell_type": "code",
   "execution_count": 11,
   "id": "5be33cb3-8f59-476c-b551-f8695a5ee280",
   "metadata": {},
   "outputs": [
    {
     "data": {
      "text/plain": [
       "bool"
      ]
     },
     "execution_count": 11,
     "metadata": {},
     "output_type": "execute_result"
    }
   ],
   "source": [
    "bool # i.e. True and False"
   ]
  },
  {
   "cell_type": "code",
   "execution_count": 12,
   "id": "a360e4ff-5a06-466e-be3d-7259b411678b",
   "metadata": {},
   "outputs": [
    {
     "data": {
      "text/plain": [
       "False"
      ]
     },
     "execution_count": 12,
     "metadata": {},
     "output_type": "execute_result"
    }
   ],
   "source": [
    "1 == 0 # Boolean operation"
   ]
  },
  {
   "cell_type": "code",
   "execution_count": 13,
   "id": "6b5ede69-d950-4db2-bbde-21fde93f391e",
   "metadata": {},
   "outputs": [
    {
     "data": {
      "text/plain": [
       "bool"
      ]
     },
     "execution_count": 13,
     "metadata": {},
     "output_type": "execute_result"
    }
   ],
   "source": [
    "type(1 == 0)"
   ]
  },
  {
   "cell_type": "code",
   "execution_count": 14,
   "id": "02c69a03-bef8-4bb3-8715-bafcfa68d4f9",
   "metadata": {},
   "outputs": [
    {
     "data": {
      "text/plain": [
       "1.0"
      ]
     },
     "execution_count": 14,
     "metadata": {},
     "output_type": "execute_result"
    }
   ],
   "source": [
    "1.0 + False # True = 1, False = 0"
   ]
  },
  {
   "cell_type": "code",
   "execution_count": 15,
   "id": "2c99166c-b0cf-4874-be0d-84f614a0b667",
   "metadata": {},
   "outputs": [
    {
     "data": {
      "text/plain": [
       "2"
      ]
     },
     "execution_count": 15,
     "metadata": {},
     "output_type": "execute_result"
    }
   ],
   "source": [
    "3 - True # True = 1, False = 0"
   ]
  },
  {
   "cell_type": "code",
   "execution_count": 16,
   "id": "00c868b4-5215-4767-a3a0-fd8a22498ab3",
   "metadata": {},
   "outputs": [
    {
     "data": {
      "text/plain": [
       "str"
      ]
     },
     "execution_count": 16,
     "metadata": {},
     "output_type": "execute_result"
    }
   ],
   "source": [
    "str # e.g. \"hello\", \"?\", and \"1\""
   ]
  },
  {
   "cell_type": "code",
   "execution_count": 17,
   "id": "9d4c4834-3297-4079-9b48-b6266389bac3",
   "metadata": {},
   "outputs": [
    {
     "data": {
      "text/plain": [
       "'lies, damn lies, and statistics'"
      ]
     },
     "execution_count": 17,
     "metadata": {},
     "output_type": "execute_result"
    }
   ],
   "source": [
    "\"lies, damn lies,\" + \" and statistics\" # String operation"
   ]
  },
  {
   "cell_type": "code",
   "execution_count": 18,
   "id": "aa939359-30af-45cb-85bd-d7b9c358eeea",
   "metadata": {},
   "outputs": [
    {
     "data": {
      "text/plain": [
       "str"
      ]
     },
     "execution_count": 18,
     "metadata": {},
     "output_type": "execute_result"
    }
   ],
   "source": [
    "type('lies, damn lies, and statistics')"
   ]
  },
  {
   "cell_type": "code",
   "execution_count": 19,
   "id": "dd271b51-3a78-43e2-89f6-9b7cdbd99b3f",
   "metadata": {},
   "outputs": [
    {
     "data": {
      "text/plain": [
       "'11'"
      ]
     },
     "execution_count": 19,
     "metadata": {},
     "output_type": "execute_result"
    }
   ],
   "source": [
    "#Cast an int to a string\n",
    "str(1) + str(1)"
   ]
  },
  {
   "cell_type": "code",
   "execution_count": 20,
   "id": "3de543f0-8834-413e-aeb2-bb62402b6e64",
   "metadata": {},
   "outputs": [
    {
     "data": {
      "text/plain": [
       "2"
      ]
     },
     "execution_count": 20,
     "metadata": {},
     "output_type": "execute_result"
    }
   ],
   "source": [
    "# Cast a string to an int\n",
    "int('1') + int ('1')"
   ]
  },
  {
   "cell_type": "markdown",
   "id": "692c06d9-a7d7-4497-b305-8bc2b96105e0",
   "metadata": {},
   "source": [
    "## More on Data Types"
   ]
  },
  {
   "cell_type": "code",
   "execution_count": 46,
   "id": "448f6c45-cd6f-444b-9f3b-6931791e7519",
   "metadata": {},
   "outputs": [
    {
     "data": {
      "text/plain": [
       "int"
      ]
     },
     "execution_count": 46,
     "metadata": {},
     "output_type": "execute_result"
    }
   ],
   "source": [
    "# Create an integer\n",
    "x = 7\n",
    "\n",
    "# Determine the data type of x\n",
    "type(x)"
   ]
  },
  {
   "cell_type": "code",
   "execution_count": 47,
   "id": "74bbaa4e-919f-4718-9b18-887fc66bcde6",
   "metadata": {},
   "outputs": [
    {
     "data": {
      "text/plain": [
       "10"
      ]
     },
     "execution_count": 47,
     "metadata": {},
     "output_type": "execute_result"
    }
   ],
   "source": [
    "# Add 3 to x\n",
    "x + 3"
   ]
  },
  {
   "cell_type": "code",
   "execution_count": 48,
   "id": "6294d33c-a384-4c51-ab22-199e53bba38a",
   "metadata": {},
   "outputs": [
    {
     "data": {
      "text/plain": [
       "float"
      ]
     },
     "execution_count": 48,
     "metadata": {},
     "output_type": "execute_result"
    }
   ],
   "source": [
    "# Create a float\n",
    "x = 7.0\n",
    "\n",
    "# Determine the data type of x\n",
    "type(x)"
   ]
  },
  {
   "cell_type": "code",
   "execution_count": 49,
   "id": "a032fe35-e61d-47f1-81f4-9899156efd63",
   "metadata": {},
   "outputs": [
    {
     "data": {
      "text/plain": [
       "10.0"
      ]
     },
     "execution_count": 49,
     "metadata": {},
     "output_type": "execute_result"
    }
   ],
   "source": [
    "# Add 3 to x\n",
    "x + 3.0"
   ]
  },
  {
   "cell_type": "code",
   "execution_count": 50,
   "id": "0c042ed8-59ff-437f-af1d-e14ec76c4a9a",
   "metadata": {},
   "outputs": [
    {
     "data": {
      "text/plain": [
       "11.0"
      ]
     },
     "execution_count": 50,
     "metadata": {},
     "output_type": "execute_result"
    }
   ],
   "source": [
    "# Add a float, an integer, and a Boolean\n",
    "7 + 3.0 + True"
   ]
  },
  {
   "cell_type": "code",
   "execution_count": 51,
   "id": "17f81cb1-213f-4081-90d5-6766936ff507",
   "metadata": {},
   "outputs": [
    {
     "data": {
      "text/plain": [
       "str"
      ]
     },
     "execution_count": 51,
     "metadata": {},
     "output_type": "execute_result"
    }
   ],
   "source": [
    "# Create a string\n",
    "x = \"a\"\n",
    "\n",
    "# Determine the data type of x\n",
    "type(x)"
   ]
  },
  {
   "cell_type": "code",
   "execution_count": 52,
   "id": "e3d07bdd-e0a4-4b71-8eb6-5be2b6b0e7a3",
   "metadata": {},
   "outputs": [
    {
     "data": {
      "text/plain": [
       "'ab'"
      ]
     },
     "execution_count": 52,
     "metadata": {},
     "output_type": "execute_result"
    }
   ],
   "source": [
    "# Add b to x\n",
    "x + \"b\""
   ]
  },
  {
   "cell_type": "code",
   "execution_count": 53,
   "id": "6a2d1487-67f0-473c-ae5c-2565e730a451",
   "metadata": {},
   "outputs": [
    {
     "ename": "TypeError",
     "evalue": "can only concatenate str (not \"int\") to str",
     "output_type": "error",
     "traceback": [
      "\u001b[0;31m---------------------------------------------------------------------------\u001b[0m",
      "\u001b[0;31mTypeError\u001b[0m                                 Traceback (most recent call last)",
      "\u001b[0;32m/tmp/ipykernel_105/2156127617.py\u001b[0m in \u001b[0;36m<module>\u001b[0;34m\u001b[0m\n\u001b[1;32m      1\u001b[0m \u001b[0;31m# Try to add 3 to a string\u001b[0m\u001b[0;34m\u001b[0m\u001b[0;34m\u001b[0m\u001b[0m\n\u001b[0;32m----> 2\u001b[0;31m \u001b[0mx\u001b[0m \u001b[0;34m+\u001b[0m \u001b[0;36m3\u001b[0m\u001b[0;34m\u001b[0m\u001b[0;34m\u001b[0m\u001b[0m\n\u001b[0m",
      "\u001b[0;31mTypeError\u001b[0m: can only concatenate str (not \"int\") to str"
     ]
    }
   ],
   "source": [
    "# Try to add 3 to a string\n",
    "x + 3 # you get an error bc you can only concatenate str (not \"int\") to str"
   ]
  },
  {
   "cell_type": "code",
   "execution_count": 54,
   "id": "8d8591fd-facf-4883-82c1-edf334fcf4b1",
   "metadata": {},
   "outputs": [
    {
     "data": {
      "text/plain": [
       "str"
      ]
     },
     "execution_count": 54,
     "metadata": {},
     "output_type": "execute_result"
    }
   ],
   "source": [
    "# Create a string\n",
    "x = \"7\"\n",
    "\n",
    "# Determine the data type of x\n",
    "type(x)"
   ]
  },
  {
   "cell_type": "code",
   "execution_count": 55,
   "id": "688977c0-b580-45e0-8606-24935760689b",
   "metadata": {},
   "outputs": [
    {
     "ename": "TypeError",
     "evalue": "can only concatenate str (not \"int\") to str",
     "output_type": "error",
     "traceback": [
      "\u001b[0;31m---------------------------------------------------------------------------\u001b[0m",
      "\u001b[0;31mTypeError\u001b[0m                                 Traceback (most recent call last)",
      "\u001b[0;32m/tmp/ipykernel_105/4232541059.py\u001b[0m in \u001b[0;36m<module>\u001b[0;34m\u001b[0m\n\u001b[1;32m      1\u001b[0m \u001b[0;31m# If we try to add 3 to x, we will get an error\u001b[0m\u001b[0;34m\u001b[0m\u001b[0;34m\u001b[0m\u001b[0m\n\u001b[0;32m----> 2\u001b[0;31m \u001b[0mx\u001b[0m \u001b[0;34m+\u001b[0m \u001b[0;36m3\u001b[0m\u001b[0;34m\u001b[0m\u001b[0;34m\u001b[0m\u001b[0m\n\u001b[0m",
      "\u001b[0;31mTypeError\u001b[0m: can only concatenate str (not \"int\") to str"
     ]
    }
   ],
   "source": [
    "# If we try to add 3 to x, we will get an error\n",
    "x + 3"
   ]
  },
  {
   "cell_type": "code",
   "execution_count": 56,
   "id": "e3ec234d-14e9-49ff-8863-32b20459ee40",
   "metadata": {},
   "outputs": [
    {
     "data": {
      "text/plain": [
       "'73'"
      ]
     },
     "execution_count": 56,
     "metadata": {},
     "output_type": "execute_result"
    }
   ],
   "source": [
    "# Add \"3\" to x\n",
    "x + \"3\""
   ]
  },
  {
   "cell_type": "code",
   "execution_count": 57,
   "id": "2ce9ad99-3773-4227-ac19-deb1b3f80aae",
   "metadata": {},
   "outputs": [
    {
     "data": {
      "text/plain": [
       "numpy.ndarray"
      ]
     },
     "execution_count": 57,
     "metadata": {},
     "output_type": "execute_result"
    }
   ],
   "source": [
    "import numpy as np\n",
    "\n",
    "# Create an array of integers\n",
    "x = np.array([5, -7, 1, 1, 99])\n",
    "\n",
    "# Determine the data type of x\n",
    "type(x)"
   ]
  },
  {
   "cell_type": "code",
   "execution_count": 58,
   "id": "ddf4a313-39c6-4ea9-b06b-ef7b34cba94c",
   "metadata": {},
   "outputs": [
    {
     "data": {
      "text/plain": [
       "'int64'"
      ]
     },
     "execution_count": 58,
     "metadata": {},
     "output_type": "execute_result"
    }
   ],
   "source": [
    "# Find out the data type for the elements in the array\n",
    "x.dtype.name"
   ]
  },
  {
   "cell_type": "code",
   "execution_count": 59,
   "id": "65aa51e6-3ce2-4854-8e63-2c0a52132686",
   "metadata": {},
   "outputs": [
    {
     "data": {
      "text/plain": [
       "array([  8,  -4,   4,   4, 102])"
      ]
     },
     "execution_count": 59,
     "metadata": {},
     "output_type": "execute_result"
    }
   ],
   "source": [
    "# If we can add 3 to this array.\n",
    "x + 3"
   ]
  },
  {
   "cell_type": "code",
   "execution_count": 61,
   "id": "8b066e33-6360-4527-b027-72506371f953",
   "metadata": {},
   "outputs": [
    {
     "data": {
      "text/plain": [
       "array(['abc', '', ' ', '?', '7'], dtype='<U3')"
      ]
     },
     "execution_count": 61,
     "metadata": {},
     "output_type": "execute_result"
    }
   ],
   "source": [
    "# Create an array of strings\n",
    "x = np.array([\"abc\", \"\", \" \", \"?\", \"7\"])\n",
    "x"
   ]
  },
  {
   "cell_type": "code",
   "execution_count": 62,
   "id": "5d9610d3-d3c9-4f69-b34a-b701c14630b1",
   "metadata": {},
   "outputs": [
    {
     "data": {
      "text/plain": [
       "numpy.ndarray"
      ]
     },
     "execution_count": 62,
     "metadata": {},
     "output_type": "execute_result"
    }
   ],
   "source": [
    "# Determine the data type of x\n",
    "type(x)"
   ]
  },
  {
   "cell_type": "code",
   "execution_count": 63,
   "id": "82ce648e-ad19-4105-ac7f-fd0ec41deeaa",
   "metadata": {},
   "outputs": [
    {
     "data": {
      "text/plain": [
       "'str96'"
      ]
     },
     "execution_count": 63,
     "metadata": {},
     "output_type": "execute_result"
    }
   ],
   "source": [
    "# Find out the data type for the elements in the array\n",
    "x.dtype.name"
   ]
  },
  {
   "cell_type": "code",
   "execution_count": 64,
   "id": "44d1d48e-9da7-4924-b48b-064d3d585033",
   "metadata": {},
   "outputs": [
    {
     "ename": "UFuncTypeError",
     "evalue": "ufunc 'add' did not contain a loop with signature matching types (dtype('<U3'), dtype('<U3')) -> dtype('<U3')",
     "output_type": "error",
     "traceback": [
      "\u001b[0;31m---------------------------------------------------------------------------\u001b[0m",
      "\u001b[0;31mUFuncTypeError\u001b[0m                            Traceback (most recent call last)",
      "\u001b[0;32m/tmp/ipykernel_105/1237469503.py\u001b[0m in \u001b[0;36m<module>\u001b[0;34m\u001b[0m\n\u001b[1;32m      1\u001b[0m \u001b[0;31m# If we try to add 3 to this array of strings we will get a TypeError.\u001b[0m\u001b[0;34m\u001b[0m\u001b[0;34m\u001b[0m\u001b[0m\n\u001b[0;32m----> 2\u001b[0;31m \u001b[0mx\u001b[0m \u001b[0;34m+\u001b[0m \u001b[0;36m3\u001b[0m\u001b[0;34m\u001b[0m\u001b[0;34m\u001b[0m\u001b[0m\n\u001b[0m",
      "\u001b[0;31mUFuncTypeError\u001b[0m: ufunc 'add' did not contain a loop with signature matching types (dtype('<U3'), dtype('<U3')) -> dtype('<U3')"
     ]
    }
   ],
   "source": [
    "# If we try to add 3 to this array of strings we will get a TypeError.\n",
    "x + 3"
   ]
  },
  {
   "cell_type": "markdown",
   "id": "d29a4c53-d707-491b-8be3-a844227ea27d",
   "metadata": {},
   "source": [
    "## DataStructures (built-in, multi-dimensional)\n",
    "Documentation on lists and other data structures\n",
    "https://docs.python.org/3/tutorial/datastructures.html"
   ]
  },
  {
   "cell_type": "code",
   "execution_count": 26,
   "id": "a632fd62-f610-490b-9a3e-9fc44472f9c0",
   "metadata": {},
   "outputs": [
    {
     "data": {
      "text/plain": [
       "list"
      ]
     },
     "execution_count": 26,
     "metadata": {},
     "output_type": "execute_result"
    }
   ],
   "source": [
    "list"
   ]
  },
  {
   "cell_type": "code",
   "execution_count": 27,
   "id": "260375e6-d0ed-4a85-bafa-8754eb6832b7",
   "metadata": {},
   "outputs": [
    {
     "data": {
      "text/plain": [
       "list"
      ]
     },
     "execution_count": 27,
     "metadata": {},
     "output_type": "execute_result"
    }
   ],
   "source": [
    "City = ['USA', 704] # List can have mixed types\n",
    "type(City)"
   ]
  },
  {
   "cell_type": "code",
   "execution_count": 28,
   "id": "aab87c62-b0de-463f-a047-a2cca63b3d42",
   "metadata": {},
   "outputs": [
    {
     "data": {
      "text/plain": [
       "['USA', 704, 'Seattle']"
      ]
     },
     "execution_count": 28,
     "metadata": {},
     "output_type": "execute_result"
    }
   ],
   "source": [
    "City.append('Seattle')\n",
    "City"
   ]
  },
  {
   "cell_type": "code",
   "execution_count": 29,
   "id": "680d19c8-6cb5-400d-be8f-56a34b719bee",
   "metadata": {},
   "outputs": [
    {
     "data": {
      "text/plain": [
       "704"
      ]
     },
     "execution_count": 29,
     "metadata": {},
     "output_type": "execute_result"
    }
   ],
   "source": [
    "City[1]"
   ]
  },
  {
   "cell_type": "code",
   "execution_count": 30,
   "id": "269e45d6-49ea-4c7a-84cd-73f4b3dcf248",
   "metadata": {},
   "outputs": [
    {
     "data": {
      "text/plain": [
       "[['Seattle', 'San Jose', 'San Jose', 'La Paz', 'La Paz'],\n",
       " ['USA', 'USA', 'Costa Rica', 'Mexico', 'Bolivia'],\n",
       " [704, 1030, 333, 265, 757]]"
      ]
     },
     "execution_count": 30,
     "metadata": {},
     "output_type": "execute_result"
    }
   ],
   "source": [
    "# Equal-length lists in a list create a rectangular strucure\n",
    "Name = ['Seattle', 'San Jose', 'San Jose', 'La Paz', 'La Paz']\n",
    "Country = ['USA', 'USA', 'Costa Rica', 'Mexico', 'Bolivia']\n",
    "Population = [704, 1030, 333, 265, 757]\n",
    "Cities = [Name, Country, Population]\n",
    "Cities"
   ]
  },
  {
   "cell_type": "code",
   "execution_count": 31,
   "id": "1c7b877c-a79d-43c9-8b57-1a8b8937e002",
   "metadata": {},
   "outputs": [
    {
     "data": {
      "text/plain": [
       "265"
      ]
     },
     "execution_count": 31,
     "metadata": {},
     "output_type": "execute_result"
    }
   ],
   "source": [
    "Cities[2][3]"
   ]
  },
  {
   "cell_type": "code",
   "execution_count": 32,
   "id": "8849c3fe-f1e1-4c6e-a2bf-6231bc13fcc6",
   "metadata": {},
   "outputs": [
    {
     "data": {
      "text/plain": [
       "dict"
      ]
     },
     "execution_count": 32,
     "metadata": {},
     "output_type": "execute_result"
    }
   ],
   "source": [
    "dict"
   ]
  },
  {
   "cell_type": "code",
   "execution_count": 33,
   "id": "1d9d8fba-116f-4eeb-acf8-5633654cc82c",
   "metadata": {},
   "outputs": [
    {
     "data": {
      "text/plain": [
       "dict"
      ]
     },
     "execution_count": 33,
     "metadata": {},
     "output_type": "execute_result"
    }
   ],
   "source": [
    "CityNamesByCountry = {'USA':['Seattle', 'San Jose'], 'Costa Rica':'San Jose', 'Mexico':'Oaxaca'}\n",
    "type(CityNamesByCountry) # dict"
   ]
  },
  {
   "cell_type": "code",
   "execution_count": 34,
   "id": "d4882bda-8808-4540-b09d-7d19e1ec1ea4",
   "metadata": {},
   "outputs": [
    {
     "data": {
      "text/plain": [
       "{'USA': ['Seattle', 'San Jose'], 'Costa Rica': 'San Jose', 'Mexico': 'Oaxaca'}"
      ]
     },
     "execution_count": 34,
     "metadata": {},
     "output_type": "execute_result"
    }
   ],
   "source": [
    "CityNamesByCountry"
   ]
  },
  {
   "cell_type": "code",
   "execution_count": 35,
   "id": "c2844d88-9865-4eb7-8cdd-db0a6093c90c",
   "metadata": {},
   "outputs": [
    {
     "data": {
      "text/plain": [
       "['Seattle', 'San Jose']"
      ]
     },
     "execution_count": 35,
     "metadata": {},
     "output_type": "execute_result"
    }
   ],
   "source": [
    "CityNamesByCountry['USA']"
   ]
  },
  {
   "cell_type": "code",
   "execution_count": 65,
   "id": "a7863f31-0f9e-481d-876e-c2df116069c4",
   "metadata": {},
   "outputs": [],
   "source": [
    "#CityNamesByCountry['Mexico'] = [CityNamesByCountry['Mexico'],'La Paz']"
   ]
  },
  {
   "cell_type": "code",
   "execution_count": 66,
   "id": "61c4f49b-77a1-499f-9e4f-fd987527f061",
   "metadata": {},
   "outputs": [
    {
     "data": {
      "text/plain": [
       "['La Paz', 'La Paz']"
      ]
     },
     "execution_count": 66,
     "metadata": {},
     "output_type": "execute_result"
    }
   ],
   "source": [
    "#CityNamesByCountry['Mexico']"
   ]
  },
  {
   "cell_type": "code",
   "execution_count": 36,
   "id": "07a766f2-bdc5-4c11-b32a-c4a41fb00183",
   "metadata": {},
   "outputs": [
    {
     "data": {
      "text/plain": [
       "{'USA': ['Seattle', 'San Jose'],\n",
       " 'Costa Rica': 'San Jose',\n",
       " 'Mexico': 'La Paz',\n",
       " 'Bolivia': 'La Paz'}"
      ]
     },
     "execution_count": 36,
     "metadata": {},
     "output_type": "execute_result"
    }
   ],
   "source": [
    "CityNamesByCountry['Mexico'] = 'La Paz'\n",
    "CityNamesByCountry['Bolivia'] = 'La Paz'\n",
    "CityNamesByCountry"
   ]
  },
  {
   "cell_type": "code",
   "execution_count": 37,
   "id": "2baad74e-9f92-412a-8db8-25956ac4bc09",
   "metadata": {},
   "outputs": [
    {
     "data": {
      "text/plain": [
       "['USA', 'Costa Rica', 'Mexico', 'Bolivia']"
      ]
     },
     "execution_count": 37,
     "metadata": {},
     "output_type": "execute_result"
    }
   ],
   "source": [
    "list(CityNamesByCountry.keys())"
   ]
  },
  {
   "cell_type": "code",
   "execution_count": 38,
   "id": "9df0b1f6-c322-41ea-be2c-f7f0e0493c58",
   "metadata": {},
   "outputs": [
    {
     "data": {
      "text/plain": [
       "[['Seattle', 'San Jose'], 'San Jose', 'La Paz', 'La Paz']"
      ]
     },
     "execution_count": 38,
     "metadata": {},
     "output_type": "execute_result"
    }
   ],
   "source": [
    "list(CityNamesByCountry.values())"
   ]
  },
  {
   "cell_type": "code",
   "execution_count": 39,
   "id": "d4bc9add-4f4f-45f9-83c8-dc6c6d774c95",
   "metadata": {},
   "outputs": [
    {
     "data": {
      "text/plain": [
       "[('USA', ['Seattle', 'San Jose']),\n",
       " ('Costa Rica', 'San Jose'),\n",
       " ('Mexico', 'La Paz'),\n",
       " ('Bolivia', 'La Paz')]"
      ]
     },
     "execution_count": 39,
     "metadata": {},
     "output_type": "execute_result"
    }
   ],
   "source": [
    "list(CityNamesByCountry.items())"
   ]
  },
  {
   "cell_type": "code",
   "execution_count": 40,
   "id": "8f8ac5ed-2087-4c68-8d90-699df49a7cde",
   "metadata": {},
   "outputs": [
    {
     "data": {
      "text/plain": [
       "False"
      ]
     },
     "execution_count": 40,
     "metadata": {},
     "output_type": "execute_result"
    }
   ],
   "source": [
    "'CostaRica' in CityNamesByCountry"
   ]
  },
  {
   "cell_type": "code",
   "execution_count": 41,
   "id": "2ad0dd1e-f538-4756-bdae-11e7aa2e9a64",
   "metadata": {},
   "outputs": [
    {
     "data": {
      "text/plain": [
       "True"
      ]
     },
     "execution_count": 41,
     "metadata": {},
     "output_type": "execute_result"
    }
   ],
   "source": [
    "'Costa Rica' in CityNamesByCountry"
   ]
  },
  {
   "cell_type": "code",
   "execution_count": 42,
   "id": "f15f7f97-2fd9-4970-b0d8-ec9d90daede5",
   "metadata": {},
   "outputs": [
    {
     "data": {
      "text/plain": [
       "False"
      ]
     },
     "execution_count": 42,
     "metadata": {},
     "output_type": "execute_result"
    }
   ],
   "source": [
    "'LaPaz' in CityNamesByCountry.values()"
   ]
  },
  {
   "cell_type": "code",
   "execution_count": 43,
   "id": "bcb15104-cf80-4d8a-b747-f18de2c2e846",
   "metadata": {},
   "outputs": [
    {
     "data": {
      "text/plain": [
       "True"
      ]
     },
     "execution_count": 43,
     "metadata": {},
     "output_type": "execute_result"
    }
   ],
   "source": [
    "'La Paz' in CityNamesByCountry.values()"
   ]
  },
  {
   "cell_type": "code",
   "execution_count": 44,
   "id": "d72737a1-99f8-4a93-b2c0-5122e6d46bf2",
   "metadata": {},
   "outputs": [
    {
     "data": {
      "text/plain": [
       "{'Seattle': 'USA',\n",
       " 'San Jose': ['USA', 'Costa Rica'],\n",
       " 'La Paz': ['Bolivia', 'Mexico']}"
      ]
     },
     "execution_count": 44,
     "metadata": {},
     "output_type": "execute_result"
    }
   ],
   "source": [
    "CountryByCityNames = {'Seattle':'USA', 'San Jose':['USA', 'Costa Rica'], 'La Paz':['Bolivia', 'Mexico']}\n",
    "CountryByCityNames"
   ]
  },
  {
   "cell_type": "code",
   "execution_count": 45,
   "id": "da42c9f3-8100-4f19-b7cd-06b4335ee7b6",
   "metadata": {},
   "outputs": [
    {
     "data": {
      "text/plain": [
       "[['Seattle', 'San Jose', 'San Jose', 'La Paz', 'La Paz'],\n",
       " ['USA', 'USA', 'Costa Rica', 'Mexico', 'Bolivia'],\n",
       " [704, 1030, 333, 265, 757]]"
      ]
     },
     "execution_count": 45,
     "metadata": {},
     "output_type": "execute_result"
    }
   ],
   "source": [
    "# Verify that the same information is here\n",
    "Cities"
   ]
  },
  {
   "cell_type": "markdown",
   "id": "72905683-ec26-4abd-b6e7-a25bc8992aa0",
   "metadata": {},
   "source": [
    "## DataStructures (imported, multi-dimensional)"
   ]
  },
  {
   "cell_type": "code",
   "execution_count": 67,
   "id": "353fa20d-f5fe-4233-8a2f-87e3a25ebd80",
   "metadata": {},
   "outputs": [],
   "source": [
    "import numpy as np # make numpy package usable, (np stands for numerical python)\n",
    "import pandas as pd # make pandas package usable"
   ]
  },
  {
   "cell_type": "code",
   "execution_count": 68,
   "id": "3f10f0f7-258a-4b23-a29d-e6a9675e71f5",
   "metadata": {},
   "outputs": [
    {
     "data": {
      "text/plain": [
       "2.3769728648009427"
      ]
     },
     "execution_count": 68,
     "metadata": {},
     "output_type": "execute_result"
    }
   ],
   "source": [
    "# Create array of ages\n",
    "ageList = [9, 9, 10, 8, 12, 10, 7, 8, 10, 8, 0, 9, 7, 9, 10, 9, 6, 9, 9, 11]\n",
    "ages = np.array(ageList)\n",
    "ages.std() #std is one standard deviation"
   ]
  },
  {
   "cell_type": "code",
   "execution_count": 69,
   "id": "1490408d-2d88-43e2-9919-0218e8b2df1e",
   "metadata": {},
   "outputs": [
    {
     "ename": "ValueError",
     "evalue": "invalid literal for int() with base 10: 'a'",
     "output_type": "error",
     "traceback": [
      "\u001b[0;31m---------------------------------------------------------------------------\u001b[0m",
      "\u001b[0;31mValueError\u001b[0m                                Traceback (most recent call last)",
      "\u001b[0;32m/tmp/ipykernel_105/1686318947.py\u001b[0m in \u001b[0;36m<module>\u001b[0;34m\u001b[0m\n\u001b[1;32m      1\u001b[0m \u001b[0;31m# Cannot assign a string to a numeric array\u001b[0m\u001b[0;34m\u001b[0m\u001b[0;34m\u001b[0m\u001b[0m\n\u001b[0;32m----> 2\u001b[0;31m \u001b[0mages\u001b[0m\u001b[0;34m[\u001b[0m\u001b[0;36m0\u001b[0m\u001b[0;34m]\u001b[0m \u001b[0;34m=\u001b[0m \u001b[0;34m'a'\u001b[0m\u001b[0;34m\u001b[0m\u001b[0;34m\u001b[0m\u001b[0m\n\u001b[0m",
      "\u001b[0;31mValueError\u001b[0m: invalid literal for int() with base 10: 'a'"
     ]
    }
   ],
   "source": [
    "# Cannot assign a string to a numeric array\n",
    "ages[0] = 'a'"
   ]
  },
  {
   "cell_type": "code",
   "execution_count": 70,
   "id": "f5fb9881-5752-42ac-8b01-2531402422dc",
   "metadata": {},
   "outputs": [
    {
     "data": {
      "text/plain": [
       "(array([1., 0., 0., 0., 0., 3., 3., 7., 4., 2.]),\n",
       " array([ 0. ,  1.2,  2.4,  3.6,  4.8,  6. ,  7.2,  8.4,  9.6, 10.8, 12. ]),\n",
       " <BarContainer object of 10 artists>)"
      ]
     },
     "execution_count": 70,
     "metadata": {},
     "output_type": "execute_result"
    },
    {
     "data": {
      "image/png": "[encoded data removed]",
      "text/plain": [
       "<Figure size 432x288 with 1 Axes>"
      ]
     },
     "metadata": {
      "needs_background": "light"
     },
     "output_type": "display_data"
    }
   ],
   "source": [
    "# Create a histogram\n",
    "import matplotlib.pyplot\n",
    "matplotlib.pyplot.hist(ages)"
   ]
  },
  {
   "cell_type": "code",
   "execution_count": 71,
   "id": "659978ee-eb0b-4849-8aee-988e79155883",
   "metadata": {},
   "outputs": [
    {
     "data": {
      "text/html": [
       "<div>\n",
       "<style scoped>\n",
       "    .dataframe tbody tr th:only-of-type {\n",
       "        vertical-align: middle;\n",
       "    }\n",
       "\n",
       "    .dataframe tbody tr th {\n",
       "        vertical-align: top;\n",
       "    }\n",
       "\n",
       "    .dataframe thead th {\n",
       "        text-align: right;\n",
       "    }\n",
       "</style>\n",
       "<table border=\"1\" class=\"dataframe\">\n",
       "  <thead>\n",
       "    <tr style=\"text-align: right;\">\n",
       "      <th></th>\n",
       "    </tr>\n",
       "  </thead>\n",
       "  <tbody>\n",
       "  </tbody>\n",
       "</table>\n",
       "</div>"
      ],
      "text/plain": [
       "Empty DataFrame\n",
       "Columns: []\n",
       "Index: []"
      ]
     },
     "execution_count": 71,
     "metadata": {},
     "output_type": "execute_result"
    }
   ],
   "source": [
    "Students = pd.DataFrame()\n",
    "Students"
   ]
  },
  {
   "cell_type": "code",
   "execution_count": 72,
   "id": "f72f40fa-5128-4d93-8751-0c28ca614260",
   "metadata": {},
   "outputs": [
    {
     "data": {
      "text/html": [
       "<div>\n",
       "<style scoped>\n",
       "    .dataframe tbody tr th:only-of-type {\n",
       "        vertical-align: middle;\n",
       "    }\n",
       "\n",
       "    .dataframe tbody tr th {\n",
       "        vertical-align: top;\n",
       "    }\n",
       "\n",
       "    .dataframe thead th {\n",
       "        text-align: right;\n",
       "    }\n",
       "</style>\n",
       "<table border=\"1\" class=\"dataframe\">\n",
       "  <thead>\n",
       "    <tr style=\"text-align: right;\">\n",
       "      <th></th>\n",
       "      <th>ages</th>\n",
       "      <th>Grade</th>\n",
       "    </tr>\n",
       "  </thead>\n",
       "  <tbody>\n",
       "    <tr>\n",
       "      <th>0</th>\n",
       "      <td>9</td>\n",
       "      <td>4</td>\n",
       "    </tr>\n",
       "    <tr>\n",
       "      <th>1</th>\n",
       "      <td>9</td>\n",
       "      <td>3</td>\n",
       "    </tr>\n",
       "    <tr>\n",
       "      <th>2</th>\n",
       "      <td>10</td>\n",
       "      <td>4</td>\n",
       "    </tr>\n",
       "    <tr>\n",
       "      <th>3</th>\n",
       "      <td>8</td>\n",
       "      <td>3</td>\n",
       "    </tr>\n",
       "    <tr>\n",
       "      <th>4</th>\n",
       "      <td>12</td>\n",
       "      <td>6</td>\n",
       "    </tr>\n",
       "    <tr>\n",
       "      <th>5</th>\n",
       "      <td>10</td>\n",
       "      <td>5</td>\n",
       "    </tr>\n",
       "    <tr>\n",
       "      <th>6</th>\n",
       "      <td>7</td>\n",
       "      <td>2</td>\n",
       "    </tr>\n",
       "    <tr>\n",
       "      <th>7</th>\n",
       "      <td>8</td>\n",
       "      <td>3</td>\n",
       "    </tr>\n",
       "    <tr>\n",
       "      <th>8</th>\n",
       "      <td>10</td>\n",
       "      <td>5</td>\n",
       "    </tr>\n",
       "    <tr>\n",
       "      <th>9</th>\n",
       "      <td>8</td>\n",
       "      <td>3</td>\n",
       "    </tr>\n",
       "    <tr>\n",
       "      <th>10</th>\n",
       "      <td>0</td>\n",
       "      <td>1</td>\n",
       "    </tr>\n",
       "    <tr>\n",
       "      <th>11</th>\n",
       "      <td>9</td>\n",
       "      <td>4</td>\n",
       "    </tr>\n",
       "    <tr>\n",
       "      <th>12</th>\n",
       "      <td>7</td>\n",
       "      <td>2</td>\n",
       "    </tr>\n",
       "    <tr>\n",
       "      <th>13</th>\n",
       "      <td>9</td>\n",
       "      <td>5</td>\n",
       "    </tr>\n",
       "    <tr>\n",
       "      <th>14</th>\n",
       "      <td>10</td>\n",
       "      <td>6</td>\n",
       "    </tr>\n",
       "    <tr>\n",
       "      <th>15</th>\n",
       "      <td>9</td>\n",
       "      <td>4</td>\n",
       "    </tr>\n",
       "    <tr>\n",
       "      <th>16</th>\n",
       "      <td>6</td>\n",
       "      <td>1</td>\n",
       "    </tr>\n",
       "    <tr>\n",
       "      <th>17</th>\n",
       "      <td>9</td>\n",
       "      <td>4</td>\n",
       "    </tr>\n",
       "    <tr>\n",
       "      <th>18</th>\n",
       "      <td>9</td>\n",
       "      <td>2</td>\n",
       "    </tr>\n",
       "    <tr>\n",
       "      <th>19</th>\n",
       "      <td>11</td>\n",
       "      <td>6</td>\n",
       "    </tr>\n",
       "  </tbody>\n",
       "</table>\n",
       "</div>"
      ],
      "text/plain": [
       "    ages  Grade\n",
       "0      9      4\n",
       "1      9      3\n",
       "2     10      4\n",
       "3      8      3\n",
       "4     12      6\n",
       "5     10      5\n",
       "6      7      2\n",
       "7      8      3\n",
       "8     10      5\n",
       "9      8      3\n",
       "10     0      1\n",
       "11     9      4\n",
       "12     7      2\n",
       "13     9      5\n",
       "14    10      6\n",
       "15     9      4\n",
       "16     6      1\n",
       "17     9      4\n",
       "18     9      2\n",
       "19    11      6"
      ]
     },
     "execution_count": 72,
     "metadata": {},
     "output_type": "execute_result"
    }
   ],
   "source": [
    "# Add columns to the data frame (data frame is another way of saying table)\n",
    "Students['ages'] = ages\n",
    "Students['Grade'] = [4, 3, 4, 3, 6, 5, 2, 3, 5, 3, 1, 4, 2, 5, 6, 4, 1, 4, 2, 6]\n",
    "Students"
   ]
  },
  {
   "cell_type": "code",
   "execution_count": 73,
   "id": "4237a1a9-6e8a-4b1d-b683-adccb46616d5",
   "metadata": {},
   "outputs": [
    {
     "data": {
      "text/html": [
       "<div>\n",
       "<style scoped>\n",
       "    .dataframe tbody tr th:only-of-type {\n",
       "        vertical-align: middle;\n",
       "    }\n",
       "\n",
       "    .dataframe tbody tr th {\n",
       "        vertical-align: top;\n",
       "    }\n",
       "\n",
       "    .dataframe thead th {\n",
       "        text-align: right;\n",
       "    }\n",
       "</style>\n",
       "<table border=\"1\" class=\"dataframe\">\n",
       "  <thead>\n",
       "    <tr style=\"text-align: right;\">\n",
       "      <th></th>\n",
       "      <th>ages</th>\n",
       "      <th>Grade</th>\n",
       "    </tr>\n",
       "  </thead>\n",
       "  <tbody>\n",
       "    <tr>\n",
       "      <th>ages</th>\n",
       "      <td>1.000000</td>\n",
       "      <td>0.792809</td>\n",
       "    </tr>\n",
       "    <tr>\n",
       "      <th>Grade</th>\n",
       "      <td>0.792809</td>\n",
       "      <td>1.000000</td>\n",
       "    </tr>\n",
       "  </tbody>\n",
       "</table>\n",
       "</div>"
      ],
      "text/plain": [
       "           ages     Grade\n",
       "ages   1.000000  0.792809\n",
       "Grade  0.792809  1.000000"
      ]
     },
     "execution_count": 73,
     "metadata": {},
     "output_type": "execute_result"
    }
   ],
   "source": [
    "# Determine the correlation coefficient between the two columns\n",
    "Students.corr()"
   ]
  },
  {
   "cell_type": "code",
   "execution_count": null,
   "id": "7ced5a3e-cfd0-4026-b6a4-ed4e60293116",
   "metadata": {},
   "outputs": [],
   "source": []
  },
  {
   "cell_type": "code",
   "execution_count": 21,
   "id": "7f0a7c4c-322f-4d87-bb4b-e21bd82d0e3f",
   "metadata": {},
   "outputs": [
    {
     "name": "stdout",
     "output_type": "stream",
     "text": [
      "<class 'numpy.ndarray'>\n",
      "float64\n",
      "[1. 2. 3. 4. 5.]\n"
     ]
    }
   ],
   "source": [
    "import numpy as np\n",
    "x = np.array([1,2,3,4,5.])\n",
    "print(type(x))\n",
    "print(x.dtype)\n",
    "print(x)"
   ]
  },
  {
   "cell_type": "code",
   "execution_count": 23,
   "id": "1025515d-1243-4b21-9f0b-9188dd459fe8",
   "metadata": {},
   "outputs": [
    {
     "data": {
      "text/plain": [
       "3.0"
      ]
     },
     "execution_count": 23,
     "metadata": {},
     "output_type": "execute_result"
    }
   ],
   "source": [
    "x.mean() #object oriented.....?"
   ]
  },
  {
   "cell_type": "code",
   "execution_count": 25,
   "id": "7d6bcb48-142f-461b-ba0d-c4c38a41a1ec",
   "metadata": {},
   "outputs": [
    {
     "data": {
      "text/plain": [
       "3.0"
      ]
     },
     "execution_count": 25,
     "metadata": {},
     "output_type": "execute_result"
    }
   ],
   "source": [
    "np.mean(x) #package function"
   ]
  },
  {
   "cell_type": "code",
   "execution_count": null,
   "id": "96c848e7-d67a-49db-9478-ab9e167c6908",
   "metadata": {},
   "outputs": [],
   "source": [
    "#question 10 help\n",
    "#\n",
    "type(x['Grade'])\n",
    "or\n",
    "type(x['Grade'].values())\n",
    "or\n",
    "pandaSeries = x.Grade or x['Grade']\n",
    "type(pandaSeries)"
   ]
  }
 ],
 "metadata": {
  "kernelspec": {
   "display_name": "Python 3 (ipykernel)",
   "language": "python",
   "name": "python3"
  },
  "language_info": {
   "codemirror_mode": {
    "name": "ipython",
    "version": 3
   },
   "file_extension": ".py",
   "mimetype": "text/x-python",
   "name": "python",
   "nbconvert_exporter": "python",
   "pygments_lexer": "ipython3",
   "version": "3.9.7"
  }
 },
 "nbformat": 4,
 "nbformat_minor": 5
}
