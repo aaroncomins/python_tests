{
 "cells": [
  {
   "cell_type": "markdown",
   "id": "d7240e7c",
   "metadata": {},
   "source": [
    "# Assignment (Lesson 05)\n",
    "# Data Preparation and Feature Selection\n",
    "Steps in a data science project\n",
    "1. Acquire data\n",
    "2. Exploratory Data analysis (EDA)\n",
    "3. Data Processing\n",
    "    1. Data Preparation\n",
    "    2. Feature Selection\n",
    "4. Predictive Analytics"
   ]
  },
  {
   "cell_type": "markdown",
   "id": "c5e9c640",
   "metadata": {},
   "source": [
    "### Import Packages\n",
    "Python, like most programming languages, has pre-made software methods.  These pre-made software methods are organized and combined by topic into packages.  The packages that we want are:\n",
    "- numpy (numerical python)\n",
    "- pandas (panel data aka tables)\n",
    "- sklearn (sci-kit learn for predictive analytics)\n",
    "- matplotlib (data plotting for matrix-like data)  \n",
    "\n",
    "We need to \"import\" these packages so that we can use their methods in our code."
   ]
  },
  {
   "cell_type": "code",
   "execution_count": 1,
   "id": "45a30df1",
   "metadata": {},
   "outputs": [],
   "source": [
    "# import packages\n",
    "import numpy as np\n",
    "import pandas as pd\n",
    "from pandas.plotting import scatter_matrix\n",
    "from sklearn.preprocessing import OneHotEncoder\n",
    "from sklearn.metrics import mutual_info_score\n",
    "# Allow inline plotting in Jupyter Notebook\n",
    "%matplotlib inline\n",
    "\n",
    "# Remove documentation warning\n",
    "import warnings\n",
    "warnings.filterwarnings('ignore')"
   ]
  },
  {
   "cell_type": "markdown",
   "id": "34e6edfd",
   "metadata": {},
   "source": [
    "## Data Preparation on the Mammographic Masses Dataset (Mamm)\n",
    "### Acquire data\n",
    "We will get our data from the University of California, Irvine Machine Learning Repository.  Our dataset was used to determine the effectivity of radiological evaluations of breast cancer diagnoses in women who have breast tumors.  You can get some information on the data from here:  http://archive.ics.uci.edu/ml/machine-learning-databases/mammographic-masses/mammographic_masses.names"
   ]
  },
  {
   "cell_type": "code",
   "execution_count": 2,
   "id": "e0a3eae8",
   "metadata": {},
   "outputs": [
    {
     "data": {
      "text/html": [
       "<div>\n",
       "<style scoped>\n",
       "    .dataframe tbody tr th:only-of-type {\n",
       "        vertical-align: middle;\n",
       "    }\n",
       "\n",
       "    .dataframe tbody tr th {\n",
       "        vertical-align: top;\n",
       "    }\n",
       "\n",
       "    .dataframe thead th {\n",
       "        text-align: right;\n",
       "    }\n",
       "</style>\n",
       "<table border=\"1\" class=\"dataframe\">\n",
       "  <thead>\n",
       "    <tr style=\"text-align: right;\">\n",
       "      <th></th>\n",
       "      <th>BI_RADS</th>\n",
       "      <th>Age</th>\n",
       "      <th>Shape</th>\n",
       "      <th>Margin</th>\n",
       "      <th>Density</th>\n",
       "      <th>Severity</th>\n",
       "    </tr>\n",
       "  </thead>\n",
       "  <tbody>\n",
       "    <tr>\n",
       "      <th>0</th>\n",
       "      <td>5</td>\n",
       "      <td>67</td>\n",
       "      <td>3</td>\n",
       "      <td>5</td>\n",
       "      <td>3</td>\n",
       "      <td>1</td>\n",
       "    </tr>\n",
       "    <tr>\n",
       "      <th>1</th>\n",
       "      <td>4</td>\n",
       "      <td>43</td>\n",
       "      <td>1</td>\n",
       "      <td>1</td>\n",
       "      <td>?</td>\n",
       "      <td>1</td>\n",
       "    </tr>\n",
       "    <tr>\n",
       "      <th>2</th>\n",
       "      <td>5</td>\n",
       "      <td>58</td>\n",
       "      <td>4</td>\n",
       "      <td>5</td>\n",
       "      <td>3</td>\n",
       "      <td>1</td>\n",
       "    </tr>\n",
       "    <tr>\n",
       "      <th>3</th>\n",
       "      <td>4</td>\n",
       "      <td>28</td>\n",
       "      <td>1</td>\n",
       "      <td>1</td>\n",
       "      <td>3</td>\n",
       "      <td>0</td>\n",
       "    </tr>\n",
       "    <tr>\n",
       "      <th>4</th>\n",
       "      <td>5</td>\n",
       "      <td>74</td>\n",
       "      <td>1</td>\n",
       "      <td>5</td>\n",
       "      <td>?</td>\n",
       "      <td>1</td>\n",
       "    </tr>\n",
       "  </tbody>\n",
       "</table>\n",
       "</div>"
      ],
      "text/plain": [
       "  BI_RADS Age Shape Margin Density  Severity\n",
       "0       5  67     3      5       3         1\n",
       "1       4  43     1      1       ?         1\n",
       "2       5  58     4      5       3         1\n",
       "3       4  28     1      1       3         0\n",
       "4       5  74     1      5       ?         1"
      ]
     },
     "execution_count": 2,
     "metadata": {},
     "output_type": "execute_result"
    }
   ],
   "source": [
    "# csv file:\n",
    "url = \"../data/mammographic_masses.data\"\n",
    "# Alternate data source:\n",
    "url = \"http://archive.ics.uci.edu/ml/machine-learning-databases/mammographic-masses/mammographic_masses.data\"\n",
    "\n",
    "# Download the data\n",
    "mamm = pd.read_csv(url, header=None)\n",
    "\n",
    "# Replace the default column names (0, 1, 2, 3, 4, 5) with meaningful names\n",
    "mamm.columns = [\"BI_RADS\", \"Age\", \"Shape\", \"Margin\", \"Density\", \"Severity\"]\n",
    "\n",
    "mamm.head()"
   ]
  },
  {
   "cell_type": "markdown",
   "id": "2b2a29d8",
   "metadata": {},
   "source": [
    "### Some preliminary EDA:\n",
    "\"BI_RADS\", and \"Density\" are ordinal columns.  We will assume that they are numeric.  \n",
    "\"Age\" and \"Severity\" are numeric columns.    \n",
    "\"Shape\" and \"Margin\" are category columns but they are encoded as integers.  \n",
    "\n",
    "Show the actual data types of these columns.  Can you guess why the data types of these 5 columns are `object`?\n",
    "\n",
    "<span style=\"color:red\" float:right>[0 point]</span>"
   ]
  },
  {
   "cell_type": "code",
   "execution_count": 3,
   "id": "99f84246-c1c2-48d4-b93e-0f99b33bbdc3",
   "metadata": {},
   "outputs": [
    {
     "name": "stdout",
     "output_type": "stream",
     "text": [
      "<class 'pandas.core.frame.DataFrame'>\n",
      "RangeIndex: 961 entries, 0 to 960\n",
      "Data columns (total 6 columns):\n",
      " #   Column    Non-Null Count  Dtype \n",
      "---  ------    --------------  ----- \n",
      " 0   BI_RADS   961 non-null    object\n",
      " 1   Age       961 non-null    object\n",
      " 2   Shape     961 non-null    object\n",
      " 3   Margin    961 non-null    object\n",
      " 4   Density   961 non-null    object\n",
      " 5   Severity  961 non-null    int64 \n",
      "dtypes: int64(1), object(5)\n",
      "memory usage: 45.2+ KB\n"
     ]
    }
   ],
   "source": [
    "mamm.info()"
   ]
  },
  {
   "cell_type": "code",
   "execution_count": 4,
   "id": "4d828446-7115-4b9c-892e-7d87493b9249",
   "metadata": {},
   "outputs": [
    {
     "data": {
      "text/plain": [
       "BI_RADS     object\n",
       "Age         object\n",
       "Shape       object\n",
       "Margin      object\n",
       "Density     object\n",
       "Severity     int64\n",
       "dtype: object"
      ]
     },
     "execution_count": 4,
     "metadata": {},
     "output_type": "execute_result"
    }
   ],
   "source": [
    "mamm.dtypes"
   ]
  },
  {
   "cell_type": "code",
   "execution_count": 5,
   "id": "c310ad61-93ac-4a68-8cf8-27b9e5d13364",
   "metadata": {},
   "outputs": [
    {
     "data": {
      "text/plain": [
       "BI_RADS     False\n",
       "Age         False\n",
       "Shape       False\n",
       "Margin      False\n",
       "Density     False\n",
       "Severity    False\n",
       "dtype: bool"
      ]
     },
     "execution_count": 5,
     "metadata": {},
     "output_type": "execute_result"
    }
   ],
   "source": [
    "# My guess is that these are being set to object because of nulls. I can see one just from the 5th row of the head above\n",
    "\n",
    "mamm.isnull().any(axis=0)"
   ]
  },
  {
   "cell_type": "code",
   "execution_count": 6,
   "id": "8e4ca317-6f32-4d19-ad0a-557941178072",
   "metadata": {},
   "outputs": [
    {
     "data": {
      "text/plain": [
       "4     547\n",
       "5     345\n",
       "3      36\n",
       "2      14\n",
       "6      11\n",
       "0       5\n",
       "?       2\n",
       "55      1\n",
       "Name: BI_RADS, dtype: int64"
      ]
     },
     "execution_count": 6,
     "metadata": {},
     "output_type": "execute_result"
    }
   ],
   "source": [
    "# The data has filled in nulls with values other than NaN.\n",
    "mamm.BI_RADS.value_counts()"
   ]
  },
  {
   "cell_type": "markdown",
   "id": "ed58c2c4-bca1-43af-9854-04d5ff0fafe3",
   "metadata": {},
   "source": [
    "Guess: These data types are mostly object because they are str, text and/or a mixed numeric and non-numeric values."
   ]
  },
  {
   "cell_type": "markdown",
   "id": "738bba83",
   "metadata": {},
   "source": [
    "### Some Data Processing\n",
    "In the following sections you will do the following to the Mamm dataframe:\n",
    "- Replace unusable entries with null/nan  \n",
    "- Change types of data.\n",
    "- Correct unexpected values (outliers)\n",
    "- decode category data    \n",
    "- Consolidate categories in category data "
   ]
  },
  {
   "cell_type": "markdown",
   "id": "a18542b4",
   "metadata": {},
   "source": [
    "#### Replace Missing Values with Nulls\n",
    "Coerce all columns, even category columns, that contain missing values to numeric data using `pd.to_numeric`.  You might get an error, like `Unable to parse string`.  You need to tell `pd.to_numeric` that it should **coerce** the casting when it encounters a value that it cannot parse.  The category columns in this dataset are encoded as integers.  We will make use of that encoding.  Any non-numeric value will be replaced with a nan and you will get nans for missing numeric and category values.  After you replace all the non-numeric values, present the first five rows with `Mamm.head()`.\n",
    "\n",
    "<span style=\"color:red\" float:right>[1 point]</span>"
   ]
  },
  {
   "cell_type": "code",
   "execution_count": 7,
   "id": "c4d97765-390f-4526-be4d-eeece8df0618",
   "metadata": {},
   "outputs": [
    {
     "data": {
      "text/html": [
       "<div>\n",
       "<style scoped>\n",
       "    .dataframe tbody tr th:only-of-type {\n",
       "        vertical-align: middle;\n",
       "    }\n",
       "\n",
       "    .dataframe tbody tr th {\n",
       "        vertical-align: top;\n",
       "    }\n",
       "\n",
       "    .dataframe thead th {\n",
       "        text-align: right;\n",
       "    }\n",
       "</style>\n",
       "<table border=\"1\" class=\"dataframe\">\n",
       "  <thead>\n",
       "    <tr style=\"text-align: right;\">\n",
       "      <th></th>\n",
       "      <th>BI_RADS</th>\n",
       "      <th>Age</th>\n",
       "      <th>Shape</th>\n",
       "      <th>Margin</th>\n",
       "      <th>Density</th>\n",
       "      <th>Severity</th>\n",
       "    </tr>\n",
       "  </thead>\n",
       "  <tbody>\n",
       "    <tr>\n",
       "      <th>0</th>\n",
       "      <td>5.0</td>\n",
       "      <td>67.0</td>\n",
       "      <td>3.0</td>\n",
       "      <td>5.0</td>\n",
       "      <td>3.0</td>\n",
       "      <td>1</td>\n",
       "    </tr>\n",
       "    <tr>\n",
       "      <th>1</th>\n",
       "      <td>4.0</td>\n",
       "      <td>43.0</td>\n",
       "      <td>1.0</td>\n",
       "      <td>1.0</td>\n",
       "      <td>NaN</td>\n",
       "      <td>1</td>\n",
       "    </tr>\n",
       "    <tr>\n",
       "      <th>2</th>\n",
       "      <td>5.0</td>\n",
       "      <td>58.0</td>\n",
       "      <td>4.0</td>\n",
       "      <td>5.0</td>\n",
       "      <td>3.0</td>\n",
       "      <td>1</td>\n",
       "    </tr>\n",
       "    <tr>\n",
       "      <th>3</th>\n",
       "      <td>4.0</td>\n",
       "      <td>28.0</td>\n",
       "      <td>1.0</td>\n",
       "      <td>1.0</td>\n",
       "      <td>3.0</td>\n",
       "      <td>0</td>\n",
       "    </tr>\n",
       "    <tr>\n",
       "      <th>4</th>\n",
       "      <td>5.0</td>\n",
       "      <td>74.0</td>\n",
       "      <td>1.0</td>\n",
       "      <td>5.0</td>\n",
       "      <td>NaN</td>\n",
       "      <td>1</td>\n",
       "    </tr>\n",
       "  </tbody>\n",
       "</table>\n",
       "</div>"
      ],
      "text/plain": [
       "   BI_RADS   Age  Shape  Margin  Density  Severity\n",
       "0      5.0  67.0    3.0     5.0      3.0         1\n",
       "1      4.0  43.0    1.0     1.0      NaN         1\n",
       "2      5.0  58.0    4.0     5.0      3.0         1\n",
       "3      4.0  28.0    1.0     1.0      3.0         0\n",
       "4      5.0  74.0    1.0     5.0      NaN         1"
      ]
     },
     "execution_count": 7,
     "metadata": {},
     "output_type": "execute_result"
    }
   ],
   "source": [
    "# Coerce all the data to numeric data\n",
    "# Coercion will introduce nans/nulls for the non-numeric values in all columns\n",
    "# Because the categories are encoded as integers, the missing categories will also be nans/nulls after coercion.\n",
    "\n",
    "mamm['BI_RADS'] = pd.to_numeric(mamm['BI_RADS'], errors='coerce', downcast=\"integer\")\n",
    "mamm['Age'] = pd.to_numeric(mamm['Age'], errors='coerce', downcast=\"integer\")\n",
    "mamm['Shape'] = pd.to_numeric(mamm['Shape'], errors='coerce', downcast=\"integer\")\n",
    "mamm['Margin'] = pd.to_numeric(mamm['Margin'], errors='coerce', downcast=\"integer\")\n",
    "mamm['Density'] = pd.to_numeric(mamm['Density'], errors='coerce', downcast=\"integer\")\n",
    "\n",
    "#for column in Mamm.columns:\n",
    "#    Mamm[column] = pd.to_numeric(Mamm[column], errors='coerce', downcast=\"integer\")\n",
    "\n",
    "mamm.head()"
   ]
  },
  {
   "cell_type": "markdown",
   "id": "a3b70c9a-806f-4515-a9f7-387c2be88f9b",
   "metadata": {},
   "source": [
    "Reason: To coerce all columns, even category columns, that contain missing values to numeric data using pd.to_numeric."
   ]
  },
  {
   "cell_type": "markdown",
   "id": "e7226900-cca2-4560-b955-e0b4ffe7a0df",
   "metadata": {},
   "source": [
    "Conclusion: Coerced each column separately and attempted to downcast to integer but result was a float. The outcome was fortunately still numeric. "
   ]
  },
  {
   "cell_type": "markdown",
   "id": "a6b03980",
   "metadata": {},
   "source": [
    "#### Replace Outliers\n",
    "Values that are obviously incorrect are often replaced with averages.  Often, outlier replacements with averages are inappropriate because the extreme values have some meaning.  For instance, from the data dictionary we know that BI_RADS should range from 1 to 5.  BI_RADS values beyond 1 and 5 were added by physicians who did not adhere to the accepted range.  In this case, BI_RADS greater than 5 should be \"clipped\" at 5 and BI_RADS less than 1 should be \"clipped\" at 1. \n",
    "\n",
    "<span style=\"color:red\" float:right>[1 point]</span>"
   ]
  },
  {
   "cell_type": "code",
   "execution_count": 8,
   "id": "f7cc12eb",
   "metadata": {},
   "outputs": [
    {
     "data": {
      "text/plain": [
       "array([ 5.,  4.,  3., nan,  2.,  1.])"
      ]
     },
     "execution_count": 8,
     "metadata": {},
     "output_type": "execute_result"
    }
   ],
   "source": [
    "# Cap BI_RADS values to a range of 1 to 5\n",
    "# Create a boolean for values < 1 and > 5\n",
    "\n",
    "flag_low = (mamm['BI_RADS'] < 1)\n",
    "flag_high = (mamm['BI_RADS'] > 5)\n",
    "\n",
    "# Replace values with 1 or 5 for flag\n",
    "mamm['BI_RADS'][flag_low] = 1\n",
    "mamm['BI_RADS'][flag_high] = 5\n",
    "\n",
    "# Check unique values\n",
    "mamm['BI_RADS'].unique()"
   ]
  },
  {
   "cell_type": "markdown",
   "id": "607a8627-1520-493c-83ea-a3a880bdb589",
   "metadata": {},
   "source": [
    "Reason: To clip BI_RADS greater than 5 at 5 and BI_RADS less than 1 at 1."
   ]
  },
  {
   "cell_type": "markdown",
   "id": "33a9418a-e279-471e-8215-6e90db0d0b3a",
   "metadata": {},
   "source": [
    "Conclusion: No more outliers in the data and all the unique values fall within the range specified."
   ]
  },
  {
   "cell_type": "markdown",
   "id": "b0d30474",
   "metadata": {},
   "source": [
    "### Consolidate and decode category columns\n",
    "\n",
    "Decoding a category is when categories are coded as numbers and we replace those numbers with actual categories.  \n",
    "Consolidating (aka binning or grouping) of categories is means that multiple categories are renamed to a single category.  \n",
    "The decoding and consolidating of categories can occur at the same time.  \n",
    "\n",
    "- Shape\n",
    " - The original category codes are: round=1; oval=2; lobular=3; irregular=4;  \n",
    " - The proper consolidated category decoding is: 1 $\\rightarrow$ oval; 2 $\\rightarrow$ oval; 3 $\\rightarrow$ lobular; 4 $\\rightarrow$ irregular;  \n",
    "- Margin\n",
    " - The orginal category codes are: circumscribed=1; microlobulated=2; obscured=3; ill-defined=4; spiculated=5  \n",
    " - The proper consolidated category decodes are: 1 $\\rightarrow$ circumscribed; 2 $\\rightarrow$ ill-defined; 3 $\\rightarrow$ ill-defined; 4 $\\rightarrow$ ill-defined; 5 $\\rightarrow$ spiculated;\n",
    "\n",
    "After you decode and consolidate, present the first five rows with `Mamm.head()`. \n",
    "\n",
    "<span style=\"color:red\" float:right>[1 point]</span>"
   ]
  },
  {
   "cell_type": "code",
   "execution_count": 9,
   "id": "aed6fdfb-d1ef-4434-8a7e-1c4b1151e1a7",
   "metadata": {},
   "outputs": [
    {
     "data": {
      "text/html": [
       "<div>\n",
       "<style scoped>\n",
       "    .dataframe tbody tr th:only-of-type {\n",
       "        vertical-align: middle;\n",
       "    }\n",
       "\n",
       "    .dataframe tbody tr th {\n",
       "        vertical-align: top;\n",
       "    }\n",
       "\n",
       "    .dataframe thead th {\n",
       "        text-align: right;\n",
       "    }\n",
       "</style>\n",
       "<table border=\"1\" class=\"dataframe\">\n",
       "  <thead>\n",
       "    <tr style=\"text-align: right;\">\n",
       "      <th></th>\n",
       "      <th>BI_RADS</th>\n",
       "      <th>Age</th>\n",
       "      <th>Shape</th>\n",
       "      <th>Margin</th>\n",
       "      <th>Density</th>\n",
       "      <th>Severity</th>\n",
       "    </tr>\n",
       "  </thead>\n",
       "  <tbody>\n",
       "    <tr>\n",
       "      <th>0</th>\n",
       "      <td>5.0</td>\n",
       "      <td>67.0</td>\n",
       "      <td>lobular</td>\n",
       "      <td>spiculated</td>\n",
       "      <td>3.0</td>\n",
       "      <td>1</td>\n",
       "    </tr>\n",
       "    <tr>\n",
       "      <th>1</th>\n",
       "      <td>4.0</td>\n",
       "      <td>43.0</td>\n",
       "      <td>oval</td>\n",
       "      <td>circumscribed</td>\n",
       "      <td>NaN</td>\n",
       "      <td>1</td>\n",
       "    </tr>\n",
       "    <tr>\n",
       "      <th>2</th>\n",
       "      <td>5.0</td>\n",
       "      <td>58.0</td>\n",
       "      <td>irregular</td>\n",
       "      <td>spiculated</td>\n",
       "      <td>3.0</td>\n",
       "      <td>1</td>\n",
       "    </tr>\n",
       "    <tr>\n",
       "      <th>3</th>\n",
       "      <td>4.0</td>\n",
       "      <td>28.0</td>\n",
       "      <td>oval</td>\n",
       "      <td>circumscribed</td>\n",
       "      <td>3.0</td>\n",
       "      <td>0</td>\n",
       "    </tr>\n",
       "    <tr>\n",
       "      <th>4</th>\n",
       "      <td>5.0</td>\n",
       "      <td>74.0</td>\n",
       "      <td>oval</td>\n",
       "      <td>spiculated</td>\n",
       "      <td>NaN</td>\n",
       "      <td>1</td>\n",
       "    </tr>\n",
       "  </tbody>\n",
       "</table>\n",
       "</div>"
      ],
      "text/plain": [
       "   BI_RADS   Age      Shape         Margin  Density  Severity\n",
       "0      5.0  67.0    lobular     spiculated      3.0         1\n",
       "1      4.0  43.0       oval  circumscribed      NaN         1\n",
       "2      5.0  58.0  irregular     spiculated      3.0         1\n",
       "3      4.0  28.0       oval  circumscribed      3.0         0\n",
       "4      5.0  74.0       oval     spiculated      NaN         1"
      ]
     },
     "execution_count": 9,
     "metadata": {},
     "output_type": "execute_result"
    }
   ],
   "source": [
    "# The category columns are decoded and categories are consolidated\n",
    "\n",
    "# The Shape variable is decoded as follows:  1 and 2 to oval;  3 to lobular; 4 to irregular\n",
    "mamm['Shape'] = mamm['Shape'].replace({1: \"oval\", 2: \"oval\", 3: \"lobular\", 4: \"irregular\"})\n",
    "\n",
    "# The Shape variable is decoded as follows:  1 to circumscribed;  2, 3, 4 to ill_defined; 5 to spiculated\n",
    "mamm[\"Margin\"] = mamm[\"Margin\"].replace({1: \"circumscribed\", 2: \"ill_defined\", 3: \"ill_defined\", 4: \"ill_defined\", 5: \"spiculated\"})\n",
    "\n",
    "# Present the first few rows\n",
    "mamm.head()"
   ]
  },
  {
   "cell_type": "markdown",
   "id": "68d56e7f-73b7-4caf-94ca-3766b71cbcf0",
   "metadata": {},
   "source": [
    "Reason: To decode and consolidate, present the first five rows with Mamm.head()."
   ]
  },
  {
   "cell_type": "markdown",
   "id": "886ae84e-2a9c-4047-b3f4-9706edb3c6af",
   "metadata": {},
   "source": [
    "Conclusion: Decoded and consolidated presenting the first 5 rows. "
   ]
  },
  {
   "cell_type": "markdown",
   "id": "8859ba29",
   "metadata": {},
   "source": [
    "### Some More EDA\n",
    "- Show the shape of the dataframe\n",
    "- Use the `pandas` `isna` method to show the distribution of nulls among the columns.\n",
    "  \n",
    "<span style=\"color:red\" float:right>[0 point]</span>"
   ]
  },
  {
   "cell_type": "code",
   "execution_count": 10,
   "id": "44ffccb6-bd9b-4f70-82f5-40d5f8af008a",
   "metadata": {},
   "outputs": [
    {
     "name": "stdout",
     "output_type": "stream",
     "text": [
      "The shape of the dataframe is (961, 6)\n",
      "There are 6 columns and 961 rows\n"
     ]
    }
   ],
   "source": [
    "# Show the shape of the data frame\n",
    "print(\"The shape of the dataframe is\", mamm.shape)\n",
    "print(\"There are 6 columns and 961 rows\")"
   ]
  },
  {
   "cell_type": "code",
   "execution_count": 11,
   "id": "9d487c09-999d-4d9c-a8dd-6ec8ae2521f6",
   "metadata": {},
   "outputs": [
    {
     "name": "stdout",
     "output_type": "stream",
     "text": [
      "The distribution of nulls among the columns is:\n"
     ]
    },
    {
     "data": {
      "text/plain": [
       "BI_RADS      2\n",
       "Age          5\n",
       "Shape       31\n",
       "Margin      48\n",
       "Density     76\n",
       "Severity     0\n",
       "dtype: int64"
      ]
     },
     "execution_count": 11,
     "metadata": {},
     "output_type": "execute_result"
    }
   ],
   "source": [
    "# Show the distribution of nulls among the columns\n",
    "print(\"The distribution of nulls among the columns is:\") \n",
    "mamm.isna().sum()"
   ]
  },
  {
   "cell_type": "markdown",
   "id": "e0e17c12",
   "metadata": {},
   "source": [
    "### Drop Rows with Multiple Missing Values\n",
    "When a row has too many missing values, then it should not be used.  We can stipulate a threshold requirement of available values per row.  We will require that each row contains at least 5 values.  This requirement means that no row is allowed more than 1 missing value.  \n",
    "Remove the rows that have more than one missing value.  \n",
    "- Use the `pandas` `dropna` method and set the `thresh` argument.  \n",
    "- Show the shape of the dataframe after you drop the rows with multiple nulls. \n",
    "- Use the `pandas` `isna` method to show the number of nulls per column after dropping rows with multiple nulls\n",
    "\n",
    "<span style=\"color:red\" float:right>[1 point]</span>"
   ]
  },
  {
   "cell_type": "code",
   "execution_count": 12,
   "id": "9e664f86",
   "metadata": {},
   "outputs": [
    {
     "data": {
      "text/plain": [
       "(931, 6)"
      ]
     },
     "metadata": {},
     "output_type": "display_data"
    },
    {
     "data": {
      "text/plain": [
       "BI_RADS      1\n",
       "Age          5\n",
       "Shape       17\n",
       "Margin      22\n",
       "Density     56\n",
       "Severity     0\n",
       "dtype: int64"
      ]
     },
     "metadata": {},
     "output_type": "display_data"
    }
   ],
   "source": [
    "# Drop rows\n",
    "mamm = mamm.dropna(thresh=5)\n",
    "\n",
    "# Show the shape of the data frame\n",
    "display(mamm.shape)\n",
    "\n",
    "# Show the distribution of nulls among the columns\n",
    "display(mamm.isna().sum())"
   ]
  },
  {
   "cell_type": "markdown",
   "id": "cc3e348b-5c5b-451c-913b-3f763b8bdbd5",
   "metadata": {},
   "source": [
    "Reason: Remove the rows that have more than one missing value."
   ]
  },
  {
   "cell_type": "markdown",
   "id": "342be4e0-d6cc-47ec-817e-f7eddc65effe",
   "metadata": {},
   "source": [
    "Conclusion: Dropped rows that had more than one missing value. Setting the thresh to 5 decreased rows from 961 to 931. Margin had the most rows dropped with 26. "
   ]
  },
  {
   "cell_type": "markdown",
   "id": "2d11c129",
   "metadata": {},
   "source": [
    "## Impute Missing Values\n",
    "Use the median values to impute missing values for true numerical columns (`Age`, `BI_RADS`, `Density`).  `Margin` and `Shape` originally looked numeric, but they are categorical.  Therefore, do not use median on `Margin` and `Shape`.  \n",
    "\n",
    "### Determine the imputation values for Age"
   ]
  },
  {
   "cell_type": "code",
   "execution_count": 13,
   "id": "c08e92e7",
   "metadata": {},
   "outputs": [
    {
     "name": "stdout",
     "output_type": "stream",
     "text": [
      "Now we replace 5 missing age values with the age median ( 57.0 )\n"
     ]
    },
    {
     "data": {
      "text/plain": [
       "BI_RADS      1\n",
       "Age          0\n",
       "Shape       17\n",
       "Margin      22\n",
       "Density     56\n",
       "Severity     0\n",
       "dtype: int64"
      ]
     },
     "execution_count": 13,
     "metadata": {},
     "output_type": "execute_result"
    }
   ],
   "source": [
    "# Replace missing age values with the median \n",
    "MedianAge = np.nanmedian(mamm.loc[:,\"Age\"])\n",
    "HasNanAge = pd.isnull(mamm.loc[:,\"Age\"])\n",
    "print('Now we replace', HasNanAge.sum(),'missing age values with the age median (', MedianAge, ')')\n",
    "mamm.loc[HasNanAge, \"Age\"] = MedianAge\n",
    "mamm.isna().sum(axis=0)"
   ]
  },
  {
   "cell_type": "markdown",
   "id": "7056e2c8",
   "metadata": {},
   "source": [
    "### Impute Missing values for BI_RADS and Density\n",
    "Assign the column medians to the null values in the respective numeric columns.\n",
    "- Use the `pandas` `isnull` method to identify the nulls\n",
    "- Use the `numpy` `nanmedian` to determine the median for imputation\n",
    "- Use the `pandas` `isna` method to show the number of nulls per column after the imputation   \n",
    "  \n",
    "<span style=\"color:red\" float:right>[1 point]</span>"
   ]
  },
  {
   "cell_type": "code",
   "execution_count": 14,
   "id": "1936994b",
   "metadata": {},
   "outputs": [
    {
     "data": {
      "text/plain": [
       "BI_RADS      0\n",
       "Age          0\n",
       "Shape       17\n",
       "Margin      22\n",
       "Density      0\n",
       "Severity     0\n",
       "dtype: int64"
      ]
     },
     "execution_count": 14,
     "metadata": {},
     "output_type": "execute_result"
    }
   ],
   "source": [
    "# Median Imputation for BI_RADS\n",
    "median_rads = np.nanmedian(mamm.loc[:, \"BI_RADS\"])\n",
    "has_null_rads = pd.isnull(mamm.loc[:, \"BI_RADS\"])\n",
    "mamm.loc[has_null_rads, \"BI_RADS\"] = median_rads\n",
    "\n",
    "# Median Imputation for Density\n",
    "median_density = np.nanmedian(mamm.loc[:, \"Density\"])\n",
    "has_null_density = pd.isnull(mamm.loc[:, \"Density\"])\n",
    "mamm.loc[has_null_density, \"Density\"] = median_density\n",
    "\n",
    "# Distribution of nulls\n",
    "mamm.isna().sum(axis=0)"
   ]
  },
  {
   "cell_type": "markdown",
   "id": "b4558c16-507c-4dab-98c4-0342ad1eff16",
   "metadata": {},
   "source": [
    "Reason: To assign the column medians to the null values in the respective numeric columns."
   ]
  },
  {
   "cell_type": "markdown",
   "id": "a9e1b42b-eed6-40e6-a4f8-e0ce97b4a109",
   "metadata": {},
   "source": [
    "Conclusion: The BI_RADS column had all null values replaced as shown by the 0."
   ]
  },
  {
   "cell_type": "markdown",
   "id": "ff743b54",
   "metadata": {},
   "source": [
    "### Replace missing values for the two categorical columns\n",
    "- Use `pandas` `value_counts()` method to determine the distribution of categories in `Shape` and `Margin` before imputation.\n",
    "- Use `pandas` `isnull()` method to identify the missing values\n",
    "- Assign the most common value to the null values in the respective categorical columns. \n",
    "- After the imputation, use the `pandas` `isna` method to show the number of nulls after the imputation.\n",
    "- Use `pandas` `value_counts()` method to determine the distribution of categories after imputation.\n",
    "\n",
    "<span style=\"color:red\" float:right>[1 point]</span>"
   ]
  },
  {
   "cell_type": "code",
   "execution_count": 15,
   "id": "2e14d28a",
   "metadata": {},
   "outputs": [
    {
     "data": {
      "text/plain": [
       "oval         422\n",
       "irregular    399\n",
       "lobular       93\n",
       "Name: Shape, dtype: int64"
      ]
     },
     "metadata": {},
     "output_type": "display_data"
    },
    {
     "name": "stdout",
     "output_type": "stream",
     "text": [
      "The number of nulls in the Shape column is:\n"
     ]
    },
    {
     "data": {
      "text/plain": [
       "17"
      ]
     },
     "metadata": {},
     "output_type": "display_data"
    },
    {
     "name": "stdout",
     "output_type": "stream",
     "text": [
      "All nulls in the Shape column eliminated\n"
     ]
    },
    {
     "data": {
      "text/plain": [
       "BI_RADS      0\n",
       "Age          0\n",
       "Shape        0\n",
       "Margin      22\n",
       "Density      0\n",
       "Severity     0\n",
       "dtype: int64"
      ]
     },
     "execution_count": 15,
     "metadata": {},
     "output_type": "execute_result"
    }
   ],
   "source": [
    "# Determine the distribution of categories for Shape\n",
    "display(mamm[\"Shape\"].value_counts())\n",
    "\n",
    "# Replace nulls in Shape with the most common category of Shape\n",
    "print(\"The number of nulls in the Shape column is:\")\n",
    "display(mamm[\"Shape\"].isnull().sum())\n",
    "\n",
    "# Replace nulls in Margin with the most common category of Margin\n",
    "mamm.loc[mamm[\"Shape\"].isnull(), \"Shape\"] = \"oval\"\n",
    "\n",
    "print(\"All nulls in the Shape column eliminated\")\n",
    "               \n",
    "mamm.isna().sum()"
   ]
  },
  {
   "cell_type": "markdown",
   "id": "5fbcb45a-6a3a-4f04-aa01-c933d430de0e",
   "metadata": {},
   "source": [
    "Utilized the oval category as the one to fill the null values because it had the greatest occurences of all three types."
   ]
  },
  {
   "cell_type": "code",
   "execution_count": 16,
   "id": "29fd40ec-646a-4d6e-a59c-190fb0a33984",
   "metadata": {},
   "outputs": [
    {
     "data": {
      "text/plain": [
       "'The unique Margin categories are'"
      ]
     },
     "metadata": {},
     "output_type": "display_data"
    },
    {
     "data": {
      "text/plain": [
       "ill_defined      417\n",
       "circumscribed    357\n",
       "spiculated       135\n",
       "Name: Margin, dtype: int64"
      ]
     },
     "metadata": {},
     "output_type": "display_data"
    },
    {
     "data": {
      "text/plain": [
       "'Nulls'"
      ]
     },
     "metadata": {},
     "output_type": "display_data"
    },
    {
     "data": {
      "text/plain": [
       "0         spiculated\n",
       "1      circumscribed\n",
       "2         spiculated\n",
       "3      circumscribed\n",
       "4         spiculated\n",
       "           ...      \n",
       "956    circumscribed\n",
       "957       spiculated\n",
       "958       spiculated\n",
       "959       spiculated\n",
       "960      ill_defined\n",
       "Name: Margin, Length: 931, dtype: object"
      ]
     },
     "metadata": {},
     "output_type": "display_data"
    }
   ],
   "source": [
    "# Determine the distribution of categories for Margin\n",
    "display(\"The unique Margin categories are\", mamm[\"Margin\"].value_counts(), \"Nulls\", mamm[\"Margin\"])"
   ]
  },
  {
   "cell_type": "code",
   "execution_count": 17,
   "id": "2c25d813-517e-482c-b68c-1ba945c468f0",
   "metadata": {},
   "outputs": [],
   "source": [
    "# Replacing nulls in Margin with the most common category of Margin\n",
    "mamm.loc[mamm[\"Margin\"].isnull(), \"Margin\"] = \"ill_defined\""
   ]
  },
  {
   "cell_type": "code",
   "execution_count": 18,
   "id": "a72900e0-480e-45f0-ae7d-22c975ba9120",
   "metadata": {},
   "outputs": [
    {
     "name": "stdout",
     "output_type": "stream",
     "text": [
      "Now there are no more null values in the dataframe\n"
     ]
    },
    {
     "data": {
      "text/plain": [
       "BI_RADS     0\n",
       "Age         0\n",
       "Shape       0\n",
       "Margin      0\n",
       "Density     0\n",
       "Severity    0\n",
       "dtype: int64"
      ]
     },
     "execution_count": 18,
     "metadata": {},
     "output_type": "execute_result"
    }
   ],
   "source": [
    "# Distribution of nulls\n",
    "print(\"Now there are no more null values in the dataframe\")\n",
    "mamm.isnull().sum()"
   ]
  },
  {
   "cell_type": "code",
   "execution_count": 19,
   "id": "75e6999c-83f8-49e8-906c-15b2b2f02957",
   "metadata": {},
   "outputs": [
    {
     "data": {
      "text/plain": [
       "Margin       \n",
       "ill_defined      439\n",
       "circumscribed    357\n",
       "spiculated       135\n",
       "dtype: int64"
      ]
     },
     "metadata": {},
     "output_type": "display_data"
    },
    {
     "data": {
      "text/plain": [
       "Shape    \n",
       "oval         439\n",
       "irregular    399\n",
       "lobular       93\n",
       "dtype: int64"
      ]
     },
     "metadata": {},
     "output_type": "display_data"
    }
   ],
   "source": [
    "# Determine the distribution of categories\n",
    "display(mamm.loc[:, [\"Margin\"]].value_counts())\n",
    "display(mamm.loc[:, [\"Shape\"]].value_counts())"
   ]
  },
  {
   "cell_type": "markdown",
   "id": "d392d996-4f75-41bb-9be4-3572925bfbeb",
   "metadata": {},
   "source": [
    "Reason: Replace missing values for the two categorical columns."
   ]
  },
  {
   "cell_type": "markdown",
   "id": "4f0f70ac-2b3d-4480-9a84-e65f1690ffb1",
   "metadata": {},
   "source": [
    "Conclusion: Displayed the total nulls before to show when they were replaced. The ill_defined category was used because it had the highest count. Overall distribution displayed and null values were removed from the DataFrame."
   ]
  },
  {
   "cell_type": "markdown",
   "id": "ee85baf8",
   "metadata": {},
   "source": [
    "### One hot encode the categorical variables\n",
    "- Use `OneHotEncoder` from `sklearn.preprocessing` to one-hot encode the two categorical variables, `Shape` and `Margin`.\n",
    "- Make sure that the new columns have descriptive hybrid names by using the `get_feature_names_out` method.\n",
    "- Add the new binary columns to the dataframe.\n",
    "- drop the original columns, `Shape` and `Margin`\n",
    "- Show the first few rows of the dataframe.\n",
    "\n",
    "<span style=\"color:red\" float:right>[3 point]</span>"
   ]
  },
  {
   "cell_type": "code",
   "execution_count": 20,
   "id": "63ac7f16-a15b-4cda-89c5-266b4f2dc64c",
   "metadata": {},
   "outputs": [
    {
     "data": {
      "text/html": [
       "<div>\n",
       "<style scoped>\n",
       "    .dataframe tbody tr th:only-of-type {\n",
       "        vertical-align: middle;\n",
       "    }\n",
       "\n",
       "    .dataframe tbody tr th {\n",
       "        vertical-align: top;\n",
       "    }\n",
       "\n",
       "    .dataframe thead th {\n",
       "        text-align: right;\n",
       "    }\n",
       "</style>\n",
       "<table border=\"1\" class=\"dataframe\">\n",
       "  <thead>\n",
       "    <tr style=\"text-align: right;\">\n",
       "      <th></th>\n",
       "      <th>Margin</th>\n",
       "      <th>Shape</th>\n",
       "    </tr>\n",
       "  </thead>\n",
       "  <tbody>\n",
       "    <tr>\n",
       "      <th>0</th>\n",
       "      <td>spiculated</td>\n",
       "      <td>lobular</td>\n",
       "    </tr>\n",
       "    <tr>\n",
       "      <th>1</th>\n",
       "      <td>circumscribed</td>\n",
       "      <td>oval</td>\n",
       "    </tr>\n",
       "    <tr>\n",
       "      <th>2</th>\n",
       "      <td>spiculated</td>\n",
       "      <td>irregular</td>\n",
       "    </tr>\n",
       "    <tr>\n",
       "      <th>3</th>\n",
       "      <td>circumscribed</td>\n",
       "      <td>oval</td>\n",
       "    </tr>\n",
       "    <tr>\n",
       "      <th>4</th>\n",
       "      <td>spiculated</td>\n",
       "      <td>oval</td>\n",
       "    </tr>\n",
       "  </tbody>\n",
       "</table>\n",
       "</div>"
      ],
      "text/plain": [
       "          Margin      Shape\n",
       "0     spiculated    lobular\n",
       "1  circumscribed       oval\n",
       "2     spiculated  irregular\n",
       "3  circumscribed       oval\n",
       "4     spiculated       oval"
      ]
     },
     "execution_count": 20,
     "metadata": {},
     "output_type": "execute_result"
    }
   ],
   "source": [
    "# package at the top\n",
    "\n",
    "# Categorical data\n",
    "mamm_cat = mamm.loc[:, [\"Margin\", \"Shape\"]]\n",
    "mamm_cat.head()"
   ]
  },
  {
   "cell_type": "code",
   "execution_count": 21,
   "id": "fb98847d-d2fa-40c2-85d7-4acb2c9616cc",
   "metadata": {},
   "outputs": [
    {
     "data": {
      "text/plain": [
       "OneHotEncoder(sparse=False)"
      ]
     },
     "execution_count": 21,
     "metadata": {},
     "output_type": "execute_result"
    }
   ],
   "source": [
    "# One-hot-encode\n",
    "one_hot = OneHotEncoder(sparse=False)\n",
    "\n",
    "# Fit the one-hot encoder\n",
    "one_hot.fit(mamm_cat)"
   ]
  },
  {
   "cell_type": "code",
   "execution_count": 22,
   "id": "6c033a31-14e6-47eb-83fb-5ff458ce1088",
   "metadata": {},
   "outputs": [
    {
     "data": {
      "text/plain": [
       "array(['Margin_circumscribed', 'Margin_ill_defined', 'Margin_spiculated',\n",
       "       'Shape_irregular', 'Shape_lobular', 'Shape_oval'], dtype=object)"
      ]
     },
     "execution_count": 22,
     "metadata": {},
     "output_type": "execute_result"
    }
   ],
   "source": [
    "# Feature names\n",
    "col_names = one_hot.get_feature_names_out(mamm_cat.columns)\n",
    "col_names"
   ]
  },
  {
   "cell_type": "code",
   "execution_count": 23,
   "id": "9adead98-9a3e-4fbc-97ed-d1796d947671",
   "metadata": {},
   "outputs": [
    {
     "data": {
      "text/html": [
       "<div>\n",
       "<style scoped>\n",
       "    .dataframe tbody tr th:only-of-type {\n",
       "        vertical-align: middle;\n",
       "    }\n",
       "\n",
       "    .dataframe tbody tr th {\n",
       "        vertical-align: top;\n",
       "    }\n",
       "\n",
       "    .dataframe thead th {\n",
       "        text-align: right;\n",
       "    }\n",
       "</style>\n",
       "<table border=\"1\" class=\"dataframe\">\n",
       "  <thead>\n",
       "    <tr style=\"text-align: right;\">\n",
       "      <th></th>\n",
       "      <th>Margin_circumscribed</th>\n",
       "      <th>Margin_ill_defined</th>\n",
       "      <th>Margin_spiculated</th>\n",
       "      <th>Shape_irregular</th>\n",
       "      <th>Shape_lobular</th>\n",
       "      <th>Shape_oval</th>\n",
       "    </tr>\n",
       "  </thead>\n",
       "  <tbody>\n",
       "    <tr>\n",
       "      <th>0</th>\n",
       "      <td>0.0</td>\n",
       "      <td>0.0</td>\n",
       "      <td>1.0</td>\n",
       "      <td>0.0</td>\n",
       "      <td>1.0</td>\n",
       "      <td>0.0</td>\n",
       "    </tr>\n",
       "    <tr>\n",
       "      <th>1</th>\n",
       "      <td>1.0</td>\n",
       "      <td>0.0</td>\n",
       "      <td>0.0</td>\n",
       "      <td>0.0</td>\n",
       "      <td>0.0</td>\n",
       "      <td>1.0</td>\n",
       "    </tr>\n",
       "    <tr>\n",
       "      <th>2</th>\n",
       "      <td>0.0</td>\n",
       "      <td>0.0</td>\n",
       "      <td>1.0</td>\n",
       "      <td>1.0</td>\n",
       "      <td>0.0</td>\n",
       "      <td>0.0</td>\n",
       "    </tr>\n",
       "    <tr>\n",
       "      <th>3</th>\n",
       "      <td>1.0</td>\n",
       "      <td>0.0</td>\n",
       "      <td>0.0</td>\n",
       "      <td>0.0</td>\n",
       "      <td>0.0</td>\n",
       "      <td>1.0</td>\n",
       "    </tr>\n",
       "    <tr>\n",
       "      <th>4</th>\n",
       "      <td>0.0</td>\n",
       "      <td>0.0</td>\n",
       "      <td>1.0</td>\n",
       "      <td>0.0</td>\n",
       "      <td>0.0</td>\n",
       "      <td>1.0</td>\n",
       "    </tr>\n",
       "  </tbody>\n",
       "</table>\n",
       "</div>"
      ],
      "text/plain": [
       "   Margin_circumscribed  Margin_ill_defined  Margin_spiculated  \\\n",
       "0                   0.0                 0.0                1.0   \n",
       "1                   1.0                 0.0                0.0   \n",
       "2                   0.0                 0.0                1.0   \n",
       "3                   1.0                 0.0                0.0   \n",
       "4                   0.0                 0.0                1.0   \n",
       "\n",
       "   Shape_irregular  Shape_lobular  Shape_oval  \n",
       "0              0.0            1.0         0.0  \n",
       "1              0.0            0.0         1.0  \n",
       "2              1.0            0.0         0.0  \n",
       "3              0.0            0.0         1.0  \n",
       "4              0.0            0.0         1.0  "
      ]
     },
     "execution_count": 23,
     "metadata": {},
     "output_type": "execute_result"
    }
   ],
   "source": [
    "# Create DataFrame\n",
    "mamm_enc_df = pd.DataFrame(one_hot.transform(mamm_cat), columns=col_names)\n",
    "mamm_enc_df.head()"
   ]
  },
  {
   "cell_type": "code",
   "execution_count": 24,
   "id": "98aeecaa-7978-4804-8230-32af0cefd1bc",
   "metadata": {},
   "outputs": [],
   "source": [
    "# Add one_hot_encoded columns to dataframe\n",
    "mamm_concat_df = pd.concat([mamm, mamm_enc_df], axis=1)"
   ]
  },
  {
   "cell_type": "code",
   "execution_count": 25,
   "id": "e75f686f-1869-464a-a2b1-8df04b84fb46",
   "metadata": {},
   "outputs": [
    {
     "data": {
      "text/html": [
       "<div>\n",
       "<style scoped>\n",
       "    .dataframe tbody tr th:only-of-type {\n",
       "        vertical-align: middle;\n",
       "    }\n",
       "\n",
       "    .dataframe tbody tr th {\n",
       "        vertical-align: top;\n",
       "    }\n",
       "\n",
       "    .dataframe thead th {\n",
       "        text-align: right;\n",
       "    }\n",
       "</style>\n",
       "<table border=\"1\" class=\"dataframe\">\n",
       "  <thead>\n",
       "    <tr style=\"text-align: right;\">\n",
       "      <th></th>\n",
       "      <th>BI_RADS</th>\n",
       "      <th>Age</th>\n",
       "      <th>Density</th>\n",
       "      <th>Severity</th>\n",
       "      <th>Margin_circumscribed</th>\n",
       "      <th>Margin_ill_defined</th>\n",
       "      <th>Margin_spiculated</th>\n",
       "      <th>Shape_irregular</th>\n",
       "      <th>Shape_lobular</th>\n",
       "      <th>Shape_oval</th>\n",
       "    </tr>\n",
       "  </thead>\n",
       "  <tbody>\n",
       "    <tr>\n",
       "      <th>0</th>\n",
       "      <td>5.0</td>\n",
       "      <td>67.0</td>\n",
       "      <td>3.0</td>\n",
       "      <td>1.0</td>\n",
       "      <td>0.0</td>\n",
       "      <td>0.0</td>\n",
       "      <td>1.0</td>\n",
       "      <td>0.0</td>\n",
       "      <td>1.0</td>\n",
       "      <td>0.0</td>\n",
       "    </tr>\n",
       "    <tr>\n",
       "      <th>1</th>\n",
       "      <td>4.0</td>\n",
       "      <td>43.0</td>\n",
       "      <td>3.0</td>\n",
       "      <td>1.0</td>\n",
       "      <td>1.0</td>\n",
       "      <td>0.0</td>\n",
       "      <td>0.0</td>\n",
       "      <td>0.0</td>\n",
       "      <td>0.0</td>\n",
       "      <td>1.0</td>\n",
       "    </tr>\n",
       "    <tr>\n",
       "      <th>2</th>\n",
       "      <td>5.0</td>\n",
       "      <td>58.0</td>\n",
       "      <td>3.0</td>\n",
       "      <td>1.0</td>\n",
       "      <td>0.0</td>\n",
       "      <td>0.0</td>\n",
       "      <td>1.0</td>\n",
       "      <td>1.0</td>\n",
       "      <td>0.0</td>\n",
       "      <td>0.0</td>\n",
       "    </tr>\n",
       "    <tr>\n",
       "      <th>3</th>\n",
       "      <td>4.0</td>\n",
       "      <td>28.0</td>\n",
       "      <td>3.0</td>\n",
       "      <td>0.0</td>\n",
       "      <td>1.0</td>\n",
       "      <td>0.0</td>\n",
       "      <td>0.0</td>\n",
       "      <td>0.0</td>\n",
       "      <td>0.0</td>\n",
       "      <td>1.0</td>\n",
       "    </tr>\n",
       "    <tr>\n",
       "      <th>4</th>\n",
       "      <td>5.0</td>\n",
       "      <td>74.0</td>\n",
       "      <td>3.0</td>\n",
       "      <td>1.0</td>\n",
       "      <td>0.0</td>\n",
       "      <td>0.0</td>\n",
       "      <td>1.0</td>\n",
       "      <td>0.0</td>\n",
       "      <td>0.0</td>\n",
       "      <td>1.0</td>\n",
       "    </tr>\n",
       "  </tbody>\n",
       "</table>\n",
       "</div>"
      ],
      "text/plain": [
       "   BI_RADS   Age  Density  Severity  Margin_circumscribed  Margin_ill_defined  \\\n",
       "0      5.0  67.0      3.0       1.0                   0.0                 0.0   \n",
       "1      4.0  43.0      3.0       1.0                   1.0                 0.0   \n",
       "2      5.0  58.0      3.0       1.0                   0.0                 0.0   \n",
       "3      4.0  28.0      3.0       0.0                   1.0                 0.0   \n",
       "4      5.0  74.0      3.0       1.0                   0.0                 0.0   \n",
       "\n",
       "   Margin_spiculated  Shape_irregular  Shape_lobular  Shape_oval  \n",
       "0                1.0              0.0            1.0         0.0  \n",
       "1                0.0              0.0            0.0         1.0  \n",
       "2                1.0              1.0            0.0         0.0  \n",
       "3                0.0              0.0            0.0         1.0  \n",
       "4                1.0              0.0            0.0         1.0  "
      ]
     },
     "execution_count": 25,
     "metadata": {},
     "output_type": "execute_result"
    }
   ],
   "source": [
    "# Drop original categorical columns\n",
    "mamm_concat_df = mamm_concat_df.drop(columns=[\"Shape\", \"Margin\"])\n",
    "mamm_concat_df.head()"
   ]
  },
  {
   "cell_type": "markdown",
   "id": "07382a17-02ea-47e8-a5e8-a0db59aee8ef",
   "metadata": {},
   "source": [
    "Reason: To one hot encode the categorical variables."
   ]
  },
  {
   "cell_type": "markdown",
   "id": "55f26a6e-8054-4d1f-ac9e-38f7cdaabda6",
   "metadata": {},
   "source": [
    "Conclusion: One hot encoded the categorical variables and displayed the first few rows of the DataFrame."
   ]
  },
  {
   "cell_type": "markdown",
   "id": "0bdda276",
   "metadata": {},
   "source": [
    "## End of Data Preparation on the Mammographic Masses Dataset (Mamm)"
   ]
  },
  {
   "cell_type": "markdown",
   "id": "085acda4",
   "metadata": {},
   "source": [
    "\n",
    "\n",
    "## Feature Selection on the Indian  Liver Patient Dataset (ILPD)\n",
    "Feature selection is a process of removing features that are redundant and that could lead to overfitting, singular matrices, and other problems associated with high cardinality (Curse of dimensionality:  https://en.wikipedia.org/wiki/Curse_of_dimensionality)"
   ]
  },
  {
   "cell_type": "markdown",
   "id": "5c4c748d",
   "metadata": {},
   "source": [
    "### Acquire Data\n",
    "\n",
    "We will get our data from the University of California, Irvine Machine Learning Repository. Our dataset was used to determine if blood test data could be sufficient to identify liver disease in rural areas with few physicians."
   ]
  },
  {
   "cell_type": "code",
   "execution_count": 26,
   "id": "2e52f52c",
   "metadata": {},
   "outputs": [
    {
     "data": {
      "text/html": [
       "<div>\n",
       "<style scoped>\n",
       "    .dataframe tbody tr th:only-of-type {\n",
       "        vertical-align: middle;\n",
       "    }\n",
       "\n",
       "    .dataframe tbody tr th {\n",
       "        vertical-align: top;\n",
       "    }\n",
       "\n",
       "    .dataframe thead th {\n",
       "        text-align: right;\n",
       "    }\n",
       "</style>\n",
       "<table border=\"1\" class=\"dataframe\">\n",
       "  <thead>\n",
       "    <tr style=\"text-align: right;\">\n",
       "      <th></th>\n",
       "      <th>Age</th>\n",
       "      <th>Gender</th>\n",
       "      <th>DB</th>\n",
       "      <th>TB</th>\n",
       "      <th>Alkphos</th>\n",
       "      <th>Sgpt</th>\n",
       "      <th>Sgot</th>\n",
       "      <th>TPr</th>\n",
       "      <th>ALB</th>\n",
       "      <th>AGRatio</th>\n",
       "      <th>Selector</th>\n",
       "    </tr>\n",
       "  </thead>\n",
       "  <tbody>\n",
       "    <tr>\n",
       "      <th>0</th>\n",
       "      <td>65</td>\n",
       "      <td>Female</td>\n",
       "      <td>0.7</td>\n",
       "      <td>0.1</td>\n",
       "      <td>187</td>\n",
       "      <td>16</td>\n",
       "      <td>18</td>\n",
       "      <td>6.8</td>\n",
       "      <td>3.3</td>\n",
       "      <td>0.90</td>\n",
       "      <td>1</td>\n",
       "    </tr>\n",
       "    <tr>\n",
       "      <th>1</th>\n",
       "      <td>62</td>\n",
       "      <td>Male</td>\n",
       "      <td>10.9</td>\n",
       "      <td>5.5</td>\n",
       "      <td>699</td>\n",
       "      <td>64</td>\n",
       "      <td>100</td>\n",
       "      <td>7.5</td>\n",
       "      <td>3.2</td>\n",
       "      <td>0.74</td>\n",
       "      <td>1</td>\n",
       "    </tr>\n",
       "    <tr>\n",
       "      <th>2</th>\n",
       "      <td>62</td>\n",
       "      <td>Male</td>\n",
       "      <td>7.3</td>\n",
       "      <td>4.1</td>\n",
       "      <td>490</td>\n",
       "      <td>60</td>\n",
       "      <td>68</td>\n",
       "      <td>7.0</td>\n",
       "      <td>3.3</td>\n",
       "      <td>0.89</td>\n",
       "      <td>1</td>\n",
       "    </tr>\n",
       "    <tr>\n",
       "      <th>3</th>\n",
       "      <td>58</td>\n",
       "      <td>Male</td>\n",
       "      <td>1.0</td>\n",
       "      <td>0.4</td>\n",
       "      <td>182</td>\n",
       "      <td>14</td>\n",
       "      <td>20</td>\n",
       "      <td>6.8</td>\n",
       "      <td>3.4</td>\n",
       "      <td>1.00</td>\n",
       "      <td>1</td>\n",
       "    </tr>\n",
       "    <tr>\n",
       "      <th>4</th>\n",
       "      <td>72</td>\n",
       "      <td>Male</td>\n",
       "      <td>3.9</td>\n",
       "      <td>2.0</td>\n",
       "      <td>195</td>\n",
       "      <td>27</td>\n",
       "      <td>59</td>\n",
       "      <td>7.3</td>\n",
       "      <td>2.4</td>\n",
       "      <td>0.40</td>\n",
       "      <td>1</td>\n",
       "    </tr>\n",
       "    <tr>\n",
       "      <th>...</th>\n",
       "      <td>...</td>\n",
       "      <td>...</td>\n",
       "      <td>...</td>\n",
       "      <td>...</td>\n",
       "      <td>...</td>\n",
       "      <td>...</td>\n",
       "      <td>...</td>\n",
       "      <td>...</td>\n",
       "      <td>...</td>\n",
       "      <td>...</td>\n",
       "      <td>...</td>\n",
       "    </tr>\n",
       "    <tr>\n",
       "      <th>578</th>\n",
       "      <td>60</td>\n",
       "      <td>Male</td>\n",
       "      <td>0.5</td>\n",
       "      <td>0.1</td>\n",
       "      <td>500</td>\n",
       "      <td>20</td>\n",
       "      <td>34</td>\n",
       "      <td>5.9</td>\n",
       "      <td>1.6</td>\n",
       "      <td>0.37</td>\n",
       "      <td>2</td>\n",
       "    </tr>\n",
       "    <tr>\n",
       "      <th>579</th>\n",
       "      <td>40</td>\n",
       "      <td>Male</td>\n",
       "      <td>0.6</td>\n",
       "      <td>0.1</td>\n",
       "      <td>98</td>\n",
       "      <td>35</td>\n",
       "      <td>31</td>\n",
       "      <td>6.0</td>\n",
       "      <td>3.2</td>\n",
       "      <td>1.10</td>\n",
       "      <td>1</td>\n",
       "    </tr>\n",
       "    <tr>\n",
       "      <th>580</th>\n",
       "      <td>52</td>\n",
       "      <td>Male</td>\n",
       "      <td>0.8</td>\n",
       "      <td>0.2</td>\n",
       "      <td>245</td>\n",
       "      <td>48</td>\n",
       "      <td>49</td>\n",
       "      <td>6.4</td>\n",
       "      <td>3.2</td>\n",
       "      <td>1.00</td>\n",
       "      <td>1</td>\n",
       "    </tr>\n",
       "    <tr>\n",
       "      <th>581</th>\n",
       "      <td>31</td>\n",
       "      <td>Male</td>\n",
       "      <td>1.3</td>\n",
       "      <td>0.5</td>\n",
       "      <td>184</td>\n",
       "      <td>29</td>\n",
       "      <td>32</td>\n",
       "      <td>6.8</td>\n",
       "      <td>3.4</td>\n",
       "      <td>1.00</td>\n",
       "      <td>1</td>\n",
       "    </tr>\n",
       "    <tr>\n",
       "      <th>582</th>\n",
       "      <td>38</td>\n",
       "      <td>Male</td>\n",
       "      <td>1.0</td>\n",
       "      <td>0.3</td>\n",
       "      <td>216</td>\n",
       "      <td>21</td>\n",
       "      <td>24</td>\n",
       "      <td>7.3</td>\n",
       "      <td>4.4</td>\n",
       "      <td>1.50</td>\n",
       "      <td>2</td>\n",
       "    </tr>\n",
       "  </tbody>\n",
       "</table>\n",
       "<p>583 rows × 11 columns</p>\n",
       "</div>"
      ],
      "text/plain": [
       "     Age  Gender    DB   TB  Alkphos  Sgpt  Sgot  TPr  ALB  AGRatio  Selector\n",
       "0     65  Female   0.7  0.1      187    16    18  6.8  3.3     0.90         1\n",
       "1     62    Male  10.9  5.5      699    64   100  7.5  3.2     0.74         1\n",
       "2     62    Male   7.3  4.1      490    60    68  7.0  3.3     0.89         1\n",
       "3     58    Male   1.0  0.4      182    14    20  6.8  3.4     1.00         1\n",
       "4     72    Male   3.9  2.0      195    27    59  7.3  2.4     0.40         1\n",
       "..   ...     ...   ...  ...      ...   ...   ...  ...  ...      ...       ...\n",
       "578   60    Male   0.5  0.1      500    20    34  5.9  1.6     0.37         2\n",
       "579   40    Male   0.6  0.1       98    35    31  6.0  3.2     1.10         1\n",
       "580   52    Male   0.8  0.2      245    48    49  6.4  3.2     1.00         1\n",
       "581   31    Male   1.3  0.5      184    29    32  6.8  3.4     1.00         1\n",
       "582   38    Male   1.0  0.3      216    21    24  7.3  4.4     1.50         2\n",
       "\n",
       "[583 rows x 11 columns]"
      ]
     },
     "execution_count": 26,
     "metadata": {},
     "output_type": "execute_result"
    }
   ],
   "source": [
    "# csv file:\n",
    "#url = \"../data/Indian Liver Patient Dataset (ILPD).csv\"\n",
    "# Alternate data source:\n",
    "#url = \"http://archive.ics.uci.edu/ml/machine-learning-databases/00225/Indian Liver Patient Dataset (ILPD).csv\"\n",
    "#url = url.replace(\" \", \"%20\")\n",
    "\n",
    "# Download the data\n",
    "ILPD = pd.read_csv(\"Indian Liver Patient Dataset (ILPD).csv\", header=None)\n",
    "\n",
    "# Replace the default column names (0, 1, 2, 3, 4, 5) with meaningful names\n",
    "ILPD.columns = [\"Age\",\"Gender\",\"DB\",\"TB\",\"Alkphos\",\"Sgpt\",\"Sgot\",\"TPr\",\"ALB\",\"AGRatio\",\"Selector\"]\n",
    "\n",
    "ILPD"
   ]
  },
  {
   "cell_type": "markdown",
   "id": "3f483ac1",
   "metadata": {},
   "source": [
    "### Data Preparation for ILPD\n",
    "- All columns should be numeric and continuous\n",
    "    - Remove binary columns (numeric and categorical) because their mutual information scores will be lower\n",
    "    - Remove any categorical columns\n",
    "- Remove or impute any missing values\n",
    "\n",
    "<span style=\"color:red\" float:right>[1 point]</span>"
   ]
  },
  {
   "cell_type": "code",
   "execution_count": 27,
   "id": "33058db0-3bed-4e14-9041-9e35c99bd297",
   "metadata": {},
   "outputs": [
    {
     "data": {
      "text/plain": [
       "Male      441\n",
       "Female    142\n",
       "Name: Gender, dtype: int64"
      ]
     },
     "metadata": {},
     "output_type": "display_data"
    },
    {
     "data": {
      "text/plain": [
       "1    416\n",
       "2    167\n",
       "Name: Selector, dtype: int64"
      ]
     },
     "metadata": {},
     "output_type": "display_data"
    }
   ],
   "source": [
    "# Investigate value counts of binary columns\n",
    "display(ILPD[\"Gender\"].value_counts())\n",
    "display(ILPD[\"Selector\"].value_counts())"
   ]
  },
  {
   "cell_type": "code",
   "execution_count": 28,
   "id": "8b24d8f5",
   "metadata": {},
   "outputs": [
    {
     "data": {
      "text/html": [
       "<div>\n",
       "<style scoped>\n",
       "    .dataframe tbody tr th:only-of-type {\n",
       "        vertical-align: middle;\n",
       "    }\n",
       "\n",
       "    .dataframe tbody tr th {\n",
       "        vertical-align: top;\n",
       "    }\n",
       "\n",
       "    .dataframe thead th {\n",
       "        text-align: right;\n",
       "    }\n",
       "</style>\n",
       "<table border=\"1\" class=\"dataframe\">\n",
       "  <thead>\n",
       "    <tr style=\"text-align: right;\">\n",
       "      <th></th>\n",
       "      <th>DB</th>\n",
       "      <th>TB</th>\n",
       "      <th>Alkphos</th>\n",
       "      <th>Sgpt</th>\n",
       "      <th>Sgot</th>\n",
       "      <th>TPr</th>\n",
       "      <th>ALB</th>\n",
       "      <th>AGRatio</th>\n",
       "    </tr>\n",
       "  </thead>\n",
       "  <tbody>\n",
       "    <tr>\n",
       "      <th>0</th>\n",
       "      <td>0.7</td>\n",
       "      <td>0.1</td>\n",
       "      <td>187</td>\n",
       "      <td>16</td>\n",
       "      <td>18</td>\n",
       "      <td>6.8</td>\n",
       "      <td>3.3</td>\n",
       "      <td>0.90</td>\n",
       "    </tr>\n",
       "    <tr>\n",
       "      <th>1</th>\n",
       "      <td>10.9</td>\n",
       "      <td>5.5</td>\n",
       "      <td>699</td>\n",
       "      <td>64</td>\n",
       "      <td>100</td>\n",
       "      <td>7.5</td>\n",
       "      <td>3.2</td>\n",
       "      <td>0.74</td>\n",
       "    </tr>\n",
       "    <tr>\n",
       "      <th>2</th>\n",
       "      <td>7.3</td>\n",
       "      <td>4.1</td>\n",
       "      <td>490</td>\n",
       "      <td>60</td>\n",
       "      <td>68</td>\n",
       "      <td>7.0</td>\n",
       "      <td>3.3</td>\n",
       "      <td>0.89</td>\n",
       "    </tr>\n",
       "    <tr>\n",
       "      <th>3</th>\n",
       "      <td>1.0</td>\n",
       "      <td>0.4</td>\n",
       "      <td>182</td>\n",
       "      <td>14</td>\n",
       "      <td>20</td>\n",
       "      <td>6.8</td>\n",
       "      <td>3.4</td>\n",
       "      <td>1.00</td>\n",
       "    </tr>\n",
       "    <tr>\n",
       "      <th>4</th>\n",
       "      <td>3.9</td>\n",
       "      <td>2.0</td>\n",
       "      <td>195</td>\n",
       "      <td>27</td>\n",
       "      <td>59</td>\n",
       "      <td>7.3</td>\n",
       "      <td>2.4</td>\n",
       "      <td>0.40</td>\n",
       "    </tr>\n",
       "  </tbody>\n",
       "</table>\n",
       "</div>"
      ],
      "text/plain": [
       "     DB   TB  Alkphos  Sgpt  Sgot  TPr  ALB  AGRatio\n",
       "0   0.7  0.1      187    16    18  6.8  3.3     0.90\n",
       "1  10.9  5.5      699    64   100  7.5  3.2     0.74\n",
       "2   7.3  4.1      490    60    68  7.0  3.3     0.89\n",
       "3   1.0  0.4      182    14    20  6.8  3.4     1.00\n",
       "4   3.9  2.0      195    27    59  7.3  2.4     0.40"
      ]
     },
     "execution_count": 28,
     "metadata": {},
     "output_type": "execute_result"
    }
   ],
   "source": [
    "# Drop Binary & Categorical Columns\n",
    "ILPD = ILPD.drop(columns=[\"Gender\", \"Selector\", \"Age\"])\n",
    "ILPD.head()"
   ]
  },
  {
   "cell_type": "markdown",
   "id": "8c1fcae5-4618-4f58-b2a9-8393db377835",
   "metadata": {},
   "source": [
    "Eliminated age, gender, and selector columns because they were irrelevant for comparing continuous numeric data. "
   ]
  },
  {
   "cell_type": "code",
   "execution_count": 29,
   "id": "34e7c336-e712-4bce-bfce-c8e9935566b4",
   "metadata": {},
   "outputs": [
    {
     "data": {
      "text/plain": [
       "DB         0\n",
       "TB         0\n",
       "Alkphos    0\n",
       "Sgpt       0\n",
       "Sgot       0\n",
       "TPr        0\n",
       "ALB        0\n",
       "AGRatio    4\n",
       "dtype: int64"
      ]
     },
     "execution_count": 29,
     "metadata": {},
     "output_type": "execute_result"
    }
   ],
   "source": [
    "# Check for nulls\n",
    "ILPD.isnull().sum()"
   ]
  },
  {
   "cell_type": "code",
   "execution_count": 30,
   "id": "d415b89c-8a65-4540-bfd1-86cd4602acdb",
   "metadata": {},
   "outputs": [
    {
     "data": {
      "text/plain": [
       "0    0.90\n",
       "1    0.74\n",
       "2    0.89\n",
       "3    1.00\n",
       "4    0.40\n",
       "Name: AGRatio, dtype: float64"
      ]
     },
     "metadata": {},
     "output_type": "display_data"
    },
    {
     "data": {
      "text/plain": [
       "DB         0\n",
       "TB         0\n",
       "Alkphos    0\n",
       "Sgpt       0\n",
       "Sgot       0\n",
       "TPr        0\n",
       "ALB        0\n",
       "AGRatio    0\n",
       "dtype: int64"
      ]
     },
     "metadata": {},
     "output_type": "display_data"
    }
   ],
   "source": [
    "# Impute the NaNs for the AGRatio\n",
    "agr_median = np.nanmedian(ILPD[\"AGRatio\"])\n",
    "\n",
    "# Fill NaNs within the AGRatio column with median\n",
    "ILPD.loc[pd.isnull(ILPD.loc[:, \"AGRatio\"]), \"AGRatio\"] = agr_median\n",
    "display(ILPD[\"AGRatio\"][:5])\n",
    "display(ILPD.isnull().sum())"
   ]
  },
  {
   "cell_type": "markdown",
   "id": "653a10d0-98ac-4f71-a8af-a33f945d6b50",
   "metadata": {},
   "source": [
    "Reason: To prepare data for ILPD."
   ]
  },
  {
   "cell_type": "markdown",
   "id": "7db8f419-a1ea-446e-b652-4475e3c2a09d",
   "metadata": {},
   "source": [
    "Conclusion: DataFrame is cleaned and no longer has NaNs."
   ]
  },
  {
   "cell_type": "markdown",
   "id": "86e49738",
   "metadata": {},
   "source": [
    "### Mutual Information\n",
    "https://en.wikipedia.org/wiki/Mutual_information\n",
    "Below is a wrapper for determining the mutual information between two continuous (numeric) variables"
   ]
  },
  {
   "cell_type": "code",
   "execution_count": 31,
   "id": "a0a181dd",
   "metadata": {},
   "outputs": [],
   "source": [
    "# x is the first input variable\n",
    "# y is the second input variable\n",
    "# bins is the number of discretized values that will be used for the two input variables\n",
    "def calc_MI(x, y, bins=80):\n",
    "    if (bins > 1):\n",
    "        c_xy = np.histogram2d(x, y, bins)[0]\n",
    "        mi = mutual_info_score(None, None, contingency = c_xy)\n",
    "    else:\n",
    "        mi = mutual_info_score(x, y)\n",
    "    return mi"
   ]
  },
  {
   "cell_type": "code",
   "execution_count": 32,
   "id": "31f43bf3-c092-4013-ac5d-ed510c1fe990",
   "metadata": {},
   "outputs": [
    {
     "data": {
      "text/plain": [
       "0.33394396951202393"
      ]
     },
     "metadata": {},
     "output_type": "display_data"
    },
    {
     "name": "stdout",
     "output_type": "stream",
     "text": [
      "Sgot\n"
     ]
    }
   ],
   "source": [
    "# Test mi function\n",
    "display(calc_MI(ILPD[\"Sgot\"], ILPD[\"TPr\"]))\n",
    "print(ILPD[\"Sgot\"].name)"
   ]
  },
  {
   "cell_type": "markdown",
   "id": "d999c8c2",
   "metadata": {},
   "source": [
    "### Create method to list  all column pairs together with their mutual information score\n",
    "Write a method called `listMutualInformationScores`.  It uses the above method (`calc_MI`) in a loop to find the mutual information between all possible pairs of coulmns in the data.  The input to the function is the dataframe of continuous variables, specifically the prepared ILPD dataset.  \n",
    "\n",
    "The method returns a list of lists.  Each inner list contains three items:  the x-column, the y-column, and the mutual information score. The list of lists contains every possible pair of coulmns in the data.  The result should have a form similar to the following, except that the outer list is much longer and contains all possible column pairs:  \n",
    "`[['Alkphos', 'Sgot', 0.33],\n",
    "['Sgot', 'AGRatio', 0.23],\n",
    "['Age', 'Sgot', 0.35],\n",
    "['Sgpt', 'AGRatio', 0.30],\n",
    "['Sgot', 'ALB', 0.29],\n",
    "['Sgot', 'TPr', 0.33]]`\n",
    "\n",
    "<span style=\"color:red\" float:right>[3 point]</span>"
   ]
  },
  {
   "cell_type": "markdown",
   "id": "cb2ae88d",
   "metadata": {},
   "source": [
    "### Present the mutual information results\n",
    "- Package the output into a dataframe\n",
    "- Sort the rows in descending order of mutual information\n",
    "- Present the dataframe\n",
    "\n",
    "The first column could be x, the second column could be called y and the third column could be called mi.  x and y are the pair of columns pair and mi is the pair's mutual information score.  The result should have a form similar to the following:\n",
    "\n",
    "| x | y | mi |\n",
    "| --- | --- | --- |\n",
    "| Age | Sgot | 0.35 |\n",
    "| Sgot | TPr | 0.33 |\n",
    "| Alkphos | Sgot | 0.33 |\n",
    "| Sgpt | AGRatio | 0.30 |\n",
    "| Sgot | ALB | 0.29 |\n",
    "| Sgot | AGRatio | 0.23 |\n",
    "\n",
    "<span style=\"color:red\" float:right>[1 point]</span>"
   ]
  },
  {
   "cell_type": "code",
   "execution_count": 35,
   "id": "fd788cc0-fa63-48a3-bf0d-d8319b856812",
   "metadata": {},
   "outputs": [
    {
     "data": {
      "text/html": [
       "<div>\n",
       "<style scoped>\n",
       "    .dataframe tbody tr th:only-of-type {\n",
       "        vertical-align: middle;\n",
       "    }\n",
       "\n",
       "    .dataframe tbody tr th {\n",
       "        vertical-align: top;\n",
       "    }\n",
       "\n",
       "    .dataframe thead th {\n",
       "        text-align: right;\n",
       "    }\n",
       "</style>\n",
       "<table border=\"1\" class=\"dataframe\">\n",
       "  <thead>\n",
       "    <tr style=\"text-align: right;\">\n",
       "      <th></th>\n",
       "      <th>x</th>\n",
       "      <th>y</th>\n",
       "      <th>mfi</th>\n",
       "    </tr>\n",
       "  </thead>\n",
       "  <tbody>\n",
       "    <tr>\n",
       "      <th>0</th>\n",
       "      <td>DB</td>\n",
       "      <td>TB</td>\n",
       "      <td>1.400968</td>\n",
       "    </tr>\n",
       "    <tr>\n",
       "      <th>1</th>\n",
       "      <td>DB</td>\n",
       "      <td>Alkphos</td>\n",
       "      <td>0.515721</td>\n",
       "    </tr>\n",
       "    <tr>\n",
       "      <th>2</th>\n",
       "      <td>DB</td>\n",
       "      <td>Sgpt</td>\n",
       "      <td>0.405067</td>\n",
       "    </tr>\n",
       "    <tr>\n",
       "      <th>3</th>\n",
       "      <td>DB</td>\n",
       "      <td>Sgot</td>\n",
       "      <td>0.350626</td>\n",
       "    </tr>\n",
       "    <tr>\n",
       "      <th>4</th>\n",
       "      <td>DB</td>\n",
       "      <td>TPr</td>\n",
       "      <td>0.539092</td>\n",
       "    </tr>\n",
       "  </tbody>\n",
       "</table>\n",
       "</div>"
      ],
      "text/plain": [
       "    x        y       mfi\n",
       "0  DB       TB  1.400968\n",
       "1  DB  Alkphos  0.515721\n",
       "2  DB     Sgpt  0.405067\n",
       "3  DB     Sgot  0.350626\n",
       "4  DB      TPr  0.539092"
      ]
     },
     "metadata": {},
     "output_type": "display_data"
    },
    {
     "data": {
      "text/plain": [
       "(28, 3)"
      ]
     },
     "metadata": {},
     "output_type": "display_data"
    }
   ],
   "source": [
    "# Import a tool to create combinations\n",
    "import itertools\n",
    "\n",
    "# Define the method listMutualInformationScores\n",
    "def listMutualInformationScores(df):\n",
    "    mfi_list = []\n",
    "    for x, y in itertools.combinations(df.columns, 2):\n",
    "        mfi = calc_MI(df[x], df[y])\n",
    "        mfi_list.append([x, y, mfi])\n",
    "    return mfi_list\n",
    "\n",
    "# Loop through the entire DataFrame\n",
    "mfi_list = listMutualInformationScores(ILPD)\n",
    "\n",
    "# Create DataFrame from nested lists of x, y, and mfi\n",
    "mfi_df = pd.DataFrame(mfi_list, columns=['x', 'y', 'mfi'])\n",
    "\n",
    "# Show the DataFrame head\n",
    "display(mfi_df.head())\n",
    "display(mfi_df.shape)"
   ]
  },
  {
   "cell_type": "code",
   "execution_count": null,
   "id": "d1d33c00-0907-4d13-a230-0dc5550fad54",
   "metadata": {},
   "outputs": [],
   "source": [
    "Reason: To present the mutual information results."
   ]
  },
  {
   "cell_type": "markdown",
   "id": "c8ceaf39-201c-4c54-ae05-a1add510e2c9",
   "metadata": {
    "jp-MarkdownHeadingCollapsed": true,
    "tags": []
   },
   "source": [
    "Conclusion: Started by comparing two columns that were hard coded. From there, moved into a for loop to pull out each column pair, calculating the MI score, adding the names of the columns and the scores, into a nested list subsequently creating a dataframe. "
   ]
  },
  {
   "cell_type": "markdown",
   "id": "c9a86361",
   "metadata": {},
   "source": [
    "### Discussion on Mutual Information in ILPD\n",
    "Lets assume a threshold of 1 for the mutual information score\n",
    "Which columns would you eliminate? Why?  To answer these questions, you may need to read-up on feature selection with mutual information score.\n",
    "\n",
    "<span style=\"color:red\" float:right>[1 point]</span>"
   ]
  },
  {
   "cell_type": "code",
   "execution_count": 36,
   "id": "c7e8fe22-1290-4d8e-8cfd-6fb2bb0c19c1",
   "metadata": {},
   "outputs": [
    {
     "data": {
      "text/html": [
       "<div>\n",
       "<style scoped>\n",
       "    .dataframe tbody tr th:only-of-type {\n",
       "        vertical-align: middle;\n",
       "    }\n",
       "\n",
       "    .dataframe tbody tr th {\n",
       "        vertical-align: top;\n",
       "    }\n",
       "\n",
       "    .dataframe thead th {\n",
       "        text-align: right;\n",
       "    }\n",
       "</style>\n",
       "<table border=\"1\" class=\"dataframe\">\n",
       "  <thead>\n",
       "    <tr style=\"text-align: right;\">\n",
       "      <th></th>\n",
       "      <th>x</th>\n",
       "      <th>y</th>\n",
       "      <th>mfi</th>\n",
       "    </tr>\n",
       "  </thead>\n",
       "  <tbody>\n",
       "    <tr>\n",
       "      <th>0</th>\n",
       "      <td>DB</td>\n",
       "      <td>TB</td>\n",
       "      <td>1.400968</td>\n",
       "    </tr>\n",
       "    <tr>\n",
       "      <th>25</th>\n",
       "      <td>TPr</td>\n",
       "      <td>ALB</td>\n",
       "      <td>1.372006</td>\n",
       "    </tr>\n",
       "    <tr>\n",
       "      <th>27</th>\n",
       "      <td>ALB</td>\n",
       "      <td>AGRatio</td>\n",
       "      <td>1.002026</td>\n",
       "    </tr>\n",
       "  </tbody>\n",
       "</table>\n",
       "</div>"
      ],
      "text/plain": [
       "      x        y       mfi\n",
       "0    DB       TB  1.400968\n",
       "25  TPr      ALB  1.372006\n",
       "27  ALB  AGRatio  1.002026"
      ]
     },
     "execution_count": 36,
     "metadata": {},
     "output_type": "execute_result"
    }
   ],
   "source": [
    "# Select only values greater than 1\n",
    "mfi_greater_one_df = mfi_df.loc[mfi_df[\"mfi\"] >=1]\n",
    "mfi_greater_one_df"
   ]
  },
  {
   "cell_type": "markdown",
   "id": "fe07792d",
   "metadata": {},
   "source": [
    "Add discussion here "
   ]
  },
  {
   "cell_type": "markdown",
   "id": "93047483-0c3d-4a1e-a6c0-be5695231a7f",
   "metadata": {},
   "source": [
    "Reason: To discuss Mutual Information in ILPD"
   ]
  },
  {
   "cell_type": "markdown",
   "id": "fd8c9910-7f5a-41e1-80eb-cd6c57a4b54f",
   "metadata": {},
   "source": [
    "Conclusion: The mutual information score shows how much information we can obtain from one random variable using another. The threshold value of 1 for mutual information score shows we are looking for pairs that have a strong association. An MI of 0 means that the two variables are independent. MI is on a log scale so it is rare to find values above 2. However, if we use a threshold value of 1 we can eliminate variables that are only weakly associated. I feel there are only 3 combinations of highly associated pairs which could then be used to further simplify the features, making it less compute heavy when creating a prediction algorithm. Due to the strength of the association between pairs, a column could be eliminated from each pair that the other column could be used to predict the eliminated one. "
   ]
  }
 ],
 "metadata": {
  "kernelspec": {
   "display_name": "Python 3 (ipykernel)",
   "language": "python",
   "name": "python3"
  },
  "language_info": {
   "codemirror_mode": {
    "name": "ipython",
    "version": 3
   },
   "file_extension": ".py",
   "mimetype": "text/x-python",
   "name": "python",
   "nbconvert_exporter": "python",
   "pygments_lexer": "ipython3",
   "version": "3.9.7"
  }
 },
 "nbformat": 4,
 "nbformat_minor": 5
}
