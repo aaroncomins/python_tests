{
 "cells": [
  {
   "cell_type": "markdown",
   "metadata": {},
   "source": [
    "# Lesson 06 Assignment\n",
    "\n",
    "In this assignment, we want to read the `retail-churn.csv` dataset that we examined in a previous assignment and begin to pre-process it. The goal of the assignment is to become familiar with some common pre-processing and feature engineering steps by implementing them."
   ]
  },
  {
   "cell_type": "code",
   "execution_count": 1,
   "metadata": {},
   "outputs": [
    {
     "name": "stdout",
     "output_type": "stream",
     "text": [
      "Requirement already satisfied: pandas in /opt/conda/lib/python3.9/site-packages (1.3.4)\n",
      "Requirement already satisfied: python-dateutil>=2.7.3 in /opt/conda/lib/python3.9/site-packages (from pandas) (2.8.2)\n",
      "Requirement already satisfied: pytz>=2017.3 in /opt/conda/lib/python3.9/site-packages (from pandas) (2021.3)\n",
      "Requirement already satisfied: numpy>=1.17.3 in /opt/conda/lib/python3.9/site-packages (from pandas) (1.20.3)\n",
      "Requirement already satisfied: six>=1.5 in /opt/conda/lib/python3.9/site-packages (from python-dateutil>=2.7.3->pandas) (1.16.0)\n",
      "Note: you may need to restart the kernel to use updated packages.\n"
     ]
    }
   ],
   "source": [
    "pip install pandas"
   ]
  },
  {
   "cell_type": "code",
   "execution_count": 2,
   "metadata": {},
   "outputs": [],
   "source": [
    "import pandas as pd\n",
    "import numpy as np\n",
    "import matplotlib.pyplot as plt\n",
    "%matplotlib inline\n",
    "\n",
    "col_names = ['user_id', 'gender', 'address', 'store_id', 'trans_id', 'timestamp', 'item_id', 'quantity', 'dollar']\n",
    "churn = pd.read_csv(\"retail-churn.csv\", sep = \",\", skiprows = 1, names = col_names)"
   ]
  },
  {
   "cell_type": "markdown",
   "metadata": {},
   "source": [
    "### Some basic EDA\n",
    "present the first few rows and use pandas' `describe` to get an overview of the data\n",
    "<br/>&nbsp;&nbsp;<span style=\"color:red\" float:right>[0 point]</span>"
   ]
  },
  {
   "cell_type": "code",
   "execution_count": 3,
   "metadata": {},
   "outputs": [
    {
     "data": {
      "text/html": [
       "<div>\n",
       "<style scoped>\n",
       "    .dataframe tbody tr th:only-of-type {\n",
       "        vertical-align: middle;\n",
       "    }\n",
       "\n",
       "    .dataframe tbody tr th {\n",
       "        vertical-align: top;\n",
       "    }\n",
       "\n",
       "    .dataframe thead th {\n",
       "        text-align: right;\n",
       "    }\n",
       "</style>\n",
       "<table border=\"1\" class=\"dataframe\">\n",
       "  <thead>\n",
       "    <tr style=\"text-align: right;\">\n",
       "      <th></th>\n",
       "      <th>user_id</th>\n",
       "      <th>gender</th>\n",
       "      <th>address</th>\n",
       "      <th>store_id</th>\n",
       "      <th>trans_id</th>\n",
       "      <th>timestamp</th>\n",
       "      <th>item_id</th>\n",
       "      <th>quantity</th>\n",
       "      <th>dollar</th>\n",
       "    </tr>\n",
       "  </thead>\n",
       "  <tbody>\n",
       "    <tr>\n",
       "      <th>0</th>\n",
       "      <td>101981</td>\n",
       "      <td>F</td>\n",
       "      <td>E</td>\n",
       "      <td>2860</td>\n",
       "      <td>818463</td>\n",
       "      <td>11/1/2000 0:00</td>\n",
       "      <td>4.710000e+12</td>\n",
       "      <td>1</td>\n",
       "      <td>37</td>\n",
       "    </tr>\n",
       "    <tr>\n",
       "      <th>1</th>\n",
       "      <td>101981</td>\n",
       "      <td>F</td>\n",
       "      <td>E</td>\n",
       "      <td>2861</td>\n",
       "      <td>818464</td>\n",
       "      <td>11/1/2000 0:00</td>\n",
       "      <td>4.710000e+12</td>\n",
       "      <td>1</td>\n",
       "      <td>17</td>\n",
       "    </tr>\n",
       "    <tr>\n",
       "      <th>2</th>\n",
       "      <td>101981</td>\n",
       "      <td>F</td>\n",
       "      <td>E</td>\n",
       "      <td>2862</td>\n",
       "      <td>818465</td>\n",
       "      <td>11/1/2000 0:00</td>\n",
       "      <td>4.710000e+12</td>\n",
       "      <td>1</td>\n",
       "      <td>23</td>\n",
       "    </tr>\n",
       "    <tr>\n",
       "      <th>3</th>\n",
       "      <td>101981</td>\n",
       "      <td>F</td>\n",
       "      <td>E</td>\n",
       "      <td>2863</td>\n",
       "      <td>818466</td>\n",
       "      <td>11/1/2000 0:00</td>\n",
       "      <td>4.710000e+12</td>\n",
       "      <td>1</td>\n",
       "      <td>41</td>\n",
       "    </tr>\n",
       "    <tr>\n",
       "      <th>4</th>\n",
       "      <td>101981</td>\n",
       "      <td>F</td>\n",
       "      <td>E</td>\n",
       "      <td>2864</td>\n",
       "      <td>818467</td>\n",
       "      <td>11/1/2000 0:00</td>\n",
       "      <td>4.710000e+12</td>\n",
       "      <td>8</td>\n",
       "      <td>288</td>\n",
       "    </tr>\n",
       "  </tbody>\n",
       "</table>\n",
       "</div>"
      ],
      "text/plain": [
       "   user_id gender address  store_id  trans_id       timestamp       item_id  \\\n",
       "0   101981      F       E      2860    818463  11/1/2000 0:00  4.710000e+12   \n",
       "1   101981      F       E      2861    818464  11/1/2000 0:00  4.710000e+12   \n",
       "2   101981      F       E      2862    818465  11/1/2000 0:00  4.710000e+12   \n",
       "3   101981      F       E      2863    818466  11/1/2000 0:00  4.710000e+12   \n",
       "4   101981      F       E      2864    818467  11/1/2000 0:00  4.710000e+12   \n",
       "\n",
       "   quantity  dollar  \n",
       "0         1      37  \n",
       "1         1      17  \n",
       "2         1      23  \n",
       "3         1      41  \n",
       "4         8     288  "
      ]
     },
     "execution_count": 3,
     "metadata": {},
     "output_type": "execute_result"
    }
   ],
   "source": [
    "churn.head()"
   ]
  },
  {
   "cell_type": "code",
   "execution_count": 4,
   "metadata": {},
   "outputs": [
    {
     "data": {
      "text/html": [
       "<div>\n",
       "<style scoped>\n",
       "    .dataframe tbody tr th:only-of-type {\n",
       "        vertical-align: middle;\n",
       "    }\n",
       "\n",
       "    .dataframe tbody tr th {\n",
       "        vertical-align: top;\n",
       "    }\n",
       "\n",
       "    .dataframe thead th {\n",
       "        text-align: right;\n",
       "    }\n",
       "</style>\n",
       "<table border=\"1\" class=\"dataframe\">\n",
       "  <thead>\n",
       "    <tr style=\"text-align: right;\">\n",
       "      <th></th>\n",
       "      <th>user_id</th>\n",
       "      <th>store_id</th>\n",
       "      <th>trans_id</th>\n",
       "      <th>item_id</th>\n",
       "      <th>quantity</th>\n",
       "      <th>dollar</th>\n",
       "    </tr>\n",
       "  </thead>\n",
       "  <tbody>\n",
       "    <tr>\n",
       "      <th>count</th>\n",
       "      <td>2.522040e+05</td>\n",
       "      <td>252204.000000</td>\n",
       "      <td>2.522040e+05</td>\n",
       "      <td>2.522040e+05</td>\n",
       "      <td>252204.000000</td>\n",
       "      <td>252204.000000</td>\n",
       "    </tr>\n",
       "    <tr>\n",
       "      <th>mean</th>\n",
       "      <td>1.395660e+06</td>\n",
       "      <td>126101.500000</td>\n",
       "      <td>1.229771e+06</td>\n",
       "      <td>4.467833e+12</td>\n",
       "      <td>1.385692</td>\n",
       "      <td>130.911389</td>\n",
       "    </tr>\n",
       "    <tr>\n",
       "      <th>std</th>\n",
       "      <td>6.094769e+05</td>\n",
       "      <td>72805.167983</td>\n",
       "      <td>2.350992e+05</td>\n",
       "      <td>1.679512e+12</td>\n",
       "      <td>3.705732</td>\n",
       "      <td>388.142169</td>\n",
       "    </tr>\n",
       "    <tr>\n",
       "      <th>min</th>\n",
       "      <td>1.113000e+03</td>\n",
       "      <td>0.000000</td>\n",
       "      <td>8.177470e+05</td>\n",
       "      <td>2.000882e+07</td>\n",
       "      <td>1.000000</td>\n",
       "      <td>1.000000</td>\n",
       "    </tr>\n",
       "    <tr>\n",
       "      <th>25%</th>\n",
       "      <td>9.937150e+05</td>\n",
       "      <td>63050.750000</td>\n",
       "      <td>1.025926e+06</td>\n",
       "      <td>4.710000e+12</td>\n",
       "      <td>1.000000</td>\n",
       "      <td>42.000000</td>\n",
       "    </tr>\n",
       "    <tr>\n",
       "      <th>50%</th>\n",
       "      <td>1.586046e+06</td>\n",
       "      <td>126101.500000</td>\n",
       "      <td>1.233476e+06</td>\n",
       "      <td>4.710000e+12</td>\n",
       "      <td>1.000000</td>\n",
       "      <td>76.000000</td>\n",
       "    </tr>\n",
       "    <tr>\n",
       "      <th>75%</th>\n",
       "      <td>1.862232e+06</td>\n",
       "      <td>189152.250000</td>\n",
       "      <td>1.433222e+06</td>\n",
       "      <td>4.710000e+12</td>\n",
       "      <td>1.000000</td>\n",
       "      <td>132.000000</td>\n",
       "    </tr>\n",
       "    <tr>\n",
       "      <th>max</th>\n",
       "      <td>2.179605e+06</td>\n",
       "      <td>252203.000000</td>\n",
       "      <td>1.635482e+06</td>\n",
       "      <td>9.790000e+12</td>\n",
       "      <td>1200.000000</td>\n",
       "      <td>70589.000000</td>\n",
       "    </tr>\n",
       "  </tbody>\n",
       "</table>\n",
       "</div>"
      ],
      "text/plain": [
       "            user_id       store_id      trans_id       item_id       quantity  \\\n",
       "count  2.522040e+05  252204.000000  2.522040e+05  2.522040e+05  252204.000000   \n",
       "mean   1.395660e+06  126101.500000  1.229771e+06  4.467833e+12       1.385692   \n",
       "std    6.094769e+05   72805.167983  2.350992e+05  1.679512e+12       3.705732   \n",
       "min    1.113000e+03       0.000000  8.177470e+05  2.000882e+07       1.000000   \n",
       "25%    9.937150e+05   63050.750000  1.025926e+06  4.710000e+12       1.000000   \n",
       "50%    1.586046e+06  126101.500000  1.233476e+06  4.710000e+12       1.000000   \n",
       "75%    1.862232e+06  189152.250000  1.433222e+06  4.710000e+12       1.000000   \n",
       "max    2.179605e+06  252203.000000  1.635482e+06  9.790000e+12    1200.000000   \n",
       "\n",
       "              dollar  \n",
       "count  252204.000000  \n",
       "mean      130.911389  \n",
       "std       388.142169  \n",
       "min         1.000000  \n",
       "25%        42.000000  \n",
       "50%        76.000000  \n",
       "75%       132.000000  \n",
       "max     70589.000000  "
      ]
     },
     "execution_count": 4,
     "metadata": {},
     "output_type": "execute_result"
    }
   ],
   "source": [
    "churn.describe()"
   ]
  },
  {
   "cell_type": "markdown",
   "metadata": {},
   "source": [
    "The new data frame will be called `churn_processed`, which stores the pre-processed columns as you run through each of the these steps. You will need to make sure your columns are properly named.\n",
    "\n",
    "1. Cast the `timestamp` column in churn into a column of type `datetime` and put the column into the `churn_processed` dataframe.  The new column should also be named `timestamp`.  Extract two new columns from `timestamp`: `dow` is the day of the week and `month` is the month of the year. Then drop the `timestamp` column from `churn_processed`.  Present the first few rows of `churn_processed`.\n",
    "<br/>&nbsp;&nbsp;<span style=\"color:red\" float:right>[2 point]</span>"
   ]
  },
  {
   "cell_type": "code",
   "execution_count": 37,
   "metadata": {},
   "outputs": [
    {
     "data": {
      "text/html": [
       "<div>\n",
       "<style scoped>\n",
       "    .dataframe tbody tr th:only-of-type {\n",
       "        vertical-align: middle;\n",
       "    }\n",
       "\n",
       "    .dataframe tbody tr th {\n",
       "        vertical-align: top;\n",
       "    }\n",
       "\n",
       "    .dataframe thead th {\n",
       "        text-align: right;\n",
       "    }\n",
       "</style>\n",
       "<table border=\"1\" class=\"dataframe\">\n",
       "  <thead>\n",
       "    <tr style=\"text-align: right;\">\n",
       "      <th></th>\n",
       "      <th>dow</th>\n",
       "      <th>month</th>\n",
       "    </tr>\n",
       "  </thead>\n",
       "  <tbody>\n",
       "    <tr>\n",
       "      <th>0</th>\n",
       "      <td>Wednesday</td>\n",
       "      <td>Nov</td>\n",
       "    </tr>\n",
       "    <tr>\n",
       "      <th>1</th>\n",
       "      <td>Wednesday</td>\n",
       "      <td>Nov</td>\n",
       "    </tr>\n",
       "    <tr>\n",
       "      <th>2</th>\n",
       "      <td>Wednesday</td>\n",
       "      <td>Nov</td>\n",
       "    </tr>\n",
       "    <tr>\n",
       "      <th>3</th>\n",
       "      <td>Wednesday</td>\n",
       "      <td>Nov</td>\n",
       "    </tr>\n",
       "    <tr>\n",
       "      <th>4</th>\n",
       "      <td>Wednesday</td>\n",
       "      <td>Nov</td>\n",
       "    </tr>\n",
       "  </tbody>\n",
       "</table>\n",
       "</div>"
      ],
      "text/plain": [
       "         dow month\n",
       "0  Wednesday   Nov\n",
       "1  Wednesday   Nov\n",
       "2  Wednesday   Nov\n",
       "3  Wednesday   Nov\n",
       "4  Wednesday   Nov"
      ]
     },
     "execution_count": 37,
     "metadata": {},
     "output_type": "execute_result"
    }
   ],
   "source": [
    "from datetime import datetime as dt\n",
    "\n",
    "# Create the new (empty) data frame, called churn_processed\n",
    "churn_processed = pd.DataFrame()\n",
    "\n",
    "# Cast timestamp to datetime\n",
    "churn['timestamp'] = churn['timestamp'].astype('datetime64')\n",
    "\n",
    "# Add timestamp to new dataframe (churn_processed)\n",
    "churn_processed = churn_processed.assign(timestamp=churn['timestamp'])\n",
    "\n",
    "# Create a dow column\n",
    "churn_processed['dow'] = churn['timestamp'].dt.strftime('%A')\n",
    "# churn_processed['dow'] = churn['timestamp'].dt.dayofweek\n",
    "\n",
    "# Create a month column\n",
    "churn_processed['month'] = churn['timestamp'].dt.strftime('%b')\n",
    "#churn_processed['month'] = churn['timestamp'].dt.month\n",
    "\n",
    "# Drop Timestamp\n",
    "churn_processed = churn_processed.drop('timestamp', axis=1)\n",
    "\n",
    "# See what we have\n",
    "churn_processed.head()"
   ]
  },
  {
   "cell_type": "code",
   "execution_count": 38,
   "metadata": {},
   "outputs": [
    {
     "data": {
      "text/plain": [
       "array(['Wednesday', 'Thursday', 'Friday', 'Saturday', 'Sunday', 'Monday',\n",
       "       'Tuesday'], dtype=object)"
      ]
     },
     "execution_count": 38,
     "metadata": {},
     "output_type": "execute_result"
    }
   ],
   "source": [
    "churn_processed.dow.unique()"
   ]
  },
  {
   "cell_type": "code",
   "execution_count": 39,
   "metadata": {},
   "outputs": [
    {
     "data": {
      "text/plain": [
       "array(['Nov', 'Dec', 'Jan', 'Feb'], dtype=object)"
      ]
     },
     "execution_count": 39,
     "metadata": {},
     "output_type": "execute_result"
    }
   ],
   "source": [
    "churn_processed.month.unique()"
   ]
  },
  {
   "cell_type": "markdown",
   "metadata": {},
   "source": [
    "2. Add `address` from `churn` to `churn_processed`. One-hot encode `address`, `dow` and `month`. Then drop columns `address`, `dow`, and `month` from `churn_processed`.  Finally, show some of the dataframe.\n",
    "<br/>&nbsp;&nbsp;<span style=\"color:red\" float:right>[2 point]</span>  "
   ]
  },
  {
   "cell_type": "code",
   "execution_count": 8,
   "metadata": {},
   "outputs": [
    {
     "data": {
      "text/html": [
       "<div>\n",
       "<style scoped>\n",
       "    .dataframe tbody tr th:only-of-type {\n",
       "        vertical-align: middle;\n",
       "    }\n",
       "\n",
       "    .dataframe tbody tr th {\n",
       "        vertical-align: top;\n",
       "    }\n",
       "\n",
       "    .dataframe thead th {\n",
       "        text-align: right;\n",
       "    }\n",
       "</style>\n",
       "<table border=\"1\" class=\"dataframe\">\n",
       "  <thead>\n",
       "    <tr style=\"text-align: right;\">\n",
       "      <th></th>\n",
       "      <th>dow_Friday</th>\n",
       "      <th>dow_Monday</th>\n",
       "      <th>dow_Saturday</th>\n",
       "      <th>dow_Sunday</th>\n",
       "      <th>dow_Thursday</th>\n",
       "      <th>dow_Tuesday</th>\n",
       "      <th>dow_Wednesday</th>\n",
       "      <th>month_Dec</th>\n",
       "      <th>month_Feb</th>\n",
       "      <th>month_Jan</th>\n",
       "      <th>month_Nov</th>\n",
       "      <th>address_A</th>\n",
       "      <th>address_B</th>\n",
       "      <th>address_C</th>\n",
       "      <th>address_D</th>\n",
       "      <th>address_E</th>\n",
       "      <th>address_F</th>\n",
       "      <th>address_G</th>\n",
       "      <th>address_H</th>\n",
       "    </tr>\n",
       "  </thead>\n",
       "  <tbody>\n",
       "    <tr>\n",
       "      <th>0</th>\n",
       "      <td>0.0</td>\n",
       "      <td>0.0</td>\n",
       "      <td>0.0</td>\n",
       "      <td>0.0</td>\n",
       "      <td>0.0</td>\n",
       "      <td>0.0</td>\n",
       "      <td>1.0</td>\n",
       "      <td>0.0</td>\n",
       "      <td>0.0</td>\n",
       "      <td>0.0</td>\n",
       "      <td>1.0</td>\n",
       "      <td>0.0</td>\n",
       "      <td>0.0</td>\n",
       "      <td>0.0</td>\n",
       "      <td>0.0</td>\n",
       "      <td>1.0</td>\n",
       "      <td>0.0</td>\n",
       "      <td>0.0</td>\n",
       "      <td>0.0</td>\n",
       "    </tr>\n",
       "    <tr>\n",
       "      <th>1</th>\n",
       "      <td>0.0</td>\n",
       "      <td>0.0</td>\n",
       "      <td>0.0</td>\n",
       "      <td>0.0</td>\n",
       "      <td>0.0</td>\n",
       "      <td>0.0</td>\n",
       "      <td>1.0</td>\n",
       "      <td>0.0</td>\n",
       "      <td>0.0</td>\n",
       "      <td>0.0</td>\n",
       "      <td>1.0</td>\n",
       "      <td>0.0</td>\n",
       "      <td>0.0</td>\n",
       "      <td>0.0</td>\n",
       "      <td>0.0</td>\n",
       "      <td>1.0</td>\n",
       "      <td>0.0</td>\n",
       "      <td>0.0</td>\n",
       "      <td>0.0</td>\n",
       "    </tr>\n",
       "    <tr>\n",
       "      <th>2</th>\n",
       "      <td>0.0</td>\n",
       "      <td>0.0</td>\n",
       "      <td>0.0</td>\n",
       "      <td>0.0</td>\n",
       "      <td>0.0</td>\n",
       "      <td>0.0</td>\n",
       "      <td>1.0</td>\n",
       "      <td>0.0</td>\n",
       "      <td>0.0</td>\n",
       "      <td>0.0</td>\n",
       "      <td>1.0</td>\n",
       "      <td>0.0</td>\n",
       "      <td>0.0</td>\n",
       "      <td>0.0</td>\n",
       "      <td>0.0</td>\n",
       "      <td>1.0</td>\n",
       "      <td>0.0</td>\n",
       "      <td>0.0</td>\n",
       "      <td>0.0</td>\n",
       "    </tr>\n",
       "    <tr>\n",
       "      <th>3</th>\n",
       "      <td>0.0</td>\n",
       "      <td>0.0</td>\n",
       "      <td>0.0</td>\n",
       "      <td>0.0</td>\n",
       "      <td>0.0</td>\n",
       "      <td>0.0</td>\n",
       "      <td>1.0</td>\n",
       "      <td>0.0</td>\n",
       "      <td>0.0</td>\n",
       "      <td>0.0</td>\n",
       "      <td>1.0</td>\n",
       "      <td>0.0</td>\n",
       "      <td>0.0</td>\n",
       "      <td>0.0</td>\n",
       "      <td>0.0</td>\n",
       "      <td>1.0</td>\n",
       "      <td>0.0</td>\n",
       "      <td>0.0</td>\n",
       "      <td>0.0</td>\n",
       "    </tr>\n",
       "    <tr>\n",
       "      <th>4</th>\n",
       "      <td>0.0</td>\n",
       "      <td>0.0</td>\n",
       "      <td>0.0</td>\n",
       "      <td>0.0</td>\n",
       "      <td>0.0</td>\n",
       "      <td>0.0</td>\n",
       "      <td>1.0</td>\n",
       "      <td>0.0</td>\n",
       "      <td>0.0</td>\n",
       "      <td>0.0</td>\n",
       "      <td>1.0</td>\n",
       "      <td>0.0</td>\n",
       "      <td>0.0</td>\n",
       "      <td>0.0</td>\n",
       "      <td>0.0</td>\n",
       "      <td>1.0</td>\n",
       "      <td>0.0</td>\n",
       "      <td>0.0</td>\n",
       "      <td>0.0</td>\n",
       "    </tr>\n",
       "  </tbody>\n",
       "</table>\n",
       "</div>"
      ],
      "text/plain": [
       "   dow_Friday  dow_Monday  dow_Saturday  dow_Sunday  dow_Thursday  \\\n",
       "0         0.0         0.0           0.0         0.0           0.0   \n",
       "1         0.0         0.0           0.0         0.0           0.0   \n",
       "2         0.0         0.0           0.0         0.0           0.0   \n",
       "3         0.0         0.0           0.0         0.0           0.0   \n",
       "4         0.0         0.0           0.0         0.0           0.0   \n",
       "\n",
       "   dow_Tuesday  dow_Wednesday  month_Dec  month_Feb  month_Jan  month_Nov  \\\n",
       "0          0.0            1.0        0.0        0.0        0.0        1.0   \n",
       "1          0.0            1.0        0.0        0.0        0.0        1.0   \n",
       "2          0.0            1.0        0.0        0.0        0.0        1.0   \n",
       "3          0.0            1.0        0.0        0.0        0.0        1.0   \n",
       "4          0.0            1.0        0.0        0.0        0.0        1.0   \n",
       "\n",
       "   address_A  address_B  address_C  address_D  address_E  address_F  \\\n",
       "0        0.0        0.0        0.0        0.0        1.0        0.0   \n",
       "1        0.0        0.0        0.0        0.0        1.0        0.0   \n",
       "2        0.0        0.0        0.0        0.0        1.0        0.0   \n",
       "3        0.0        0.0        0.0        0.0        1.0        0.0   \n",
       "4        0.0        0.0        0.0        0.0        1.0        0.0   \n",
       "\n",
       "   address_G  address_H  \n",
       "0        0.0        0.0  \n",
       "1        0.0        0.0  \n",
       "2        0.0        0.0  \n",
       "3        0.0        0.0  \n",
       "4        0.0        0.0  "
      ]
     },
     "execution_count": 8,
     "metadata": {},
     "output_type": "execute_result"
    }
   ],
   "source": [
    "from sklearn.preprocessing import OneHotEncoder\n",
    "# One hot encoder is used to convert categorical data into numerical data\n",
    "\n",
    "# add address column\n",
    "churn_processed = churn_processed.assign(address=churn['address'])\n",
    "\n",
    "# One-hot-encode address, dow and month\n",
    "one_hot = OneHotEncoder(sparse=False)\n",
    "# Fit the one-hot encoder\n",
    "one_hot.fit(churn_processed)\n",
    "# At this point all columns (dow, month, & address) are one hot encoded\n",
    "\n",
    "# Create Column Names\n",
    "col_names = one_hot.get_feature_names_out(churn_processed.columns)\n",
    "col_names\n",
    "\n",
    "c_p_ohe_df = pd.DataFrame(one_hot.transform(churn_processed), columns=col_names)\n",
    "c_p_ohe_df.head()\n",
    "\n",
    "# Add one-hot endcoded values to new columns\n",
    "churn_processed = churn_processed.join(c_p_ohe_df)\n",
    "\n",
    "# Drop address, dow and month\n",
    "churn_processed = churn_processed.drop(columns=['dow', 'month', 'address'])\n",
    "\n",
    "# Show the dataframe\n",
    "# churn_processed.address.unique()\n",
    "churn_processed.head()"
   ]
  },
  {
   "cell_type": "markdown",
   "metadata": {},
   "source": [
    "3. So far we dropped `address`, `dow`, `month`, and `timestamp`.  Why would we want to drop all these columns?\n",
    "<br/>&nbsp;&nbsp;<span style=\"color:red\" float:right>[1 point]</span> "
   ]
  },
  {
   "cell_type": "markdown",
   "metadata": {},
   "source": [
    "**Why would we want to drop all these columns?**<br/>\n",
    "\n",
    "First, we want address, dow, month, and timestamp in the dataframe so we can one hot encode them. Then once we add the one hot encoded columns, we want to drop said columns to isolate the new one hot encoded columns for further analysis. to feed it into a ml algorithm.\n"
   ]
  },
  {
   "cell_type": "markdown",
   "metadata": {},
   "source": [
    "4. Rescale `dollar` using min-max normalization. Use `pandas` and `numpy` to do it and call the rescaled column `dollar_std_minmax`.  Then see what the first few rows of the dataframe looks like.\n",
    "<br/>&nbsp;&nbsp;<span style=\"color:red\" float:right>[1 point]</span> "
   ]
  },
  {
   "cell_type": "code",
   "execution_count": 44,
   "metadata": {},
   "outputs": [
    {
     "data": {
      "text/plain": [
       "1602"
      ]
     },
     "execution_count": 44,
     "metadata": {},
     "output_type": "execute_result"
    }
   ],
   "source": [
    "# How many different dollar amounts are in churn...?\n",
    "len(churn.dollar.unique())"
   ]
  },
  {
   "cell_type": "code",
   "execution_count": 11,
   "metadata": {},
   "outputs": [],
   "source": [
    "from sklearn.preprocessing import minmax_scale"
   ]
  },
  {
   "cell_type": "code",
   "execution_count": 46,
   "metadata": {},
   "outputs": [
    {
     "data": {
      "text/html": [
       "<div>\n",
       "<style scoped>\n",
       "    .dataframe tbody tr th:only-of-type {\n",
       "        vertical-align: middle;\n",
       "    }\n",
       "\n",
       "    .dataframe tbody tr th {\n",
       "        vertical-align: top;\n",
       "    }\n",
       "\n",
       "    .dataframe thead th {\n",
       "        text-align: right;\n",
       "    }\n",
       "</style>\n",
       "<table border=\"1\" class=\"dataframe\">\n",
       "  <thead>\n",
       "    <tr style=\"text-align: right;\">\n",
       "      <th></th>\n",
       "      <th>user_id</th>\n",
       "      <th>store_id</th>\n",
       "      <th>trans_id</th>\n",
       "      <th>item_id</th>\n",
       "      <th>quantity</th>\n",
       "      <th>dollar</th>\n",
       "      <th>dollar_std_minmax</th>\n",
       "    </tr>\n",
       "  </thead>\n",
       "  <tbody>\n",
       "    <tr>\n",
       "      <th>count</th>\n",
       "      <td>2.522040e+05</td>\n",
       "      <td>252204.000000</td>\n",
       "      <td>2.522040e+05</td>\n",
       "      <td>2.522040e+05</td>\n",
       "      <td>252204.000000</td>\n",
       "      <td>252204.000000</td>\n",
       "      <td>252204.000000</td>\n",
       "    </tr>\n",
       "    <tr>\n",
       "      <th>mean</th>\n",
       "      <td>1.395660e+06</td>\n",
       "      <td>126101.500000</td>\n",
       "      <td>1.229771e+06</td>\n",
       "      <td>4.467833e+12</td>\n",
       "      <td>1.385692</td>\n",
       "      <td>130.911389</td>\n",
       "      <td>0.001840</td>\n",
       "    </tr>\n",
       "    <tr>\n",
       "      <th>std</th>\n",
       "      <td>6.094769e+05</td>\n",
       "      <td>72805.167983</td>\n",
       "      <td>2.350992e+05</td>\n",
       "      <td>1.679512e+12</td>\n",
       "      <td>3.705732</td>\n",
       "      <td>388.142169</td>\n",
       "      <td>0.005499</td>\n",
       "    </tr>\n",
       "    <tr>\n",
       "      <th>min</th>\n",
       "      <td>1.113000e+03</td>\n",
       "      <td>0.000000</td>\n",
       "      <td>8.177470e+05</td>\n",
       "      <td>2.000882e+07</td>\n",
       "      <td>1.000000</td>\n",
       "      <td>1.000000</td>\n",
       "      <td>0.000000</td>\n",
       "    </tr>\n",
       "    <tr>\n",
       "      <th>25%</th>\n",
       "      <td>9.937150e+05</td>\n",
       "      <td>63050.750000</td>\n",
       "      <td>1.025926e+06</td>\n",
       "      <td>4.710000e+12</td>\n",
       "      <td>1.000000</td>\n",
       "      <td>42.000000</td>\n",
       "      <td>0.000581</td>\n",
       "    </tr>\n",
       "    <tr>\n",
       "      <th>50%</th>\n",
       "      <td>1.586046e+06</td>\n",
       "      <td>126101.500000</td>\n",
       "      <td>1.233476e+06</td>\n",
       "      <td>4.710000e+12</td>\n",
       "      <td>1.000000</td>\n",
       "      <td>76.000000</td>\n",
       "      <td>0.001063</td>\n",
       "    </tr>\n",
       "    <tr>\n",
       "      <th>75%</th>\n",
       "      <td>1.862232e+06</td>\n",
       "      <td>189152.250000</td>\n",
       "      <td>1.433222e+06</td>\n",
       "      <td>4.710000e+12</td>\n",
       "      <td>1.000000</td>\n",
       "      <td>132.000000</td>\n",
       "      <td>0.001856</td>\n",
       "    </tr>\n",
       "    <tr>\n",
       "      <th>max</th>\n",
       "      <td>2.179605e+06</td>\n",
       "      <td>252203.000000</td>\n",
       "      <td>1.635482e+06</td>\n",
       "      <td>9.790000e+12</td>\n",
       "      <td>1200.000000</td>\n",
       "      <td>70589.000000</td>\n",
       "      <td>1.000000</td>\n",
       "    </tr>\n",
       "  </tbody>\n",
       "</table>\n",
       "</div>"
      ],
      "text/plain": [
       "            user_id       store_id      trans_id       item_id       quantity  \\\n",
       "count  2.522040e+05  252204.000000  2.522040e+05  2.522040e+05  252204.000000   \n",
       "mean   1.395660e+06  126101.500000  1.229771e+06  4.467833e+12       1.385692   \n",
       "std    6.094769e+05   72805.167983  2.350992e+05  1.679512e+12       3.705732   \n",
       "min    1.113000e+03       0.000000  8.177470e+05  2.000882e+07       1.000000   \n",
       "25%    9.937150e+05   63050.750000  1.025926e+06  4.710000e+12       1.000000   \n",
       "50%    1.586046e+06  126101.500000  1.233476e+06  4.710000e+12       1.000000   \n",
       "75%    1.862232e+06  189152.250000  1.433222e+06  4.710000e+12       1.000000   \n",
       "max    2.179605e+06  252203.000000  1.635482e+06  9.790000e+12    1200.000000   \n",
       "\n",
       "              dollar  dollar_std_minmax  \n",
       "count  252204.000000      252204.000000  \n",
       "mean      130.911389           0.001840  \n",
       "std       388.142169           0.005499  \n",
       "min         1.000000           0.000000  \n",
       "25%        42.000000           0.000581  \n",
       "50%        76.000000           0.001063  \n",
       "75%       132.000000           0.001856  \n",
       "max     70589.000000           1.000000  "
      ]
     },
     "execution_count": 46,
     "metadata": {},
     "output_type": "execute_result"
    }
   ],
   "source": [
    "# Min-max normalize the 'dollar' column\n",
    "churn['dollar_std_minmax'] = minmax_scale(churn['dollar'])\n",
    "\n",
    "churn.describe()"
   ]
  },
  {
   "cell_type": "code",
   "execution_count": 13,
   "metadata": {},
   "outputs": [
    {
     "data": {
      "text/html": [
       "<div>\n",
       "<style scoped>\n",
       "    .dataframe tbody tr th:only-of-type {\n",
       "        vertical-align: middle;\n",
       "    }\n",
       "\n",
       "    .dataframe tbody tr th {\n",
       "        vertical-align: top;\n",
       "    }\n",
       "\n",
       "    .dataframe thead th {\n",
       "        text-align: right;\n",
       "    }\n",
       "</style>\n",
       "<table border=\"1\" class=\"dataframe\">\n",
       "  <thead>\n",
       "    <tr style=\"text-align: right;\">\n",
       "      <th></th>\n",
       "      <th>user_id</th>\n",
       "      <th>gender</th>\n",
       "      <th>address</th>\n",
       "      <th>store_id</th>\n",
       "      <th>trans_id</th>\n",
       "      <th>timestamp</th>\n",
       "      <th>item_id</th>\n",
       "      <th>quantity</th>\n",
       "      <th>dollar</th>\n",
       "      <th>dollar_std_minmax</th>\n",
       "    </tr>\n",
       "  </thead>\n",
       "  <tbody>\n",
       "    <tr>\n",
       "      <th>0</th>\n",
       "      <td>101981</td>\n",
       "      <td>F</td>\n",
       "      <td>E</td>\n",
       "      <td>2860</td>\n",
       "      <td>818463</td>\n",
       "      <td>2000-11-01</td>\n",
       "      <td>4.710000e+12</td>\n",
       "      <td>1</td>\n",
       "      <td>37</td>\n",
       "      <td>0.000510</td>\n",
       "    </tr>\n",
       "    <tr>\n",
       "      <th>1</th>\n",
       "      <td>101981</td>\n",
       "      <td>F</td>\n",
       "      <td>E</td>\n",
       "      <td>2861</td>\n",
       "      <td>818464</td>\n",
       "      <td>2000-11-01</td>\n",
       "      <td>4.710000e+12</td>\n",
       "      <td>1</td>\n",
       "      <td>17</td>\n",
       "      <td>0.000227</td>\n",
       "    </tr>\n",
       "    <tr>\n",
       "      <th>2</th>\n",
       "      <td>101981</td>\n",
       "      <td>F</td>\n",
       "      <td>E</td>\n",
       "      <td>2862</td>\n",
       "      <td>818465</td>\n",
       "      <td>2000-11-01</td>\n",
       "      <td>4.710000e+12</td>\n",
       "      <td>1</td>\n",
       "      <td>23</td>\n",
       "      <td>0.000312</td>\n",
       "    </tr>\n",
       "    <tr>\n",
       "      <th>3</th>\n",
       "      <td>101981</td>\n",
       "      <td>F</td>\n",
       "      <td>E</td>\n",
       "      <td>2863</td>\n",
       "      <td>818466</td>\n",
       "      <td>2000-11-01</td>\n",
       "      <td>4.710000e+12</td>\n",
       "      <td>1</td>\n",
       "      <td>41</td>\n",
       "      <td>0.000567</td>\n",
       "    </tr>\n",
       "    <tr>\n",
       "      <th>4</th>\n",
       "      <td>101981</td>\n",
       "      <td>F</td>\n",
       "      <td>E</td>\n",
       "      <td>2864</td>\n",
       "      <td>818467</td>\n",
       "      <td>2000-11-01</td>\n",
       "      <td>4.710000e+12</td>\n",
       "      <td>8</td>\n",
       "      <td>288</td>\n",
       "      <td>0.004066</td>\n",
       "    </tr>\n",
       "  </tbody>\n",
       "</table>\n",
       "</div>"
      ],
      "text/plain": [
       "   user_id gender address  store_id  trans_id  timestamp       item_id  \\\n",
       "0   101981      F       E      2860    818463 2000-11-01  4.710000e+12   \n",
       "1   101981      F       E      2861    818464 2000-11-01  4.710000e+12   \n",
       "2   101981      F       E      2862    818465 2000-11-01  4.710000e+12   \n",
       "3   101981      F       E      2863    818466 2000-11-01  4.710000e+12   \n",
       "4   101981      F       E      2864    818467 2000-11-01  4.710000e+12   \n",
       "\n",
       "   quantity  dollar  dollar_std_minmax  \n",
       "0         1      37           0.000510  \n",
       "1         1      17           0.000227  \n",
       "2         1      23           0.000312  \n",
       "3         1      41           0.000567  \n",
       "4         8     288           0.004066  "
      ]
     },
     "execution_count": 13,
     "metadata": {},
     "output_type": "execute_result"
    }
   ],
   "source": [
    "# See what the dataframe looks like\n",
    "churn.head()"
   ]
  },
  {
   "cell_type": "markdown",
   "metadata": {},
   "source": [
    "**Robust normalization vs. Z-normalization**<br/>\n",
    "\n",
    "Robust normalization is a data normalization technique that is not affected by outliers and improve machine learning algorithm performance. It helps make data sets easily comparable. The negative aspects of robust normalization is that you can lose some information from the original dataset and it can be more computationally expensive in comparison to other normalization techniques.\n",
    "\n",
    "Z-normalization is also a data normalization technique that changes the dataset values so that they have a mean of 0 and the standard deviation of 1. Again, this helps make data sets easily comparable. The negative aspect of this technique are similar to that of robust normalization (loss of information from the original dataset and computationally expensive comparative to other techniques).\n",
    "\n",
    "Robust normalization does not make any assumptions towards the distribution of data (a non-parametric normalization) which makes it a good choice for data that is not normally distributed or data that may have outliers. Z-normalization in turn makes assumptions towards the distribution of data (a parametric technique). It (Z-norm) assumes the data is normally distributed. Additionally, robust normalization is less sensitive to outliers (compared to Z-norm) due to the fact that it uses the median and IQR to calculate the mean and standard deviation whereas Z-normalization uses the mean and standard deviation on the dataset entirely. \n",
    "\n",
    "Key takeaway, robust normalization is best for not normally distributed datasets or datasets with outliers. Z-normalization is best for normally distributed datasets and no outliers. \n",
    "\n",
    "**Robust normalization is more robust than Z-normalization**<br/>\n",
    "\n",
    "Robust normalization is more robust than Z-normalization because it is not affected by outliers. As stated above, robust normalization uses the median and IQR which minimizes the potential impact of outliers. Z-normalization uses the mean and standard deviation which can make it more sensitive to outliers subsequently making it less robust than robust normalization.\n",
    "  "
   ]
  },
  {
   "cell_type": "markdown",
   "metadata": {},
   "source": [
    "You can read about **robust normalization** [here](https://scikit-learn.org/stable/modules/generated/sklearn.preprocessing.RobustScaler.html). The word **robust** in statistics generally refers to methods that behave reasonably even if the data is unusual.  For example, you can say that the median is a *robust* measure for the \"average\" of the data, while the mean is not.  In this respect a normalization is similar to an average. For a normalization **robust** might mean that the method is not affected by outliers. \n",
    "<br/><br/>\n",
    "5. Write briefly about what makes robust normalization different from Z-normalization.  Write briefly about what makes robust normalization more robust than Z-normalization.  Rescale `quantity` using robust normalization. Call the rescaled column `qty_std_robust` and add it to `churn_processed`.  Compare minimum, maximum, mean, standard deviation, and the median of the original churn['quantity'] with the robust-normalized churn_processed['qty_std_robust'].  Comment on what went wrong.\n",
    "<br/>&nbsp;&nbsp;<span style=\"color:red\" float:right>[3 point]</span>"
   ]
  },
  {
   "cell_type": "code",
   "execution_count": 14,
   "metadata": {},
   "outputs": [],
   "source": [
    "from sklearn.preprocessing import RobustScaler"
   ]
  },
  {
   "cell_type": "code",
   "execution_count": 15,
   "metadata": {},
   "outputs": [
    {
     "data": {
      "text/plain": [
       "0         1\n",
       "1         1\n",
       "2         1\n",
       "3         1\n",
       "4         8\n",
       "         ..\n",
       "252199    2\n",
       "252200    1\n",
       "252201    1\n",
       "252202    1\n",
       "252203    1\n",
       "Name: quantity, Length: 252204, dtype: int64"
      ]
     },
     "execution_count": 15,
     "metadata": {},
     "output_type": "execute_result"
    }
   ],
   "source": [
    "churn.quantity"
   ]
  },
  {
   "cell_type": "code",
   "execution_count": 16,
   "metadata": {},
   "outputs": [],
   "source": [
    "# sklearn conversion\n",
    "# x = churn['quantity'].values.reshape(-1,1)\n",
    "# RScaler = RobustScaler()\n",
    "# RScaler.fit(x)\n",
    "# R_sklearn = RScaler.transform(x)\n",
    "# churn_processed['qty_std_robust_sklearn'] = R_sklearn\n",
    "\n",
    "# manual conversion\n",
    "# offset = np.median(churn['quantity'])\n",
    "# scale = np.quantile(churn['quantity'], 0.75) - np.quantile(churn['quantity'], 0.25)\n",
    "# churn_processed['qty_std_robust'] = (churn['quantity'] - offset)/scale"
   ]
  },
  {
   "cell_type": "code",
   "execution_count": 17,
   "metadata": {},
   "outputs": [],
   "source": [
    "# # Robust normalize the 'quantity' column\n",
    "scaler = RobustScaler()\n",
    "churn_processed['qty_std_robust'] = scaler.fit_transform(churn['quantity'].values.reshape(-1, 1))"
   ]
  },
  {
   "cell_type": "code",
   "execution_count": 18,
   "metadata": {},
   "outputs": [
    {
     "data": {
      "text/plain": [
       "0.0      197394\n",
       "1.0       39835\n",
       "2.0        7023\n",
       "3.0        3586\n",
       "5.0        2013\n",
       "          ...  \n",
       "95.0          1\n",
       "719.0         1\n",
       "851.0         1\n",
       "28.0          1\n",
       "33.0          1\n",
       "Name: qty_std_robust, Length: 62, dtype: int64"
      ]
     },
     "execution_count": 18,
     "metadata": {},
     "output_type": "execute_result"
    }
   ],
   "source": [
    "churn_processed.qty_std_robust.value_counts()"
   ]
  },
  {
   "cell_type": "code",
   "execution_count": 49,
   "metadata": {},
   "outputs": [
    {
     "data": {
      "text/html": [
       "<div>\n",
       "<style scoped>\n",
       "    .dataframe tbody tr th:only-of-type {\n",
       "        vertical-align: middle;\n",
       "    }\n",
       "\n",
       "    .dataframe tbody tr th {\n",
       "        vertical-align: top;\n",
       "    }\n",
       "\n",
       "    .dataframe thead th {\n",
       "        text-align: right;\n",
       "    }\n",
       "</style>\n",
       "<table border=\"1\" class=\"dataframe\">\n",
       "  <thead>\n",
       "    <tr style=\"text-align: right;\">\n",
       "      <th></th>\n",
       "      <th>dow</th>\n",
       "      <th>month</th>\n",
       "    </tr>\n",
       "  </thead>\n",
       "  <tbody>\n",
       "    <tr>\n",
       "      <th>0</th>\n",
       "      <td>Wednesday</td>\n",
       "      <td>Nov</td>\n",
       "    </tr>\n",
       "    <tr>\n",
       "      <th>1</th>\n",
       "      <td>Wednesday</td>\n",
       "      <td>Nov</td>\n",
       "    </tr>\n",
       "    <tr>\n",
       "      <th>2</th>\n",
       "      <td>Wednesday</td>\n",
       "      <td>Nov</td>\n",
       "    </tr>\n",
       "    <tr>\n",
       "      <th>3</th>\n",
       "      <td>Wednesday</td>\n",
       "      <td>Nov</td>\n",
       "    </tr>\n",
       "    <tr>\n",
       "      <th>4</th>\n",
       "      <td>Wednesday</td>\n",
       "      <td>Nov</td>\n",
       "    </tr>\n",
       "  </tbody>\n",
       "</table>\n",
       "</div>"
      ],
      "text/plain": [
       "         dow month\n",
       "0  Wednesday   Nov\n",
       "1  Wednesday   Nov\n",
       "2  Wednesday   Nov\n",
       "3  Wednesday   Nov\n",
       "4  Wednesday   Nov"
      ]
     },
     "execution_count": 49,
     "metadata": {},
     "output_type": "execute_result"
    }
   ],
   "source": [
    "churn_processed.head()"
   ]
  },
  {
   "cell_type": "code",
   "execution_count": 48,
   "metadata": {},
   "outputs": [
    {
     "data": {
      "text/html": [
       "<div>\n",
       "<style scoped>\n",
       "    .dataframe tbody tr th:only-of-type {\n",
       "        vertical-align: middle;\n",
       "    }\n",
       "\n",
       "    .dataframe tbody tr th {\n",
       "        vertical-align: top;\n",
       "    }\n",
       "\n",
       "    .dataframe thead th {\n",
       "        text-align: right;\n",
       "    }\n",
       "</style>\n",
       "<table border=\"1\" class=\"dataframe\">\n",
       "  <thead>\n",
       "    <tr style=\"text-align: right;\">\n",
       "      <th></th>\n",
       "      <th>dow</th>\n",
       "      <th>month</th>\n",
       "    </tr>\n",
       "  </thead>\n",
       "  <tbody>\n",
       "    <tr>\n",
       "      <th>count</th>\n",
       "      <td>252204</td>\n",
       "      <td>252204</td>\n",
       "    </tr>\n",
       "    <tr>\n",
       "      <th>unique</th>\n",
       "      <td>7</td>\n",
       "      <td>4</td>\n",
       "    </tr>\n",
       "    <tr>\n",
       "      <th>top</th>\n",
       "      <td>Sunday</td>\n",
       "      <td>Jan</td>\n",
       "    </tr>\n",
       "    <tr>\n",
       "      <th>freq</th>\n",
       "      <td>62806</td>\n",
       "      <td>68658</td>\n",
       "    </tr>\n",
       "  </tbody>\n",
       "</table>\n",
       "</div>"
      ],
      "text/plain": [
       "           dow   month\n",
       "count   252204  252204\n",
       "unique       7       4\n",
       "top     Sunday     Jan\n",
       "freq     62806   68658"
      ]
     },
     "execution_count": 48,
     "metadata": {},
     "output_type": "execute_result"
    }
   ],
   "source": [
    "churn_processed.describe()"
   ]
  },
  {
   "cell_type": "code",
   "execution_count": 19,
   "metadata": {},
   "outputs": [],
   "source": [
    "# Compare minimum, maximum, mean, standard deviation, and the median of churn['quantity'] with churn_processed['qty_std_robust']"
   ]
  },
  {
   "cell_type": "code",
   "execution_count": 20,
   "metadata": {},
   "outputs": [
    {
     "name": "stdout",
     "output_type": "stream",
     "text": [
      " Distributions before Normalizations:\n"
     ]
    },
    {
     "data": {
      "text/html": [
       "<div>\n",
       "<style scoped>\n",
       "    .dataframe tbody tr th:only-of-type {\n",
       "        vertical-align: middle;\n",
       "    }\n",
       "\n",
       "    .dataframe tbody tr th {\n",
       "        vertical-align: top;\n",
       "    }\n",
       "\n",
       "    .dataframe thead th {\n",
       "        text-align: right;\n",
       "    }\n",
       "</style>\n",
       "<table border=\"1\" class=\"dataframe\">\n",
       "  <thead>\n",
       "    <tr style=\"text-align: right;\">\n",
       "      <th></th>\n",
       "      <th>Normalization</th>\n",
       "      <th>Min</th>\n",
       "      <th>Max</th>\n",
       "      <th>Mean</th>\n",
       "      <th>Std</th>\n",
       "      <th>Median</th>\n",
       "    </tr>\n",
       "  </thead>\n",
       "  <tbody>\n",
       "    <tr>\n",
       "      <th>0</th>\n",
       "      <td>Original</td>\n",
       "      <td>1.0</td>\n",
       "      <td>1200.0</td>\n",
       "      <td>1.39</td>\n",
       "      <td>3.71</td>\n",
       "      <td>1.0</td>\n",
       "    </tr>\n",
       "  </tbody>\n",
       "</table>\n",
       "</div>"
      ],
      "text/plain": [
       "  Normalization  Min     Max  Mean   Std  Median\n",
       "0      Original  1.0  1200.0  1.39  3.71     1.0"
      ]
     },
     "metadata": {},
     "output_type": "display_data"
    },
    {
     "name": "stdout",
     "output_type": "stream",
     "text": [
      " Distributions after Normalizations\n"
     ]
    },
    {
     "data": {
      "text/html": [
       "<div>\n",
       "<style scoped>\n",
       "    .dataframe tbody tr th:only-of-type {\n",
       "        vertical-align: middle;\n",
       "    }\n",
       "\n",
       "    .dataframe tbody tr th {\n",
       "        vertical-align: top;\n",
       "    }\n",
       "\n",
       "    .dataframe thead th {\n",
       "        text-align: right;\n",
       "    }\n",
       "</style>\n",
       "<table border=\"1\" class=\"dataframe\">\n",
       "  <thead>\n",
       "    <tr style=\"text-align: right;\">\n",
       "      <th></th>\n",
       "      <th>Normalization</th>\n",
       "      <th>Min</th>\n",
       "      <th>Max</th>\n",
       "      <th>Mean</th>\n",
       "      <th>Std</th>\n",
       "      <th>Median</th>\n",
       "    </tr>\n",
       "  </thead>\n",
       "  <tbody>\n",
       "    <tr>\n",
       "      <th>1</th>\n",
       "      <td>Robust</td>\n",
       "      <td>0.0</td>\n",
       "      <td>1199.0</td>\n",
       "      <td>0.39</td>\n",
       "      <td>3.71</td>\n",
       "      <td>0.0</td>\n",
       "    </tr>\n",
       "  </tbody>\n",
       "</table>\n",
       "</div>"
      ],
      "text/plain": [
       "  Normalization  Min     Max  Mean   Std  Median\n",
       "1        Robust  0.0  1199.0  0.39  3.71     0.0"
      ]
     },
     "metadata": {},
     "output_type": "display_data"
    }
   ],
   "source": [
    "Compare = []\n",
    "Compare.append(['Original', np.min(churn['quantity']), np.max(churn['quantity']), np.mean(churn['quantity']), np.std(churn['quantity']), np.median(churn['quantity'])])\n",
    "Compare.append(['Robust', np.min(churn_processed['qty_std_robust']), np.max(churn_processed['qty_std_robust']), np.mean(churn_processed['qty_std_robust']), np.std(churn_processed['qty_std_robust']), np.median(churn_processed['qty_std_robust'])])\n",
    "Distributions = pd.DataFrame(data=Compare, columns=['Normalization', 'Min', 'Max', 'Mean', 'Std', 'Median']).round(decimals=2)\n",
    "print(\" Distributions before Normalizations:\")\n",
    "display(Distributions.head(1))\n",
    "print(\" Distributions after Normalizations\")\n",
    "display(Distributions.loc[1:6,:])"
   ]
  },
  {
   "cell_type": "markdown",
   "metadata": {},
   "source": [
    "**Failure of Robust Normalization**<br/>\n",
    "\n",
    "I think we are calling robust normalization on qty_std_robust that is already robust.\n",
    "\n",
    "\n",
    "Reword:\n",
    "The problem with the robust normalization is that it does not take into account the original scale of the data. This means that the robust-normalized data cannot be used to compare the relative sizes of the values in the original data. For example, if the original data has a minimum value of 0 and a maximum value of 100, then the robust-normalized data will also have a minimum value of 0 and a maximum value of 100. However, the robust-normalized data will not be able to tell you whether a value of 50 is closer to 0 or 100. This is because the robust-normalized data has all been scaled to have a mean of 0 and a standard deviation of 1.\n",
    "\n",
    "To fix this problem, you can use a different normalization method that takes into account the original scale of the data. For example, you could use the min-max normalization method. The min-max normalization method scales the data so that the minimum value is 0 and the maximum value is 1. This means that the relative sizes of the values in the original data are preserved in the normalized data."
   ]
  },
  {
   "cell_type": "markdown",
   "metadata": {},
   "source": [
    "6. Rescale `quantity` using Z-normalization, but normalize `quantity` **per user**, i.e. group by `user_id` so that the mean and standard deviation computed to normalize are computed separately by each `user_id`. Call the rescaled feature `qty_std_Z_byuser`. Present a histogram of `qty_std_Z_byuser`.  Briefly describe why and when you think this kind of normalization makes sense.\n",
    "<br/>&nbsp;&nbsp;<span style=\"color:red\" float:right>[3 point]</span>"
   ]
  },
  {
   "cell_type": "code",
   "execution_count": 21,
   "metadata": {},
   "outputs": [],
   "source": [
    "from sklearn.preprocessing import StandardScaler"
   ]
  },
  {
   "cell_type": "code",
   "execution_count": 25,
   "metadata": {},
   "outputs": [
    {
     "name": "stdout",
     "output_type": "stream",
     "text": [
      "   dow_Friday  dow_Monday  dow_Saturday  dow_Sunday  dow_Thursday  \\\n",
      "0         0.0         0.0           0.0         0.0           0.0   \n",
      "1         0.0         0.0           0.0         0.0           0.0   \n",
      "2         0.0         0.0           0.0         0.0           0.0   \n",
      "3         0.0         0.0           0.0         0.0           0.0   \n",
      "4         0.0         0.0           0.0         0.0           0.0   \n",
      "\n",
      "   dow_Tuesday  dow_Wednesday  month_Dec  month_Feb  month_Jan  ...  \\\n",
      "0          0.0            1.0        0.0        0.0        0.0  ...   \n",
      "1          0.0            1.0        0.0        0.0        0.0  ...   \n",
      "2          0.0            1.0        0.0        0.0        0.0  ...   \n",
      "3          0.0            1.0        0.0        0.0        0.0  ...   \n",
      "4          0.0            1.0        0.0        0.0        0.0  ...   \n",
      "\n",
      "   address_A  address_B  address_C  address_D  address_E  address_F  \\\n",
      "0        0.0        0.0        0.0        0.0        1.0        0.0   \n",
      "1        0.0        0.0        0.0        0.0        1.0        0.0   \n",
      "2        0.0        0.0        0.0        0.0        1.0        0.0   \n",
      "3        0.0        0.0        0.0        0.0        1.0        0.0   \n",
      "4        0.0        0.0        0.0        0.0        1.0        0.0   \n",
      "\n",
      "   address_G  address_H  qty_std_robust  z_normalized_quantity  \n",
      "0        0.0        0.0             0.0              -0.104080  \n",
      "1        0.0        0.0             0.0              -0.104080  \n",
      "2        0.0        0.0             0.0              -0.104080  \n",
      "3        0.0        0.0             0.0              -0.104080  \n",
      "4        0.0        0.0             7.0               1.784886  \n",
      "\n",
      "[5 rows x 21 columns]\n"
     ]
    }
   ],
   "source": [
    "# Calculate the mean and standard deviation of the `quantity` column\n",
    "mean = churn['quantity'].mean()\n",
    "std = churn['quantity'].std()\n",
    "\n",
    "# Z-normalize the `quantity` column\n",
    "z_normalized_quantity = (churn['quantity'] - mean) / std\n",
    "\n",
    "# Add the z-normalized `quantity` column to the DataFrame\n",
    "churn_processed['z_normalized_quantity'] = z_normalized_quantity\n",
    "\n",
    "# Print the first five rows of the DataFrame\n",
    "print(churn_processed.head())"
   ]
  },
  {
   "cell_type": "code",
   "execution_count": 26,
   "metadata": {},
   "outputs": [
    {
     "name": "stdout",
     "output_type": "stream",
     "text": [
      "   dow_Friday  dow_Monday  dow_Saturday  dow_Sunday  dow_Thursday  \\\n",
      "0         0.0         0.0           0.0         0.0           0.0   \n",
      "1         0.0         0.0           0.0         0.0           0.0   \n",
      "2         0.0         0.0           0.0         0.0           0.0   \n",
      "3         0.0         0.0           0.0         0.0           0.0   \n",
      "4         0.0         0.0           0.0         0.0           0.0   \n",
      "\n",
      "   dow_Tuesday  dow_Wednesday  month_Dec  month_Feb  month_Jan  ...  \\\n",
      "0          0.0            1.0        0.0        0.0        0.0  ...   \n",
      "1          0.0            1.0        0.0        0.0        0.0  ...   \n",
      "2          0.0            1.0        0.0        0.0        0.0  ...   \n",
      "3          0.0            1.0        0.0        0.0        0.0  ...   \n",
      "4          0.0            1.0        0.0        0.0        0.0  ...   \n",
      "\n",
      "   address_A  address_B  address_C  address_D  address_E  address_F  \\\n",
      "0        0.0        0.0        0.0        0.0        1.0        0.0   \n",
      "1        0.0        0.0        0.0        0.0        1.0        0.0   \n",
      "2        0.0        0.0        0.0        0.0        1.0        0.0   \n",
      "3        0.0        0.0        0.0        0.0        1.0        0.0   \n",
      "4        0.0        0.0        0.0        0.0        1.0        0.0   \n",
      "\n",
      "   address_G  address_H  qty_std_robust  z_normalized_quantity  \n",
      "0        0.0        0.0             0.0              -0.104080  \n",
      "1        0.0        0.0             0.0              -0.104080  \n",
      "2        0.0        0.0             0.0              -0.104080  \n",
      "3        0.0        0.0             0.0              -0.104080  \n",
      "4        0.0        0.0             7.0               1.784886  \n",
      "\n",
      "[5 rows x 21 columns]\n"
     ]
    }
   ],
   "source": [
    "# Group the DataFrame by user_id\n",
    "churn_processed_grouped = churn.groupby('user_id')\n",
    "\n",
    "# Calculate the mean and standard deviation of the `quantity` column for each user group\n",
    "z_normalized_quantity = churn['quantity'].transform(lambda x: (x - x.mean()) / x.std())\n",
    "\n",
    "# Add the z-normalized `quantity` column to the DataFrame\n",
    "churn_processed['z_normalized_quantity'] = z_normalized_quantity\n",
    "\n",
    "# Print the first five rows of the DataFrame\n",
    "print(churn_processed.head())"
   ]
  },
  {
   "cell_type": "code",
   "execution_count": 28,
   "metadata": {},
   "outputs": [
    {
     "data": {
      "image/png": "[encoded data removed]",
      "text/plain": [
       "<Figure size 432x288 with 1 Axes>"
      ]
     },
     "metadata": {
      "needs_background": "light"
     },
     "output_type": "display_data"
    }
   ],
   "source": [
    "# Create a histogram of the qty_std_Z_byuser column\n",
    "plt.hist(churn_processed['z_normalized_quantity'])\n",
    "\n",
    "# Add a title to the histogram\n",
    "plt.title('Histogram of z_normalized_quantity')\n",
    "\n",
    "# Show the histogram\n",
    "plt.show()"
   ]
  },
  {
   "cell_type": "code",
   "execution_count": 22,
   "metadata": {},
   "outputs": [],
   "source": [
    "# # Convert the quantity column to a NumPy array\n",
    "# quantity_array = churn['quantity'].to_numpy()\n",
    "# # Convert the user_id column to a NumPy array\n",
    "# user_id_array = churn['user_id'].to_numpy()"
   ]
  },
  {
   "cell_type": "code",
   "execution_count": 31,
   "metadata": {},
   "outputs": [
    {
     "data": {
      "image/png": "[encoded data removed]",
      "text/plain": [
       "<Figure size 432x288 with 1 Axes>"
      ]
     },
     "metadata": {
      "needs_background": "light"
     },
     "output_type": "display_data"
    }
   ],
   "source": [
    "# # Change both variables by Z-Normalization\n",
    "# qNormZ = (quantity_array - np.mean(quantity_array))/np.std(quantity_array)\n",
    "# uNormZ = (user_id_array - np.mean(user_id_array))/np.std(user_id_array)\n",
    "# # Compare the Z-normalized variables by overlaying histograms\n",
    "# plt.hist(qNormZ, bins = 20, color=[0, 0, 1, 0.5])\n",
    "# plt.hist(uNormZ, bins = 20, color=[1, 0.7, 0, 0.5])\n",
    "# plt.title(\"Compare variables \\n after Z-normalization\", y=1.0, pad=-28, loc='left')\n",
    "# plt.show()"
   ]
  },
  {
   "cell_type": "code",
   "execution_count": 22,
   "metadata": {},
   "outputs": [],
   "source": [
    "# Group the data by user_id\n",
    "# churn_grouped = churn.groupby('user_id')"
   ]
  },
  {
   "cell_type": "code",
   "execution_count": 23,
   "metadata": {},
   "outputs": [],
   "source": [
    "# Calculate the mean and standard deviation of the quantity column for each user\n",
    "# mean_quantity = churn_grouped['quantity'].mean()"
   ]
  },
  {
   "cell_type": "code",
   "execution_count": 24,
   "metadata": {},
   "outputs": [],
   "source": [
    "# std_quantity = churn_grouped['quantity'].std()"
   ]
  },
  {
   "cell_type": "code",
   "execution_count": 25,
   "metadata": {},
   "outputs": [],
   "source": [
    "\n",
    "# # Check to make sure that any of the values in the std_quantity variable are not equal to 0\n",
    "# if std_quantity.any():\n",
    "#   std_quantity = 1\n",
    "\n",
    "# # Apply the reset_index() method to each group in the churn_grouped DataFrame\n",
    "# churn_grouped = churn_grouped.apply(lambda x: x.reset_index().fillna(0))\n",
    "\n",
    "# # Add a column called 'user_id' to the churn_grouped DataFrame\n",
    "# churn_grouped = churn_grouped.assign(user_id=churn_grouped.index.to_numpy())\n",
    "\n",
    "# # Create a new column that is the z-score of the quantity column for each user\n",
    "# churn_grouped['qty_std_Z_byuser'] = (churn_grouped['quantity'] - mean_quantity) / std_quantity"
   ]
  },
  {
   "cell_type": "code",
   "execution_count": 27,
   "metadata": {},
   "outputs": [
    {
     "data": {
      "image/png": "[encoded data removed]",
      "text/plain": [
       "<Figure size 432x288 with 1 Axes>"
      ]
     },
     "metadata": {
      "needs_background": "light"
     },
     "output_type": "display_data"
    }
   ],
   "source": [
    "# Create a histogram of the qty_std_Z_byuser column\n",
    "plt.hist(churn_grouped['qty_std_Z_byuser'])\n",
    "\n",
    "# Add a title to the histogram\n",
    "plt.title('Histogram of qty_std_Z_byuser')\n",
    "\n",
    "# Show the histogram\n",
    "plt.show()"
   ]
  },
  {
   "cell_type": "markdown",
   "metadata": {},
   "source": [
    "**What could be the purpose of this normalization?**\n",
    "<br/>\n",
    "Add comment here:\n"
   ]
  },
  {
   "cell_type": "markdown",
   "metadata": {},
   "source": [
    "7. Convert `item_id` into a category column in `churn_processed`.  Replace the `item_id` of all the items sold only once in the entire data with `\"999999\"`.  How many item ids are of category `\"999999\"`?  Display 10 rows of `churn_processed` where `item_id` is category `\"999999\"`.\n",
    "<br/>&nbsp;&nbsp;<span style=\"color:red\" float:right>[2 point]</span>"
   ]
  },
  {
   "cell_type": "code",
   "execution_count": null,
   "metadata": {},
   "outputs": [],
   "source": [
    "# Convert item_id into a category column in churn_processed\n",
    "# Add code here\n"
   ]
  },
  {
   "cell_type": "code",
   "execution_count": null,
   "metadata": {},
   "outputs": [],
   "source": [
    "# Add code here\n",
    "\n",
    "# Add Category\n",
    "\n",
    "#  Replace the item_id of all the items sold only once in the entire data with \"999999\"   \n",
    "\n",
    "# How many item ids are of category \"999999\"\n",
    "\n",
    "# Display 10 rows of churn_processed where item_id is category 999999\n"
   ]
  },
  {
   "cell_type": "markdown",
   "metadata": {},
   "source": [
    "# End of assignment"
   ]
  }
 ],
 "metadata": {
  "kernelspec": {
   "display_name": "Python 3 (ipykernel)",
   "language": "python",
   "name": "python3"
  },
  "language_info": {
   "codemirror_mode": {
    "name": "ipython",
    "version": 3
   },
   "file_extension": ".py",
   "mimetype": "text/x-python",
   "name": "python",
   "nbconvert_exporter": "python",
   "pygments_lexer": "ipython3",
   "version": "3.9.7"
  }
 },
 "nbformat": 4,
 "nbformat_minor": 4
}
