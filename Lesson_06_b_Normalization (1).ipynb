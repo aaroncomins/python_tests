{
 "cells": [
  {
   "cell_type": "markdown",
   "id": "c5951ae2",
   "metadata": {},
   "source": [
    "## Min-Max-Normalization versus Z-Normalization\n",
    "The two most common normalizations are min-max and Z-normalization.  One major purpose for normalizing variables, is to put the values of variables on par with each other.  In other words, normalizations should adjust the scale (spread) of variables so that the scales (spreads) are similar.\n",
    "- Create two variables, one with a high outlier, one with a low outlier\n",
    "- Overlay histograms\n",
    "    - Overlay the histograms of the two original variables\n",
    "    - Overlay the histograms of the two Min-Max Normalized variables\n",
    "    - Overlay the histograms of the two Z-normalized variables"
   ]
  },
  {
   "cell_type": "code",
   "execution_count": 1,
   "id": "75d5d941",
   "metadata": {},
   "outputs": [],
   "source": [
    "import numpy as np\n",
    "import pandas as pd\n",
    "import matplotlib.pyplot as plt\n",
    "%matplotlib inline"
   ]
  },
  {
   "cell_type": "markdown",
   "id": "57439411",
   "metadata": {},
   "source": [
    "### Create two variables, one with a high outlier, one with a low outlier"
   ]
  },
  {
   "cell_type": "code",
   "execution_count": 5,
   "id": "a7c02079",
   "metadata": {},
   "outputs": [],
   "source": [
    "# Variable 1\n",
    "sigma1 = 1\n",
    "mu1a = 3\n",
    "mu1b = 7\n",
    "x1 = np.array(15)\n",
    "x1 = np.append(x1, mu1a + sigma1*np.random.randn(100))\n",
    "x1 = np.append(x1, mu1b + sigma1*np.random.randn(50))\n",
    "x1 = x1.reshape(-1,1)\n",
    "\n",
    "# Variable 2\n",
    "sigma2 = 0.5\n",
    "#mu2a = 8.9\n",
    "mu2b = 10.1\n",
    "x2 = np.array(2.5)\n",
    "x2 = np.append(x2, mu2b + sigma2*np.random.randn(150))\n",
    "x2 = x2.reshape(-1,1)"
   ]
  },
  {
   "cell_type": "markdown",
   "id": "9af7ff20",
   "metadata": {},
   "source": [
    "### Overlay Histograms of Original Variables"
   ]
  },
  {
   "cell_type": "code",
   "execution_count": 6,
   "id": "a162a444",
   "metadata": {},
   "outputs": [
    {
     "data": {
      "image/png": "[encoded data removed]",
      "text/plain": [
       "<Figure size 432x288 with 1 Axes>"
      ]
     },
     "metadata": {
      "needs_background": "light"
     },
     "output_type": "display_data"
    }
   ],
   "source": [
    "# Compare the original variables by overlaying histograms\n",
    "plt.hist(x1, bins = 20, color=[0, 0, 1, 0.5])\n",
    "plt.hist(x2, bins = 20, color=[1, 0.7, 0, 0.5])\n",
    "plt.title(\"Compare variables \\n without normalization\", y=1.0, pad=-28, loc='left')\n",
    "plt.show()"
   ]
  },
  {
   "cell_type": "markdown",
   "id": "6e31800e",
   "metadata": {},
   "source": [
    "#### Compare Distributions\n",
    "- Are the scales of the two variables significantly different?  \n",
    "- If so, how are they different?\n",
    "- Compare the distributions by comparing the x-coordinate values of the major histogram peaks"
   ]
  },
  {
   "cell_type": "markdown",
   "id": "9ef9c855",
   "metadata": {},
   "source": [
    "### Overlay Histograms of Min-Max Normalized Variables"
   ]
  },
  {
   "cell_type": "code",
   "execution_count": 7,
   "id": "7cf7658d",
   "metadata": {},
   "outputs": [
    {
     "data": {
      "image/png": "[encoded data removed]",
      "text/plain": [
       "<Figure size 432x288 with 1 Axes>"
      ]
     },
     "metadata": {
      "needs_background": "light"
     },
     "output_type": "display_data"
    }
   ],
   "source": [
    "# Change both variables by Min-Max Normalization\n",
    "x1NormMinMax = (x1 - np.min(x1))/(np.max(x1) - np.min(x1))\n",
    "x2NormMinMax = (x2 - np.min(x2))/(np.max(x2) - np.min(x2))\n",
    "# Compare the Min-Max-normalized variables by overlaying histograms\n",
    "plt.hist(x1NormMinMax, bins = 20, color=[0, 0, 1, 0.5])\n",
    "plt.hist(x2NormMinMax, bins = 20, color=[1, 0.7, 0, 0.5])\n",
    "plt.title(\"Compare variables after \\n Min-Max Normalization\", y=1.0, pad=-28, loc='left')\n",
    "plt.show()"
   ]
  },
  {
   "cell_type": "markdown",
   "id": "9e5cf45e",
   "metadata": {},
   "source": [
    "#### Compare Min-Max-Normalized Distributions\n",
    "- Are the Min-Max normalized scales of the variables significantly different?  \n",
    "- If so, how are they different?\n",
    "- Compare the distributions by comparing the x-coordinate values of the major histogram peaks"
   ]
  },
  {
   "cell_type": "markdown",
   "id": "b3c2ce39",
   "metadata": {},
   "source": [
    "### Overlay Histograms of Z-Normalized Variables"
   ]
  },
  {
   "cell_type": "code",
   "execution_count": 8,
   "id": "2708a882",
   "metadata": {},
   "outputs": [
    {
     "data": {
      "image/png": "[encoded data removed]",
      "text/plain": [
       "<Figure size 432x288 with 1 Axes>"
      ]
     },
     "metadata": {
      "needs_background": "light"
     },
     "output_type": "display_data"
    }
   ],
   "source": [
    "# Change both variables by Z-Normalization\n",
    "x1NormZ = (x1 - np.mean(x1))/np.std(x1)\n",
    "x2NormZ = (x2 - np.mean(x2))/np.std(x2)\n",
    "# Compare the Z-normalized variables by overlaying histograms\n",
    "plt.hist(x1NormZ, bins = 20, color=[0, 0, 1, 0.5])\n",
    "plt.hist(x2NormZ, bins = 20, color=[1, 0.7, 0, 0.5])\n",
    "plt.title(\"Compare variables \\n after Z-normalization\", y=1.0, pad=-28, loc='left')\n",
    "plt.show()"
   ]
  },
  {
   "cell_type": "markdown",
   "id": "eeaad22e",
   "metadata": {},
   "source": [
    "#### Compare Z-Normalized Distributions\n",
    "- Are the scales of the variables significantly different?  \n",
    "- If so, how are they different?\n",
    "- Compare the distributions by comparing the x-coordinate values of the major histogram peaks\n",
    "  \n",
    "By-the-way, [**Robust Normalization**](https://scikit-learn.org/stable/modules/generated/sklearn.preprocessing.RobustScaler.html) works just as well or even better than Z-normalization for these cases where outliers affect the scale."
   ]
  },
  {
   "cell_type": "markdown",
   "id": "7abda253",
   "metadata": {},
   "source": [
    "### Take Lesson 06 In-class Quiz #1"
   ]
  }
 ],
 "metadata": {
  "kernelspec": {
   "display_name": "Python 3 (ipykernel)",
   "language": "python",
   "name": "python3"
  },
  "language_info": {
   "codemirror_mode": {
    "name": "ipython",
    "version": 3
   },
   "file_extension": ".py",
   "mimetype": "text/x-python",
   "name": "python",
   "nbconvert_exporter": "python",
   "pygments_lexer": "ipython3",
   "version": "3.9.7"
  }
 },
 "nbformat": 4,
 "nbformat_minor": 5
}
