{
 "cells": [
  {
   "cell_type": "code",
   "execution_count": 3,
   "id": "9129186c-2c75-4975-a583-90312eb39aec",
   "metadata": {},
   "outputs": [
    {
     "name": "stdin",
     "output_type": "stream",
     "text": [
      "Enter the word to replace:  hi\n",
      "Enter the word replacement:  hey\n"
     ]
    },
    {
     "name": "stdout",
     "output_type": "stream",
     "text": [
      "hey guys, I am Aaron, and hey hey hey hey!\n"
     ]
    }
   ],
   "source": [
    "def replace_word():\n",
    "                 \n",
    "                 str = 'hi guys, I am Aaron, and hi hi hi hi!'\n",
    "                 word_to_replace = input('Enter the word to replace: ')\n",
    "                 word_replacement = input('Enter the word replacement: ')\n",
    "                 print(str.replace(word_to_replace, word_replacement))\n",
    "                 \n",
    "replace_word()"
   ]
  }
 ],
 "metadata": {
  "kernelspec": {
   "display_name": "Python 3 (ipykernel)",
   "language": "python",
   "name": "python3"
  },
  "language_info": {
   "codemirror_mode": {
    "name": "ipython",
    "version": 3
   },
   "file_extension": ".py",
   "mimetype": "text/x-python",
   "name": "python",
   "nbconvert_exporter": "python",
   "pygments_lexer": "ipython3",
   "version": "3.9.7"
  }
 },
 "nbformat": 4,
 "nbformat_minor": 5
}
