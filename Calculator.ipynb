{
 "cells": [
  {
   "cell_type": "code",
   "execution_count": null,
   "id": "0840d614-ad86-449e-b858-dd92e52043b9",
   "metadata": {
    "tags": []
   },
   "outputs": [
    {
     "name": "stdout",
     "output_type": "stream",
     "text": [
      "A. Addition\n",
      "B. Subtraction\n",
      "C. Multiplication\n",
      "D. Division\n",
      "E. Exit\n",
      "Program Ended\n",
      "A. Addition\n",
      "B. Subtraction\n",
      "C. Multiplication\n",
      "D. Division\n",
      "E. Exit\n",
      "Program Ended\n",
      "A. Addition\n",
      "B. Subtraction\n",
      "C. Multiplication\n",
      "D. Division\n",
      "E. Exit\n"
     ]
    },
    {
     "ename": "",
     "evalue": "",
     "output_type": "error",
     "traceback": [
      "\u001b[1;31mCanceled future for execute_request message before replies were done"
     ]
    },
    {
     "ename": "",
     "evalue": "",
     "output_type": "error",
     "traceback": [
      "\u001b[1;31mThe Kernel crashed while executing code in the the current cell or a previous cell. Please review the code in the cell(s) to identify a possible cause of the failure. Click <a href='https://aka.ms/vscodeJupyterKernelCrash'>here</a> for more info. View Jupyter <a href='command:jupyter.viewOutput'>log</a> for further details."
     ]
    }
   ],
   "source": [
    "# Define the functions needed: add, sub, mul, div\n",
    "# Print options to use\n",
    "# Ask for values\n",
    "# Once we get the values we need, we will call the functions\n",
    "# Use the while loop to continue the program until the user wants to exit\n",
    "\n",
    "def add(a, b):\n",
    "    answer = a + b\n",
    "    print(str(a) + \" + \" + str(b) + \" = \" + str(answer) + '\\n')\n",
    "    #or print(a,b)\n",
    "    \n",
    "def sub(a, b):\n",
    "    answer = a - b\n",
    "    print(str(a) + \" - \" + str(b) + \" = \" + str(answer) + '\\n')\n",
    "\n",
    "def mul(a, b):\n",
    "    answer = a * b\n",
    "    print(str(a) + \" * \" + str(b) + \" = \" + str(answer) + '\\n')\n",
    "    \n",
    "def div(a, b):\n",
    "    answer = a / b\n",
    "    print(str(a) + \" / \" + str(b) + \" = \" + str(answer) + '\\n')\n",
    "\n",
    "while(True):\n",
    "    print('A. Addition')\n",
    "    print('B. Subtraction')\n",
    "    print('C. Multiplication')\n",
    "    print('D. Division')\n",
    "    print('E. Exit')\n",
    "\n",
    "    choice = input('Input your choice: ')\n",
    "\n",
    "    if choice == 'a' or choice == 'A':\n",
    "        print(\"Addition\")\n",
    "        a = int(input('input first number: '))\n",
    "        b = int(input('input second number: '))\n",
    "        add(a, b)\n",
    "    elif choice == 'b' or choice == 'B':\n",
    "        print('Subtraction')\n",
    "        a = int(input('input first number: '))\n",
    "        b = int(input('input second number: '))\n",
    "        sub(a, b)\n",
    "    elif choice == 'c' or choice == 'C':\n",
    "        print('Multiplication')\n",
    "        a = int(input('input first number: '))\n",
    "        b = int(input('input second number: '))\n",
    "        mul(a, b)\n",
    "    elif choice == 'd' or choice =='D':\n",
    "        print('Division')\n",
    "        a = int(input('input first number: '))\n",
    "        b = int(input('input second number: '))\n",
    "        div(a, b)\n",
    "    elif choice == 'e' or choice == 'E':\n",
    "        print('Program Ended')\n",
    "        quit()"
   ]
  },
  {
   "cell_type": "code",
   "execution_count": null,
   "id": "5788bd46-df93-4f16-9b83-2d391b594529",
   "metadata": {},
   "outputs": [],
   "source": []
  },
  {
   "cell_type": "code",
   "execution_count": null,
   "id": "4f9805da-125c-43ef-b4ef-a6902d85cd6e",
   "metadata": {},
   "outputs": [],
   "source": []
  }
 ],
 "metadata": {
  "kernelspec": {
   "display_name": "Python 3 (ipykernel)",
   "language": "python",
   "name": "python3"
  },
  "language_info": {
   "codemirror_mode": {
    "name": "ipython",
    "version": 3
   },
   "file_extension": ".py",
   "mimetype": "text/x-python",
   "name": "python",
   "nbconvert_exporter": "python",
   "pygments_lexer": "ipython3",
   "version": "3.11.3"
  }
 },
 "nbformat": 4,
 "nbformat_minor": 5
}
