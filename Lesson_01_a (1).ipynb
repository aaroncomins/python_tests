{
 "cells": [
  {
   "cell_type": "markdown",
   "id": "ae7b9312-d2f6-4031-a838-578cacd88ab0",
   "metadata": {},
   "source": [
    "# Jupyter Notebook Exercise\n",
    "Copyright © 2022 by Ernst Henle"
   ]
  },
  {
   "cell_type": "markdown",
   "id": "c19dfd67-d745-4640-8b09-7be3a70beffd",
   "metadata": {},
   "source": [
    "Read me!  \n",
    "The purpose of this exercise is to familiarize yourself with the way Jupyter notebooks are used.  Some of the cells below are titled \"Copy and run!\". \"Copy and run!\" means copy the highlighted code from a markdown cell into a code cell and run it. In other words, create a new cell using `Insert` (the plus sign \"+\") from the ribbon above.  And then, copy the code (e.g. 2 + 3) into the new cell. Finally, press `Run` (the triangle play button) from the ribbon above or use Ctrl-Enter to run the cell.  You should see the result (e.g. 5) below the new cell."
   ]
  },
  {
   "cell_type": "markdown",
   "id": "977f54b2-acd7-4b8e-8a03-438477bf32e0",
   "metadata": {},
   "source": [
    "Copy and run!  \n",
    "`2 + 3`"
   ]
  },
  {
   "cell_type": "code",
   "execution_count": 1,
   "id": "d2d001bc-2328-4047-b665-be29c7b5a179",
   "metadata": {},
   "outputs": [
    {
     "data": {
      "text/plain": [
       "5"
      ]
     },
     "execution_count": 1,
     "metadata": {},
     "output_type": "execute_result"
    }
   ],
   "source": [
    "2+3"
   ]
  },
  {
   "cell_type": "markdown",
   "id": "7b95120a-9572-42d5-953f-72f1fc204710",
   "metadata": {},
   "source": [
    "Read me!  \n",
    "In Python, the characters following a hashmark (\"#\") in a coding cell are a comment.  Comments are not executed  "
   ]
  },
  {
   "cell_type": "markdown",
   "id": "ee51c160-c647-4a6d-b314-c51ca54afe57",
   "metadata": {},
   "source": [
    "Copy and run!  \n",
    "`2 + 3 # the characters following the hashmark are a comment`"
   ]
  },
  {
   "cell_type": "code",
   "execution_count": 2,
   "id": "b72fe29e-c017-404c-8d83-81c77a56dff6",
   "metadata": {},
   "outputs": [
    {
     "data": {
      "text/plain": [
       "5"
      ]
     },
     "execution_count": 2,
     "metadata": {},
     "output_type": "execute_result"
    }
   ],
   "source": [
    "2 + 3 # the characters following the hashmark are a comment"
   ]
  },
  {
   "cell_type": "markdown",
   "id": "585327a9-f571-4042-828c-fbc74974a8c7",
   "metadata": {},
   "source": [
    "Read me!  \n",
    "In python we use packages of software.  These packages have useful functions.  Important data science packages are:  \n",
    "`numpy` for numerical stuff  \n",
    "`pandas` for tables aka dataframes  \n",
    "`matplotlib.pyplot` for plotting  \n",
    "`seaborn` for plotting  \n",
    "`sklearn` for machine learning"
   ]
  },
  {
   "cell_type": "markdown",
   "id": "0f074ad3-ba88-43af-b435-8eac96b06f9c",
   "metadata": {},
   "source": [
    "Copy and run!  \n",
    "`import numpy as np # this code means:  let me use the numpy functions and let me abbreviate numpy as np`  \n",
    "`np.exp(-1**2 / 2) / np.sqrt(2 * np.pi) # this code determines the height of a normal gaussian at 1 standard devciation`"
   ]
  },
  {
   "cell_type": "markdown",
   "id": "fb209ecf-38d2-442c-bb6a-4da4cb13478a",
   "metadata": {},
   "source": [
    "#np.exp is used for the \"E\" number aka Euler's number which is a constant number like pi but the number is considered irrational. np.epx is visualized as e or 2.71828 squared to the number you put in the parenthesis. ie np.exp(2) is 2.71828 (or e) squared (2) and equals 7.3890"
   ]
  },
  {
   "cell_type": "code",
   "execution_count": 17,
   "id": "d01dad41-624c-47bc-9886-b0282d3425ca",
   "metadata": {},
   "outputs": [
    {
     "data": {
      "text/plain": [
       "0.24197072451914337"
      ]
     },
     "execution_count": 17,
     "metadata": {},
     "output_type": "execute_result"
    }
   ],
   "source": [
    "import numpy as np # this code means:  let me use the numpy functions and let me abbreviate numpy as np\n",
    "np.exp(-1**2 / 2) / np.sqrt(2 * np.pi) # this code determines the height of a normal gaussian at 1 standard devciation"
   ]
  },
  {
   "cell_type": "code",
   "execution_count": 15,
   "id": "c3093a90-b959-4825-8825-0a7aebf811e8",
   "metadata": {},
   "outputs": [
    {
     "data": {
      "text/plain": [
       "1.6487212707001282"
      ]
     },
     "execution_count": 15,
     "metadata": {},
     "output_type": "execute_result"
    }
   ],
   "source": [
    "np.exp((-1)**2 / 2) #this is the right math"
   ]
  },
  {
   "cell_type": "code",
   "execution_count": 16,
   "id": "e6a4a51d-ce45-44c2-a013-92bc10484155",
   "metadata": {},
   "outputs": [
    {
     "data": {
      "text/plain": [
       "0.6065306597126334"
      ]
     },
     "execution_count": 16,
     "metadata": {},
     "output_type": "execute_result"
    }
   ],
   "source": [
    "np.exp(-1**2 / 2) # this is the wrong math"
   ]
  },
  {
   "cell_type": "code",
   "execution_count": 12,
   "id": "3ab79921-7e1b-4bb9-9ec4-bedfcea777fb",
   "metadata": {},
   "outputs": [
    {
     "data": {
      "text/plain": [
       "-1"
      ]
     },
     "execution_count": 12,
     "metadata": {},
     "output_type": "execute_result"
    }
   ],
   "source": [
    "-1**2"
   ]
  },
  {
   "cell_type": "code",
   "execution_count": 13,
   "id": "5070e29f-203e-4bee-9326-809b31f255b9",
   "metadata": {},
   "outputs": [
    {
     "data": {
      "text/plain": [
       "0.6065306597126334"
      ]
     },
     "execution_count": 13,
     "metadata": {},
     "output_type": "execute_result"
    }
   ],
   "source": [
    "np.exp(-0.5)"
   ]
  },
  {
   "cell_type": "code",
   "execution_count": 8,
   "id": "30f242c1-0049-4192-945f-9b4128e4ac01",
   "metadata": {},
   "outputs": [
    {
     "data": {
      "text/plain": [
       "2.5066282746310002"
      ]
     },
     "execution_count": 8,
     "metadata": {},
     "output_type": "execute_result"
    }
   ],
   "source": [
    "np.sqrt(2 * np.pi)"
   ]
  },
  {
   "cell_type": "code",
   "execution_count": 6,
   "id": "3ce70499-ba5e-41f5-a872-c508e68409a9",
   "metadata": {},
   "outputs": [
    {
     "data": {
      "text/plain": [
       "2.5059928172283334"
      ]
     },
     "execution_count": 6,
     "metadata": {},
     "output_type": "execute_result"
    }
   ],
   "source": [
    "np.sqrt(6.28)"
   ]
  },
  {
   "cell_type": "code",
   "execution_count": 4,
   "id": "1b9da36c-2c3c-4d2d-9c05-6a8fd05f9f71",
   "metadata": {},
   "outputs": [
    {
     "data": {
      "text/plain": [
       "7.38905609893065"
      ]
     },
     "execution_count": 4,
     "metadata": {},
     "output_type": "execute_result"
    }
   ],
   "source": [
    "np.exp(2)"
   ]
  },
  {
   "cell_type": "markdown",
   "id": "cf42b8cb-77e9-4710-beea-3a11acd6c53d",
   "metadata": {},
   "source": [
    "Copy and run!   \n",
    "`x = 2 # Assign a value to an object called x`"
   ]
  },
  {
   "cell_type": "code",
   "execution_count": 19,
   "id": "ff0edcb1-25b8-46c1-9217-85c72ac1e7bb",
   "metadata": {},
   "outputs": [],
   "source": [
    "x = 2 # Assign a value to an object called x"
   ]
  },
  {
   "cell_type": "code",
   "execution_count": 20,
   "id": "0e72c00b-38ac-4cb6-b87e-42595d80a106",
   "metadata": {},
   "outputs": [
    {
     "name": "stdout",
     "output_type": "stream",
     "text": [
      "2\n"
     ]
    }
   ],
   "source": [
    "print(x)"
   ]
  },
  {
   "cell_type": "markdown",
   "id": "d68c46dc-7187-4704-907e-8284110ab6e9",
   "metadata": {},
   "source": [
    "In computer science data types are very important, because the data type determines what you can do with the values"
   ]
  },
  {
   "cell_type": "markdown",
   "id": "e09ed9fe-f511-49c9-a7ef-366efbd7d4b9",
   "metadata": {},
   "source": [
    "Copy and run!  \n",
    "`type(x) # What type of variable is x?`"
   ]
  },
  {
   "cell_type": "code",
   "execution_count": 21,
   "id": "4df004d2-6b14-460a-8914-bc7555a5d168",
   "metadata": {},
   "outputs": [
    {
     "data": {
      "text/plain": [
       "int"
      ]
     },
     "execution_count": 21,
     "metadata": {},
     "output_type": "execute_result"
    }
   ],
   "source": [
    "type(x) # What type of variable is x?"
   ]
  },
  {
   "cell_type": "markdown",
   "id": "950a118c-3291-41ab-9920-80b7671bd2ee",
   "metadata": {},
   "source": [
    "Copy and run!  \n",
    "`y = np.exp(-x**2 / 2) / np.sqrt(2 * np.pi) # determines the height of a normal gaussian at x standard devciations`  \n",
    "`print('x:',x)`  \n",
    "`print('y:',y)`"
   ]
  },
  {
   "cell_type": "code",
   "execution_count": 22,
   "id": "c68b053c-67bc-4478-b6c5-a944a82a5408",
   "metadata": {},
   "outputs": [
    {
     "name": "stdout",
     "output_type": "stream",
     "text": [
      "x: 2\n",
      "y: 0.05399096651318806\n"
     ]
    }
   ],
   "source": [
    "y = np.exp(-x**2 / 2) / np.sqrt(2 * np.pi) # determines the height of a normal gaussian at x standard devciations\n",
    "print('x:',x)\n",
    "print('y:',y)"
   ]
  },
  {
   "cell_type": "code",
   "execution_count": 23,
   "id": "0fc1bd9c-5794-4eb2-9a22-80cdd790af1d",
   "metadata": {},
   "outputs": [
    {
     "data": {
      "image/png": "[encoded data removed]",
      "text/plain": [
       "<Figure size 432x288 with 1 Axes>"
      ]
     },
     "metadata": {
      "needs_background": "light"
     },
     "output_type": "display_data"
    }
   ],
   "source": [
    "import matplotlib.pyplot as plt # import matplotlib.pyplot\n",
    "# you need to run the following line to produce visualizations in a jupyter notebook\n",
    "%matplotlib inline\n",
    "plt.plot(x, y); # plot y vs x"
   ]
  },
  {
   "cell_type": "markdown",
   "id": "f9b91648-2bb3-4e2b-8ba8-a2ca85472515",
   "metadata": {},
   "source": [
    "Copy and run!  \n",
    "`x = np.array([-2, -1.5, -1, -.5, 0, .5, 1, 1.5, 2]) # I want x and y to be many values not just a single value`"
   ]
  },
  {
   "cell_type": "code",
   "execution_count": 24,
   "id": "0fdb2887-a157-420a-9c78-a3c7ce528f87",
   "metadata": {},
   "outputs": [],
   "source": [
    "x = np.array([-2, -1.5, -1, -.5, 0, .5, 1, 1.5, 2]) # I want x and y to be many values not just a single value"
   ]
  },
  {
   "cell_type": "markdown",
   "id": "f35ee46d-8c2e-4767-8d09-5af0528eef67",
   "metadata": {},
   "source": [
    "Copy and run!  \n",
    "`print('the data type of x is:', type(x)) # What type of variable is x?`  \n",
    "`print('x contains data of type:', x.dtype) # What kind of data is in x?`"
   ]
  },
  {
   "cell_type": "code",
   "execution_count": 25,
   "id": "bc1267b0-bab4-4506-8291-b6db1e118033",
   "metadata": {},
   "outputs": [
    {
     "name": "stdout",
     "output_type": "stream",
     "text": [
      "the data type of x is: <class 'numpy.ndarray'>\n",
      "x contains data of type: float64\n"
     ]
    }
   ],
   "source": [
    "print('the data type of x is:', type(x)) # What type of variable is x?\n",
    "print('x contains data of type:', x.dtype) # What kind of data is in x?"
   ]
  },
  {
   "cell_type": "markdown",
   "id": "25186c76-91b1-472f-839e-e4648ffc3c09",
   "metadata": {},
   "source": [
    "Copy and run!  \n",
    "`y = np.exp(-x**2 / 2) / np.sqrt(2 * np.pi) # the values of a normal gaussian at all of x's values`"
   ]
  },
  {
   "cell_type": "code",
   "execution_count": 26,
   "id": "32d4c766-37c9-4104-a0a5-014c0a448685",
   "metadata": {},
   "outputs": [],
   "source": [
    "y = np.exp(-x**2 / 2) / np.sqrt(2 * np.pi) # the values of a normal gaussian at all of x's values"
   ]
  },
  {
   "cell_type": "code",
   "execution_count": 27,
   "id": "bed177dc-e595-431e-85ee-f388a497a2a0",
   "metadata": {},
   "outputs": [
    {
     "name": "stdout",
     "output_type": "stream",
     "text": [
      "[0.05399097 0.1295176  0.24197072 0.35206533 0.39894228 0.35206533\n",
      " 0.24197072 0.1295176  0.05399097]\n"
     ]
    }
   ],
   "source": [
    "print(y)"
   ]
  },
  {
   "cell_type": "markdown",
   "id": "f42c7959-279c-49ef-8ae6-539739a5c2e5",
   "metadata": {},
   "source": [
    "Copy and run!  \n",
    "`import matplotlib.pyplot as plt # import matplotlib.pyplot`  \n",
    "`# you need to run the following line to produce visualizations in a jupyter notebook`  \n",
    "`%matplotlib inline`  \n",
    "`plt.plot(x, y); # plot y vs x`"
   ]
  },
  {
   "cell_type": "code",
   "execution_count": 28,
   "id": "0e15396e-b6d5-41b5-8936-972c657b5996",
   "metadata": {},
   "outputs": [
    {
     "data": {
      "image/png": "[encoded data removed]",
      "text/plain": [
       "<Figure size 432x288 with 1 Axes>"
      ]
     },
     "metadata": {
      "needs_background": "light"
     },
     "output_type": "display_data"
    }
   ],
   "source": [
    "import matplotlib.pyplot as plt # import matplotlib.pyplot\n",
    "# you need to run the following line to produce visualizations in a jupyter notebook\n",
    "%matplotlib inline\n",
    "plt.plot(x, y); # plot y vs x"
   ]
  },
  {
   "cell_type": "markdown",
   "id": "f8416e83-7787-4769-9173-4b1c1a88cdc2",
   "metadata": {},
   "source": [
    "Copy and run!  \n",
    "`x = np.arange(start=-2.5, stop=2.6, step=0.1) # create 51 x values from -2.5 to 2.5 by steps of 0.1`   \n",
    "`y = np.exp(-x**2 / 2) / np.sqrt(2 * np.pi) # creatre a y value for each x value`  \n",
    "`plt.plot(x, y); # plot y vs x`"
   ]
  },
  {
   "cell_type": "code",
   "execution_count": 29,
   "id": "f5318274-5935-44e4-b4c9-322552acc7c0",
   "metadata": {},
   "outputs": [
    {
     "data": {
      "image/png": "[encoded data removed]",
      "text/plain": [
       "<Figure size 432x288 with 1 Axes>"
      ]
     },
     "metadata": {
      "needs_background": "light"
     },
     "output_type": "display_data"
    }
   ],
   "source": [
    "x = np.arange(start=-2.5, stop=2.6, step=0.1) # create 51 x values from -2.5 to 2.5 by steps of 0.1\n",
    "y = np.exp(-x**2 / 2) / np.sqrt(2 * np.pi) # creatre a y value for each x value\n",
    "plt.plot(x, y); # plot y vs x"
   ]
  },
  {
   "cell_type": "code",
   "execution_count": null,
   "id": "7c2f69d5-9986-4c4b-8497-7b51aeca1df8",
   "metadata": {},
   "outputs": [],
   "source": []
  }
 ],
 "metadata": {
  "kernelspec": {
   "display_name": "Python 3 (ipykernel)",
   "language": "python",
   "name": "python3"
  },
  "language_info": {
   "codemirror_mode": {
    "name": "ipython",
    "version": 3
   },
   "file_extension": ".py",
   "mimetype": "text/x-python",
   "name": "python",
   "nbconvert_exporter": "python",
   "pygments_lexer": "ipython3",
   "version": "3.9.7"
  }
 },
 "nbformat": 4,
 "nbformat_minor": 5
}
