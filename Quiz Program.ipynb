{
 "cells": [
  {
   "cell_type": "code",
   "execution_count": 1,
   "id": "3c3162d3-95af-4988-a623-fb0a91aba07d",
   "metadata": {},
   "outputs": [
    {
     "name": "stdout",
     "output_type": "stream",
     "text": [
      "What is the capital of France?\n"
     ]
    },
    {
     "name": "stdin",
     "output_type": "stream",
     "text": [
      "Answer? paris\n"
     ]
    },
    {
     "name": "stdout",
     "output_type": "stream",
     "text": [
      "Correct!\n",
      "Your score is: 1 out of 7\n",
      "What is the capital of Germany?\n"
     ]
    },
    {
     "name": "stdin",
     "output_type": "stream",
     "text": [
      "Answer? berlin\n"
     ]
    },
    {
     "name": "stdout",
     "output_type": "stream",
     "text": [
      "Correct!\n",
      "Your score is: 2 out of 7\n",
      "What is the capital of Italy?\n"
     ]
    },
    {
     "name": "stdin",
     "output_type": "stream",
     "text": [
      "Answer? rome\n"
     ]
    },
    {
     "name": "stdout",
     "output_type": "stream",
     "text": [
      "Correct!\n",
      "Your score is: 3 out of 7\n",
      "What is the capital of Spain?\n"
     ]
    },
    {
     "name": "stdin",
     "output_type": "stream",
     "text": [
      "Answer? madrid\n"
     ]
    },
    {
     "name": "stdout",
     "output_type": "stream",
     "text": [
      "Correct!\n",
      "Your score is: 4 out of 7\n",
      "What is the capital of Portugal?\n"
     ]
    },
    {
     "name": "stdin",
     "output_type": "stream",
     "text": [
      "Answer? lisbon\n"
     ]
    },
    {
     "name": "stdout",
     "output_type": "stream",
     "text": [
      "Correct!\n",
      "Your score is: 5 out of 7\n",
      "What is the capital of Switzerland?\n"
     ]
    },
    {
     "name": "stdin",
     "output_type": "stream",
     "text": [
      "Answer? bern\n"
     ]
    },
    {
     "name": "stdout",
     "output_type": "stream",
     "text": [
      "Correct!\n",
      "Your score is: 6 out of 7\n",
      "What is the capital of Austria?\n"
     ]
    },
    {
     "name": "stdin",
     "output_type": "stream",
     "text": [
      "Answer? vienna\n"
     ]
    },
    {
     "name": "stdout",
     "output_type": "stream",
     "text": [
      "Correct!\n",
      "Your score is: 7 out of 7\n"
     ]
    }
   ],
   "source": [
    "# A dictionary that stores questions and answers\n",
    "# Have a variable that tracks the score of the test taker\n",
    "# Loop through the dictionary using the key values pairs\n",
    "# Display each question to the user and allow them to answer\n",
    "# Tell them if they are right or wrong\n",
    "# Show the final result when quiz is completed\n",
    "\n",
    "quiz = {\n",
    "    'Question1': {\n",
    "        'question': 'What is the capital of France?',\n",
    "        'answer': 'Paris'\n",
    "    },\n",
    "    'Question2': {\n",
    "        'question': 'What is the capital of Germany?',\n",
    "        'answer': 'Berlin'\n",
    "    },\n",
    "    'Question3': {\n",
    "        'question': 'What is the capital of Italy?',\n",
    "        'answer': 'Rome'\n",
    "    },\n",
    "    'Question4': {\n",
    "        'question': 'What is the capital of Spain?',\n",
    "        'answer': 'Madrid'\n",
    "    },\n",
    "    'Question5': {\n",
    "        'question': 'What is the capital of Portugal?',\n",
    "        'answer': 'Lisbon'\n",
    "    },\n",
    "    'Question6': {\n",
    "        'question': 'What is the capital of Switzerland?',\n",
    "        'answer': 'Bern'\n",
    "    },\n",
    "    'Question7': {\n",
    "        'question': 'What is the capital of Austria?',\n",
    "        'answer': 'Vienna'\n",
    "    },\n",
    "}\n",
    "\n",
    "score = 0\n",
    "\n",
    "for key, value in quiz.items():\n",
    "    print(value['question'])\n",
    "    answer = input('Answer?')\n",
    "\n",
    "    if answer.lower() == value['answer'].lower():\n",
    "        print('Correct!')\n",
    "        score = score + 1\n",
    "        print('Your score is: ' + str(score) + ' out of 7')\n",
    "\n",
    "    else:\n",
    "        print('Wrong!')\n",
    "        print('The answer is : ' + value['answer'])\n",
    "        print('Your score is: ' + str(score) + ' out of 7')"
   ]
  }
 ],
 "metadata": {
  "kernelspec": {
   "display_name": "Python 3 (ipykernel)",
   "language": "python",
   "name": "python3"
  },
  "language_info": {
   "codemirror_mode": {
    "name": "ipython",
    "version": 3
   },
   "file_extension": ".py",
   "mimetype": "text/x-python",
   "name": "python",
   "nbconvert_exporter": "python",
   "pygments_lexer": "ipython3",
   "version": "3.9.7"
  }
 },
 "nbformat": 4,
 "nbformat_minor": 5
}
