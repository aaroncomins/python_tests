{
 "cells": [
  {
   "cell_type": "markdown",
   "metadata": {},
   "source": [
    "# Assignment\n",
    "\n",
    "We build on the feature engineering we did in the last assignment and run k-means on the data with RFM features in order to do **customer segmentation**. Since k-means is unsupervised, we will also encounter challenges around interpreting results at the end. "
   ]
  },
  {
   "cell_type": "code",
   "execution_count": 67,
   "metadata": {},
   "outputs": [
    {
     "data": {
      "text/html": [
       "<div>\n",
       "<style scoped>\n",
       "    .dataframe tbody tr th:only-of-type {\n",
       "        vertical-align: middle;\n",
       "    }\n",
       "\n",
       "    .dataframe tbody tr th {\n",
       "        vertical-align: top;\n",
       "    }\n",
       "\n",
       "    .dataframe thead th {\n",
       "        text-align: right;\n",
       "    }\n",
       "</style>\n",
       "<table border=\"1\" class=\"dataframe\">\n",
       "  <thead>\n",
       "    <tr style=\"text-align: right;\">\n",
       "      <th></th>\n",
       "      <th>user_id</th>\n",
       "      <th>gender</th>\n",
       "      <th>address</th>\n",
       "      <th>store_id</th>\n",
       "      <th>trans_id</th>\n",
       "      <th>timestamp</th>\n",
       "      <th>item_id</th>\n",
       "      <th>quantity</th>\n",
       "      <th>dollar</th>\n",
       "    </tr>\n",
       "  </thead>\n",
       "  <tbody>\n",
       "    <tr>\n",
       "      <th>0</th>\n",
       "      <td>101981</td>\n",
       "      <td>F</td>\n",
       "      <td>E</td>\n",
       "      <td>2860</td>\n",
       "      <td>818463</td>\n",
       "      <td>11/1/2000 0:00</td>\n",
       "      <td>4.710000e+12</td>\n",
       "      <td>1</td>\n",
       "      <td>37</td>\n",
       "    </tr>\n",
       "    <tr>\n",
       "      <th>1</th>\n",
       "      <td>101981</td>\n",
       "      <td>F</td>\n",
       "      <td>E</td>\n",
       "      <td>2861</td>\n",
       "      <td>818464</td>\n",
       "      <td>11/1/2000 0:00</td>\n",
       "      <td>4.710000e+12</td>\n",
       "      <td>1</td>\n",
       "      <td>17</td>\n",
       "    </tr>\n",
       "    <tr>\n",
       "      <th>2</th>\n",
       "      <td>101981</td>\n",
       "      <td>F</td>\n",
       "      <td>E</td>\n",
       "      <td>2862</td>\n",
       "      <td>818465</td>\n",
       "      <td>11/1/2000 0:00</td>\n",
       "      <td>4.710000e+12</td>\n",
       "      <td>1</td>\n",
       "      <td>23</td>\n",
       "    </tr>\n",
       "    <tr>\n",
       "      <th>3</th>\n",
       "      <td>101981</td>\n",
       "      <td>F</td>\n",
       "      <td>E</td>\n",
       "      <td>2863</td>\n",
       "      <td>818466</td>\n",
       "      <td>11/1/2000 0:00</td>\n",
       "      <td>4.710000e+12</td>\n",
       "      <td>1</td>\n",
       "      <td>41</td>\n",
       "    </tr>\n",
       "    <tr>\n",
       "      <th>4</th>\n",
       "      <td>101981</td>\n",
       "      <td>F</td>\n",
       "      <td>E</td>\n",
       "      <td>2864</td>\n",
       "      <td>818467</td>\n",
       "      <td>11/1/2000 0:00</td>\n",
       "      <td>4.710000e+12</td>\n",
       "      <td>8</td>\n",
       "      <td>288</td>\n",
       "    </tr>\n",
       "  </tbody>\n",
       "</table>\n",
       "</div>"
      ],
      "text/plain": [
       "   user_id gender address  store_id  trans_id       timestamp       item_id  \\\n",
       "0   101981      F       E      2860    818463  11/1/2000 0:00  4.710000e+12   \n",
       "1   101981      F       E      2861    818464  11/1/2000 0:00  4.710000e+12   \n",
       "2   101981      F       E      2862    818465  11/1/2000 0:00  4.710000e+12   \n",
       "3   101981      F       E      2863    818466  11/1/2000 0:00  4.710000e+12   \n",
       "4   101981      F       E      2864    818467  11/1/2000 0:00  4.710000e+12   \n",
       "\n",
       "   quantity  dollar  \n",
       "0         1      37  \n",
       "1         1      17  \n",
       "2         1      23  \n",
       "3         1      41  \n",
       "4         8     288  "
      ]
     },
     "execution_count": 67,
     "metadata": {},
     "output_type": "execute_result"
    }
   ],
   "source": [
    "import pandas as pd\n",
    "col_names = ['user_id', 'gender', 'address', 'store_id', 'trans_id', 'timestamp', 'item_id', 'quantity', 'dollar']\n",
    "churn = pd.read_csv(\"../data/retail-churn.csv\", sep = \",\", skiprows = 1, names = col_names)\n",
    "churn.head()"
   ]
  },
  {
   "cell_type": "markdown",
   "metadata": {},
   "source": [
    "Run the feature engineering steps on the data to extract RFM features.  "
   ]
  },
  {
   "cell_type": "code",
   "execution_count": 68,
   "metadata": {},
   "outputs": [
    {
     "name": "stdout",
     "output_type": "stream",
     "text": [
      "(37058, 5)\n"
     ]
    },
    {
     "data": {
      "text/html": [
       "<div>\n",
       "<style scoped>\n",
       "    .dataframe tbody tr th:only-of-type {\n",
       "        vertical-align: middle;\n",
       "    }\n",
       "\n",
       "    .dataframe tbody tr th {\n",
       "        vertical-align: top;\n",
       "    }\n",
       "\n",
       "    .dataframe thead th {\n",
       "        text-align: right;\n",
       "    }\n",
       "</style>\n",
       "<table border=\"1\" class=\"dataframe\">\n",
       "  <thead>\n",
       "    <tr style=\"text-align: right;\">\n",
       "      <th></th>\n",
       "      <th>user_id</th>\n",
       "      <th>date</th>\n",
       "      <th>dollar_roll_sum_7D</th>\n",
       "      <th>quantity_roll_sum_7D</th>\n",
       "      <th>last_visit_ndays</th>\n",
       "    </tr>\n",
       "  </thead>\n",
       "  <tbody>\n",
       "    <tr>\n",
       "      <th>0</th>\n",
       "      <td>1113</td>\n",
       "      <td>2000-11-12</td>\n",
       "      <td>420.0</td>\n",
       "      <td>5.0</td>\n",
       "      <td>118.0</td>\n",
       "    </tr>\n",
       "    <tr>\n",
       "      <th>1</th>\n",
       "      <td>1113</td>\n",
       "      <td>2000-11-26</td>\n",
       "      <td>558.0</td>\n",
       "      <td>3.0</td>\n",
       "      <td>14.0</td>\n",
       "    </tr>\n",
       "    <tr>\n",
       "      <th>2</th>\n",
       "      <td>1113</td>\n",
       "      <td>2000-11-27</td>\n",
       "      <td>1182.0</td>\n",
       "      <td>9.0</td>\n",
       "      <td>1.0</td>\n",
       "    </tr>\n",
       "    <tr>\n",
       "      <th>3</th>\n",
       "      <td>1113</td>\n",
       "      <td>2001-01-06</td>\n",
       "      <td>628.0</td>\n",
       "      <td>9.0</td>\n",
       "      <td>40.0</td>\n",
       "    </tr>\n",
       "    <tr>\n",
       "      <th>4</th>\n",
       "      <td>1250</td>\n",
       "      <td>2001-02-04</td>\n",
       "      <td>734.0</td>\n",
       "      <td>5.0</td>\n",
       "      <td>118.0</td>\n",
       "    </tr>\n",
       "  </tbody>\n",
       "</table>\n",
       "</div>"
      ],
      "text/plain": [
       "   user_id       date  dollar_roll_sum_7D  quantity_roll_sum_7D  \\\n",
       "0     1113 2000-11-12               420.0                   5.0   \n",
       "1     1113 2000-11-26               558.0                   3.0   \n",
       "2     1113 2000-11-27              1182.0                   9.0   \n",
       "3     1113 2001-01-06               628.0                   9.0   \n",
       "4     1250 2001-02-04               734.0                   5.0   \n",
       "\n",
       "   last_visit_ndays  \n",
       "0             118.0  \n",
       "1              14.0  \n",
       "2               1.0  \n",
       "3              40.0  \n",
       "4             118.0  "
      ]
     },
     "execution_count": 68,
     "metadata": {},
     "output_type": "execute_result"
    }
   ],
   "source": [
    "churn['date'] =  pd.to_datetime(pd.to_datetime(churn['timestamp'], format = '%m/%d/%Y %H:%M').dt.date)\n",
    "churn_agg = churn.groupby(['user_id', 'date']).agg({'dollar': 'sum', 'quantity': 'sum'})\n",
    "churn_agg = churn_agg.reset_index()\n",
    "churn_roll = pd.DataFrame()\n",
    "churn_roll['dollar_roll_sum_7D'] = churn_agg.groupby('user_id').rolling(window = '7D', on = 'date')['dollar'].sum()\n",
    "churn_roll['quantity_roll_sum_7D'] = churn_agg.groupby('user_id').rolling(window = '7D', on = 'date')['quantity'].sum()\n",
    "churn_roll = churn_roll.reset_index()\n",
    "churn_roll['last_visit_ndays'] = churn_agg.groupby('user_id')['date'].diff(periods = 1).dt.days\n",
    "print(churn_roll.shape)\n",
    "\n",
    "# Should we impute or drop NaN/NaT in churn_roll['last_visit_ndays']?\n",
    "imputation_value = churn_roll['last_visit_ndays'].max() # None # \n",
    "if imputation_value is None:\n",
    "    # Drop (Remove all rows with NaN):\n",
    "    churn_roll.dropna(inplace = True)\n",
    "    print(churn_roll.shape)\n",
    "else:\n",
    "    # Impute (Replace all NaN in last_visit_ndays):\n",
    "    churn_roll['last_visit_ndays'] = churn_roll['last_visit_ndays'].fillna(imputation_value)\n",
    "\n",
    "churn_roll.head()"
   ]
  },
  {
   "cell_type": "markdown",
   "metadata": {},
   "source": [
    "The RFM features are:  'dollar_roll_sum_7D', 'quantity_roll_sum_7D', 'last_visit_ndays'"
   ]
  },
  {
   "cell_type": "markdown",
   "metadata": {},
   "source": [
    "1. Train a k-means algorithm on the 3 normalized RFM features using $k = 10$. What are the cluster centroids? The cluster centroids should be reported in the **original scale**, not the normalized scale. <span style=\"color:red\" float:right>[2 point]</span> "
   ]
  },
  {
   "cell_type": "code",
   "execution_count": 69,
   "metadata": {},
   "outputs": [
    {
     "data": {
      "text/html": [
       "<div>\n",
       "<style scoped>\n",
       "    .dataframe tbody tr th:only-of-type {\n",
       "        vertical-align: middle;\n",
       "    }\n",
       "\n",
       "    .dataframe tbody tr th {\n",
       "        vertical-align: top;\n",
       "    }\n",
       "\n",
       "    .dataframe thead th {\n",
       "        text-align: right;\n",
       "    }\n",
       "</style>\n",
       "<table border=\"1\" class=\"dataframe\">\n",
       "  <thead>\n",
       "    <tr style=\"text-align: right;\">\n",
       "      <th></th>\n",
       "      <th>dollar_roll_sum_7D</th>\n",
       "      <th>quantity_roll_sum_7D</th>\n",
       "      <th>last_visit_ndays</th>\n",
       "    </tr>\n",
       "  </thead>\n",
       "  <tbody>\n",
       "    <tr>\n",
       "      <th>0</th>\n",
       "      <td>-0.391987</td>\n",
       "      <td>-0.369911</td>\n",
       "      <td>1.555365</td>\n",
       "    </tr>\n",
       "    <tr>\n",
       "      <th>1</th>\n",
       "      <td>-0.325518</td>\n",
       "      <td>-0.461491</td>\n",
       "      <td>-0.614759</td>\n",
       "    </tr>\n",
       "    <tr>\n",
       "      <th>2</th>\n",
       "      <td>-0.024965</td>\n",
       "      <td>-0.186752</td>\n",
       "      <td>-0.886024</td>\n",
       "    </tr>\n",
       "    <tr>\n",
       "      <th>3</th>\n",
       "      <td>-0.291802</td>\n",
       "      <td>-0.186752</td>\n",
       "      <td>-0.072228</td>\n",
       "    </tr>\n",
       "    <tr>\n",
       "      <th>4</th>\n",
       "      <td>-0.240747</td>\n",
       "      <td>-0.369911</td>\n",
       "      <td>1.555365</td>\n",
       "    </tr>\n",
       "    <tr>\n",
       "      <th>5</th>\n",
       "      <td>0.168179</td>\n",
       "      <td>0.225358</td>\n",
       "      <td>-0.781691</td>\n",
       "    </tr>\n",
       "    <tr>\n",
       "      <th>6</th>\n",
       "      <td>0.010678</td>\n",
       "      <td>0.133778</td>\n",
       "      <td>1.555365</td>\n",
       "    </tr>\n",
       "    <tr>\n",
       "      <th>7</th>\n",
       "      <td>0.452838</td>\n",
       "      <td>0.408517</td>\n",
       "      <td>-0.823424</td>\n",
       "    </tr>\n",
       "    <tr>\n",
       "      <th>8</th>\n",
       "      <td>-0.385725</td>\n",
       "      <td>-0.461491</td>\n",
       "      <td>0.741569</td>\n",
       "    </tr>\n",
       "    <tr>\n",
       "      <th>9</th>\n",
       "      <td>0.308823</td>\n",
       "      <td>0.500097</td>\n",
       "      <td>1.555365</td>\n",
       "    </tr>\n",
       "  </tbody>\n",
       "</table>\n",
       "</div>"
      ],
      "text/plain": [
       "   dollar_roll_sum_7D  quantity_roll_sum_7D  last_visit_ndays\n",
       "0           -0.391987             -0.369911          1.555365\n",
       "1           -0.325518             -0.461491         -0.614759\n",
       "2           -0.024965             -0.186752         -0.886024\n",
       "3           -0.291802             -0.186752         -0.072228\n",
       "4           -0.240747             -0.369911          1.555365\n",
       "5            0.168179              0.225358         -0.781691\n",
       "6            0.010678              0.133778          1.555365\n",
       "7            0.452838              0.408517         -0.823424\n",
       "8           -0.385725             -0.461491          0.741569\n",
       "9            0.308823              0.500097          1.555365"
      ]
     },
     "execution_count": 69,
     "metadata": {},
     "output_type": "execute_result"
    }
   ],
   "source": [
    "# Add code here\n",
    "\n",
    "# Normalize data \n",
    "from sklearn.preprocessing import StandardScaler\n",
    "\n",
    "scaler = StandardScaler()\n",
    "normalized_data = scaler.fit_transform(\n",
    "    churn_roll[[\"dollar_roll_sum_7D\", \"quantity_roll_sum_7D\", \"last_visit_ndays\"]]\n",
    ")\n",
    "normalized_df = pd.DataFrame(normalized_data, columns=[\"dollar_roll_sum_7D\", \"quantity_roll_sum_7D\", \"last_visit_ndays\"])\n",
    "normalized_df[:10]"
   ]
  },
  {
   "cell_type": "code",
   "execution_count": 70,
   "metadata": {},
   "outputs": [
    {
     "name": "stdout",
     "output_type": "stream",
     "text": [
      "[[6.89586750e+02 7.56060606e+00 4.87014260e+01]\n",
      " [9.42505903e+02 1.02865364e+01 1.17321659e+02]\n",
      " [2.10940704e+04 9.10000000e+01 1.17887324e+01]\n",
      " [3.18266628e+03 3.36535948e+01 1.19073433e+01]\n",
      " [1.98044000e+04 9.72800000e+02 3.60000000e+00]\n",
      " [4.51157778e+04 2.31296296e+02 6.18518519e+00]\n",
      " [6.31378226e+03 6.88568548e+01 4.20342742e+01]\n",
      " [4.57154360e+02 6.13279091e+00 1.09207860e+01]\n",
      " [7.62720213e+03 2.79335106e+01 2.40797872e+01]\n",
      " [1.53561022e+03 1.72776985e+01 8.56496288e+00]]\n"
     ]
    }
   ],
   "source": [
    "from sklearn.cluster import KMeans\n",
    "\n",
    "number_of_clusters = 10\n",
    "# Instantiate a KMeans object with 10 clusters\n",
    "kmeans = KMeans(n_clusters=number_of_clusters, random_state=0, n_init=10)\n",
    "\n",
    "# Fit the model to your data\n",
    "kmeans.fit(normalized_df)\n",
    "\n",
    "# Get the cluster centers\n",
    "cluster_assignments = kmeans.predict(normalized_df)\n",
    "\n",
    "# Reverse the normalization\n",
    "centroids = scaler.inverse_transform(kmeans.cluster_centers_)\n",
    "\n",
    "# Print the centroids\n",
    "print(centroids)"
   ]
  },
  {
   "cell_type": "markdown",
   "metadata": {},
   "source": [
    "2. Our earlier choice of $k=10$ was arbitrary. To find a better number of $k$ create a **scree plot**, which plots the number of clusters $k$ on the x-axis and the sum of squared distances from each point to its cluster centroid on the y-axis. We can get the latter by calling the `inertia_` attribute as shown in the lab. Plot the scree plot for $k$ values from 1 to 15. <span style=\"color:red\" float:right>[4 point]</span>"
   ]
  },
  {
   "cell_type": "code",
   "execution_count": 71,
   "metadata": {},
   "outputs": [],
   "source": [
    "# Add code here\n",
    "inertia_values = []\n",
    "\n",
    "for i in range(1, 16):\n",
    "  kmeans = KMeans(n_clusters=i, n_init=5).fit(normalized_df)\n",
    "  inertia_values.append(kmeans.inertia_)"
   ]
  },
  {
   "cell_type": "code",
   "execution_count": 72,
   "metadata": {},
   "outputs": [
    {
     "data": {
      "image/png": "[encoded data removed]",
      "text/plain": [
       "<Figure size 1000x600 with 1 Axes>"
      ]
     },
     "metadata": {},
     "output_type": "display_data"
    }
   ],
   "source": [
    "import matplotlib.pyplot as plt\n",
    "\n",
    "# plot a graph\n",
    "plt.figure(figsize=(10, 6))\n",
    "plt.title('Scree Plot')\n",
    "plt.xlabel('Number of clusters (k)')\n",
    "plt.ylabel('Inertia')\n",
    "plt.plot(range(1, 16), inertia_values, marker='o')\n",
    "plt.show()"
   ]
  },
  {
   "cell_type": "markdown",
   "metadata": {},
   "source": [
    "3. Based on the scree plot, what is a good value to pick for $k$? Provide a brief justification for your choice. <span style=\"color:red\" float:right>[2 point]</span>"
   ]
  },
  {
   "cell_type": "code",
   "execution_count": 73,
   "metadata": {},
   "outputs": [
    {
     "name": "stdout",
     "output_type": "stream",
     "text": [
      "Rate of inertia decrease when going from 3 to 4 clusters: 1.1924292289115381\n",
      "Rate of inertia decrease when going from 4 to 5 clusters: 2.510481821179431\n",
      "Rate of inertia decrease when going from 5 to 6 clusters: 1.7812153463607814\n"
     ]
    }
   ],
   "source": [
    "# Let's calculate the decrease in inertia when moving from one cluster to another\n",
    "inertia_decrease_3_to_4 = inertia_values[2] - inertia_values[3]\n",
    "inertia_decrease_4_to_5 = inertia_values[3] - inertia_values[4]\n",
    "inertia_decrease_5_to_6 = inertia_values[4] - inertia_values[5]\n",
    "inertia_decrease_6_to_7 = inertia_values[5] - inertia_values[6]\n",
    "\n",
    "# Print out the rate of inertia decrease for each consecutive pair of clusters\n",
    "# This quantitatively represents how much the inertia decreases when adding one more cluster\n",
    "print(f\"Rate of inertia decrease when going from 3 to 4 clusters: {inertia_decrease_3_to_4/inertia_decrease_4_to_5}\")\n",
    "print(f\"Rate of inertia decrease when going from 4 to 5 clusters: {inertia_decrease_4_to_5/inertia_decrease_5_to_6}\")\n",
    "print(f\"Rate of inertia decrease when going from 5 to 6 clusters: {inertia_decrease_5_to_6/inertia_decrease_6_to_7}\")"
   ]
  },
  {
   "cell_type": "markdown",
   "metadata": {},
   "source": [
    "**Add Comment here**   \n",
    "Based on the scree plot, I would choose 5 as the optimal number of clusters. The reason for this choice is that after 5 clusters, the rate at which the inertia decreases becomes notably slower. This means that adding more clusters after 5 doesn't give us as much improvement in defining distinct groups within the data. Thus, it seems reasonable to pick 5 as the ideal balance between having a manageable number of clusters and minimizing within-cluster variance."
   ]
  },
  {
   "cell_type": "markdown",
   "metadata": {},
   "source": [
    "4. Train a k-means algorithm on the RFM features using your new value of $k$. Report:\n",
    "- the size (number of items) of each cluster\n",
    "- the mean of each cluster in the original scale\n",
    "- the standard deviation of each cluster in the Z-normalized scale\n",
    "<span style=\"color:red\" float:right>[2 point]</span>"
   ]
  },
  {
   "cell_type": "code",
   "execution_count": 74,
   "metadata": {},
   "outputs": [
    {
     "name": "stdout",
     "output_type": "stream",
     "text": [
      "Cluster Sizes:\n",
      "0    23142\n",
      "2    10636\n",
      "4     3213\n",
      "1       57\n",
      "3       10\n",
      "Name: cluster, dtype: int64\n",
      "\n",
      "Cluster Means (Original Scale):\n",
      "              user_id  dollar_roll_sum_7D  quantity_roll_sum_7D  \\\n",
      "cluster                                                           \n",
      "0        1.371139e+06          833.555484              9.972993   \n",
      "1        1.568358e+06        35457.385965            165.982456   \n",
      "2        1.480733e+06          927.462768             10.117243   \n",
      "3        2.002109e+06        19804.400000            972.800000   \n",
      "4        1.327687e+06         4466.095549             39.548708   \n",
      "\n",
      "         last_visit_ndays  \n",
      "cluster                    \n",
      "0               14.182741  \n",
      "1               10.543860  \n",
      "2              114.889902  \n",
      "3                3.600000  \n",
      "4               18.602552  \n",
      "\n",
      "Cluster Standard Deviations (Z-normalized Scale):\n",
      "         dollar_roll_sum_7D  quantity_roll_sum_7D  last_visit_ndays\n",
      "cluster                                                            \n",
      "0                  0.322082              0.326147          0.291173\n",
      "1                  6.821948              4.869316          0.559493\n",
      "2                  0.429249              0.395533          0.229796\n",
      "3                  4.994264             12.892315          0.093938\n",
      "4                  1.209619              0.902967          0.648990\n"
     ]
    }
   ],
   "source": [
    "# Add code here\n",
    "\n",
    "number_of_clusters = 5\n",
    "kmeans = KMeans(n_clusters=number_of_clusters, random_state=0, n_init=10)\n",
    "kmeans.fit(normalized_df)\n",
    "\n",
    "# Getting the cluster assignments for each data point\n",
    "labels = kmeans.labels_\n",
    "\n",
    "# Append the labels to the original and normalized dataframe\n",
    "churn_roll['cluster'] = labels\n",
    "normalized_df['cluster'] = labels\n",
    "\n",
    "# Reporting the size of each cluster\n",
    "print(\"Cluster Sizes:\")\n",
    "print(churn_roll['cluster'].value_counts())\n",
    "\n",
    "# Calculating and reporting the mean of each cluster in the original scale\n",
    "print(\"\\nCluster Means (Original Scale):\")\n",
    "print(churn_roll.groupby('cluster').mean(numeric_only=True))\n",
    "\n",
    "# Calculating and reporting the standard deviation of each cluster in the Z-normalized scale\n",
    "print(\"\\nCluster Standard Deviations (Z-normalized Scale):\")\n",
    "print(normalized_df.groupby('cluster').std())\n"
   ]
  },
  {
   "cell_type": "markdown",
   "metadata": {},
   "source": [
    "5. Pick 3 clusters at random and describe what makes them different from one another (in terms of their RFM features). <span style=\"color:red\" float:right>[3 point]</span>"
   ]
  },
  {
   "cell_type": "markdown",
   "metadata": {},
   "source": [
    "**Add Comment here**  \n"
   ]
  },
  {
   "cell_type": "markdown",
   "metadata": {},
   "source": [
    "Cluster 0: This is the biggest cluster, hosting 23142 customers. On average, each customer spends around $800 and purchases roughly 10 items. This indicates these customers are regular shoppers.\n",
    "\n",
    "Cluster 2: This cluster is approximately 7 times smaller than Cluster 0. However, customers here spend about 5 times more and buy 4 times more items than those in Cluster 0. Their last visit isn't too different from regular customers. This group can be labeled as high-spending customers.\n",
    "\n",
    "Cluster 4: This cluster includes a tiny fraction of customers (only 10), but they demonstrate high spending and a large quantity of items bought. Their last visit record is incredibly low, implying very recent visits. Given these extraordinary traits, we can classify this group as outliers."
   ]
  },
  {
   "cell_type": "markdown",
   "metadata": {},
   "source": [
    "# End of assignment"
   ]
  }
 ],
 "metadata": {
  "kernelspec": {
   "display_name": "Python 3 (ipykernel)",
   "language": "python",
   "name": "python3"
  },
  "language_info": {
   "codemirror_mode": {
    "name": "ipython",
    "version": 3
   },
   "file_extension": ".py",
   "mimetype": "text/x-python",
   "name": "python",
   "nbconvert_exporter": "python",
   "pygments_lexer": "ipython3",
   "version": "3.9.7"
  }
 },
 "nbformat": 4,
 "nbformat_minor": 4
}
