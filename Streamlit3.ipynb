{
 "cells": [
  {
   "cell_type": "code",
   "execution_count": null,
   "id": "88991170-c3fc-4e0d-bb9d-1f157c48da01",
   "metadata": {
    "collapsed": true,
    "jupyter": {
     "outputs_hidden": true
    },
    "tags": []
   },
   "outputs": [
    {
     "name": "stdout",
     "output_type": "stream",
     "text": [
      "Requirement already satisfied: streamlit in /home/jovyan/.local/lib/python3.9/site-packages (1.12.0)\n",
      "Requirement already satisfied: rich>=10.11.0 in /home/jovyan/.local/lib/python3.9/site-packages (from streamlit) (13.3.5)\n",
      "Requirement already satisfied: toml in /opt/conda/lib/python3.9/site-packages (from streamlit) (0.10.2)\n",
      "Requirement already satisfied: validators>=0.2 in /home/jovyan/.local/lib/python3.9/site-packages (from streamlit) (0.20.0)\n",
      "Requirement already satisfied: watchdog in /home/jovyan/.local/lib/python3.9/site-packages (from streamlit) (3.0.0)\n",
      "Requirement already satisfied: pillow>=6.2.0 in /opt/conda/lib/python3.9/site-packages (from streamlit) (8.3.2)\n",
      "Requirement already satisfied: tornado>=5.0 in /opt/conda/lib/python3.9/site-packages (from streamlit) (6.1)\n",
      "Requirement already satisfied: pympler>=0.9 in /home/jovyan/.local/lib/python3.9/site-packages (from streamlit) (1.0.1)\n",
      "Requirement already satisfied: pandas>=0.21.0 in /opt/conda/lib/python3.9/site-packages (from streamlit) (1.3.4)\n",
      "Requirement already satisfied: typing-extensions>=3.10.0.0 in /opt/conda/lib/python3.9/site-packages (from streamlit) (3.10.0.2)\n",
      "Requirement already satisfied: importlib-metadata>=1.4 in /opt/conda/lib/python3.9/site-packages (from streamlit) (4.8.2)\n",
      "Requirement already satisfied: packaging>=14.1 in /opt/conda/lib/python3.9/site-packages (from streamlit) (21.2)\n",
      "Requirement already satisfied: semver in /opt/conda/lib/python3.9/site-packages (from streamlit) (2.13.0)\n",
      "Requirement already satisfied: pyarrow>=4.0 in /home/jovyan/.local/lib/python3.9/site-packages (from streamlit) (12.0.0)\n",
      "Requirement already satisfied: tzlocal>=1.1 in /home/jovyan/.local/lib/python3.9/site-packages (from streamlit) (4.3)\n",
      "Requirement already satisfied: click>=7.0 in /opt/conda/lib/python3.9/site-packages (from streamlit) (8.0.3)\n",
      "Requirement already satisfied: gitpython!=3.1.19 in /home/jovyan/.local/lib/python3.9/site-packages (from streamlit) (3.1.31)\n",
      "Requirement already satisfied: altair>=3.2.0 in /opt/conda/lib/python3.9/site-packages (from streamlit) (4.1.0)\n",
      "Requirement already satisfied: cachetools>=4.0 in /opt/conda/lib/python3.9/site-packages (from streamlit) (4.2.4)\n",
      "Requirement already satisfied: protobuf<4,>=3.12 in /opt/conda/lib/python3.9/site-packages (from streamlit) (3.19.1)\n",
      "Requirement already satisfied: pydeck>=0.1.dev5 in /home/jovyan/.local/lib/python3.9/site-packages (from streamlit) (0.8.1b0)\n",
      "Requirement already satisfied: requests>=2.4 in /opt/conda/lib/python3.9/site-packages (from streamlit) (2.26.0)\n",
      "Requirement already satisfied: numpy in /opt/conda/lib/python3.9/site-packages (from streamlit) (1.20.3)\n",
      "Requirement already satisfied: python-dateutil in /opt/conda/lib/python3.9/site-packages (from streamlit) (2.8.2)\n",
      "Requirement already satisfied: blinker>=1.0.0 in /opt/conda/lib/python3.9/site-packages (from streamlit) (1.4)\n",
      "Requirement already satisfied: jsonschema in /opt/conda/lib/python3.9/site-packages (from altair>=3.2.0->streamlit) (4.2.1)\n",
      "Requirement already satisfied: entrypoints in /opt/conda/lib/python3.9/site-packages (from altair>=3.2.0->streamlit) (0.3)\n",
      "Requirement already satisfied: toolz in /opt/conda/lib/python3.9/site-packages (from altair>=3.2.0->streamlit) (0.11.2)\n",
      "Requirement already satisfied: jinja2 in /opt/conda/lib/python3.9/site-packages (from altair>=3.2.0->streamlit) (3.0.2)\n",
      "Requirement already satisfied: gitdb<5,>=4.0.1 in /home/jovyan/.local/lib/python3.9/site-packages (from gitpython!=3.1.19->streamlit) (4.0.10)\n",
      "Requirement already satisfied: zipp>=0.5 in /opt/conda/lib/python3.9/site-packages (from importlib-metadata>=1.4->streamlit) (3.6.0)\n",
      "Requirement already satisfied: pyparsing<3,>=2.0.2 in /opt/conda/lib/python3.9/site-packages (from packaging>=14.1->streamlit) (2.4.7)\n",
      "Requirement already satisfied: pytz>=2017.3 in /opt/conda/lib/python3.9/site-packages (from pandas>=0.21.0->streamlit) (2021.3)\n",
      "Requirement already satisfied: six>=1.5 in /opt/conda/lib/python3.9/site-packages (from python-dateutil->streamlit) (1.16.0)\n",
      "Requirement already satisfied: urllib3<1.27,>=1.21.1 in /opt/conda/lib/python3.9/site-packages (from requests>=2.4->streamlit) (1.26.7)\n",
      "Requirement already satisfied: certifi>=2017.4.17 in /opt/conda/lib/python3.9/site-packages (from requests>=2.4->streamlit) (2021.10.8)\n",
      "Requirement already satisfied: idna<4,>=2.5 in /opt/conda/lib/python3.9/site-packages (from requests>=2.4->streamlit) (3.1)\n",
      "Requirement already satisfied: charset-normalizer~=2.0.0 in /opt/conda/lib/python3.9/site-packages (from requests>=2.4->streamlit) (2.0.0)\n",
      "Requirement already satisfied: markdown-it-py<3.0.0,>=2.2.0 in /home/jovyan/.local/lib/python3.9/site-packages (from rich>=10.11.0->streamlit) (2.2.0)\n",
      "Requirement already satisfied: pygments<3.0.0,>=2.13.0 in /home/jovyan/.local/lib/python3.9/site-packages (from rich>=10.11.0->streamlit) (2.15.1)\n",
      "Requirement already satisfied: pytz-deprecation-shim in /home/jovyan/.local/lib/python3.9/site-packages (from tzlocal>=1.1->streamlit) (0.1.0.post0)\n",
      "Requirement already satisfied: decorator>=3.4.0 in /opt/conda/lib/python3.9/site-packages (from validators>=0.2->streamlit) (5.1.0)\n",
      "Requirement already satisfied: smmap<6,>=3.0.1 in /home/jovyan/.local/lib/python3.9/site-packages (from gitdb<5,>=4.0.1->gitpython!=3.1.19->streamlit) (5.0.0)\n",
      "Requirement already satisfied: MarkupSafe>=2.0 in /opt/conda/lib/python3.9/site-packages (from jinja2->altair>=3.2.0->streamlit) (2.0.1)\n",
      "Requirement already satisfied: mdurl~=0.1 in /home/jovyan/.local/lib/python3.9/site-packages (from markdown-it-py<3.0.0,>=2.2.0->rich>=10.11.0->streamlit) (0.1.2)\n",
      "Requirement already satisfied: pyrsistent!=0.17.0,!=0.17.1,!=0.17.2,>=0.14.0 in /opt/conda/lib/python3.9/site-packages (from jsonschema->altair>=3.2.0->streamlit) (0.18.0)\n",
      "Requirement already satisfied: attrs>=17.4.0 in /opt/conda/lib/python3.9/site-packages (from jsonschema->altair>=3.2.0->streamlit) (21.2.0)\n",
      "Requirement already satisfied: tzdata in /home/jovyan/.local/lib/python3.9/site-packages (from pytz-deprecation-shim->tzlocal>=1.1->streamlit) (2023.3)\n",
      "2023-05-11 17:04:35.463 INFO    numexpr.utils: Note: NumExpr detected 16 cores but \"NUMEXPR_MAX_THREADS\" not set, so enforcing safe limit of 8.\n",
      "2023-05-11 17:04:35.463 INFO    numexpr.utils: NumExpr defaulting to 8 threads.\n",
      "\u001b[0m\n",
      "\u001b[34m\u001b[1m  Welcome to Streamlit. Check out our demo in your browser.\u001b[0m\n",
      "\u001b[0m\n",
      "\u001b[34m  Network URL: \u001b[0m\u001b[1mhttp://10.2.194.54:8502\u001b[0m\n",
      "\u001b[34m  External URL: \u001b[0m\u001b[1mhttp://34.82.30.220:8502\u001b[0m\n",
      "\u001b[0m\n",
      "  Ready to create your own Python apps super quickly?\u001b[0m\n",
      "  Head over to \u001b[0m\u001b[1mhttps://docs.streamlit.io\u001b[0m\n",
      "\u001b[0m\n",
      "  May you create awesome apps!\u001b[0m\n",
      "\u001b[0m\n",
      "\u001b[0m\n"
     ]
    }
   ],
   "source": [
    "!pip install --user streamlit\n",
    "!streamlit hello"
   ]
  },
  {
   "cell_type": "code",
   "execution_count": null,
   "id": "6e9e38b7-2be9-41de-9f71-6ad0d784fa66",
   "metadata": {},
   "outputs": [],
   "source": [
    "%%writefile aaronstreamlit.py"
   ]
  },
  {
   "cell_type": "code",
   "execution_count": null,
   "id": "38074645-fdda-4777-bd6d-18fba796bc31",
   "metadata": {},
   "outputs": [],
   "source": [
    "import streamlit as st"
   ]
  },
  {
   "cell_type": "markdown",
   "id": "17727590-ce48-4175-bcf4-fd520a3c864f",
   "metadata": {},
   "source": [
    "st.set_page_config(page_title=\"Aaron's Webpage\", page_icon=':tada:', layout='wide')\n",
    "#https://webfx.com/tools/emoji-cheat-sheet/\n",
    "\n",
    "# Header Section\n",
    "st.subheader('Hi, I am Aaron :wave')\n",
    "st.title('A Data Analyst from Tampa')\n",
    "st.write('I am passionate about finding ways to use Python with everything!')\n",
    "st.write('[Learn more >](https://pythonandvba.com)')\n",
    "# Running\n",
    "streamlit run your_script.py\n",
    "#streamlit run main.py\n",
    "#streamlit run /opt/conda/lib/python3/site-packages/ipykernel_launcher.py"
   ]
  },
  {
   "cell_type": "code",
   "execution_count": null,
   "id": "e1924e96-8216-45f7-8030-0142cf6bd1f5",
   "metadata": {},
   "outputs": [],
   "source": [
    "st.set_page_config(page_title = \"Aaron's Webpage\", page_icon = \"=tada\", layout = \"wide\")\n",
    "\n",
    "st.subheader(\"Hi, I am Aaron :wave\")\n",
    "st.title(\"A DA from Florida\")\n",
    "st.write(\"I am passionate about finding ways to use Python with everything\")\n",
    "\n",
    "streamlit run aaronstreamlit.py"
   ]
  }
 ],
 "metadata": {
  "kernelspec": {
   "display_name": "Python 3 (ipykernel)",
   "language": "python",
   "name": "python3"
  },
  "language_info": {
   "codemirror_mode": {
    "name": "ipython",
    "version": 3
   },
   "file_extension": ".py",
   "mimetype": "text/x-python",
   "name": "python",
   "nbconvert_exporter": "python",
   "pygments_lexer": "ipython3",
   "version": "3.9.7"
  }
 },
 "nbformat": 4,
 "nbformat_minor": 5
}
