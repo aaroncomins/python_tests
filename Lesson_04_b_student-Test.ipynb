{
 "cells": [
  {
   "cell_type": "markdown",
   "metadata": {},
   "source": [
    "# Assignment\n",
    "\n",
    "In this assignment, we want to read in the `retail-churn.csv` dataset and run some EDA on the data. Generally speaking, when we run EDA on a dataset, we don't have a particular goal in mind. Instead we want to get a \"gut-feel\" for what the data looks like. The goal of the assignment is to show your ability to examine a dataset with increasing depth as you go."
   ]
  },
  {
   "cell_type": "code",
   "execution_count": 25,
   "metadata": {
    "scrolled": true
   },
   "outputs": [
    {
     "data": {
      "text/html": [
       "<div>\n",
       "<style scoped>\n",
       "    .dataframe tbody tr th:only-of-type {\n",
       "        vertical-align: middle;\n",
       "    }\n",
       "\n",
       "    .dataframe tbody tr th {\n",
       "        vertical-align: top;\n",
       "    }\n",
       "\n",
       "    .dataframe thead th {\n",
       "        text-align: right;\n",
       "    }\n",
       "</style>\n",
       "<table border=\"1\" class=\"dataframe\">\n",
       "  <thead>\n",
       "    <tr style=\"text-align: right;\">\n",
       "      <th></th>\n",
       "      <th>user_id</th>\n",
       "      <th>gender</th>\n",
       "      <th>address</th>\n",
       "      <th>store_id</th>\n",
       "      <th>trans_id</th>\n",
       "      <th>timestamp</th>\n",
       "      <th>item_id</th>\n",
       "      <th>quantity</th>\n",
       "      <th>dollar</th>\n",
       "    </tr>\n",
       "  </thead>\n",
       "  <tbody>\n",
       "    <tr>\n",
       "      <th>0</th>\n",
       "      <td>101981</td>\n",
       "      <td>F</td>\n",
       "      <td>E</td>\n",
       "      <td>2860</td>\n",
       "      <td>818463</td>\n",
       "      <td>11/1/2000 0:00</td>\n",
       "      <td>4,710,000,000,000.00</td>\n",
       "      <td>1</td>\n",
       "      <td>37</td>\n",
       "    </tr>\n",
       "    <tr>\n",
       "      <th>1</th>\n",
       "      <td>101981</td>\n",
       "      <td>F</td>\n",
       "      <td>E</td>\n",
       "      <td>2861</td>\n",
       "      <td>818464</td>\n",
       "      <td>11/1/2000 0:00</td>\n",
       "      <td>4,710,000,000,000.00</td>\n",
       "      <td>1</td>\n",
       "      <td>17</td>\n",
       "    </tr>\n",
       "    <tr>\n",
       "      <th>2</th>\n",
       "      <td>101981</td>\n",
       "      <td>F</td>\n",
       "      <td>E</td>\n",
       "      <td>2862</td>\n",
       "      <td>818465</td>\n",
       "      <td>11/1/2000 0:00</td>\n",
       "      <td>4,710,000,000,000.00</td>\n",
       "      <td>1</td>\n",
       "      <td>23</td>\n",
       "    </tr>\n",
       "    <tr>\n",
       "      <th>3</th>\n",
       "      <td>101981</td>\n",
       "      <td>F</td>\n",
       "      <td>E</td>\n",
       "      <td>2863</td>\n",
       "      <td>818466</td>\n",
       "      <td>11/1/2000 0:00</td>\n",
       "      <td>4,710,000,000,000.00</td>\n",
       "      <td>1</td>\n",
       "      <td>41</td>\n",
       "    </tr>\n",
       "    <tr>\n",
       "      <th>4</th>\n",
       "      <td>101981</td>\n",
       "      <td>F</td>\n",
       "      <td>E</td>\n",
       "      <td>2864</td>\n",
       "      <td>818467</td>\n",
       "      <td>11/1/2000 0:00</td>\n",
       "      <td>4,710,000,000,000.00</td>\n",
       "      <td>8</td>\n",
       "      <td>288</td>\n",
       "    </tr>\n",
       "  </tbody>\n",
       "</table>\n",
       "</div>"
      ],
      "text/plain": [
       "   user_id gender address  store_id  trans_id       timestamp  \\\n",
       "0   101981      F       E      2860    818463  11/1/2000 0:00   \n",
       "1   101981      F       E      2861    818464  11/1/2000 0:00   \n",
       "2   101981      F       E      2862    818465  11/1/2000 0:00   \n",
       "3   101981      F       E      2863    818466  11/1/2000 0:00   \n",
       "4   101981      F       E      2864    818467  11/1/2000 0:00   \n",
       "\n",
       "               item_id  quantity  dollar  \n",
       "0 4,710,000,000,000.00         1      37  \n",
       "1 4,710,000,000,000.00         1      17  \n",
       "2 4,710,000,000,000.00         1      23  \n",
       "3 4,710,000,000,000.00         1      41  \n",
       "4 4,710,000,000,000.00         8     288  "
      ]
     },
     "execution_count": 25,
     "metadata": {},
     "output_type": "execute_result"
    }
   ],
   "source": [
    "import pandas as pd\n",
    "#import datetime\n",
    "\n",
    "col_names = ['user_id', 'gender', 'address', 'store_id', 'trans_id', 'timestamp', 'item_id', 'quantity', 'dollar']\n",
    "churn = pd.read_csv(\"retail-churn.csv\", sep = \",\", skiprows = 1, names = col_names)\n",
    "churn.head()"
   ]
  },
  {
   "cell_type": "code",
   "execution_count": 26,
   "metadata": {},
   "outputs": [
    {
     "data": {
      "text/plain": [
       "pandas.core.frame.DataFrame"
      ]
     },
     "execution_count": 26,
     "metadata": {},
     "output_type": "execute_result"
    }
   ],
   "source": [
    "type(churn)"
   ]
  },
  {
   "cell_type": "code",
   "execution_count": 27,
   "metadata": {},
   "outputs": [
    {
     "name": "stdout",
     "output_type": "stream",
     "text": [
      "user_id        int64\n",
      "gender        object\n",
      "address       object\n",
      "store_id       int64\n",
      "trans_id       int64\n",
      "timestamp     object\n",
      "item_id      float64\n",
      "quantity       int64\n",
      "dollar         int64\n",
      "dtype: object\n"
     ]
    }
   ],
   "source": [
    "print(churn.dtypes)"
   ]
  },
  {
   "cell_type": "code",
   "execution_count": 28,
   "metadata": {},
   "outputs": [
    {
     "name": "stdout",
     "output_type": "stream",
     "text": [
      "user_id        int64\n",
      "gender        object\n",
      "address       object\n",
      "store_id       int64\n",
      "trans_id       int64\n",
      "timestamp     object\n",
      "item_id      float64\n",
      "quantity       int64\n",
      "dollar       float64\n",
      "dtype: object\n"
     ]
    },
    {
     "data": {
      "text/html": [
       "<div>\n",
       "<style scoped>\n",
       "    .dataframe tbody tr th:only-of-type {\n",
       "        vertical-align: middle;\n",
       "    }\n",
       "\n",
       "    .dataframe tbody tr th {\n",
       "        vertical-align: top;\n",
       "    }\n",
       "\n",
       "    .dataframe thead th {\n",
       "        text-align: right;\n",
       "    }\n",
       "</style>\n",
       "<table border=\"1\" class=\"dataframe\">\n",
       "  <thead>\n",
       "    <tr style=\"text-align: right;\">\n",
       "      <th></th>\n",
       "      <th>user_id</th>\n",
       "      <th>gender</th>\n",
       "      <th>address</th>\n",
       "      <th>store_id</th>\n",
       "      <th>trans_id</th>\n",
       "      <th>timestamp</th>\n",
       "      <th>item_id</th>\n",
       "      <th>quantity</th>\n",
       "      <th>dollar</th>\n",
       "    </tr>\n",
       "  </thead>\n",
       "  <tbody>\n",
       "    <tr>\n",
       "      <th>0</th>\n",
       "      <td>101981</td>\n",
       "      <td>F</td>\n",
       "      <td>E</td>\n",
       "      <td>2860</td>\n",
       "      <td>818463</td>\n",
       "      <td>11/1/2000 0:00</td>\n",
       "      <td>4,710,000,000,000.00</td>\n",
       "      <td>1</td>\n",
       "      <td>37.00</td>\n",
       "    </tr>\n",
       "    <tr>\n",
       "      <th>1</th>\n",
       "      <td>101981</td>\n",
       "      <td>F</td>\n",
       "      <td>E</td>\n",
       "      <td>2861</td>\n",
       "      <td>818464</td>\n",
       "      <td>11/1/2000 0:00</td>\n",
       "      <td>4,710,000,000,000.00</td>\n",
       "      <td>1</td>\n",
       "      <td>17.00</td>\n",
       "    </tr>\n",
       "    <tr>\n",
       "      <th>2</th>\n",
       "      <td>101981</td>\n",
       "      <td>F</td>\n",
       "      <td>E</td>\n",
       "      <td>2862</td>\n",
       "      <td>818465</td>\n",
       "      <td>11/1/2000 0:00</td>\n",
       "      <td>4,710,000,000,000.00</td>\n",
       "      <td>1</td>\n",
       "      <td>23.00</td>\n",
       "    </tr>\n",
       "    <tr>\n",
       "      <th>3</th>\n",
       "      <td>101981</td>\n",
       "      <td>F</td>\n",
       "      <td>E</td>\n",
       "      <td>2863</td>\n",
       "      <td>818466</td>\n",
       "      <td>11/1/2000 0:00</td>\n",
       "      <td>4,710,000,000,000.00</td>\n",
       "      <td>1</td>\n",
       "      <td>41.00</td>\n",
       "    </tr>\n",
       "    <tr>\n",
       "      <th>4</th>\n",
       "      <td>101981</td>\n",
       "      <td>F</td>\n",
       "      <td>E</td>\n",
       "      <td>2864</td>\n",
       "      <td>818467</td>\n",
       "      <td>11/1/2000 0:00</td>\n",
       "      <td>4,710,000,000,000.00</td>\n",
       "      <td>8</td>\n",
       "      <td>288.00</td>\n",
       "    </tr>\n",
       "  </tbody>\n",
       "</table>\n",
       "</div>"
      ],
      "text/plain": [
       "   user_id gender address  store_id  trans_id       timestamp  \\\n",
       "0   101981      F       E      2860    818463  11/1/2000 0:00   \n",
       "1   101981      F       E      2861    818464  11/1/2000 0:00   \n",
       "2   101981      F       E      2862    818465  11/1/2000 0:00   \n",
       "3   101981      F       E      2863    818466  11/1/2000 0:00   \n",
       "4   101981      F       E      2864    818467  11/1/2000 0:00   \n",
       "\n",
       "               item_id  quantity  dollar  \n",
       "0 4,710,000,000,000.00         1   37.00  \n",
       "1 4,710,000,000,000.00         1   17.00  \n",
       "2 4,710,000,000,000.00         1   23.00  \n",
       "3 4,710,000,000,000.00         1   41.00  \n",
       "4 4,710,000,000,000.00         8  288.00  "
      ]
     },
     "execution_count": 28,
     "metadata": {},
     "output_type": "execute_result"
    }
   ],
   "source": [
    "churn['dollar'] = churn['dollar'].astype(float)\n",
    "\n",
    "print(churn.dtypes)\n",
    "\n",
    "churn.head()"
   ]
  },
  {
   "cell_type": "code",
   "execution_count": 29,
   "metadata": {},
   "outputs": [
    {
     "name": "stdout",
     "output_type": "stream",
     "text": [
      "user_id        int64\n",
      "gender        object\n",
      "address       object\n",
      "store_id       int64\n",
      "trans_id       int64\n",
      "timestamp     object\n",
      "item_id        int64\n",
      "quantity       int64\n",
      "dollar       float64\n",
      "dtype: object\n"
     ]
    },
    {
     "data": {
      "text/html": [
       "<div>\n",
       "<style scoped>\n",
       "    .dataframe tbody tr th:only-of-type {\n",
       "        vertical-align: middle;\n",
       "    }\n",
       "\n",
       "    .dataframe tbody tr th {\n",
       "        vertical-align: top;\n",
       "    }\n",
       "\n",
       "    .dataframe thead th {\n",
       "        text-align: right;\n",
       "    }\n",
       "</style>\n",
       "<table border=\"1\" class=\"dataframe\">\n",
       "  <thead>\n",
       "    <tr style=\"text-align: right;\">\n",
       "      <th></th>\n",
       "      <th>user_id</th>\n",
       "      <th>gender</th>\n",
       "      <th>address</th>\n",
       "      <th>store_id</th>\n",
       "      <th>trans_id</th>\n",
       "      <th>timestamp</th>\n",
       "      <th>item_id</th>\n",
       "      <th>quantity</th>\n",
       "      <th>dollar</th>\n",
       "    </tr>\n",
       "  </thead>\n",
       "  <tbody>\n",
       "    <tr>\n",
       "      <th>0</th>\n",
       "      <td>101981</td>\n",
       "      <td>F</td>\n",
       "      <td>E</td>\n",
       "      <td>2860</td>\n",
       "      <td>818463</td>\n",
       "      <td>11/1/2000 0:00</td>\n",
       "      <td>4710000000000</td>\n",
       "      <td>1</td>\n",
       "      <td>37.00</td>\n",
       "    </tr>\n",
       "    <tr>\n",
       "      <th>1</th>\n",
       "      <td>101981</td>\n",
       "      <td>F</td>\n",
       "      <td>E</td>\n",
       "      <td>2861</td>\n",
       "      <td>818464</td>\n",
       "      <td>11/1/2000 0:00</td>\n",
       "      <td>4710000000000</td>\n",
       "      <td>1</td>\n",
       "      <td>17.00</td>\n",
       "    </tr>\n",
       "    <tr>\n",
       "      <th>2</th>\n",
       "      <td>101981</td>\n",
       "      <td>F</td>\n",
       "      <td>E</td>\n",
       "      <td>2862</td>\n",
       "      <td>818465</td>\n",
       "      <td>11/1/2000 0:00</td>\n",
       "      <td>4710000000000</td>\n",
       "      <td>1</td>\n",
       "      <td>23.00</td>\n",
       "    </tr>\n",
       "    <tr>\n",
       "      <th>3</th>\n",
       "      <td>101981</td>\n",
       "      <td>F</td>\n",
       "      <td>E</td>\n",
       "      <td>2863</td>\n",
       "      <td>818466</td>\n",
       "      <td>11/1/2000 0:00</td>\n",
       "      <td>4710000000000</td>\n",
       "      <td>1</td>\n",
       "      <td>41.00</td>\n",
       "    </tr>\n",
       "    <tr>\n",
       "      <th>4</th>\n",
       "      <td>101981</td>\n",
       "      <td>F</td>\n",
       "      <td>E</td>\n",
       "      <td>2864</td>\n",
       "      <td>818467</td>\n",
       "      <td>11/1/2000 0:00</td>\n",
       "      <td>4710000000000</td>\n",
       "      <td>8</td>\n",
       "      <td>288.00</td>\n",
       "    </tr>\n",
       "  </tbody>\n",
       "</table>\n",
       "</div>"
      ],
      "text/plain": [
       "   user_id gender address  store_id  trans_id       timestamp        item_id  \\\n",
       "0   101981      F       E      2860    818463  11/1/2000 0:00  4710000000000   \n",
       "1   101981      F       E      2861    818464  11/1/2000 0:00  4710000000000   \n",
       "2   101981      F       E      2862    818465  11/1/2000 0:00  4710000000000   \n",
       "3   101981      F       E      2863    818466  11/1/2000 0:00  4710000000000   \n",
       "4   101981      F       E      2864    818467  11/1/2000 0:00  4710000000000   \n",
       "\n",
       "   quantity  dollar  \n",
       "0         1   37.00  \n",
       "1         1   17.00  \n",
       "2         1   23.00  \n",
       "3         1   41.00  \n",
       "4         8  288.00  "
      ]
     },
     "execution_count": 29,
     "metadata": {},
     "output_type": "execute_result"
    }
   ],
   "source": [
    "churn['item_id'] = churn['item_id'].astype(int)\n",
    "\n",
    "print(churn.dtypes)\n",
    "\n",
    "churn.head()"
   ]
  },
  {
   "cell_type": "code",
   "execution_count": 30,
   "metadata": {},
   "outputs": [
    {
     "name": "stdout",
     "output_type": "stream",
     "text": [
      "user_id        int64\n",
      "gender        object\n",
      "address       object\n",
      "store_id       int64\n",
      "trans_id       int64\n",
      "timestamp     object\n",
      "item_id        int64\n",
      "quantity       int64\n",
      "dollar       float64\n",
      "dtype: object\n"
     ]
    },
    {
     "data": {
      "text/html": [
       "<div>\n",
       "<style scoped>\n",
       "    .dataframe tbody tr th:only-of-type {\n",
       "        vertical-align: middle;\n",
       "    }\n",
       "\n",
       "    .dataframe tbody tr th {\n",
       "        vertical-align: top;\n",
       "    }\n",
       "\n",
       "    .dataframe thead th {\n",
       "        text-align: right;\n",
       "    }\n",
       "</style>\n",
       "<table border=\"1\" class=\"dataframe\">\n",
       "  <thead>\n",
       "    <tr style=\"text-align: right;\">\n",
       "      <th></th>\n",
       "      <th>user_id</th>\n",
       "      <th>gender</th>\n",
       "      <th>address</th>\n",
       "      <th>store_id</th>\n",
       "      <th>trans_id</th>\n",
       "      <th>timestamp</th>\n",
       "      <th>item_id</th>\n",
       "      <th>quantity</th>\n",
       "      <th>dollar</th>\n",
       "    </tr>\n",
       "  </thead>\n",
       "  <tbody>\n",
       "    <tr>\n",
       "      <th>252199</th>\n",
       "      <td>2179605</td>\n",
       "      <td>B</td>\n",
       "      <td>G</td>\n",
       "      <td>251838</td>\n",
       "      <td>1630692</td>\n",
       "      <td>2/28/2001 0:00</td>\n",
       "      <td>2250000000000</td>\n",
       "      <td>2</td>\n",
       "      <td>138.00</td>\n",
       "    </tr>\n",
       "    <tr>\n",
       "      <th>252200</th>\n",
       "      <td>2179605</td>\n",
       "      <td>B</td>\n",
       "      <td>G</td>\n",
       "      <td>251839</td>\n",
       "      <td>1630821</td>\n",
       "      <td>2/28/2001 0:00</td>\n",
       "      <td>4710000000000</td>\n",
       "      <td>1</td>\n",
       "      <td>96.00</td>\n",
       "    </tr>\n",
       "    <tr>\n",
       "      <th>252201</th>\n",
       "      <td>2179605</td>\n",
       "      <td>B</td>\n",
       "      <td>G</td>\n",
       "      <td>251840</td>\n",
       "      <td>1630931</td>\n",
       "      <td>2/28/2001 0:00</td>\n",
       "      <td>4710000000000</td>\n",
       "      <td>1</td>\n",
       "      <td>89.00</td>\n",
       "    </tr>\n",
       "    <tr>\n",
       "      <th>252202</th>\n",
       "      <td>2179605</td>\n",
       "      <td>B</td>\n",
       "      <td>G</td>\n",
       "      <td>251841</td>\n",
       "      <td>1631033</td>\n",
       "      <td>2/28/2001 0:00</td>\n",
       "      <td>4710000000000</td>\n",
       "      <td>1</td>\n",
       "      <td>108.00</td>\n",
       "    </tr>\n",
       "    <tr>\n",
       "      <th>252203</th>\n",
       "      <td>2179605</td>\n",
       "      <td>B</td>\n",
       "      <td>G</td>\n",
       "      <td>251842</td>\n",
       "      <td>1631048</td>\n",
       "      <td>2/28/2001 0:00</td>\n",
       "      <td>4710000000000</td>\n",
       "      <td>1</td>\n",
       "      <td>95.00</td>\n",
       "    </tr>\n",
       "  </tbody>\n",
       "</table>\n",
       "</div>"
      ],
      "text/plain": [
       "        user_id gender address  store_id  trans_id       timestamp  \\\n",
       "252199  2179605      B       G    251838   1630692  2/28/2001 0:00   \n",
       "252200  2179605      B       G    251839   1630821  2/28/2001 0:00   \n",
       "252201  2179605      B       G    251840   1630931  2/28/2001 0:00   \n",
       "252202  2179605      B       G    251841   1631033  2/28/2001 0:00   \n",
       "252203  2179605      B       G    251842   1631048  2/28/2001 0:00   \n",
       "\n",
       "              item_id  quantity  dollar  \n",
       "252199  2250000000000         2  138.00  \n",
       "252200  4710000000000         1   96.00  \n",
       "252201  4710000000000         1   89.00  \n",
       "252202  4710000000000         1  108.00  \n",
       "252203  4710000000000         1   95.00  "
      ]
     },
     "execution_count": 30,
     "metadata": {},
     "output_type": "execute_result"
    }
   ],
   "source": [
    "#churn['dollar'] = churn['dollar'].apply(lambda x: float(\"{:.2f}\".format(x)))\n",
    "#DF['price'] = DF['price'].apply(lambda x: float(\"{:.2f}\".format(x)))\n",
    "pd.options.display.float_format = \"{:,.2f}\".format\n",
    "print(churn.dtypes)\n",
    "churn.tail()"
   ]
  },
  {
   "cell_type": "code",
   "execution_count": 31,
   "metadata": {
    "tags": []
   },
   "outputs": [
    {
     "data": {
      "text/html": [
       "<div>\n",
       "<style scoped>\n",
       "    .dataframe tbody tr th:only-of-type {\n",
       "        vertical-align: middle;\n",
       "    }\n",
       "\n",
       "    .dataframe tbody tr th {\n",
       "        vertical-align: top;\n",
       "    }\n",
       "\n",
       "    .dataframe thead th {\n",
       "        text-align: right;\n",
       "    }\n",
       "</style>\n",
       "<table border=\"1\" class=\"dataframe\">\n",
       "  <thead>\n",
       "    <tr style=\"text-align: right;\">\n",
       "      <th></th>\n",
       "      <th>user_id</th>\n",
       "      <th>gender</th>\n",
       "      <th>address</th>\n",
       "      <th>store_id</th>\n",
       "      <th>trans_id</th>\n",
       "      <th>timestamp</th>\n",
       "      <th>item_id</th>\n",
       "      <th>quantity</th>\n",
       "      <th>dollar</th>\n",
       "      <th>Date</th>\n",
       "    </tr>\n",
       "  </thead>\n",
       "  <tbody>\n",
       "    <tr>\n",
       "      <th>0</th>\n",
       "      <td>101981</td>\n",
       "      <td>F</td>\n",
       "      <td>E</td>\n",
       "      <td>2860</td>\n",
       "      <td>818463</td>\n",
       "      <td>11/1/2000 0:00</td>\n",
       "      <td>4710000000000</td>\n",
       "      <td>1</td>\n",
       "      <td>37.00</td>\n",
       "      <td>11/01/2000</td>\n",
       "    </tr>\n",
       "    <tr>\n",
       "      <th>1</th>\n",
       "      <td>101981</td>\n",
       "      <td>F</td>\n",
       "      <td>E</td>\n",
       "      <td>2861</td>\n",
       "      <td>818464</td>\n",
       "      <td>11/1/2000 0:00</td>\n",
       "      <td>4710000000000</td>\n",
       "      <td>1</td>\n",
       "      <td>17.00</td>\n",
       "      <td>11/01/2000</td>\n",
       "    </tr>\n",
       "    <tr>\n",
       "      <th>2</th>\n",
       "      <td>101981</td>\n",
       "      <td>F</td>\n",
       "      <td>E</td>\n",
       "      <td>2862</td>\n",
       "      <td>818465</td>\n",
       "      <td>11/1/2000 0:00</td>\n",
       "      <td>4710000000000</td>\n",
       "      <td>1</td>\n",
       "      <td>23.00</td>\n",
       "      <td>11/01/2000</td>\n",
       "    </tr>\n",
       "    <tr>\n",
       "      <th>3</th>\n",
       "      <td>101981</td>\n",
       "      <td>F</td>\n",
       "      <td>E</td>\n",
       "      <td>2863</td>\n",
       "      <td>818466</td>\n",
       "      <td>11/1/2000 0:00</td>\n",
       "      <td>4710000000000</td>\n",
       "      <td>1</td>\n",
       "      <td>41.00</td>\n",
       "      <td>11/01/2000</td>\n",
       "    </tr>\n",
       "    <tr>\n",
       "      <th>4</th>\n",
       "      <td>101981</td>\n",
       "      <td>F</td>\n",
       "      <td>E</td>\n",
       "      <td>2864</td>\n",
       "      <td>818467</td>\n",
       "      <td>11/1/2000 0:00</td>\n",
       "      <td>4710000000000</td>\n",
       "      <td>8</td>\n",
       "      <td>288.00</td>\n",
       "      <td>11/01/2000</td>\n",
       "    </tr>\n",
       "  </tbody>\n",
       "</table>\n",
       "</div>"
      ],
      "text/plain": [
       "   user_id gender address  store_id  trans_id       timestamp        item_id  \\\n",
       "0   101981      F       E      2860    818463  11/1/2000 0:00  4710000000000   \n",
       "1   101981      F       E      2861    818464  11/1/2000 0:00  4710000000000   \n",
       "2   101981      F       E      2862    818465  11/1/2000 0:00  4710000000000   \n",
       "3   101981      F       E      2863    818466  11/1/2000 0:00  4710000000000   \n",
       "4   101981      F       E      2864    818467  11/1/2000 0:00  4710000000000   \n",
       "\n",
       "   quantity  dollar        Date  \n",
       "0         1   37.00  11/01/2000  \n",
       "1         1   17.00  11/01/2000  \n",
       "2         1   23.00  11/01/2000  \n",
       "3         1   41.00  11/01/2000  \n",
       "4         8  288.00  11/01/2000  "
      ]
     },
     "execution_count": 31,
     "metadata": {},
     "output_type": "execute_result"
    }
   ],
   "source": [
    "import datetime\n",
    "#import numpy as np\n",
    "# unit='s' to convert it into epoch time\n",
    "#churn['Datetime'] = pd.to_datetime(churn['timestamp'])#, unit='s')\n",
    "churn['Date'] = pd.to_datetime(churn['timestamp']).dt.strftime('%m/%d/%Y')\n",
    "#churn.timestamp.strftime('%m - %d - %y')\n",
    "\n",
    "# From the lesson (HINT: You will need to convert `timestamp` into an a `datetime` column.\n",
    "#You can use `pd.to_datetime` for that. We leave it to you to learn more about working with `datetime` colums.)\n",
    "# checking our dataframe once again\n",
    "churn.head()"
   ]
  },
  {
   "cell_type": "code",
   "execution_count": 32,
   "metadata": {},
   "outputs": [
    {
     "data": {
      "text/html": [
       "<div>\n",
       "<style scoped>\n",
       "    .dataframe tbody tr th:only-of-type {\n",
       "        vertical-align: middle;\n",
       "    }\n",
       "\n",
       "    .dataframe tbody tr th {\n",
       "        vertical-align: top;\n",
       "    }\n",
       "\n",
       "    .dataframe thead th {\n",
       "        text-align: right;\n",
       "    }\n",
       "</style>\n",
       "<table border=\"1\" class=\"dataframe\">\n",
       "  <thead>\n",
       "    <tr style=\"text-align: right;\">\n",
       "      <th></th>\n",
       "      <th>user_id</th>\n",
       "      <th>gender</th>\n",
       "      <th>address</th>\n",
       "      <th>store_id</th>\n",
       "      <th>trans_id</th>\n",
       "      <th>item_id</th>\n",
       "      <th>quantity</th>\n",
       "      <th>dollar</th>\n",
       "      <th>Date</th>\n",
       "    </tr>\n",
       "  </thead>\n",
       "  <tbody>\n",
       "    <tr>\n",
       "      <th>0</th>\n",
       "      <td>101981</td>\n",
       "      <td>F</td>\n",
       "      <td>E</td>\n",
       "      <td>2860</td>\n",
       "      <td>818463</td>\n",
       "      <td>4710000000000</td>\n",
       "      <td>1</td>\n",
       "      <td>37.00</td>\n",
       "      <td>11/01/2000</td>\n",
       "    </tr>\n",
       "    <tr>\n",
       "      <th>1</th>\n",
       "      <td>101981</td>\n",
       "      <td>F</td>\n",
       "      <td>E</td>\n",
       "      <td>2861</td>\n",
       "      <td>818464</td>\n",
       "      <td>4710000000000</td>\n",
       "      <td>1</td>\n",
       "      <td>17.00</td>\n",
       "      <td>11/01/2000</td>\n",
       "    </tr>\n",
       "    <tr>\n",
       "      <th>2</th>\n",
       "      <td>101981</td>\n",
       "      <td>F</td>\n",
       "      <td>E</td>\n",
       "      <td>2862</td>\n",
       "      <td>818465</td>\n",
       "      <td>4710000000000</td>\n",
       "      <td>1</td>\n",
       "      <td>23.00</td>\n",
       "      <td>11/01/2000</td>\n",
       "    </tr>\n",
       "    <tr>\n",
       "      <th>3</th>\n",
       "      <td>101981</td>\n",
       "      <td>F</td>\n",
       "      <td>E</td>\n",
       "      <td>2863</td>\n",
       "      <td>818466</td>\n",
       "      <td>4710000000000</td>\n",
       "      <td>1</td>\n",
       "      <td>41.00</td>\n",
       "      <td>11/01/2000</td>\n",
       "    </tr>\n",
       "    <tr>\n",
       "      <th>4</th>\n",
       "      <td>101981</td>\n",
       "      <td>F</td>\n",
       "      <td>E</td>\n",
       "      <td>2864</td>\n",
       "      <td>818467</td>\n",
       "      <td>4710000000000</td>\n",
       "      <td>8</td>\n",
       "      <td>288.00</td>\n",
       "      <td>11/01/2000</td>\n",
       "    </tr>\n",
       "  </tbody>\n",
       "</table>\n",
       "</div>"
      ],
      "text/plain": [
       "   user_id gender address  store_id  trans_id        item_id  quantity  \\\n",
       "0   101981      F       E      2860    818463  4710000000000         1   \n",
       "1   101981      F       E      2861    818464  4710000000000         1   \n",
       "2   101981      F       E      2862    818465  4710000000000         1   \n",
       "3   101981      F       E      2863    818466  4710000000000         1   \n",
       "4   101981      F       E      2864    818467  4710000000000         8   \n",
       "\n",
       "   dollar        Date  \n",
       "0   37.00  11/01/2000  \n",
       "1   17.00  11/01/2000  \n",
       "2   23.00  11/01/2000  \n",
       "3   41.00  11/01/2000  \n",
       "4  288.00  11/01/2000  "
      ]
     },
     "execution_count": 32,
     "metadata": {},
     "output_type": "execute_result"
    }
   ],
   "source": [
    "#del churn('timestamp')\n",
    "#del churn('Modified Datetime')\n",
    "#del churn.timestamp\n",
    "churn.drop(['timestamp'], axis=1, inplace=True)\n",
    "churn.head()"
   ]
  },
  {
   "cell_type": "code",
   "execution_count": 33,
   "metadata": {},
   "outputs": [
    {
     "data": {
      "text/plain": [
       "user_id       int64\n",
       "gender       object\n",
       "address      object\n",
       "store_id      int64\n",
       "trans_id      int64\n",
       "item_id       int64\n",
       "quantity      int64\n",
       "dollar      float64\n",
       "Date         object\n",
       "dtype: object"
      ]
     },
     "execution_count": 33,
     "metadata": {},
     "output_type": "execute_result"
    }
   ],
   "source": [
    "churn.dtypes"
   ]
  },
  {
   "cell_type": "code",
   "execution_count": 34,
   "metadata": {
    "tags": []
   },
   "outputs": [
    {
     "data": {
      "text/plain": [
       "(252204, 9)"
      ]
     },
     "execution_count": 34,
     "metadata": {},
     "output_type": "execute_result"
    }
   ],
   "source": [
    "churn.shape"
   ]
  },
  {
   "cell_type": "code",
   "execution_count": 35,
   "metadata": {},
   "outputs": [
    {
     "data": {
      "text/plain": [
       "RangeIndex(start=0, stop=252204, step=1)"
      ]
     },
     "execution_count": 35,
     "metadata": {},
     "output_type": "execute_result"
    }
   ],
   "source": [
    "churn.index"
   ]
  },
  {
   "cell_type": "code",
   "execution_count": 36,
   "metadata": {},
   "outputs": [
    {
     "data": {
      "text/html": [
       "<div>\n",
       "<style scoped>\n",
       "    .dataframe tbody tr th:only-of-type {\n",
       "        vertical-align: middle;\n",
       "    }\n",
       "\n",
       "    .dataframe tbody tr th {\n",
       "        vertical-align: top;\n",
       "    }\n",
       "\n",
       "    .dataframe thead th {\n",
       "        text-align: right;\n",
       "    }\n",
       "</style>\n",
       "<table border=\"1\" class=\"dataframe\">\n",
       "  <thead>\n",
       "    <tr style=\"text-align: right;\">\n",
       "      <th></th>\n",
       "      <th>user_id</th>\n",
       "      <th>store_id</th>\n",
       "      <th>trans_id</th>\n",
       "      <th>item_id</th>\n",
       "      <th>quantity</th>\n",
       "      <th>dollar</th>\n",
       "    </tr>\n",
       "  </thead>\n",
       "  <tbody>\n",
       "    <tr>\n",
       "      <th>count</th>\n",
       "      <td>252,204.00</td>\n",
       "      <td>252,204.00</td>\n",
       "      <td>252,204.00</td>\n",
       "      <td>252,204.00</td>\n",
       "      <td>252,204.00</td>\n",
       "      <td>252,204.00</td>\n",
       "    </tr>\n",
       "    <tr>\n",
       "      <th>mean</th>\n",
       "      <td>1,395,659.51</td>\n",
       "      <td>126,101.50</td>\n",
       "      <td>1,229,770.64</td>\n",
       "      <td>4,467,832,644,660.85</td>\n",
       "      <td>1.39</td>\n",
       "      <td>130.91</td>\n",
       "    </tr>\n",
       "    <tr>\n",
       "      <th>std</th>\n",
       "      <td>609,476.95</td>\n",
       "      <td>72,805.17</td>\n",
       "      <td>235,099.20</td>\n",
       "      <td>1,679,511,979,892.59</td>\n",
       "      <td>3.71</td>\n",
       "      <td>388.14</td>\n",
       "    </tr>\n",
       "    <tr>\n",
       "      <th>min</th>\n",
       "      <td>1,113.00</td>\n",
       "      <td>0.00</td>\n",
       "      <td>817,747.00</td>\n",
       "      <td>20,008,819.00</td>\n",
       "      <td>1.00</td>\n",
       "      <td>1.00</td>\n",
       "    </tr>\n",
       "    <tr>\n",
       "      <th>25%</th>\n",
       "      <td>993,715.00</td>\n",
       "      <td>63,050.75</td>\n",
       "      <td>1,025,926.00</td>\n",
       "      <td>4,710,000,000,000.00</td>\n",
       "      <td>1.00</td>\n",
       "      <td>42.00</td>\n",
       "    </tr>\n",
       "    <tr>\n",
       "      <th>50%</th>\n",
       "      <td>1,586,046.00</td>\n",
       "      <td>126,101.50</td>\n",
       "      <td>1,233,476.00</td>\n",
       "      <td>4,710,000,000,000.00</td>\n",
       "      <td>1.00</td>\n",
       "      <td>76.00</td>\n",
       "    </tr>\n",
       "    <tr>\n",
       "      <th>75%</th>\n",
       "      <td>1,862,232.00</td>\n",
       "      <td>189,152.25</td>\n",
       "      <td>1,433,221.50</td>\n",
       "      <td>4,710,000,000,000.00</td>\n",
       "      <td>1.00</td>\n",
       "      <td>132.00</td>\n",
       "    </tr>\n",
       "    <tr>\n",
       "      <th>max</th>\n",
       "      <td>2,179,605.00</td>\n",
       "      <td>252,203.00</td>\n",
       "      <td>1,635,482.00</td>\n",
       "      <td>9,790,000,000,000.00</td>\n",
       "      <td>1,200.00</td>\n",
       "      <td>70,589.00</td>\n",
       "    </tr>\n",
       "  </tbody>\n",
       "</table>\n",
       "</div>"
      ],
      "text/plain": [
       "           user_id   store_id     trans_id              item_id   quantity  \\\n",
       "count   252,204.00 252,204.00   252,204.00           252,204.00 252,204.00   \n",
       "mean  1,395,659.51 126,101.50 1,229,770.64 4,467,832,644,660.85       1.39   \n",
       "std     609,476.95  72,805.17   235,099.20 1,679,511,979,892.59       3.71   \n",
       "min       1,113.00       0.00   817,747.00        20,008,819.00       1.00   \n",
       "25%     993,715.00  63,050.75 1,025,926.00 4,710,000,000,000.00       1.00   \n",
       "50%   1,586,046.00 126,101.50 1,233,476.00 4,710,000,000,000.00       1.00   \n",
       "75%   1,862,232.00 189,152.25 1,433,221.50 4,710,000,000,000.00       1.00   \n",
       "max   2,179,605.00 252,203.00 1,635,482.00 9,790,000,000,000.00   1,200.00   \n",
       "\n",
       "          dollar  \n",
       "count 252,204.00  \n",
       "mean      130.91  \n",
       "std       388.14  \n",
       "min         1.00  \n",
       "25%        42.00  \n",
       "50%        76.00  \n",
       "75%       132.00  \n",
       "max    70,589.00  "
      ]
     },
     "execution_count": 36,
     "metadata": {},
     "output_type": "execute_result"
    }
   ],
   "source": [
    "churn.describe()"
   ]
  },
  {
   "cell_type": "markdown",
   "metadata": {},
   "source": [
    "Here are some examples of questions we can be asking:\n",
    "\n",
    "1. What are the columns, their types and their distribution (when it makes sense)? <span style=\"color:red\" float:right>[1 point]</span>"
   ]
  },
  {
   "cell_type": "code",
   "execution_count": 37,
   "metadata": {},
   "outputs": [
    {
     "data": {
      "text/plain": [
       "['user_id',\n",
       " 'gender',\n",
       " 'address',\n",
       " 'store_id',\n",
       " 'trans_id',\n",
       " 'item_id',\n",
       " 'quantity',\n",
       " 'dollar',\n",
       " 'Date']"
      ]
     },
     "execution_count": 37,
     "metadata": {},
     "output_type": "execute_result"
    }
   ],
   "source": [
    "# What are the columns?\n",
    "list(churn.columns)"
   ]
  },
  {
   "cell_type": "code",
   "execution_count": 38,
   "metadata": {},
   "outputs": [
    {
     "data": {
      "text/plain": [
       "user_id       int64\n",
       "gender       object\n",
       "address      object\n",
       "store_id      int64\n",
       "trans_id      int64\n",
       "item_id       int64\n",
       "quantity      int64\n",
       "dollar      float64\n",
       "Date         object\n",
       "dtype: object"
      ]
     },
     "execution_count": 38,
     "metadata": {},
     "output_type": "execute_result"
    }
   ],
   "source": [
    "# What are their types?\n",
    "churn.dtypes"
   ]
  },
  {
   "cell_type": "code",
   "execution_count": 39,
   "metadata": {},
   "outputs": [
    {
     "data": {
      "text/html": [
       "<div>\n",
       "<style scoped>\n",
       "    .dataframe tbody tr th:only-of-type {\n",
       "        vertical-align: middle;\n",
       "    }\n",
       "\n",
       "    .dataframe tbody tr th {\n",
       "        vertical-align: top;\n",
       "    }\n",
       "\n",
       "    .dataframe thead th {\n",
       "        text-align: right;\n",
       "    }\n",
       "</style>\n",
       "<table border=\"1\" class=\"dataframe\">\n",
       "  <thead>\n",
       "    <tr style=\"text-align: right;\">\n",
       "      <th></th>\n",
       "      <th>user_id</th>\n",
       "      <th>store_id</th>\n",
       "      <th>trans_id</th>\n",
       "      <th>item_id</th>\n",
       "      <th>quantity</th>\n",
       "      <th>dollar</th>\n",
       "    </tr>\n",
       "  </thead>\n",
       "  <tbody>\n",
       "    <tr>\n",
       "      <th>count</th>\n",
       "      <td>252,204.00</td>\n",
       "      <td>252,204.00</td>\n",
       "      <td>252,204.00</td>\n",
       "      <td>252,204.00</td>\n",
       "      <td>252,204.00</td>\n",
       "      <td>252,204.00</td>\n",
       "    </tr>\n",
       "    <tr>\n",
       "      <th>mean</th>\n",
       "      <td>1,395,659.51</td>\n",
       "      <td>126,101.50</td>\n",
       "      <td>1,229,770.64</td>\n",
       "      <td>4,467,832,644,660.85</td>\n",
       "      <td>1.39</td>\n",
       "      <td>130.91</td>\n",
       "    </tr>\n",
       "    <tr>\n",
       "      <th>std</th>\n",
       "      <td>609,476.95</td>\n",
       "      <td>72,805.17</td>\n",
       "      <td>235,099.20</td>\n",
       "      <td>1,679,511,979,892.59</td>\n",
       "      <td>3.71</td>\n",
       "      <td>388.14</td>\n",
       "    </tr>\n",
       "    <tr>\n",
       "      <th>min</th>\n",
       "      <td>1,113.00</td>\n",
       "      <td>0.00</td>\n",
       "      <td>817,747.00</td>\n",
       "      <td>20,008,819.00</td>\n",
       "      <td>1.00</td>\n",
       "      <td>1.00</td>\n",
       "    </tr>\n",
       "    <tr>\n",
       "      <th>25%</th>\n",
       "      <td>993,715.00</td>\n",
       "      <td>63,050.75</td>\n",
       "      <td>1,025,926.00</td>\n",
       "      <td>4,710,000,000,000.00</td>\n",
       "      <td>1.00</td>\n",
       "      <td>42.00</td>\n",
       "    </tr>\n",
       "    <tr>\n",
       "      <th>50%</th>\n",
       "      <td>1,586,046.00</td>\n",
       "      <td>126,101.50</td>\n",
       "      <td>1,233,476.00</td>\n",
       "      <td>4,710,000,000,000.00</td>\n",
       "      <td>1.00</td>\n",
       "      <td>76.00</td>\n",
       "    </tr>\n",
       "    <tr>\n",
       "      <th>75%</th>\n",
       "      <td>1,862,232.00</td>\n",
       "      <td>189,152.25</td>\n",
       "      <td>1,433,221.50</td>\n",
       "      <td>4,710,000,000,000.00</td>\n",
       "      <td>1.00</td>\n",
       "      <td>132.00</td>\n",
       "    </tr>\n",
       "    <tr>\n",
       "      <th>max</th>\n",
       "      <td>2,179,605.00</td>\n",
       "      <td>252,203.00</td>\n",
       "      <td>1,635,482.00</td>\n",
       "      <td>9,790,000,000,000.00</td>\n",
       "      <td>1,200.00</td>\n",
       "      <td>70,589.00</td>\n",
       "    </tr>\n",
       "  </tbody>\n",
       "</table>\n",
       "</div>"
      ],
      "text/plain": [
       "           user_id   store_id     trans_id              item_id   quantity  \\\n",
       "count   252,204.00 252,204.00   252,204.00           252,204.00 252,204.00   \n",
       "mean  1,395,659.51 126,101.50 1,229,770.64 4,467,832,644,660.85       1.39   \n",
       "std     609,476.95  72,805.17   235,099.20 1,679,511,979,892.59       3.71   \n",
       "min       1,113.00       0.00   817,747.00        20,008,819.00       1.00   \n",
       "25%     993,715.00  63,050.75 1,025,926.00 4,710,000,000,000.00       1.00   \n",
       "50%   1,586,046.00 126,101.50 1,233,476.00 4,710,000,000,000.00       1.00   \n",
       "75%   1,862,232.00 189,152.25 1,433,221.50 4,710,000,000,000.00       1.00   \n",
       "max   2,179,605.00 252,203.00 1,635,482.00 9,790,000,000,000.00   1,200.00   \n",
       "\n",
       "          dollar  \n",
       "count 252,204.00  \n",
       "mean      130.91  \n",
       "std       388.14  \n",
       "min         1.00  \n",
       "25%        42.00  \n",
       "50%        76.00  \n",
       "75%       132.00  \n",
       "max    70,589.00  "
      ]
     },
     "execution_count": 39,
     "metadata": {},
     "output_type": "execute_result"
    }
   ],
   "source": [
    "# What is their distribution (when it makes sense)?\n",
    "churn.describe()"
   ]
  },
  {
   "cell_type": "code",
   "execution_count": 40,
   "metadata": {},
   "outputs": [
    {
     "ename": "SyntaxError",
     "evalue": "positional argument follows keyword argument (2394407727.py, line 1)",
     "output_type": "error",
     "traceback": [
      "\u001b[0;36m  File \u001b[0;32m\"/tmp/ipykernel_60/2394407727.py\"\u001b[0;36m, line \u001b[0;32m1\u001b[0m\n\u001b[0;31m    churn.hist(column= 'dollar', 'quantity')\u001b[0m\n\u001b[0m                                           ^\u001b[0m\n\u001b[0;31mSyntaxError\u001b[0m\u001b[0;31m:\u001b[0m positional argument follows keyword argument\n"
     ]
    }
   ],
   "source": [
    "#churn.hist(column= 'dollar', 'quantity')"
   ]
  },
  {
   "cell_type": "markdown",
   "metadata": {},
   "source": [
    "2. Do the columns have the right types for the analysis? If not, convert them to the right type. <span style=\"color:red\" float:right>[1 point]</span>"
   ]
  },
  {
   "cell_type": "code",
   "execution_count": 41,
   "metadata": {},
   "outputs": [
    {
     "data": {
      "text/html": [
       "<div>\n",
       "<style scoped>\n",
       "    .dataframe tbody tr th:only-of-type {\n",
       "        vertical-align: middle;\n",
       "    }\n",
       "\n",
       "    .dataframe tbody tr th {\n",
       "        vertical-align: top;\n",
       "    }\n",
       "\n",
       "    .dataframe thead th {\n",
       "        text-align: right;\n",
       "    }\n",
       "</style>\n",
       "<table border=\"1\" class=\"dataframe\">\n",
       "  <thead>\n",
       "    <tr style=\"text-align: right;\">\n",
       "      <th></th>\n",
       "      <th>user_id</th>\n",
       "      <th>gender</th>\n",
       "      <th>address</th>\n",
       "      <th>store_id</th>\n",
       "      <th>trans_id</th>\n",
       "      <th>item_id</th>\n",
       "      <th>quantity</th>\n",
       "      <th>dollar</th>\n",
       "      <th>Date</th>\n",
       "    </tr>\n",
       "  </thead>\n",
       "  <tbody>\n",
       "    <tr>\n",
       "      <th>0</th>\n",
       "      <td>101981</td>\n",
       "      <td>F</td>\n",
       "      <td>E</td>\n",
       "      <td>2860</td>\n",
       "      <td>818463</td>\n",
       "      <td>4710000000000</td>\n",
       "      <td>1</td>\n",
       "      <td>37.00</td>\n",
       "      <td>11/01/2000</td>\n",
       "    </tr>\n",
       "    <tr>\n",
       "      <th>1</th>\n",
       "      <td>101981</td>\n",
       "      <td>F</td>\n",
       "      <td>E</td>\n",
       "      <td>2861</td>\n",
       "      <td>818464</td>\n",
       "      <td>4710000000000</td>\n",
       "      <td>1</td>\n",
       "      <td>17.00</td>\n",
       "      <td>11/01/2000</td>\n",
       "    </tr>\n",
       "    <tr>\n",
       "      <th>2</th>\n",
       "      <td>101981</td>\n",
       "      <td>F</td>\n",
       "      <td>E</td>\n",
       "      <td>2862</td>\n",
       "      <td>818465</td>\n",
       "      <td>4710000000000</td>\n",
       "      <td>1</td>\n",
       "      <td>23.00</td>\n",
       "      <td>11/01/2000</td>\n",
       "    </tr>\n",
       "    <tr>\n",
       "      <th>3</th>\n",
       "      <td>101981</td>\n",
       "      <td>F</td>\n",
       "      <td>E</td>\n",
       "      <td>2863</td>\n",
       "      <td>818466</td>\n",
       "      <td>4710000000000</td>\n",
       "      <td>1</td>\n",
       "      <td>41.00</td>\n",
       "      <td>11/01/2000</td>\n",
       "    </tr>\n",
       "    <tr>\n",
       "      <th>4</th>\n",
       "      <td>101981</td>\n",
       "      <td>F</td>\n",
       "      <td>E</td>\n",
       "      <td>2864</td>\n",
       "      <td>818467</td>\n",
       "      <td>4710000000000</td>\n",
       "      <td>8</td>\n",
       "      <td>288.00</td>\n",
       "      <td>11/01/2000</td>\n",
       "    </tr>\n",
       "  </tbody>\n",
       "</table>\n",
       "</div>"
      ],
      "text/plain": [
       "   user_id gender address  store_id  trans_id        item_id  quantity  \\\n",
       "0   101981      F       E      2860    818463  4710000000000         1   \n",
       "1   101981      F       E      2861    818464  4710000000000         1   \n",
       "2   101981      F       E      2862    818465  4710000000000         1   \n",
       "3   101981      F       E      2863    818466  4710000000000         1   \n",
       "4   101981      F       E      2864    818467  4710000000000         8   \n",
       "\n",
       "   dollar        Date  \n",
       "0   37.00  11/01/2000  \n",
       "1   17.00  11/01/2000  \n",
       "2   23.00  11/01/2000  \n",
       "3   41.00  11/01/2000  \n",
       "4  288.00  11/01/2000  "
      ]
     },
     "execution_count": 41,
     "metadata": {},
     "output_type": "execute_result"
    }
   ],
   "source": [
    "churn.head()"
   ]
  },
  {
   "cell_type": "code",
   "execution_count": 42,
   "metadata": {},
   "outputs": [
    {
     "data": {
      "text/plain": [
       "<bound method NDFrame.head of 0         37.00\n",
       "1         17.00\n",
       "2         23.00\n",
       "3         41.00\n",
       "4        288.00\n",
       "          ...  \n",
       "252199   138.00\n",
       "252200    96.00\n",
       "252201    89.00\n",
       "252202   108.00\n",
       "252203    95.00\n",
       "Name: dollar, Length: 252204, dtype: float64>"
      ]
     },
     "execution_count": 42,
     "metadata": {},
     "output_type": "execute_result"
    }
   ],
   "source": [
    "churn.dollar.head"
   ]
  },
  {
   "cell_type": "markdown",
   "metadata": {},
   "source": [
    "3. Do any columns appear to have all rows with unique categories? How do we show that? <span style=\"color:red\" float:right>[1 point]</span>"
   ]
  },
  {
   "cell_type": "code",
   "execution_count": 43,
   "metadata": {},
   "outputs": [
    {
     "data": {
      "text/plain": [
       "array([ 101981,  164252,  166324, ..., 2179414, 2179469, 2179605])"
      ]
     },
     "execution_count": 43,
     "metadata": {},
     "output_type": "execute_result"
    }
   ],
   "source": [
    "#Yes address is E or G\n",
    "#what is meant by categories?\n",
    "churn.user_id.unique()"
   ]
  },
  {
   "cell_type": "code",
   "execution_count": 44,
   "metadata": {},
   "outputs": [
    {
     "data": {
      "text/plain": [
       "20459      1246\n",
       "2133874     462\n",
       "81412       439\n",
       "439725      426\n",
       "1647457     426\n",
       "           ... \n",
       "696951        1\n",
       "776592        1\n",
       "1455090       1\n",
       "2156538       1\n",
       "2021676       1\n",
       "Name: user_id, Length: 10000, dtype: int64"
      ]
     },
     "execution_count": 44,
     "metadata": {},
     "output_type": "execute_result"
    }
   ],
   "source": [
    "churn.user_id.value_counts()"
   ]
  },
  {
   "cell_type": "code",
   "execution_count": 45,
   "metadata": {},
   "outputs": [
    {
     "data": {
      "text/plain": [
       "array(['F', 'G', 'I', 'C', 'J', 'E', 'D', 'H', 'K', 'B', 'A'],\n",
       "      dtype=object)"
      ]
     },
     "execution_count": 45,
     "metadata": {},
     "output_type": "execute_result"
    }
   ],
   "source": [
    "churn.gender.unique() #what do these letters mean?"
   ]
  },
  {
   "cell_type": "code",
   "execution_count": 46,
   "metadata": {},
   "outputs": [
    {
     "data": {
      "text/plain": [
       "D    52987\n",
       "E    48298\n",
       "C    43463\n",
       "F    31637\n",
       "B    21842\n",
       "G    16837\n",
       "A     9658\n",
       "J     8172\n",
       "H     7175\n",
       "K     6197\n",
       "I     5938\n",
       "Name: gender, dtype: int64"
      ]
     },
     "execution_count": 46,
     "metadata": {},
     "output_type": "execute_result"
    }
   ],
   "source": [
    "churn.gender.value_counts()"
   ]
  },
  {
   "cell_type": "code",
   "execution_count": 47,
   "metadata": {},
   "outputs": [
    {
     "data": {
      "text/plain": [
       "array(['E', 'H', 'D', 'F', 'G', 'C', 'B', 'A'], dtype=object)"
      ]
     },
     "execution_count": 47,
     "metadata": {},
     "output_type": "execute_result"
    }
   ],
   "source": [
    "churn.address.unique() #what do these letters mean?"
   ]
  },
  {
   "cell_type": "code",
   "execution_count": 48,
   "metadata": {},
   "outputs": [
    {
     "data": {
      "text/plain": [
       "E    95740\n",
       "F    75671\n",
       "G    23816\n",
       "C    21689\n",
       "D    12075\n",
       "H    12008\n",
       "A     5904\n",
       "B     5301\n",
       "Name: address, dtype: int64"
      ]
     },
     "execution_count": 48,
     "metadata": {},
     "output_type": "execute_result"
    }
   ],
   "source": [
    "churn.address.value_counts()"
   ]
  },
  {
   "cell_type": "code",
   "execution_count": 51,
   "metadata": {},
   "outputs": [
    {
     "data": {
      "text/plain": [
       "array([  2860,   2861,   2862, ..., 251840, 251841, 251842])"
      ]
     },
     "execution_count": 51,
     "metadata": {},
     "output_type": "execute_result"
    }
   ],
   "source": [
    "churn.store_id.unique()"
   ]
  },
  {
   "cell_type": "code",
   "execution_count": 52,
   "metadata": {},
   "outputs": [
    {
     "data": {
      "text/plain": [
       "2860      1\n",
       "213277    1\n",
       "213279    1\n",
       "213280    1\n",
       "213281    1\n",
       "         ..\n",
       "191971    1\n",
       "191972    1\n",
       "191973    1\n",
       "191974    1\n",
       "251842    1\n",
       "Name: store_id, Length: 252204, dtype: int64"
      ]
     },
     "execution_count": 52,
     "metadata": {},
     "output_type": "execute_result"
    }
   ],
   "source": [
    "churn.store_id.value_counts()"
   ]
  },
  {
   "cell_type": "code",
   "execution_count": 53,
   "metadata": {},
   "outputs": [
    {
     "data": {
      "text/plain": [
       "array([ 818463,  818464,  818465, ..., 1630931, 1631033, 1631048])"
      ]
     },
     "execution_count": 53,
     "metadata": {},
     "output_type": "execute_result"
    }
   ],
   "source": [
    "churn.trans_id.unique()"
   ]
  },
  {
   "cell_type": "code",
   "execution_count": 54,
   "metadata": {},
   "outputs": [
    {
     "data": {
      "text/plain": [
       "818463     1\n",
       "1361282    1\n",
       "1361649    1\n",
       "1361755    1\n",
       "1362185    1\n",
       "          ..\n",
       "1067792    1\n",
       "1067890    1\n",
       "1067892    1\n",
       "1067896    1\n",
       "1631048    1\n",
       "Name: trans_id, Length: 252204, dtype: int64"
      ]
     },
     "execution_count": 54,
     "metadata": {},
     "output_type": "execute_result"
    }
   ],
   "source": [
    "churn.trans_id.value_counts()"
   ]
  },
  {
   "cell_type": "code",
   "execution_count": 55,
   "metadata": {},
   "outputs": [
    {
     "data": {
      "text/plain": [
       "array([4710000000000,  615000000000, 8800000000000, ...,      20461492,\n",
       "            20434090,      20192310])"
      ]
     },
     "execution_count": 55,
     "metadata": {},
     "output_type": "execute_result"
    }
   ],
   "source": [
    "churn.item_id.unique()"
   ]
  },
  {
   "cell_type": "code",
   "execution_count": 56,
   "metadata": {},
   "outputs": [
    {
     "data": {
      "text/plain": [
       "4710000000000    181704\n",
       "4720000000000     18024\n",
       "4900000000000      8014\n",
       "9310000000000      1783\n",
       "2250000000000      1643\n",
       "                  ...  \n",
       "41554696431           1\n",
       "20561024              1\n",
       "20505868              1\n",
       "20521110              1\n",
       "20192310              1\n",
       "Name: item_id, Length: 2818, dtype: int64"
      ]
     },
     "execution_count": 56,
     "metadata": {},
     "output_type": "execute_result"
    }
   ],
   "source": [
    "churn.item_id.value_counts()"
   ]
  },
  {
   "cell_type": "code",
   "execution_count": 57,
   "metadata": {},
   "outputs": [
    {
     "data": {
      "text/plain": [
       "array([   1,    8,    2,    4,    3,    6,    5,   20,   24,   10,   12,\n",
       "         15,    7,   22,   18,   29,   23,   39,    9,   13,   17,   14,\n",
       "         33,   11,   36,   16,   60,   21,   48,   72,  852,   30,   27,\n",
       "         19,  200,  720,  150,   96,   25,   31,   37,  479, 1200,   44,\n",
       "         50,   28,   38,   35,   74,   69,   62,  168,   68,  111,   54,\n",
       "         70,   26,   32,   40,   79,   51,   34])"
      ]
     },
     "execution_count": 57,
     "metadata": {},
     "output_type": "execute_result"
    }
   ],
   "source": [
    "churn.quantity.unique()"
   ]
  },
  {
   "cell_type": "code",
   "execution_count": 58,
   "metadata": {},
   "outputs": [
    {
     "data": {
      "text/plain": [
       "1      197394\n",
       "2       39835\n",
       "3        7023\n",
       "4        3586\n",
       "6        2013\n",
       "        ...  \n",
       "96          1\n",
       "720         1\n",
       "852         1\n",
       "29          1\n",
       "34          1\n",
       "Name: quantity, Length: 62, dtype: int64"
      ]
     },
     "execution_count": 58,
     "metadata": {},
     "output_type": "execute_result"
    }
   ],
   "source": [
    "churn.quantity.value_counts()"
   ]
  },
  {
   "cell_type": "code",
   "execution_count": 59,
   "metadata": {},
   "outputs": [
    {
     "data": {
      "text/plain": [
       "array([  37.,   17.,   23., ..., 1158., 1797., 1788.])"
      ]
     },
     "execution_count": 59,
     "metadata": {},
     "output_type": "execute_result"
    }
   ],
   "source": [
    "churn.dollar.unique()"
   ]
  },
  {
   "cell_type": "code",
   "execution_count": 60,
   "metadata": {},
   "outputs": [
    {
     "data": {
      "text/plain": [
       "99.00       6264\n",
       "59.00       4160\n",
       "38.00       4157\n",
       "89.00       4014\n",
       "69.00       4009\n",
       "            ... \n",
       "2,257.00       1\n",
       "2,910.00       1\n",
       "1,154.00       1\n",
       "1,114.00       1\n",
       "1,788.00       1\n",
       "Name: dollar, Length: 1602, dtype: int64"
      ]
     },
     "execution_count": 60,
     "metadata": {},
     "output_type": "execute_result"
    }
   ],
   "source": [
    "churn.dollar.value_counts()"
   ]
  },
  {
   "cell_type": "code",
   "execution_count": 61,
   "metadata": {
    "collapsed": true,
    "jupyter": {
     "outputs_hidden": true
    },
    "tags": []
   },
   "outputs": [
    {
     "data": {
      "text/plain": [
       "array(['11/01/2000', '11/02/2000', '11/03/2000', '11/04/2000',\n",
       "       '11/05/2000', '11/06/2000', '11/07/2000', '11/08/2000',\n",
       "       '11/09/2000', '11/10/2000', '11/11/2000', '11/12/2000',\n",
       "       '11/13/2000', '11/14/2000', '11/15/2000', '11/16/2000',\n",
       "       '11/17/2000', '11/18/2000', '11/19/2000', '11/20/2000',\n",
       "       '11/21/2000', '11/22/2000', '11/23/2000', '11/24/2000',\n",
       "       '11/25/2000', '11/26/2000', '11/27/2000', '11/28/2000',\n",
       "       '11/29/2000', '11/30/2000', '12/01/2000', '12/02/2000',\n",
       "       '12/03/2000', '12/04/2000', '12/05/2000', '12/06/2000',\n",
       "       '12/07/2000', '12/08/2000', '12/09/2000', '12/10/2000',\n",
       "       '12/11/2000', '12/12/2000', '12/13/2000', '12/14/2000',\n",
       "       '12/15/2000', '12/16/2000', '12/17/2000', '12/18/2000',\n",
       "       '12/19/2000', '12/20/2000', '12/21/2000', '12/22/2000',\n",
       "       '12/23/2000', '12/24/2000', '12/25/2000', '12/26/2000',\n",
       "       '12/27/2000', '12/28/2000', '12/29/2000', '12/30/2000',\n",
       "       '12/31/2000', '01/01/2001', '01/02/2001', '01/03/2001',\n",
       "       '01/04/2001', '01/05/2001', '01/06/2001', '01/07/2001',\n",
       "       '01/08/2001', '01/09/2001', '01/10/2001', '01/11/2001',\n",
       "       '01/12/2001', '01/13/2001', '01/14/2001', '01/15/2001',\n",
       "       '01/16/2001', '01/17/2001', '01/18/2001', '01/19/2001',\n",
       "       '01/20/2001', '01/21/2001', '01/22/2001', '01/23/2001',\n",
       "       '01/24/2001', '01/25/2001', '01/26/2001', '01/27/2001',\n",
       "       '01/28/2001', '01/29/2001', '01/30/2001', '01/31/2001',\n",
       "       '02/01/2001', '02/02/2001', '02/03/2001', '02/04/2001',\n",
       "       '02/05/2001', '02/06/2001', '02/07/2001', '02/08/2001',\n",
       "       '02/09/2001', '02/10/2001', '02/11/2001', '02/12/2001',\n",
       "       '02/13/2001', '02/14/2001', '02/15/2001', '02/16/2001',\n",
       "       '02/17/2001', '02/18/2001', '02/19/2001', '02/20/2001',\n",
       "       '02/21/2001', '02/22/2001', '02/23/2001', '02/24/2001',\n",
       "       '02/25/2001', '02/26/2001', '02/27/2001', '02/28/2001'],\n",
       "      dtype=object)"
      ]
     },
     "execution_count": 61,
     "metadata": {},
     "output_type": "execute_result"
    }
   ],
   "source": [
    "churn.Date.unique()"
   ]
  },
  {
   "cell_type": "code",
   "execution_count": 62,
   "metadata": {},
   "outputs": [
    {
     "data": {
      "text/plain": [
       "01/21/2001    6402\n",
       "01/22/2001    6287\n",
       "01/14/2001    5066\n",
       "11/05/2000    4713\n",
       "01/20/2001    4577\n",
       "              ... \n",
       "12/23/2000     296\n",
       "12/21/2000     191\n",
       "12/19/2000     190\n",
       "12/20/2000     169\n",
       "12/22/2000     167\n",
       "Name: Date, Length: 120, dtype: int64"
      ]
     },
     "execution_count": 62,
     "metadata": {},
     "output_type": "execute_result"
    }
   ],
   "source": [
    "churn.Date.value_counts()"
   ]
  },
  {
   "cell_type": "code",
   "execution_count": 63,
   "metadata": {},
   "outputs": [
    {
     "name": "stdout",
     "output_type": "stream",
     "text": [
      "###################\n",
      "20459      1246\n",
      "2133874     462\n",
      "81412       439\n",
      "439725      426\n",
      "1647457     426\n",
      "           ... \n",
      "696951        1\n",
      "776592        1\n",
      "1455090       1\n",
      "2156538       1\n",
      "2021676       1\n",
      "Name: user_id, Length: 10000, dtype: int64\n",
      "###################\n",
      "D    52987\n",
      "E    48298\n",
      "C    43463\n",
      "F    31637\n",
      "B    21842\n",
      "G    16837\n",
      "A     9658\n",
      "J     8172\n",
      "H     7175\n",
      "K     6197\n",
      "I     5938\n",
      "Name: gender, dtype: int64\n",
      "###################\n",
      "E    95740\n",
      "F    75671\n",
      "G    23816\n",
      "C    21689\n",
      "D    12075\n",
      "H    12008\n",
      "A     5904\n",
      "B     5301\n",
      "Name: address, dtype: int64\n",
      "###################\n",
      "2860      1\n",
      "213277    1\n",
      "213279    1\n",
      "213280    1\n",
      "213281    1\n",
      "         ..\n",
      "191971    1\n",
      "191972    1\n",
      "191973    1\n",
      "191974    1\n",
      "251842    1\n",
      "Name: store_id, Length: 252204, dtype: int64\n",
      "###################\n",
      "818463     1\n",
      "1361282    1\n",
      "1361649    1\n",
      "1361755    1\n",
      "1362185    1\n",
      "          ..\n",
      "1067792    1\n",
      "1067890    1\n",
      "1067892    1\n",
      "1067896    1\n",
      "1631048    1\n",
      "Name: trans_id, Length: 252204, dtype: int64\n",
      "###################\n",
      "4710000000000    181704\n",
      "4720000000000     18024\n",
      "4900000000000      8014\n",
      "9310000000000      1783\n",
      "2250000000000      1643\n",
      "                  ...  \n",
      "41554696431           1\n",
      "20561024              1\n",
      "20505868              1\n",
      "20521110              1\n",
      "20192310              1\n",
      "Name: item_id, Length: 2818, dtype: int64\n",
      "###################\n",
      "1      197394\n",
      "2       39835\n",
      "3        7023\n",
      "4        3586\n",
      "6        2013\n",
      "        ...  \n",
      "96          1\n",
      "720         1\n",
      "852         1\n",
      "29          1\n",
      "34          1\n",
      "Name: quantity, Length: 62, dtype: int64\n",
      "###################\n",
      "99.00       6264\n",
      "59.00       4160\n",
      "38.00       4157\n",
      "89.00       4014\n",
      "69.00       4009\n",
      "            ... \n",
      "2,257.00       1\n",
      "2,910.00       1\n",
      "1,154.00       1\n",
      "1,114.00       1\n",
      "1,788.00       1\n",
      "Name: dollar, Length: 1602, dtype: int64\n",
      "###################\n",
      "01/21/2001    6402\n",
      "01/22/2001    6287\n",
      "01/14/2001    5066\n",
      "11/05/2000    4713\n",
      "01/20/2001    4577\n",
      "              ... \n",
      "12/23/2000     296\n",
      "12/21/2000     191\n",
      "12/19/2000     190\n",
      "12/20/2000     169\n",
      "12/22/2000     167\n",
      "Name: Date, Length: 120, dtype: int64\n"
     ]
    }
   ],
   "source": [
    "for column in churn.columns:\n",
    "    print('###################')\n",
    "    print(churn[column].value_counts())"
   ]
  },
  {
   "cell_type": "markdown",
   "metadata": {},
   "source": [
    "4. What are some \"obvious\" questions we can ask about the data? We can ask many questions here, but we limit it to two:\n",
    "   - Is quantity or volume ever negative and why? <span style=\"color:red\" float:right>[1 point]</span>\n",
    "   - What is the date range covered by the data? <span style=\"color:red\" float:right>[1 point]</span>  \n",
    "     HINT: You will need to convert `timestamp` into an a `datetime` column. You can use `pd.to_datetime` for that. We leave it to you to learn more about working with `datetime` colums."
   ]
  },
  {
   "cell_type": "code",
   "execution_count": 87,
   "metadata": {},
   "outputs": [
    {
     "name": "stderr",
     "output_type": "stream",
     "text": [
      "/opt/conda/lib/python3.9/site-packages/IPython/core/interactiveshell.py:3444: DtypeWarning: Columns (0,3,4,6,7,8) have mixed types.Specify dtype option on import or set low_memory=False.\n",
      "  exec(code_obj, self.user_global_ns, self.user_ns)\n"
     ]
    },
    {
     "data": {
      "text/html": [
       "<div>\n",
       "<style scoped>\n",
       "    .dataframe tbody tr th:only-of-type {\n",
       "        vertical-align: middle;\n",
       "    }\n",
       "\n",
       "    .dataframe tbody tr th {\n",
       "        vertical-align: top;\n",
       "    }\n",
       "\n",
       "    .dataframe thead th {\n",
       "        text-align: right;\n",
       "    }\n",
       "</style>\n",
       "<table border=\"1\" class=\"dataframe\">\n",
       "  <thead>\n",
       "    <tr style=\"text-align: right;\">\n",
       "      <th></th>\n",
       "      <th>user_id</th>\n",
       "      <th>gender</th>\n",
       "      <th>address</th>\n",
       "      <th>store_id</th>\n",
       "      <th>trans_id</th>\n",
       "      <th>timestamp</th>\n",
       "      <th>item_id</th>\n",
       "      <th>quantity</th>\n",
       "      <th>dollar</th>\n",
       "    </tr>\n",
       "  </thead>\n",
       "  <tbody>\n",
       "    <tr>\n",
       "      <th>0</th>\n",
       "      <td>UserId</td>\n",
       "      <td>Age</td>\n",
       "      <td>Address</td>\n",
       "      <td>Column 0</td>\n",
       "      <td>TransactionId</td>\n",
       "      <td>Timestamp</td>\n",
       "      <td>ItemId</td>\n",
       "      <td>Quantity</td>\n",
       "      <td>Value</td>\n",
       "    </tr>\n",
       "    <tr>\n",
       "      <th>1</th>\n",
       "      <td>101981</td>\n",
       "      <td>F</td>\n",
       "      <td>E</td>\n",
       "      <td>2860</td>\n",
       "      <td>818463</td>\n",
       "      <td>11/1/2000 0:00</td>\n",
       "      <td>4.71E+12</td>\n",
       "      <td>1</td>\n",
       "      <td>37</td>\n",
       "    </tr>\n",
       "    <tr>\n",
       "      <th>2</th>\n",
       "      <td>101981</td>\n",
       "      <td>F</td>\n",
       "      <td>E</td>\n",
       "      <td>2861</td>\n",
       "      <td>818464</td>\n",
       "      <td>11/1/2000 0:00</td>\n",
       "      <td>4.71E+12</td>\n",
       "      <td>1</td>\n",
       "      <td>17</td>\n",
       "    </tr>\n",
       "    <tr>\n",
       "      <th>3</th>\n",
       "      <td>101981</td>\n",
       "      <td>F</td>\n",
       "      <td>E</td>\n",
       "      <td>2862</td>\n",
       "      <td>818465</td>\n",
       "      <td>11/1/2000 0:00</td>\n",
       "      <td>4.71E+12</td>\n",
       "      <td>1</td>\n",
       "      <td>23</td>\n",
       "    </tr>\n",
       "    <tr>\n",
       "      <th>4</th>\n",
       "      <td>101981</td>\n",
       "      <td>F</td>\n",
       "      <td>E</td>\n",
       "      <td>2863</td>\n",
       "      <td>818466</td>\n",
       "      <td>11/1/2000 0:00</td>\n",
       "      <td>4.71E+12</td>\n",
       "      <td>1</td>\n",
       "      <td>41</td>\n",
       "    </tr>\n",
       "  </tbody>\n",
       "</table>\n",
       "</div>"
      ],
      "text/plain": [
       "  user_id gender  address  store_id       trans_id       timestamp   item_id  \\\n",
       "0  UserId    Age  Address  Column 0  TransactionId       Timestamp    ItemId   \n",
       "1  101981      F        E      2860         818463  11/1/2000 0:00  4.71E+12   \n",
       "2  101981      F        E      2861         818464  11/1/2000 0:00  4.71E+12   \n",
       "3  101981      F        E      2862         818465  11/1/2000 0:00  4.71E+12   \n",
       "4  101981      F        E      2863         818466  11/1/2000 0:00  4.71E+12   \n",
       "\n",
       "   quantity dollar  \n",
       "0  Quantity  Value  \n",
       "1         1     37  \n",
       "2         1     17  \n",
       "3         1     23  \n",
       "4         1     41  "
      ]
     },
     "execution_count": 87,
     "metadata": {},
     "output_type": "execute_result"
    }
   ],
   "source": [
    "import pandas as pd\n",
    "import numpy as np\n",
    "# you need to run the following line to produce visualizations in a jupyter notebook\n",
    "%matplotlib inline\n",
    "import matplotlib.pyplot as plt\n",
    "import seaborn as sns\n",
    "\n",
    "vis = pd.read_csv('retail-churn.csv', sep = ',', header = None, index_col=None, #usecols=None, engine=None, skiprows=None, nrows=None  \n",
    "                  names = ['user_id', 'gender', 'address', 'store_id', 'trans_id', 'timestamp', 'item_id', 'quantity', 'dollar'])\n",
    "\n",
    "\n",
    "#vis = pd.read_csv('retail-churn.csv', sep = ',', header = None, index_col=None, #usecols=None, engine=None, skiprows=None, nrows=None  \n",
    "#                  names = ['user_id', 'gender', 'address', 'store_id', 'trans_id', 'item_id', 'quantity', 'dollar', 'Date'])\n",
    "\n",
    "#vis = pd.read_csv('retail-churn.csv', sep = ',', header = None, index_col=None, \n",
    "#names = ['Date', 'quantity', 'dollar'])\n",
    "\n",
    "vis.head()"
   ]
  },
  {
   "cell_type": "code",
   "execution_count": 80,
   "metadata": {},
   "outputs": [
    {
     "data": {
      "image/png": "[encoded data removed]",
      "text/plain": [
       "<Figure size 432x288 with 1 Axes>"
      ]
     },
     "metadata": {
      "needs_background": "light"
     },
     "output_type": "display_data"
    },
    {
     "data": {
      "image/png": "[encoded data removed]",
      "text/plain": [
       "<Figure size 432x288 with 1 Axes>"
      ]
     },
     "metadata": {
      "needs_background": "light"
     },
     "output_type": "display_data"
    }
   ],
   "source": [
    "plt.hist(churn['Date']);\n",
    "plt.show()\n",
    "sns.histplot(churn[\"Date\"], kde = True); # sns.distplot(auto[\"mpg\"]);\n",
    "plt.show()"
   ]
  },
  {
   "cell_type": "code",
   "execution_count": 82,
   "metadata": {},
   "outputs": [
    {
     "data": {
      "text/html": [
       "<div>\n",
       "<style scoped>\n",
       "    .dataframe tbody tr th:only-of-type {\n",
       "        vertical-align: middle;\n",
       "    }\n",
       "\n",
       "    .dataframe tbody tr th {\n",
       "        vertical-align: top;\n",
       "    }\n",
       "\n",
       "    .dataframe thead th {\n",
       "        text-align: right;\n",
       "    }\n",
       "</style>\n",
       "<table border=\"1\" class=\"dataframe\">\n",
       "  <thead>\n",
       "    <tr style=\"text-align: right;\">\n",
       "      <th></th>\n",
       "    </tr>\n",
       "  </thead>\n",
       "  <tbody>\n",
       "  </tbody>\n",
       "</table>\n",
       "</div>"
      ],
      "text/plain": [
       "Empty DataFrame\n",
       "Columns: []\n",
       "Index: []"
      ]
     },
     "execution_count": 82,
     "metadata": {},
     "output_type": "execute_result"
    }
   ],
   "source": [
    "vis.corr()"
   ]
  },
  {
   "cell_type": "code",
   "execution_count": 81,
   "metadata": {},
   "outputs": [
    {
     "ename": "ValueError",
     "evalue": "No variables found for grid columns.",
     "output_type": "error",
     "traceback": [
      "\u001b[0;31m---------------------------------------------------------------------------\u001b[0m",
      "\u001b[0;31mValueError\u001b[0m                                Traceback (most recent call last)",
      "\u001b[0;32m/tmp/ipykernel_60/511224300.py\u001b[0m in \u001b[0;36m<module>\u001b[0;34m\u001b[0m\n\u001b[0;32m----> 1\u001b[0;31m \u001b[0msns\u001b[0m\u001b[0;34m.\u001b[0m\u001b[0mpairplot\u001b[0m\u001b[0;34m(\u001b[0m\u001b[0mvis\u001b[0m\u001b[0;34m.\u001b[0m\u001b[0msample\u001b[0m\u001b[0;34m(\u001b[0m\u001b[0;36m100\u001b[0m\u001b[0;34m)\u001b[0m\u001b[0;34m)\u001b[0m\u001b[0;34m;\u001b[0m\u001b[0;34m\u001b[0m\u001b[0;34m\u001b[0m\u001b[0m\n\u001b[0m",
      "\u001b[0;32m/opt/conda/lib/python3.9/site-packages/seaborn/_decorators.py\u001b[0m in \u001b[0;36minner_f\u001b[0;34m(*args, **kwargs)\u001b[0m\n\u001b[1;32m     44\u001b[0m             )\n\u001b[1;32m     45\u001b[0m         \u001b[0mkwargs\u001b[0m\u001b[0;34m.\u001b[0m\u001b[0mupdate\u001b[0m\u001b[0;34m(\u001b[0m\u001b[0;34m{\u001b[0m\u001b[0mk\u001b[0m\u001b[0;34m:\u001b[0m \u001b[0marg\u001b[0m \u001b[0;32mfor\u001b[0m \u001b[0mk\u001b[0m\u001b[0;34m,\u001b[0m \u001b[0marg\u001b[0m \u001b[0;32min\u001b[0m \u001b[0mzip\u001b[0m\u001b[0;34m(\u001b[0m\u001b[0msig\u001b[0m\u001b[0;34m.\u001b[0m\u001b[0mparameters\u001b[0m\u001b[0;34m,\u001b[0m \u001b[0margs\u001b[0m\u001b[0;34m)\u001b[0m\u001b[0;34m}\u001b[0m\u001b[0;34m)\u001b[0m\u001b[0;34m\u001b[0m\u001b[0;34m\u001b[0m\u001b[0m\n\u001b[0;32m---> 46\u001b[0;31m         \u001b[0;32mreturn\u001b[0m \u001b[0mf\u001b[0m\u001b[0;34m(\u001b[0m\u001b[0;34m**\u001b[0m\u001b[0mkwargs\u001b[0m\u001b[0;34m)\u001b[0m\u001b[0;34m\u001b[0m\u001b[0;34m\u001b[0m\u001b[0m\n\u001b[0m\u001b[1;32m     47\u001b[0m     \u001b[0;32mreturn\u001b[0m \u001b[0minner_f\u001b[0m\u001b[0;34m\u001b[0m\u001b[0;34m\u001b[0m\u001b[0m\n\u001b[1;32m     48\u001b[0m \u001b[0;34m\u001b[0m\u001b[0m\n",
      "\u001b[0;32m/opt/conda/lib/python3.9/site-packages/seaborn/axisgrid.py\u001b[0m in \u001b[0;36mpairplot\u001b[0;34m(data, hue, hue_order, palette, vars, x_vars, y_vars, kind, diag_kind, markers, height, aspect, corner, dropna, plot_kws, diag_kws, grid_kws, size)\u001b[0m\n\u001b[1;32m   2094\u001b[0m     \u001b[0;31m# Set up the PairGrid\u001b[0m\u001b[0;34m\u001b[0m\u001b[0;34m\u001b[0m\u001b[0m\n\u001b[1;32m   2095\u001b[0m     \u001b[0mgrid_kws\u001b[0m\u001b[0;34m.\u001b[0m\u001b[0msetdefault\u001b[0m\u001b[0;34m(\u001b[0m\u001b[0;34m\"diag_sharey\"\u001b[0m\u001b[0;34m,\u001b[0m \u001b[0mdiag_kind\u001b[0m \u001b[0;34m==\u001b[0m \u001b[0;34m\"hist\"\u001b[0m\u001b[0;34m)\u001b[0m\u001b[0;34m\u001b[0m\u001b[0;34m\u001b[0m\u001b[0m\n\u001b[0;32m-> 2096\u001b[0;31m     grid = PairGrid(data, vars=vars, x_vars=x_vars, y_vars=y_vars, hue=hue,\n\u001b[0m\u001b[1;32m   2097\u001b[0m                     \u001b[0mhue_order\u001b[0m\u001b[0;34m=\u001b[0m\u001b[0mhue_order\u001b[0m\u001b[0;34m,\u001b[0m \u001b[0mpalette\u001b[0m\u001b[0;34m=\u001b[0m\u001b[0mpalette\u001b[0m\u001b[0;34m,\u001b[0m \u001b[0mcorner\u001b[0m\u001b[0;34m=\u001b[0m\u001b[0mcorner\u001b[0m\u001b[0;34m,\u001b[0m\u001b[0;34m\u001b[0m\u001b[0;34m\u001b[0m\u001b[0m\n\u001b[1;32m   2098\u001b[0m                     height=height, aspect=aspect, dropna=dropna, **grid_kws)\n",
      "\u001b[0;32m/opt/conda/lib/python3.9/site-packages/seaborn/_decorators.py\u001b[0m in \u001b[0;36minner_f\u001b[0;34m(*args, **kwargs)\u001b[0m\n\u001b[1;32m     44\u001b[0m             )\n\u001b[1;32m     45\u001b[0m         \u001b[0mkwargs\u001b[0m\u001b[0;34m.\u001b[0m\u001b[0mupdate\u001b[0m\u001b[0;34m(\u001b[0m\u001b[0;34m{\u001b[0m\u001b[0mk\u001b[0m\u001b[0;34m:\u001b[0m \u001b[0marg\u001b[0m \u001b[0;32mfor\u001b[0m \u001b[0mk\u001b[0m\u001b[0;34m,\u001b[0m \u001b[0marg\u001b[0m \u001b[0;32min\u001b[0m \u001b[0mzip\u001b[0m\u001b[0;34m(\u001b[0m\u001b[0msig\u001b[0m\u001b[0;34m.\u001b[0m\u001b[0mparameters\u001b[0m\u001b[0;34m,\u001b[0m \u001b[0margs\u001b[0m\u001b[0;34m)\u001b[0m\u001b[0;34m}\u001b[0m\u001b[0;34m)\u001b[0m\u001b[0;34m\u001b[0m\u001b[0;34m\u001b[0m\u001b[0m\n\u001b[0;32m---> 46\u001b[0;31m         \u001b[0;32mreturn\u001b[0m \u001b[0mf\u001b[0m\u001b[0;34m(\u001b[0m\u001b[0;34m**\u001b[0m\u001b[0mkwargs\u001b[0m\u001b[0;34m)\u001b[0m\u001b[0;34m\u001b[0m\u001b[0;34m\u001b[0m\u001b[0m\n\u001b[0m\u001b[1;32m     47\u001b[0m     \u001b[0;32mreturn\u001b[0m \u001b[0minner_f\u001b[0m\u001b[0;34m\u001b[0m\u001b[0;34m\u001b[0m\u001b[0m\n\u001b[1;32m     48\u001b[0m \u001b[0;34m\u001b[0m\u001b[0m\n",
      "\u001b[0;32m/opt/conda/lib/python3.9/site-packages/seaborn/axisgrid.py\u001b[0m in \u001b[0;36m__init__\u001b[0;34m(self, data, hue, hue_order, palette, hue_kws, vars, x_vars, y_vars, corner, diag_sharey, height, aspect, layout_pad, despine, dropna, size)\u001b[0m\n\u001b[1;32m   1231\u001b[0m \u001b[0;34m\u001b[0m\u001b[0m\n\u001b[1;32m   1232\u001b[0m         \u001b[0;32mif\u001b[0m \u001b[0;32mnot\u001b[0m \u001b[0mx_vars\u001b[0m\u001b[0;34m:\u001b[0m\u001b[0;34m\u001b[0m\u001b[0;34m\u001b[0m\u001b[0m\n\u001b[0;32m-> 1233\u001b[0;31m             \u001b[0;32mraise\u001b[0m \u001b[0mValueError\u001b[0m\u001b[0;34m(\u001b[0m\u001b[0;34m\"No variables found for grid columns.\"\u001b[0m\u001b[0;34m)\u001b[0m\u001b[0;34m\u001b[0m\u001b[0;34m\u001b[0m\u001b[0m\n\u001b[0m\u001b[1;32m   1234\u001b[0m         \u001b[0;32mif\u001b[0m \u001b[0;32mnot\u001b[0m \u001b[0my_vars\u001b[0m\u001b[0;34m:\u001b[0m\u001b[0;34m\u001b[0m\u001b[0;34m\u001b[0m\u001b[0m\n\u001b[1;32m   1235\u001b[0m             \u001b[0;32mraise\u001b[0m \u001b[0mValueError\u001b[0m\u001b[0;34m(\u001b[0m\u001b[0;34m\"No variables found for grid rows.\"\u001b[0m\u001b[0;34m)\u001b[0m\u001b[0;34m\u001b[0m\u001b[0;34m\u001b[0m\u001b[0m\n",
      "\u001b[0;31mValueError\u001b[0m: No variables found for grid columns."
     ]
    }
   ],
   "source": [
    "sns.pairplot(vis.sample(100));"
   ]
  },
  {
   "cell_type": "markdown",
   "metadata": {},
   "source": [
    "5. What are some \"not-so-obvious\" questions we can ask about this data? What are some important summary statistics and visualizations we should look at to answer them? Note that having domain knowledge can make this easier, so here's a list of questions and your task is to pick at least two questions and answer them using statistical summaries or visualizations:\n",
    "   - How many transactions on average do users have in a given week? <span style=\"color:red\" float:right>[2 point]</span>\n",
    "   - Are there items that are more commonly sold in bulk (quantity greater than 1)? <span style=\"color:red\" float:right>[2 point]</span>\n",
    "   - How do quantity and volume tend to change over the course of the day (hour by hour)? <span style=\"color:red\" float:right>[2 point]</span>\n",
    "Note that the above questions are intetionally phrased to sound non-technical. It is up to you to \"translate\" them into something that can be answered by a query on the data or a visualization."
   ]
  },
  {
   "cell_type": "code",
   "execution_count": null,
   "metadata": {},
   "outputs": [],
   "source": []
  },
  {
   "cell_type": "markdown",
   "metadata": {},
   "source": [
    "6. Do the results mesh with what we expected? Note that to answer this we need to have some domain knowledge, so you can ignore this for the assignment. <span style=\"color:red\" float:right>[0 point]</span>"
   ]
  },
  {
   "cell_type": "code",
   "execution_count": null,
   "metadata": {},
   "outputs": [],
   "source": []
  },
  {
   "cell_type": "markdown",
   "metadata": {},
   "source": [
    "7. What are additional features we could extract from the data? This is especially relevant if the data contains a timestamp column or raw text column (such as a full address for example). <span style=\"color:red\" float:right>[1 point]</span>"
   ]
  },
  {
   "cell_type": "code",
   "execution_count": null,
   "metadata": {},
   "outputs": [],
   "source": []
  },
  {
   "cell_type": "markdown",
   "metadata": {},
   "source": [
    "8. Do I see any relationships between the features in the data? You will need to back this up with some statistical summaries or visualizations like what we covered in the lab. <span style=\"color:red\" float:right>[2 point]</span>"
   ]
  },
  {
   "cell_type": "code",
   "execution_count": null,
   "metadata": {},
   "outputs": [],
   "source": []
  },
  {
   "cell_type": "markdown",
   "metadata": {},
   "source": [
    "Run EDA on the data and answer the above questions and any additional questions that may cross your mind along the way. As you can imagine, there isn't a single way to proceed, and the answer doesn't always have to be exact. It is up to you to decide how you want to convey the results, but assume that your audience is non-technical and not familiar with some of the terminology we learned in the lecture.\n",
    "\n",
    "There are also third-party libraries we can used to run EDA. One example is the `pandas-profiling` library which provides us with a full report. You do not need to use it in this assignment, but we recommend that you install it and take a look on your own time."
   ]
  },
  {
   "cell_type": "markdown",
   "metadata": {},
   "source": [
    "# End of assignment"
   ]
  }
 ],
 "metadata": {
  "kernelspec": {
   "display_name": "Python 3 (ipykernel)",
   "language": "python",
   "name": "python3"
  },
  "language_info": {
   "codemirror_mode": {
    "name": "ipython",
    "version": 3
   },
   "file_extension": ".py",
   "mimetype": "text/x-python",
   "name": "python",
   "nbconvert_exporter": "python",
   "pygments_lexer": "ipython3",
   "version": "3.9.7"
  }
 },
 "nbformat": 4,
 "nbformat_minor": 4
}
